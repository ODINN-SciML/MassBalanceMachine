{
 "cells": [
  {
   "cell_type": "markdown",
   "id": "0",
   "metadata": {},
   "source": [
    "<h1>MassBalanceMachine Data Processing - Example for Retrieving Training Features for the Iceland Region (Custom Data)</h1>\n",
    "\n",
    "<p style='text-align: justify;'>\n",
    "This notebook demonstrates the data processing workflow of the MassBalanceMachine using Icelandic glacier data.\n",
    "It guides you through converting your data to the WGMS format, which will be used throughout the entire pipeline of the MassBalanceMachine. Once formatted correctly, follow the <a href='https://github.com/ODINN-SciML/MassBalanceMachine/blob/main/notebooks/data_processing_wgms.ipynb'>data processing example notebook</a> for WGMS(-like) data.  \n",
    "</p>\n",
    "<h2>Purpose</h2>\n",
    "<p style='text-align: justify;'>\n",
    "This notebook is for users whose data is not in WGMS format or whose records are not associated with a single measurement. We work with Icelandic glacier stake measurements, which have three recordings per hydrological year (start of winter, end of winter, and start of summer, and end of summer). Our goal is to reformat each dataset record into three separate records, each corresponding to a stake measurement within the hydrological year. </p>\n",
    "<p style='text-align: justify;'>\n",
    "We strive to accommodate various data formats, but occasionally, users may need to make adjustments to ensure compatibility. For assistance, users can refer to the WGMS documentation, providing detailed guidance on formatting requirements. The documentation, from the WGMS 2023 database, can be found in the following directory: <code>example_data/wgms_documentation.md</code>. This ensures that your data integrates seamlessly into the MassBalanceMachine workflow. If your data format isn't compatible with this notebook, feel free to use it as inspiration. You can adjust the code according to your needs and then submit a pull request with your modifications. This way, other users can benefit from your contributions in the future.\n",
    "</p>\n",
    "<h2>Process</h2>\n",
    "<p style='text-align: justify;'>\n",
    "To begin, we will import necessary libraries, including the massbalancemachine library. Following this, we will define the storage location for files related to our region of interest, which in this case is Iceland. The data used in this demonstration is sourced from the <a href='https://icelandicglaciers.is/index.html#/page/map'>Icelandic Glaciers inventory</a>, provided by the Icelandic Meteorological Office. Stake measurements for the Icelandic glaciers have already been retrieved via an API call and merged into a single file. The script for these processes can be found in the following directory: <code>regions/Iceland/scripts/data_processing</code>.\n",
    "</p>\n",
    "\n",
    "<p style='text-align: justify;'><b>Note:</b>\n",
    "If your dataset has one measurement period per record and the column names do not match the WGMS format, please update them manually. The required column names for data processing are: POINT_LAT, POINT_LON, YEAR, POINT_ELEVATION, POINT_ID, TO_DATE, FROM_DATE, and POINT_BALANCE. If needed, you can convert your coordinate CRS to WGS84 using the function <code>convert_to_wgs84()</code>. Ensure the column names match exactly, as these names are used throughout the pipeline.\n",
    "</p>"
   ]
  },
  {
   "cell_type": "code",
   "execution_count": null,
   "id": "1",
   "metadata": {},
   "outputs": [],
   "source": [
    "import pandas as pd\n",
    "import massbalancemachine as mbm"
   ]
  },
  {
   "cell_type": "markdown",
   "id": "2",
   "metadata": {},
   "source": [
    "<h2>1. Transform your Dataset to the WGMS Format</h2>"
   ]
  },
  {
   "cell_type": "code",
   "execution_count": null,
   "id": "3",
   "metadata": {},
   "outputs": [],
   "source": [
    "# Specify the filename of the input file with the raw data\n",
    "target_data_fname = './example_data/iceland/files/iceland_stake_dataset.csv'\n",
    "# Load the target data\n",
    "data = pd.read_csv(target_data_fname)"
   ]
  },
  {
   "cell_type": "markdown",
   "id": "4",
   "metadata": {},
   "source": [
    "First, let's examine the dataset to understand its structure, including the columns and the data they contain."
   ]
  },
  {
   "cell_type": "code",
   "execution_count": null,
   "id": "5",
   "metadata": {},
   "outputs": [],
   "source": [
    "display(data.head(10))"
   ]
  },
  {
   "cell_type": "markdown",
   "id": "6",
   "metadata": {},
   "source": [
    "<h3>1.1 Reshaping the Dataset to WGMS-format</h3>\n",
    "\n",
    "<p style='text-align: justify;'>\n",
    "As you can see, each record in the dataset contains three measurements: one at the start of the hydrological year (beginning of winter), one at the end of winter (start of summer), and one at the end of summer. Of course, these measurement periods can also be arbitrary, as long as they are in three per record. For now, we do not account for other data formats. We would like to separate these measurements into individual records, each with a single date and surface mass balance.\n",
    "</p>"
   ]
  },
  {
   "cell_type": "code",
   "execution_count": null,
   "id": "7",
   "metadata": {},
   "outputs": [],
   "source": [
    "# Please specify the column names on the left side of the dictionary as they are named in your dataset.\n",
    "# Additionally, add new keys and values for columns you would like to keep from the original dataset.\n",
    "# These keys and values in the dictionary will be the final column names in your dataset.\n",
    "wgms_data_columns = {\n",
    "    'yr': 'YEAR',\n",
    "    'stake': 'POINT_ID',\n",
    "    'lat': 'POINT_LAT',\n",
    "    'lon': 'POINT_LON',\n",
    "    'elevation': 'POINT_ELEVATION',\n",
    "    # Do not change these column names (both keys and values)\n",
    "    'TO_DATE': 'TO_DATE',\n",
    "    'FROM_DATE': 'FROM_DATE',\n",
    "    'POINT_BALANCE': 'POINT_BALANCE',\n",
    "}\n",
    "\n",
    "# Please specify the three column names for the three measurement dates (these are specifically for the Iceland dataset)\n",
    "column_names_dates = ['d1', 'd2', 'd3']\n",
    "\n",
    "# Please specify the three column names for the three surface mass balance measurements (these are specifically for the Iceland dataset)\n",
    "column_names_smb = ['bw_stratigraphic', 'bs_stratigraphic', 'ba_stratigraphic']\n",
    "\n",
    "# Reshape the dataset to the WGMS format\n",
    "data = mbm.data_processing.utils.convert_to_wgms(wgms_data_columns=wgms_data_columns,\n",
    "                                 data=data,\n",
    "                                 date_columns=column_names_dates,\n",
    "                                 smb_columns=column_names_smb)"
   ]
  },
  {
   "cell_type": "markdown",
   "id": "8",
   "metadata": {},
   "source": [
    "Let's take a look at the dataframe after this reshaping process."
   ]
  },
  {
   "cell_type": "code",
   "execution_count": null,
   "id": "9",
   "metadata": {},
   "outputs": [],
   "source": [
    "display(data.head(10))"
   ]
  },
  {
   "cell_type": "markdown",
   "id": "10",
   "metadata": {},
   "source": [
    "<h3>1.2 Reproject Coordinates to WGS84 Coordinate Reference System</h3>\n",
    "\n",
    "<p style='text-align: justify;'>\n",
    "At this stage, if needed, you can convert the current coordinate system (CRS) to WGS84 if it is not already in that format. Please specify the current CRS of the coordinates.\n",
    "</p>"
   ]
  },
  {
   "cell_type": "code",
   "execution_count": null,
   "id": "11",
   "metadata": {},
   "outputs": [],
   "source": [
    "data = mbm.data_processing.utils.convert_to_wgs84(data=data, from_crs=4659)"
   ]
  },
  {
   "cell_type": "code",
   "execution_count": null,
   "id": "12",
   "metadata": {},
   "outputs": [],
   "source": [
    "data.to_csv('./example_data/iceland/files/iceland_wgms_dataset.csv',\n",
    "            index=False)"
   ]
  },
  {
   "cell_type": "markdown",
   "id": "13",
   "metadata": {},
   "source": [
    "<p style='text-align: justify;'>\n",
    "At this stage, your dataset is ready to be processed further by retrieving topographical and meteorological features and converting the dataset to a monthly resolution. Once completed, the dataset is prepared for training. Please refer to this <a href='https://github.com/ODINN-SciML/MassBalanceMachine/blob/main/notebooks/data_processing_wgms.ipynb'>notebook</a> to see how data in the WGMS format can be incorporated into the data processing pipeline.\n",
    "</p>"
   ]
  }
 ],
 "metadata": {
  "kernelspec": {
   "display_name": "Python 3 (ipykernel)",
   "language": "python",
   "name": "python3"
  },
  "language_info": {
   "codemirror_mode": {
    "name": "ipython",
    "version": 3
   },
   "file_extension": ".py",
   "mimetype": "text/x-python",
   "name": "python",
   "nbconvert_exporter": "python",
   "pygments_lexer": "ipython3",
   "version": "3.11.0"
  }
 },
 "nbformat": 4,
 "nbformat_minor": 5
}
