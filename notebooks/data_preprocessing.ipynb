{
 "cells": [
  {
   "cell_type": "markdown",
   "id": "4741036f",
   "metadata": {},
   "source": [
    "# Data Preprocessing - convert to WGMS format\n",
    "\n",
    "## Foreword"
   ]
  },
  {
   "cell_type": "markdown",
   "id": "0",
   "metadata": {},
   "source": [
    "This notebook demonstrates the data preprocessing workflow of `MassBalanceMachine` using Icelandic glacier data.\n",
    "It guides you through converting your data to the WGMS format, which will be used throughout the entire pipeline of `MassBalanceMachine`. Once formatted correctly, follow the [data preparation notebook](https://github.com/ODINN-SciML/MassBalanceMachine/blob/main/notebooks/data_processing_wgms.ipynb) for WGMS(-like) data.\n",
    "\n",
    "### Purpose\n",
    "\n",
    "This notebook is for users whose data is not in WGMS format or whose records are not associated with a single measurement. We work with Icelandic glacier stake measurements, which have three recordings per hydrological year (start of winter, end of winter, and start of summer, and end of summer). Our goal is to reformat each dataset record into three separate records, each corresponding to a stake measurement within the hydrological year.\n",
    "\n",
    "We strive to accommodate various data formats, but occasionally, users may need to make adjustments to ensure compatibility. For assistance, users can refer to the WGMS documentation, providing detailed guidance on formatting requirements. The documentation, from the WGMS 2023 database, can be found here: https://github.com/ODINN-SciML/MassBalanceMachine/blob/main/notebooks/example_data/wgms_documentation.md. This ensures that your data integrates seamlessly into the `MassBalanceMachine` workflow. If your data format isn't compatible with this notebook, feel free to use it as inspiration and then submit a pull request with your modifications following our :doc:`contributing`. This way, other users can benefit from your contributions in the future.\n",
    "\n",
    "### Process\n",
    "\n",
    "To begin, we will import necessary libraries, including the `massbalancemachine` library. Following this, we will define the storage location for files related to our region of interest, which in this case is Iceland. The data used in this demonstration is sourced from the [Icelandic Glaciers inventory](https://icelandicglaciers.is/index.html#/page/map), provided by the Icelandic Meteorological Office. Stake measurements for the Icelandic glaciers have already been retrieved via an API call and merged into a single file.\n",
    "\n",
    "**Note:**\n",
    "If your dataset has one measurement period per record and the column names do not match the WGMS format, please update them manually. The required column names for data processing are: `POINT_LAT`, `POINT_LON`, `YEAR`, `POINT_ELEVATION`, `POINT_ID`, `TO_DATE`, `FROM_DATE`, and `POINT_BALANCE`. If needed, you can convert your CRS coordinate to WGS84 using the function `convert_to_wgs84()`. Ensure the column names match exactly, as these names are used throughout the pipeline."
   ]
  },
  {
   "cell_type": "code",
   "execution_count": null,
   "id": "1",
   "metadata": {},
   "outputs": [],
   "source": [
    "import os\n",
    "repoPath = os.path.join(os.getcwd(), '../')\n",
    "import pandas as pd\n",
    "import massbalancemachine as mbm"
   ]
  },
  {
   "cell_type": "markdown",
   "id": "2",
   "metadata": {},
   "source": [
    "## Transform your Dataset to the WGMS Format"
   ]
  },
  {
   "cell_type": "code",
   "execution_count": null,
   "id": "3",
   "metadata": {},
   "outputs": [],
   "source": [
    "# Specify the filename of the input file with the raw data\n",
    "target_data_fname = repoPath+'notebooks/example_data/iceland/files/iceland_stake_dataset.csv'\n",
    "# Load the target data\n",
    "data = pd.read_csv(target_data_fname)"
   ]
  },
  {
   "cell_type": "markdown",
   "id": "4",
   "metadata": {},
   "source": [
    "First, let's examine the dataset to understand its structure, including the columns and the data they contain."
   ]
  },
  {
   "cell_type": "code",
   "execution_count": null,
   "id": "5",
   "metadata": {},
   "outputs": [],
   "source": [
    "display(data.head(10))"
   ]
  },
  {
   "cell_type": "markdown",
   "id": "6",
   "metadata": {},
   "source": [
    "### Reshaping the dataset to WGMS-format\n",
    "\n",
    "As you can see, each record in the dataset contains three measurements: one at the start of the hydrological year (beginning of winter), one at the end of winter (start of summer), and one at the end of summer. Of course, these measurement periods can also be arbitrary, as long as they are in three per record. For now, we do not account for other data formats. The purpose of the lines below is to separate these measurements into individual records, each with a single date and surface mass balance."
   ]
  },
  {
   "cell_type": "code",
   "execution_count": null,
   "id": "7",
   "metadata": {},
   "outputs": [],
   "source": [
    "# Please specify the column names on the left side of the dictionary as they are named in your dataset.\n",
    "# Additionally, add new keys and values for columns you would like to keep from the original dataset.\n",
    "# These keys and values in the dictionary will be the final column names in your dataset.\n",
    "wgms_data_columns = {\n",
    "    'yr': 'YEAR',\n",
    "    'stake': 'POINT_ID',\n",
    "    'lat': 'POINT_LAT',\n",
    "    'lon': 'POINT_LON',\n",
    "    'elevation': 'POINT_ELEVATION',\n",
    "    # Do not change these column names (both keys and values)\n",
    "    'TO_DATE': 'TO_DATE',\n",
    "    'FROM_DATE': 'FROM_DATE',\n",
    "    'POINT_BALANCE': 'POINT_BALANCE',\n",
    "}\n",
    "\n",
    "# Please specify the three column names for the three measurement dates (these are specifically for the Iceland dataset)\n",
    "column_names_dates = ['d1', 'd2', 'd3']\n",
    "\n",
    "# Please specify the three column names for the three surface mass balance measurements (these are specifically for the Iceland dataset)\n",
    "column_names_smb = ['bw_stratigraphic', 'bs_stratigraphic', 'ba_stratigraphic']\n",
    "\n",
    "# Reshape the dataset to the WGMS format\n",
    "data = mbm.data_processing.utils.convert_to_wgms(wgms_data_columns=wgms_data_columns,\n",
    "                                 data=data,\n",
    "                                 date_columns=column_names_dates,\n",
    "                                 smb_columns=column_names_smb)"
   ]
  },
  {
   "cell_type": "markdown",
   "id": "8",
   "metadata": {},
   "source": [
    "Let's take a look at the dataframe after this reshaping process."
   ]
  },
  {
   "cell_type": "code",
   "execution_count": null,
   "id": "9",
   "metadata": {},
   "outputs": [],
   "source": [
    "display(data.head(10))"
   ]
  },
  {
   "cell_type": "markdown",
   "id": "10",
   "metadata": {},
   "source": [
    "### Reproject Coordinates to WGS84 Coordinate Reference System\n",
    "\n",
    "At this stage, if needed, you can convert the current coordinate system (CRS) to WGS84 if it is not already in that format. Please specify the current CRS of the coordinates."
   ]
  },
  {
   "cell_type": "code",
   "execution_count": null,
   "id": "11",
   "metadata": {},
   "outputs": [],
   "source": [
    "data = mbm.data_processing.utils.convert_to_wgs84(data=data, from_crs=4659)"
   ]
  },
  {
   "cell_type": "code",
   "execution_count": null,
   "id": "12",
   "metadata": {},
   "outputs": [],
   "source": [
    "data.to_csv(repoPath+'notebooks/example_data/iceland/files/iceland_wgms_dataset.csv',\n",
    "            index=False)"
   ]
  },
  {
   "cell_type": "markdown",
   "id": "13",
   "metadata": {},
   "source": [
    "At this stage, your dataset is ready to be processed further by retrieving topographical and meteorological features and converting the dataset to a monthly resolution. The next step it to follow the [data preparation notebook](https://github.com/ODINN-SciML/MassBalanceMachine/blob/main/notebooks/data_processing_wgms.ipynb) to see how data in the WGMS format can be incorporated into the data processing pipeline."
   ]
  }
 ],
 "metadata": {
  "kernelspec": {
   "display_name": "MassBalanceMachine",
   "language": "python",
   "name": "python3"
  },
  "language_info": {
   "codemirror_mode": {
    "name": "ipython",
    "version": 3
   },
   "file_extension": ".py",
   "mimetype": "text/x-python",
   "name": "python",
   "nbconvert_exporter": "python",
   "pygments_lexer": "ipython3",
   "version": "3.11.0"
  }
 },
 "nbformat": 4,
 "nbformat_minor": 5
}
