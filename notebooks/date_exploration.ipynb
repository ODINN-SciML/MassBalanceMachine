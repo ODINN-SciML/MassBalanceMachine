{
 "cells": [
  {
   "cell_type": "markdown",
   "id": "0",
   "metadata": {},
   "source": [
    "# Data Exploration"
   ]
  },
  {
   "cell_type": "markdown",
   "id": "1",
   "metadata": {},
   "source": [
    "\n",
    "In this notebook, we will introduce several plotting methods to help you analyze the stake measurement dataset you created during data preparation. The `MassBalanceMachine` library currently provides two types of plotting methods:\n",
    "\n",
    "First, it allows you to plot a point surface mass balance timeseries for all stakes across all measured years. This includes the region-wise mean and standard deviation of the point surface mass balance. Second, it enables you to plot a region-wide cumulative annual surface mass balance for the available stakes in the dataset.\n",
    "\n",
    "We plan to add more data visualization options in future releases of `MassBalanceMachine`. If you have suggestions for new visualizations that would benefit other users or are specific to a certain region, please feel free to create new GitHub issues or submit pull requests.\n",
    "\n",
    "**Note:** It is assumed that the column names in the dataset resemble those in the WGMS files. If this isn't the case, please refer to either the [data preprocessing notebook](https://github.com/ODINN-SciML/MassBalanceMachine/blob/main/notebooks/data_preprocessing.ipynb) or the [data preparation notebook](https://github.com/ODINN-SciML/MassBalanceMachine/blob/main/notebooks/data_processing_wgms.ipynb) for guidance."
   ]
  },
  {
   "cell_type": "code",
   "execution_count": null,
   "id": "2",
   "metadata": {},
   "outputs": [],
   "source": [
    "import pandas as pd\n",
    "import massbalancemachine as mbm"
   ]
  },
  {
   "cell_type": "code",
   "execution_count": null,
   "id": "3",
   "metadata": {},
   "outputs": [],
   "source": [
    "data = pd.read_csv('./example_data/iceland/files/iceland_monthly_dataset.csv')\n",
    "display(data)"
   ]
  },
  {
   "cell_type": "markdown",
   "id": "4",
   "metadata": {},
   "source": [
    "## 1. Plot the Point Surface Mass Balance for all Available Stakes\n",
    "\n",
    "In this section, we will generate a plot for the point surface mass balance timeseries for all available stakes across all measured years. The plot will also include the region-wise mean and standard deviation of the point surface mass balance, providing a comprehensive view of the data's temporal and regional trends."
   ]
  },
  {
   "cell_type": "code",
   "execution_count": null,
   "id": "5",
   "metadata": {},
   "outputs": [],
   "source": [
    "mbm.data_processing.utils.plot_stake_timeseries(data, ['svg', './example_data/iceland/plots/'])"
   ]
  },
  {
   "cell_type": "markdown",
   "id": "6",
   "metadata": {},
   "source": [
    "## 2. Plot the Cumulative Region-Wide Surface Mass Balance\n",
    "\n",
    "In this section, we will create a plot to visualize the cumulative annual surface mass balance for a single region. This plot will aggregate the data from all available stakes within the region, offering insights into the overall mass balance trends over time."
   ]
  },
  {
   "cell_type": "code",
   "execution_count": null,
   "id": "7",
   "metadata": {},
   "outputs": [],
   "source": [
    "mbm.data_processing.utils.plot_cumulative_smb(data, ['svg', './example_data/iceland/plots/'])"
   ]
  }
 ],
 "metadata": {
  "kernelspec": {
   "display_name": "MassBalanceMachine",
   "language": "python",
   "name": "python3"
  },
  "language_info": {
   "codemirror_mode": {
    "name": "ipython",
    "version": 3
   },
   "file_extension": ".py",
   "mimetype": "text/x-python",
   "name": "python",
   "nbconvert_exporter": "python",
   "pygments_lexer": "ipython3",
   "version": "3.11.0"
  }
 },
 "nbformat": 4,
 "nbformat_minor": 5
}
