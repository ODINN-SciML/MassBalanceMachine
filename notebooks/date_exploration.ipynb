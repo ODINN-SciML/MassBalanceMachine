{
 "cells": [
  {
   "cell_type": "markdown",
   "id": "0",
   "metadata": {},
   "source": [
    "<h1>MassBalanceMachine Data Exploration - Example for the Iceland Region</h1>\n",
    "<p style='text-align: justify;'>\n",
    "In this notebook, we will introduce several plotting methods to help you analyze the stake measurement dataset you created during data (pre)processing. The MassBalanceMachine library currently provides two types of plotting methods:\n",
    "</p>\n",
    "<p style='text-align: justify;'>\n",
    "First, it allows you to plot a point surface mass balance timeseries for all stakes across all measured years. This includes the region-wise mean and standard deviation of the point surface mass balance. Second, it enables you to plot a region-wide cumulative annual surface mass balance for the available stakes in the dataset.\n",
    "</p>\n",
    "<p style='text-align: justify;'>\n",
    "We plan to add more data visualization options in future releases of MassBalanceMachine. If you have suggestions for new visualizations that would benefit other users or are specific to a certain region, please feel free to create new GitHub issues or submit pull requests.\n",
    "</p>\n",
    "<p style='text-align: justify;'>\n",
    "<b>Note:</b> It is assumed that the column names in the dataset resemble those in the WGMS files. If this isn't the case, please refer to either the <a href='https://github.com/ODINN-SciML/MassBalanceMachine/blob/main/notebooks/data_preprocessing.ipynb'>data preprocessing notebook</a> or the <a href='https://github.com/ODINN-SciML/MassBalanceMachine/blob/main/notebooks/data_processing_wgms.ipynb'>data processing WGMS notebook</a> for guidance.</p>"
   ]
  },
  {
   "cell_type": "code",
   "execution_count": null,
   "id": "1",
   "metadata": {},
   "outputs": [],
   "source": [
    "import pandas as pd\n",
    "import massbalancemachine as mbm"
   ]
  },
  {
   "cell_type": "code",
   "execution_count": null,
   "id": "2",
   "metadata": {},
   "outputs": [],
   "source": [
    "data = pd.read_csv('./example_data/iceland/files/iceland_monthly_dataset.csv')\n",
    "display(data)"
   ]
  },
  {
   "cell_type": "markdown",
   "id": "3",
   "metadata": {},
   "source": [
    "<h2>1. Plot the Point Surface Mass Balance for all Available Stakes</h2>\n",
    "<p style='text-align: justify;'>\n",
    "In this section, we will generate a plot for the point surface mass balance timeseries for all available stakes across all measured years. The plot will also include the region-wise mean and standard deviation of the point surface mass balance, providing a comprehensive view of the data's temporal and regional trends.\n",
    "</p>"
   ]
  },
  {
   "cell_type": "code",
   "execution_count": null,
   "id": "4",
   "metadata": {},
   "outputs": [],
   "source": [
    "mbm.data_processing.utils.plot_stake_timeseries(data, ['svg', './example_data/iceland/plots/'])"
   ]
  },
  {
   "cell_type": "markdown",
   "id": "5",
   "metadata": {},
   "source": [
    "<h2>2. Plot the Cumulative Region-Wide Surface Mass Balance</h2>\n",
    "<p style='text-align: justify;'>\n",
    "In this section, we will create a plot to visualize the cumulative annual surface mass balance for a single region. This plot will aggregate the data from all available stakes within the region, offering insights into the overall mass balance trends over time.\n",
    "</p>"
   ]
  },
  {
   "cell_type": "code",
   "execution_count": null,
   "id": "6",
   "metadata": {},
   "outputs": [],
   "source": [
    "mbm.data_processing.utils.plot_cumulative_smb(data, ['svg', './example_data/iceland/plots/'])"
   ]
  }
 ],
 "metadata": {
  "kernelspec": {
   "display_name": "Python 3 (ipykernel)",
   "language": "python",
   "name": "python3"
  },
  "language_info": {
   "codemirror_mode": {
    "name": "ipython",
    "version": 3
   },
   "file_extension": ".py",
   "mimetype": "text/x-python",
   "name": "python",
   "nbconvert_exporter": "python",
   "pygments_lexer": "ipython3",
   "version": "3.10.0"
  }
 },
 "nbformat": 4,
 "nbformat_minor": 5
}
