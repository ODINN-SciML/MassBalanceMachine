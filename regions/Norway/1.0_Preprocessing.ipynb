{
 "cells": [
  {
   "cell_type": "markdown",
   "id": "0",
   "metadata": {},
   "source": [
    "# 1.0 Preprocessing"
   ]
  },
  {
   "cell_type": "code",
   "execution_count": null,
   "id": "1",
   "metadata": {},
   "outputs": [],
   "source": [
    "# Import libraries\n",
    "import numpy as np\n",
    "import pandas as pd\n",
    "import massbalancemachine as mbm\n",
    "\n",
    "cfg = mbm.config.Config()"
   ]
  },
  {
   "cell_type": "code",
   "execution_count": null,
   "id": "2",
   "metadata": {},
   "outputs": [],
   "source": [
    "# Get filepath and filename of raw data\n",
    "filepath = 'C:/Users/kasj/MassBalanceMachine/regions/Norway/data/'\n",
    "filename = '2024-09-11_stake_dataset_Norway.csv'\n",
    "\n",
    "# Read DataFrame\n",
    "data = pd.read_csv(filepath + filename, dtype={\"FROM_DATE\":str, \"TO_DATE\":str}, index_col=0)"
   ]
  },
  {
   "cell_type": "code",
   "execution_count": null,
   "id": "3",
   "metadata": {},
   "outputs": [],
   "source": [
    "# Only select WGMS and topo columns\n",
    "data = data[[\"RGIId\", \"POINT_ELEVATION\", \"POINT_BALANCE\", \"FROM_DATE\", \"TO_DATE\", \"POINT_LAT\", \"POINT_LON\", \"aspect\", \"slope\", \"YEAR\", \n",
    "             \"MEASUREMENT_ID\", \"BALANCE_CODE\", \"POINT_ID\"]]"
   ]
  },
  {
   "cell_type": "code",
   "execution_count": null,
   "id": "4",
   "metadata": {},
   "outputs": [],
   "source": [
    "data_annual = data[data['BALANCE_CODE']=='BA']"
   ]
  },
  {
   "cell_type": "code",
   "execution_count": null,
   "id": "5",
   "metadata": {},
   "outputs": [],
   "source": [
    "# Create Dataset\n",
    "dataset_annual = mbm.Dataset(cfg, data=data_annual_crop, region_name='Norway', data_path='C:/Users/kasj/MassBalanceMachine/regions/Norway/data/')"
   ]
  },
  {
   "cell_type": "code",
   "execution_count": null,
   "id": "6",
   "metadata": {},
   "outputs": [],
   "source": [
    "# Specify the short names of the climate and topographical variables available in the dataset\n",
    "voi_topographical = ['aspect', 'slope']\n",
    "vois_climate = ['t2m', 'tp', 'slhf', 'sshf', 'ssrd', 'fal', 'str']\n",
    "\n",
    "# Specify the files of the climate data, that will be matched with the coordinates of the stake data\n",
    "era5_climate_data = 'C:/Users/kasj/MassBalanceMachine/regions/Norway/data/data.nc'\n",
    "geopotential_data = 'C:/Users/kasj/MassBalanceMachine/regions/Norway/data/geo.nc'\n",
    "\n",
    "# Match the climate features, from the ERA5Land netCDF file, for each of the stake measurement dataset\n",
    "dataset_annual.get_climate_features(climate_data=era5_climate_data, geopotential_data=geopotential_data)"
   ]
  },
  {
   "cell_type": "code",
   "execution_count": null,
   "id": "7",
   "metadata": {},
   "outputs": [],
   "source": [
    "dataset_annual.data.columns\n",
    "# Debug: There are no 'var_nan' in dataset at this point\n",
    "# Problem is in generating month name from TO_DATE and FROM_DATE?"
   ]
  },
  {
   "cell_type": "code",
   "execution_count": null,
   "id": "8",
   "metadata": {},
   "outputs": [],
   "source": [
    "dataset_annual.data.FROM_DATE"
   ]
  },
  {
   "cell_type": "code",
   "execution_count": null,
   "id": "9",
   "metadata": {},
   "outputs": [],
   "source": [
    "dataset_annual.data[\"FROM_DATE\"] = pd.to_datetime(dataset_annual.data[\"FROM_DATE\"], format=\"%Y%m%d\")\n",
    "dataset_annual.data[\"TO_DATE\"] = pd.to_datetime(dataset_annual.data[\"TO_DATE\"], format=\"%Y%m%d\")\n"
   ]
  },
  {
   "cell_type": "code",
   "execution_count": null,
   "id": "10",
   "metadata": {},
   "outputs": [],
   "source": [
    "dataset_annual.data"
   ]
  },
  {
   "cell_type": "code",
   "execution_count": null,
   "id": "11",
   "metadata": {},
   "outputs": [],
   "source": [
    "dataset_annual.data[\"MONTHS\"] = dataset_annual.data.apply(\n",
    "        lambda row: pd.date_range(start=row[\"FROM_DATE\"], end=row[\"TO_DATE\"], freq=\"MS\")\n",
    "        .strftime(\"%b\")\n",
    "        .str.lower()\n",
    "        .tolist(),\n",
    "        axis=1,\n",
    "    )"
   ]
  },
  {
   "cell_type": "code",
   "execution_count": null,
   "id": "12",
   "metadata": {},
   "outputs": [],
   "source": [
    "def nearest_start_of_month(date):\n",
    "    \"\"\"\n",
    "    Round to the nearest start of the month.\n",
    "    If day < 15, round down to start of current month.\n",
    "    If day >= 15, round up to start of next month.\n",
    "    \"\"\"\n",
    "    if date.day < 15:\n",
    "        return date - pd.offsets.MonthBegin(1)\n",
    "    else:\n",
    "        return date + pd.offsets.MonthBegin(1)\n",
    "\n",
    "def create_date_range(row):\n",
    "    start_date = nearest_start_of_month(row['FROM_DATE'])\n",
    "    end_date = nearest_start_of_month(row['TO_DATE'])\n",
    "    \n",
    "    # Generate the date range\n",
    "    date_range = pd.date_range(start=start_date, end=end_date, freq='MS').strftime('%b').str.lower()\n",
    "    return date_range.tolist()\n",
    "\n",
    "result = dataset_annual.data.iloc[0:10,:].apply(create_date_range, axis=1)\n",
    "print(result)"
   ]
  },
  {
   "cell_type": "code",
   "execution_count": null,
   "id": "13",
   "metadata": {},
   "outputs": [],
   "source": [
    "result[1]"
   ]
  },
  {
   "cell_type": "code",
   "execution_count": null,
   "id": "14",
   "metadata": {},
   "outputs": [],
   "source": [
    "#dataset_annual.data[\"MONTHS\"] = dataset_annual.data.apply(\n",
    "#        lambda row: pd.date_range(start=row[\"FROM_DATE\"], end=row[\"TO_DATE\"], freq=\"MS\")\n",
    "#        .strftime(\"%b\")\n",
    "#        .str.lower()\n",
    "#        .tolist(),\n",
    "#        axis=1,\n",
    "#    )"
   ]
  },
  {
   "cell_type": "code",
   "execution_count": null,
   "id": "15",
   "metadata": {},
   "outputs": [],
   "source": [
    "# For each record, convert to a monthly time resolution\n",
    "voi_topographical = ['aspect', 'slope']\n",
    "vois_climate = ['t2m', 'tp', 'slhf', 'sshf', 'ssrd', 'fal', 'str']\n",
    "\n",
    "dataset_annual.convert_to_monthly(vois_climate=vois_climate, vois_topographical=voi_topographical)"
   ]
  },
  {
   "cell_type": "code",
   "execution_count": null,
   "id": "16",
   "metadata": {},
   "outputs": [],
   "source": [
    "dataset"
   ]
  }
 ],
 "metadata": {
  "kernelspec": {
   "display_name": "Python 3 (ipykernel)",
   "language": "python",
   "name": "python3"
  },
  "language_info": {
   "codemirror_mode": {
    "name": "ipython",
    "version": 3
   },
   "file_extension": ".py",
   "mimetype": "text/x-python",
   "name": "python",
   "nbconvert_exporter": "python",
   "pygments_lexer": "ipython3",
   "version": "3.10.0"
  }
 },
 "nbformat": 4,
 "nbformat_minor": 5
}
