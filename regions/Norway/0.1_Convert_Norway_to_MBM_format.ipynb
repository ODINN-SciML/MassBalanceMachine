{
 "cells": [
  {
   "cell_type": "markdown",
   "id": "efd22930-f9d5-43a3-b22c-686244de9b58",
   "metadata": {},
   "source": [
    "# Convert Norway dataset to the standard format of MBM"
   ]
  },
  {
   "cell_type": "code",
   "execution_count": 1,
   "id": "cda959d5-de85-4e76-97e0-7d5d61830a07",
   "metadata": {},
   "outputs": [],
   "source": [
    "# Import libraries\n",
    "import pandas as pd"
   ]
  },
  {
   "cell_type": "code",
   "execution_count": null,
   "id": "40a2c974-10fc-4b64-a2b8-000fb477b395",
   "metadata": {},
   "outputs": [],
   "source": []
  }
 ],
 "metadata": {
  "kernelspec": {
   "display_name": "Python 3 (ipykernel)",
   "language": "python",
   "name": "python3"
  },
  "language_info": {
   "codemirror_mode": {
    "name": "ipython",
    "version": 3
   },
   "file_extension": ".py",
   "mimetype": "text/x-python",
   "name": "python",
   "nbconvert_exporter": "python",
   "pygments_lexer": "ipython3",
   "version": "3.10.0"
  }
 },
 "nbformat": 4,
 "nbformat_minor": 5
}
