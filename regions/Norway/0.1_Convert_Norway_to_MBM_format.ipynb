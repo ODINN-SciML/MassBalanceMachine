{
 "cells": [
  {
   "cell_type": "markdown",
   "id": "0",
   "metadata": {},
   "source": [
    "# Convert Norway dataset to the standard format of MBM"
   ]
  },
  {
   "cell_type": "code",
   "execution_count": null,
   "id": "1",
   "metadata": {},
   "outputs": [],
   "source": [
    "# Import libraries\n",
    "import numpy as np\n",
    "import pandas as pd\n",
    "import datetime as dt\n",
    "import massbalancemachine as mbm"
   ]
  },
  {
   "cell_type": "code",
   "execution_count": null,
   "id": "2",
   "metadata": {},
   "outputs": [],
   "source": [
    "# Get filepath and filename of raw data\n",
    "filepath = 'C:/Users/kasj/MassBalanceMachine/regions/Norway/data/'\n",
    "filename = '2023-08-28_stake_mb_norway_cleaned_ids_latlon_wattributes_climate.csv'\n",
    "\n",
    "# Read DataFrame\n",
    "data = pd.read_csv(filepath + filename)"
   ]
  },
  {
   "cell_type": "code",
   "execution_count": null,
   "id": "3",
   "metadata": {},
   "outputs": [],
   "source": [
    "# Drop columns not needed for MBM\n",
    "drop_cols = ['GLIMSID','BREID', 'utm_zone', 'utm_east_approx', 'utm_north_approx', 'altitude_approx', 'location_description', 'location_id', 'stake_no',\n",
    "             'utm_east', 'utm_north', 'stake_remark', 'flag_correction', 'approx_loc', 'approx_altitude', 'diff_north', 'diff_east', 'diff_altitude',\n",
    "             'diff_netto', 'lat_approx', 'lon_approx', 'topo', 'slope_factor', 'dis_from_border']\n",
    "\n",
    "data = data.drop(columns=drop_cols)"
   ]
  },
  {
   "cell_type": "code",
   "execution_count": null,
   "id": "4",
   "metadata": {},
   "outputs": [],
   "source": [
    "# Rename columns in WGMS format\n",
    "data = data.rename(columns={'RGIID':'RGIId', 'altitude':'POINT_ELEVATION', 'lat':'POINT_LAT', 'lon':'POINT_LON', 'altitude_climate':'ALTITUDE_CLIMATE'})"
   ]
  },
  {
   "cell_type": "code",
   "execution_count": null,
   "id": "5",
   "metadata": {},
   "outputs": [],
   "source": [
    "# Get hydrological year from current year\n",
    "data['YEAR']=pd.to_datetime(data['dt_curr_year_max_date'].astype('string'), format=\"%d.%m.%Y %H:%M\")\n",
    "data['YEAR'] = data.YEAR.dt.year.astype('Int64')"
   ]
  },
  {
   "cell_type": "code",
   "execution_count": null,
   "id": "6",
   "metadata": {},
   "outputs": [],
   "source": [
    "# Add measurement id to know which annual, summer, winter belong together\n",
    "data['MEASUREMENT_ID'] = np.arange(0, len(data))"
   ]
  },
  {
   "cell_type": "code",
   "execution_count": null,
   "id": "7",
   "metadata": {},
   "outputs": [],
   "source": [
    "data[\"ELEVATION_DIFFERENCE\"] = data[\"ALTITUDE_CLIMATE\"] - data[\"POINT_ELEVATION\"]\n",
    "data"
   ]
  },
  {
   "cell_type": "code",
   "execution_count": null,
   "id": "8",
   "metadata": {},
   "outputs": [],
   "source": [
    "# Get separate dataframes for annual, winter and summer mass balance\n",
    "data_annual = data[data['balance_netto'].notna()]\n",
    "data_winter = data[data['balance_winter'].notna()]\n",
    "data_summer = data[data['balance_summer'].notna()]"
   ]
  },
  {
   "cell_type": "code",
   "execution_count": null,
   "id": "9",
   "metadata": {},
   "outputs": [],
   "source": [
    "# Align dataset names\n",
    "data_annual = data_annual.drop(columns=['balance_winter', 'balance_summer', 'dt_curr_year_max_date'])\n",
    "data_annual = data_annual.rename(columns={'balance_netto':'POINT_BALANCE','dt_prev_year_min_date':'FROM_DATE','dt_curr_year_min_date':'TO_DATE'})\n",
    "\n",
    "data_winter = data_winter.drop(columns=['balance_summer', 'balance_netto', 'dt_curr_year_min_date'])\n",
    "data_winter = data_winter.rename(columns={'balance_winter':'POINT_BALANCE','dt_prev_year_min_date':'FROM_DATE','dt_curr_year_max_date':'TO_DATE'})\n",
    "\n",
    "data_summer = data_summer.drop(columns=['balance_winter', 'balance_netto', 'dt_prev_year_min_date'])\n",
    "data_summer = data_summer.rename(columns={'balance_summer':'POINT_BALANCE', 'dt_curr_year_max_date':'FROM_DATE', 'dt_curr_year_min_date':'TO_DATE'})"
   ]
  },
  {
   "cell_type": "code",
   "execution_count": null,
   "id": "10",
   "metadata": {},
   "outputs": [],
   "source": [
    "data_annual\n"
   ]
  },
  {
   "cell_type": "code",
   "execution_count": null,
   "id": "11",
   "metadata": {},
   "outputs": [],
   "source": [
    "# Convert date format from DD.MM.YYYY HH:HH to 'YYYYMMDD'\n",
    "data_annual['FROM_DATE']=pd.to_datetime(data_annual['FROM_DATE'], dayfirst=True)\n",
    "data_annual['TO_DATE']=pd.to_datetime(data_annual['TO_DATE'], dayfirst=True)\n",
    "\n",
    "data_annual['FROM_DATE'] = data_annual['FROM_DATE'].dt.strftime('%Y%m%d')\n",
    "data_annual['TO_DATE'] = data_annual['TO_DATE'].dt.strftime('%Y%m%d')\n",
    "\n",
    "data_summer['FROM_DATE']=pd.to_datetime(data_summer['FROM_DATE'], dayfirst=True)\n",
    "data_summer['TO_DATE']=pd.to_datetime(data_summer['TO_DATE'], dayfirst=True)\n",
    "\n",
    "data_summer['FROM_DATE'] = data_summer['FROM_DATE'].dt.strftime('%Y%m%d')\n",
    "data_summer['TO_DATE'] = data_summer['TO_DATE'].dt.strftime('%Y%m%d')\n",
    "\n",
    "data_winter['FROM_DATE']=pd.to_datetime(data_winter['FROM_DATE'], dayfirst=True)\n",
    "data_winter['TO_DATE']=pd.to_datetime(data_winter['TO_DATE'], dayfirst=True)\n",
    "\n",
    "data_winter['FROM_DATE'] = data_winter['FROM_DATE'].dt.strftime('%Y%m%d')\n",
    "data_winter['TO_DATE'] = data_winter['TO_DATE'].dt.strftime('%Y%m%d')"
   ]
  },
  {
   "cell_type": "code",
   "execution_count": null,
   "id": "12",
   "metadata": {},
   "outputs": [],
   "source": [
    "#data_annual['POINT_ELEVATION'] = data_annual['POINT_ELEVATION'].astype(int)\n",
    "#data_winter['POINT_ELEVATION'] = data_winter['POINT_ELEVATION'].astype(int)\n",
    "#data_summer['POINT_ELEVATION'] = data_summer['POINT_ELEVATION'].astype(int)"
   ]
  },
  {
   "cell_type": "code",
   "execution_count": null,
   "id": "13",
   "metadata": {},
   "outputs": [],
   "source": [
    "data_winter['BALANCE_CODE']='BW'\n",
    "data_summer['BALANCE_CODE']='BS'\n",
    "data_annual['BALANCE_CODE']='BA'"
   ]
  },
  {
   "cell_type": "code",
   "execution_count": null,
   "id": "14",
   "metadata": {},
   "outputs": [],
   "source": [
    "data_cleaned = pd.concat([data_annual, data_winter, data_summer])"
   ]
  },
  {
   "cell_type": "code",
   "execution_count": null,
   "id": "15",
   "metadata": {},
   "outputs": [],
   "source": [
    "data_cleaned['POINT_ID'] = np.arange(0, len(data_cleaned))"
   ]
  },
  {
   "cell_type": "code",
   "execution_count": null,
   "id": "16",
   "metadata": {},
   "outputs": [],
   "source": [
    "data_cleaned.reset_index(inplace=True)\n",
    "data_cleaned"
   ]
  },
  {
   "cell_type": "code",
   "execution_count": null,
   "id": "17",
   "metadata": {},
   "outputs": [],
   "source": [
    "# Get filepath and filename of raw data\n",
    "filepath = 'C:/Users/kasj/MassBalanceMachine/regions/Norway/data/'\n",
    "filename_save = '2024-09-11_stake_dataset_Norway.csv'\n",
    "\n",
    "# Read DataFrame\n",
    "data_cleaned.to_csv(filepath + filename_save)"
   ]
  }
 ],
 "metadata": {
  "kernelspec": {
   "display_name": "Python 3 (ipykernel)",
   "language": "python",
   "name": "python3"
  },
  "language_info": {
   "codemirror_mode": {
    "name": "ipython",
    "version": 3
   },
   "file_extension": ".py",
   "mimetype": "text/x-python",
   "name": "python",
   "nbconvert_exporter": "python",
   "pygments_lexer": "ipython3",
   "version": "3.10.0"
  }
 },
 "nbformat": 4,
 "nbformat_minor": 5
}
