{
 "cells": [
  {
   "cell_type": "markdown",
   "metadata": {},
   "source": [
    "## Setting Up:"
   ]
  },
  {
   "cell_type": "code",
   "execution_count": 1,
   "metadata": {},
   "outputs": [
    {
     "name": "stdout",
     "output_type": "stream",
     "text": [
      "Python path: ['/home/mburlet/MBM/MassBalanceMachine/regions/French_Alps', '/home/mburlet/anaconda3/envs/MassBalanceMachine/lib/python311.zip', '/home/mburlet/anaconda3/envs/MassBalanceMachine/lib/python3.11', '/home/mburlet/anaconda3/envs/MassBalanceMachine/lib/python3.11/lib-dynload', '', '/home/mburlet/anaconda3/envs/MassBalanceMachine/lib/python3.11/site-packages', '/home/mburlet/MBM/MassBalanceMachine']\n",
      "\n",
      "Checking if scripts directory exists:\n",
      "True\n",
      "\n",
      "Listing contents of regions directory:\n",
      "['models', '1.3. ERA5Land-prepro.ipynb', '3.4. Feature selection.ipynb', '3.2. Train-ML-model.ipynb', '1.1. GLAMOS-prepro.ipynb', 'prcp_fac_array.npy', '3.5. Train with GeoMB.ipynb', '1.2. OGGM-datapulling.ipynb', '1.1. GLACIOCLIM-prepro.ipynb', '3.3. Spatial-analysis.ipynb', 'scripts', 'w_prcp_array.npy']\n",
      "1. Current working directory: /home/mburlet/MBM/MassBalanceMachine/regions/French_Alps\n",
      "2. Regions path exists: True\n",
      "3. Scripts directory exists: True\n",
      "4. Config file exists: True\n",
      "5. sys.path: ['/home/mburlet/MBM/MassBalanceMachine/regions/French_Alps', '/home/mburlet/anaconda3/envs/MassBalanceMachine/lib/python311.zip', '/home/mburlet/anaconda3/envs/MassBalanceMachine/lib/python3.11', '/home/mburlet/anaconda3/envs/MassBalanceMachine/lib/python3.11/lib-dynload', '', '/home/mburlet/anaconda3/envs/MassBalanceMachine/lib/python3.11/site-packages', '/home/mburlet/MBM/MassBalanceMachine']\n"
     ]
    }
   ],
   "source": [
    "import sys\n",
    "import os\n",
    "import pandas as pd\n",
    "import os\n",
    "import warnings\n",
    "from tqdm.notebook import tqdm\n",
    "import zipfile\n",
    "import cdsapi\n",
    "import zipfile\n",
    "import numpy as np\n",
    "import glob\n",
    "import xarray as xr\n",
    "\n",
    "regions_path = '/home/mburlet/MBM/MassBalanceMachine/regions/French_Alps'\n",
    "sys.path.insert(0, regions_path)\n",
    "from scripts.config_FR import *\n",
    "\n",
    "# Print paths to verify\n",
    "print(\"Python path:\", sys.path)\n",
    "print(\"\\nChecking if scripts directory exists:\")\n",
    "print(os.path.exists(os.path.join(regions_path, 'scripts')))\n",
    "print(\"\\nListing contents of regions directory:\")\n",
    "print(os.listdir(regions_path))\n",
    "\n",
    "# Debug prints\n",
    "print(f\"1. Current working directory: {os.getcwd()}\")\n",
    "print(f\"2. Regions path exists: {os.path.exists(regions_path)}\")\n",
    "print(f\"3. Scripts directory exists: {os.path.exists(os.path.join(regions_path, 'scripts'))}\")\n",
    "print(f\"4. Config file exists: {os.path.exists(os.path.join(regions_path, 'scripts', 'config_FR.py'))}\")\n",
    "print(f\"5. sys.path: {sys.path}\")\n",
    "\n",
    "warnings.filterwarnings('ignore')\n",
    "%load_ext autoreload\n",
    "%autoreload 2"
   ]
  },
  {
   "cell_type": "markdown",
   "metadata": {},
   "source": [
    "## Download monthly ERA5-Land variables:"
   ]
  },
  {
   "cell_type": "code",
   "execution_count": 2,
   "metadata": {},
   "outputs": [
    {
     "name": "stderr",
     "output_type": "stream",
     "text": [
      "2025-05-11 10:21:49,127 INFO [2024-09-26T00:00:00] Watch our [Forum](https://forum.ecmwf.int/) for Announcements, news and other discussed topics.\n",
      "2025-05-11 10:21:49,128 WARNING [2024-06-16T00:00:00] CDS API syntax is changed and some keys or parameter names may have also changed. To avoid requests failing, please use the \"Show API request code\" tool on the dataset Download Form to check you are using the correct syntax for your API request.\n",
      "2025-05-11 10:21:49,265 INFO Request ID is 0e1df900-7c18-4c6d-8a86-a97438a12b59\n",
      "2025-05-11 10:21:49,326 INFO status has been updated to accepted\n",
      "2025-05-11 10:22:02,843 INFO status has been updated to running\n",
      "2025-05-11 10:22:10,473 INFO status has been updated to successful\n"
     ]
    },
    {
     "data": {
      "application/vnd.jupyter.widget-view+json": {
       "model_id": "297c1405c64247868e288c669d354390",
       "version_major": 2,
       "version_minor": 0
      },
      "text/plain": [
       "6047379c0db16d8b57d8f328cf963b2f.zip:   0%|          | 0.00/262M [00:00<?, ?B/s]"
      ]
     },
     "metadata": {},
     "output_type": "display_data"
    },
    {
     "name": "stderr",
     "output_type": "stream",
     "text": [
      "2025-05-11 10:22:13,925 INFO Request ID is 61d70879-33aa-404c-af0e-21021ebd2438\n",
      "2025-05-11 10:22:13,960 INFO status has been updated to accepted\n",
      "2025-05-11 10:22:27,342 INFO status has been updated to successful\n"
     ]
    },
    {
     "data": {
      "application/vnd.jupyter.widget-view+json": {
       "model_id": "ef87725ee8cd443f8022767413f17359",
       "version_major": 2,
       "version_minor": 0
      },
      "text/plain": [
       "aa9d83a880f1bb02cf32b143dfe1d3fa.nc:   0%|          | 0.00/2.51M [00:00<?, ?B/s]"
      ]
     },
     "metadata": {},
     "output_type": "display_data"
    }
   ],
   "source": [
    "RUN = True\n",
    "if RUN:\n",
    "    os.makedirs(path_ERA5_raw, exist_ok=True)\n",
    "    c = cdsapi.Client()\n",
    "    c.retrieve(\n",
    "        'reanalysis-era5-land-monthly-means', {\n",
    "            'product_type': ['monthly_averaged_reanalysis'],\n",
    "            'variable': [\n",
    "                '10m_u_component_of_wind',\n",
    "                '10m_v_component_of_wind',\n",
    "                '2m_temperature',\n",
    "                'forecast_albedo',\n",
    "                'snow_cover',\n",
    "                'snow_density',\n",
    "                'snow_depth_water_equivalent',\n",
    "                'snowfall',\n",
    "                'snowmelt',\n",
    "                'surface_latent_heat_flux',\n",
    "                'surface_net_thermal_radiation',\n",
    "                'surface_sensible_heat_flux',\n",
    "                'surface_solar_radiation_downwards',\n",
    "                'total_precipitation',\n",
    "            ],\n",
    "            'year': [\n",
    "                '1950',\n",
    "                '1951',\n",
    "                '1952',\n",
    "                '1953',\n",
    "                '1954',\n",
    "                '1955',\n",
    "                '1956',\n",
    "                '1957',\n",
    "                '1958',\n",
    "                '1959',\n",
    "                '1960',\n",
    "                '1961',\n",
    "                '1962',\n",
    "                '1963',\n",
    "                '1964',\n",
    "                '1965',\n",
    "                '1966',\n",
    "                '1967',\n",
    "                '1968',\n",
    "                '1969',\n",
    "                '1970',\n",
    "                '1971',\n",
    "                '1972',\n",
    "                '1973',\n",
    "                '1974',\n",
    "                '1975',\n",
    "                '1976',\n",
    "                '1977',\n",
    "                '1978',\n",
    "                '1979',\n",
    "                '1980',\n",
    "                '1981',\n",
    "                '1982',\n",
    "                '1983',\n",
    "                '1984',\n",
    "                '1985',\n",
    "                '1986',\n",
    "                '1987',\n",
    "                '1988',\n",
    "                '1989',\n",
    "                '1990',\n",
    "                '1991',\n",
    "                '1992',\n",
    "                '1993',\n",
    "                '1994',\n",
    "                '1995',\n",
    "                '1996',\n",
    "                '1997',\n",
    "                '1998',\n",
    "                '1999',\n",
    "                '2000',\n",
    "                '2001',\n",
    "                '2002',\n",
    "                '2003',\n",
    "                '2004',\n",
    "                '2005',\n",
    "                '2006',\n",
    "                '2007',\n",
    "                '2008',\n",
    "                '2009',\n",
    "                '2010',\n",
    "                '2011',\n",
    "                '2012',\n",
    "                '2013',\n",
    "                '2014',\n",
    "                '2015',\n",
    "                '2016',\n",
    "                '2017',\n",
    "                '2018',\n",
    "                '2019',\n",
    "                '2020',\n",
    "                '2021',\n",
    "                '2022',\n",
    "                '2023',\n",
    "                '2024',\n",
    "            ],\n",
    "            'month': [\n",
    "                '01',\n",
    "                '02',\n",
    "                '03',\n",
    "                '04',\n",
    "                '05',\n",
    "                '06',\n",
    "                '07',\n",
    "                '08',\n",
    "                '09',\n",
    "                '10',\n",
    "                '11',\n",
    "                '12',\n",
    "            ],\n",
    "            'time': ['00:00'],\n",
    "            \"data_format\": \"netcdf\",\n",
    "            \"download_format\": \"zip\",\n",
    "            'area': [\n",
    "                50,\n",
    "                0,\n",
    "                45,\n",
    "                20,\n",
    "            ],\n",
    "        }, path_ERA5_raw+'download.netcdf.zip')\n",
    "    with zipfile.ZipFile(path_ERA5_raw+'download.netcdf.zip', 'r') as zip:\n",
    "        zip.extractall(path_ERA5_raw)\n",
    "    c.retrieve(\"reanalysis-era5-single-levels\", {\n",
    "            \"product_type\": [\"reanalysis\"],\n",
    "            \"variable\": [\"geopotential\"],\n",
    "            \"year\": [\"2024\"],\n",
    "            \"month\": [\"06\"],\n",
    "            \"day\": [\"01\"],\n",
    "            \"time\": [\"12:00\"],\n",
    "            \"data_format\": \"netcdf\"\n",
    "        }, path_ERA5_raw+'era5_geopotential_pressure.nc')"
   ]
  },
  {
   "cell_type": "code",
   "execution_count": null,
   "metadata": {},
   "outputs": [
    {
     "ename": "HTTPError",
     "evalue": "404 Client Error: Not Found for url: https://cds.climate.copernicus.eu/api/v2/retrieve/v1/processes/reanalysis-era5-land-monthly-means\n",
     "output_type": "error",
     "traceback": [
      "\u001b[0;31m---------------------------------------------------------------------------\u001b[0m",
      "\u001b[0;31mHTTPError\u001b[0m                                 Traceback (most recent call last)",
      "Cell \u001b[0;32mIn[8], line 59\u001b[0m\n\u001b[1;32m      4\u001b[0m request \u001b[38;5;241m=\u001b[39m {\n\u001b[1;32m      5\u001b[0m     \u001b[38;5;124m\"\u001b[39m\u001b[38;5;124mproduct_type\u001b[39m\u001b[38;5;124m\"\u001b[39m: [\u001b[38;5;124m\"\u001b[39m\u001b[38;5;124mmonthly_averaged_reanalysis\u001b[39m\u001b[38;5;124m\"\u001b[39m],\n\u001b[1;32m      6\u001b[0m     \u001b[38;5;124m\"\u001b[39m\u001b[38;5;124mvariable\u001b[39m\u001b[38;5;124m\"\u001b[39m: [\n\u001b[0;32m   (...)\u001b[0m\n\u001b[1;32m     55\u001b[0m     \u001b[38;5;124m\"\u001b[39m\u001b[38;5;124marea\u001b[39m\u001b[38;5;124m\"\u001b[39m: [\u001b[38;5;241m47\u001b[39m, \u001b[38;5;241m3\u001b[39m, \u001b[38;5;241m43\u001b[39m, \u001b[38;5;241m8\u001b[39m]\n\u001b[1;32m     56\u001b[0m }\n\u001b[1;32m     58\u001b[0m client \u001b[38;5;241m=\u001b[39m cdsapi\u001b[38;5;241m.\u001b[39mClient()\n\u001b[0;32m---> 59\u001b[0m \u001b[43mclient\u001b[49m\u001b[38;5;241;43m.\u001b[39;49m\u001b[43mretrieve\u001b[49m\u001b[43m(\u001b[49m\u001b[43mdataset\u001b[49m\u001b[43m,\u001b[49m\u001b[43m \u001b[49m\u001b[43mrequest\u001b[49m\u001b[43m)\u001b[49m\u001b[38;5;241m.\u001b[39mdownload()\n\u001b[1;32m     62\u001b[0m dataset \u001b[38;5;241m=\u001b[39m \u001b[38;5;124m\"\u001b[39m\u001b[38;5;124mreanalysis-era5-single-levels\u001b[39m\u001b[38;5;124m\"\u001b[39m\n\u001b[1;32m     63\u001b[0m request \u001b[38;5;241m=\u001b[39m {\n\u001b[1;32m     64\u001b[0m     \u001b[38;5;124m\"\u001b[39m\u001b[38;5;124mproduct_type\u001b[39m\u001b[38;5;124m\"\u001b[39m: [\u001b[38;5;124m\"\u001b[39m\u001b[38;5;124mreanalysis\u001b[39m\u001b[38;5;124m\"\u001b[39m],\n\u001b[1;32m     65\u001b[0m     \u001b[38;5;124m\"\u001b[39m\u001b[38;5;124mvariable\u001b[39m\u001b[38;5;124m\"\u001b[39m: [\u001b[38;5;124m\"\u001b[39m\u001b[38;5;124mgeopotential\u001b[39m\u001b[38;5;124m\"\u001b[39m],\n\u001b[0;32m   (...)\u001b[0m\n\u001b[1;32m     71\u001b[0m     \u001b[38;5;124m\"\u001b[39m\u001b[38;5;124mdownload_format\u001b[39m\u001b[38;5;124m\"\u001b[39m: \u001b[38;5;124m\"\u001b[39m\u001b[38;5;124mzip\u001b[39m\u001b[38;5;124m\"\u001b[39m\n\u001b[1;32m     72\u001b[0m }\n",
      "File \u001b[0;32m~/anaconda3/envs/MassBalanceMachine/lib/python3.11/site-packages/datapi/legacy_api_client.py:169\u001b[0m, in \u001b[0;36mLegacyApiClient.retrieve\u001b[0;34m(self, name, request, target)\u001b[0m\n\u001b[1;32m    167\u001b[0m submitted: Remote \u001b[38;5;241m|\u001b[39m Results\n\u001b[1;32m    168\u001b[0m \u001b[38;5;28;01mif\u001b[39;00m \u001b[38;5;28mself\u001b[39m\u001b[38;5;241m.\u001b[39mwait_until_complete:\n\u001b[0;32m--> 169\u001b[0m     submitted \u001b[38;5;241m=\u001b[39m \u001b[38;5;28;43mself\u001b[39;49m\u001b[38;5;241;43m.\u001b[39;49m\u001b[43mclient\u001b[49m\u001b[38;5;241;43m.\u001b[39;49m\u001b[43msubmit_and_wait_on_results\u001b[49m\u001b[43m(\u001b[49m\n\u001b[1;32m    170\u001b[0m \u001b[43m        \u001b[49m\u001b[43mcollection_id\u001b[49m\u001b[38;5;241;43m=\u001b[39;49m\u001b[43mname\u001b[49m\u001b[43m,\u001b[49m\n\u001b[1;32m    171\u001b[0m \u001b[43m        \u001b[49m\u001b[43mrequest\u001b[49m\u001b[38;5;241;43m=\u001b[39;49m\u001b[43mrequest\u001b[49m\u001b[43m,\u001b[49m\n\u001b[1;32m    172\u001b[0m \u001b[43m    \u001b[49m\u001b[43m)\u001b[49m\n\u001b[1;32m    173\u001b[0m \u001b[38;5;28;01melse\u001b[39;00m:\n\u001b[1;32m    174\u001b[0m     submitted \u001b[38;5;241m=\u001b[39m \u001b[38;5;28mself\u001b[39m\u001b[38;5;241m.\u001b[39mclient\u001b[38;5;241m.\u001b[39msubmit(\n\u001b[1;32m    175\u001b[0m         collection_id\u001b[38;5;241m=\u001b[39mname,\n\u001b[1;32m    176\u001b[0m         request\u001b[38;5;241m=\u001b[39mrequest,\n\u001b[1;32m    177\u001b[0m     )\n",
      "File \u001b[0;32m~/anaconda3/envs/MassBalanceMachine/lib/python3.11/site-packages/datapi/api_client.py:413\u001b[0m, in \u001b[0;36mApiClient.submit_and_wait_on_results\u001b[0;34m(self, collection_id, request)\u001b[0m\n\u001b[1;32m    397\u001b[0m \u001b[38;5;28;01mdef\u001b[39;00m \u001b[38;5;21msubmit_and_wait_on_results\u001b[39m(\n\u001b[1;32m    398\u001b[0m     \u001b[38;5;28mself\u001b[39m, collection_id: \u001b[38;5;28mstr\u001b[39m, request: \u001b[38;5;28mdict\u001b[39m[\u001b[38;5;28mstr\u001b[39m, Any]\n\u001b[1;32m    399\u001b[0m ) \u001b[38;5;241m-\u001b[39m\u001b[38;5;241m>\u001b[39m datapi\u001b[38;5;241m.\u001b[39mResults:\n\u001b[1;32m    400\u001b[0m \u001b[38;5;250m    \u001b[39m\u001b[38;5;124;03m\"\"\"Submit a request and wait for the results to be ready.\u001b[39;00m\n\u001b[1;32m    401\u001b[0m \n\u001b[1;32m    402\u001b[0m \u001b[38;5;124;03m    Parameters\u001b[39;00m\n\u001b[0;32m   (...)\u001b[0m\n\u001b[1;32m    411\u001b[0m \u001b[38;5;124;03m    datapi.Results\u001b[39;00m\n\u001b[1;32m    412\u001b[0m \u001b[38;5;124;03m    \"\"\"\u001b[39;00m\n\u001b[0;32m--> 413\u001b[0m     \u001b[38;5;28;01mreturn\u001b[39;00m \u001b[38;5;28;43mself\u001b[39;49m\u001b[38;5;241;43m.\u001b[39;49m\u001b[43m_retrieve_api\u001b[49m\u001b[38;5;241;43m.\u001b[39;49m\u001b[43msubmit\u001b[49m\u001b[43m(\u001b[49m\u001b[43mcollection_id\u001b[49m\u001b[43m,\u001b[49m\u001b[43m \u001b[49m\u001b[43mrequest\u001b[49m\u001b[43m)\u001b[49m\u001b[38;5;241m.\u001b[39mmake_results()\n",
      "File \u001b[0;32m~/anaconda3/envs/MassBalanceMachine/lib/python3.11/site-packages/datapi/processing.py:727\u001b[0m, in \u001b[0;36mProcessing.submit\u001b[0;34m(self, collection_id, request)\u001b[0m\n\u001b[1;32m    726\u001b[0m \u001b[38;5;28;01mdef\u001b[39;00m \u001b[38;5;21msubmit\u001b[39m(\u001b[38;5;28mself\u001b[39m, collection_id: \u001b[38;5;28mstr\u001b[39m, request: \u001b[38;5;28mdict\u001b[39m[\u001b[38;5;28mstr\u001b[39m, Any]) \u001b[38;5;241m-\u001b[39m\u001b[38;5;241m>\u001b[39m Remote:\n\u001b[0;32m--> 727\u001b[0m     \u001b[38;5;28;01mreturn\u001b[39;00m \u001b[38;5;28;43mself\u001b[39;49m\u001b[38;5;241;43m.\u001b[39;49m\u001b[43mget_process\u001b[49m\u001b[43m(\u001b[49m\u001b[43mcollection_id\u001b[49m\u001b[43m)\u001b[49m\u001b[38;5;241m.\u001b[39msubmit(request)\n",
      "File \u001b[0;32m~/anaconda3/envs/MassBalanceMachine/lib/python3.11/site-packages/datapi/processing.py:716\u001b[0m, in \u001b[0;36mProcessing.get_process\u001b[0;34m(self, process_id)\u001b[0m\n\u001b[1;32m    714\u001b[0m \u001b[38;5;28;01mdef\u001b[39;00m \u001b[38;5;21mget_process\u001b[39m(\u001b[38;5;28mself\u001b[39m, process_id: \u001b[38;5;28mstr\u001b[39m) \u001b[38;5;241m-\u001b[39m\u001b[38;5;241m>\u001b[39m Process:\n\u001b[1;32m    715\u001b[0m     url \u001b[38;5;241m=\u001b[39m \u001b[38;5;124mf\u001b[39m\u001b[38;5;124m\"\u001b[39m\u001b[38;5;132;01m{\u001b[39;00m\u001b[38;5;28mself\u001b[39m\u001b[38;5;241m.\u001b[39murl\u001b[38;5;132;01m}\u001b[39;00m\u001b[38;5;124m/processes/\u001b[39m\u001b[38;5;132;01m{\u001b[39;00mprocess_id\u001b[38;5;132;01m}\u001b[39;00m\u001b[38;5;124m\"\u001b[39m\n\u001b[0;32m--> 716\u001b[0m     \u001b[38;5;28;01mreturn\u001b[39;00m \u001b[43mProcess\u001b[49m\u001b[38;5;241;43m.\u001b[39;49m\u001b[43mfrom_request\u001b[49m\u001b[43m(\u001b[49m\u001b[38;5;124;43m\"\u001b[39;49m\u001b[38;5;124;43mget\u001b[39;49m\u001b[38;5;124;43m\"\u001b[39;49m\u001b[43m,\u001b[49m\u001b[43m \u001b[49m\u001b[43murl\u001b[49m\u001b[43m,\u001b[49m\u001b[43m \u001b[49m\u001b[38;5;241;43m*\u001b[39;49m\u001b[38;5;241;43m*\u001b[39;49m\u001b[38;5;28;43mself\u001b[39;49m\u001b[38;5;241;43m.\u001b[39;49m\u001b[43m_request_kwargs\u001b[49m\u001b[43m)\u001b[49m\n",
      "File \u001b[0;32m~/anaconda3/envs/MassBalanceMachine/lib/python3.11/site-packages/datapi/processing.py:177\u001b[0m, in \u001b[0;36mApiResponse.from_request\u001b[0;34m(cls, method, url, headers, session, retry_options, request_options, download_options, sleep_max, cleanup, log_callback, log_messages, **kwargs)\u001b[0m\n\u001b[1;32m    172\u001b[0m response \u001b[38;5;241m=\u001b[39m robust_request(\n\u001b[1;32m    173\u001b[0m     method, url, headers\u001b[38;5;241m=\u001b[39mheaders, \u001b[38;5;241m*\u001b[39m\u001b[38;5;241m*\u001b[39mrequest_options, \u001b[38;5;241m*\u001b[39m\u001b[38;5;241m*\u001b[39mkwargs\n\u001b[1;32m    174\u001b[0m )\n\u001b[1;32m    175\u001b[0m log(logging\u001b[38;5;241m.\u001b[39mDEBUG, \u001b[38;5;124mf\u001b[39m\u001b[38;5;124m\"\u001b[39m\u001b[38;5;124mREPLY \u001b[39m\u001b[38;5;132;01m{\u001b[39;00mresponse\u001b[38;5;241m.\u001b[39mtext\u001b[38;5;132;01m}\u001b[39;00m\u001b[38;5;124m\"\u001b[39m, callback\u001b[38;5;241m=\u001b[39mlog_callback)\n\u001b[0;32m--> 177\u001b[0m \u001b[43mcads_raise_for_status\u001b[49m\u001b[43m(\u001b[49m\u001b[43mresponse\u001b[49m\u001b[43m)\u001b[49m\n\u001b[1;32m    179\u001b[0m \u001b[38;5;28mself\u001b[39m \u001b[38;5;241m=\u001b[39m \u001b[38;5;28mcls\u001b[39m(\n\u001b[1;32m    180\u001b[0m     response,\n\u001b[1;32m    181\u001b[0m     headers\u001b[38;5;241m=\u001b[39mheaders,\n\u001b[0;32m   (...)\u001b[0m\n\u001b[1;32m    188\u001b[0m     log_callback\u001b[38;5;241m=\u001b[39mlog_callback,\n\u001b[1;32m    189\u001b[0m )\n\u001b[1;32m    190\u001b[0m \u001b[38;5;28;01mif\u001b[39;00m log_messages:\n",
      "File \u001b[0;32m~/anaconda3/envs/MassBalanceMachine/lib/python3.11/site-packages/datapi/processing.py:100\u001b[0m, in \u001b[0;36mcads_raise_for_status\u001b[0;34m(response)\u001b[0m\n\u001b[1;32m     93\u001b[0m     \u001b[38;5;28;01melse\u001b[39;00m:\n\u001b[1;32m     94\u001b[0m         message \u001b[38;5;241m=\u001b[39m \u001b[38;5;124m\"\u001b[39m\u001b[38;5;130;01m\\n\u001b[39;00m\u001b[38;5;124m\"\u001b[39m\u001b[38;5;241m.\u001b[39mjoin(\n\u001b[1;32m     95\u001b[0m             [\n\u001b[1;32m     96\u001b[0m                 \u001b[38;5;124mf\u001b[39m\u001b[38;5;124m\"\u001b[39m\u001b[38;5;132;01m{\u001b[39;00mresponse\u001b[38;5;241m.\u001b[39mstatus_code\u001b[38;5;132;01m}\u001b[39;00m\u001b[38;5;124m Client Error: \u001b[39m\u001b[38;5;132;01m{\u001b[39;00mresponse\u001b[38;5;241m.\u001b[39mreason\u001b[38;5;132;01m}\u001b[39;00m\u001b[38;5;124m for url: \u001b[39m\u001b[38;5;132;01m{\u001b[39;00mresponse\u001b[38;5;241m.\u001b[39murl\u001b[38;5;132;01m}\u001b[39;00m\u001b[38;5;124m\"\u001b[39m,\n\u001b[1;32m     97\u001b[0m                 error_json_to_message(error_json),\n\u001b[1;32m     98\u001b[0m             ]\n\u001b[1;32m     99\u001b[0m         )\n\u001b[0;32m--> 100\u001b[0m         \u001b[38;5;28;01mraise\u001b[39;00m requests\u001b[38;5;241m.\u001b[39mHTTPError(message, response\u001b[38;5;241m=\u001b[39mresponse)\n\u001b[1;32m    101\u001b[0m response\u001b[38;5;241m.\u001b[39mraise_for_status()\n",
      "\u001b[0;31mHTTPError\u001b[0m: 404 Client Error: Not Found for url: https://cds.climate.copernicus.eu/api/v2/retrieve/v1/processes/reanalysis-era5-land-monthly-means\n"
     ]
    }
   ],
   "source": [
    "\"\"\"\n",
    "import cdsapi\n",
    "\n",
    "dataset = \"reanalysis-era5-land-monthly-means\"\n",
    "request = {\n",
    "    \"product_type\": [\"monthly_averaged_reanalysis\"],\n",
    "    \"variable\": [\n",
    "        \"2m_temperature\",\n",
    "        \"snow_cover\",\n",
    "        \"snow_density\",\n",
    "        \"snow_depth_water_equivalent\",\n",
    "        \"snowfall\",\n",
    "        \"snowmelt\",\n",
    "        \"forecast_albedo\",\n",
    "        \"surface_latent_heat_flux\",\n",
    "        \"surface_net_thermal_radiation\",\n",
    "        \"surface_sensible_heat_flux\",\n",
    "        \"surface_solar_radiation_downwards\",\n",
    "        \"10m_u_component_of_wind\",\n",
    "        \"10m_v_component_of_wind\",\n",
    "        \"total_precipitation\"\n",
    "    ],\n",
    "    \"year\": [\n",
    "        \"1957\", \"1958\", \"1959\",\n",
    "        \"1960\", \"1961\", \"1962\",\n",
    "        \"1963\", \"1964\", \"1965\",\n",
    "        \"1966\", \"1967\", \"1968\",\n",
    "        \"1969\", \"1970\", \"1971\",\n",
    "        \"1972\", \"1973\", \"1974\",\n",
    "        \"1975\", \"1976\", \"1977\",\n",
    "        \"1978\", \"1979\", \"1980\",\n",
    "        \"1981\", \"1982\", \"1983\",\n",
    "        \"1984\", \"1985\", \"1986\",\n",
    "        \"1987\", \"1988\", \"1989\",\n",
    "        \"1990\", \"1991\", \"1992\",\n",
    "        \"1993\", \"1994\", \"1995\",\n",
    "        \"1996\", \"1997\", \"1998\",\n",
    "        \"1999\", \"2000\", \"2001\",\n",
    "        \"2002\", \"2003\", \"2004\",\n",
    "        \"2005\", \"2006\", \"2007\",\n",
    "        \"2008\", \"2009\", \"2010\",\n",
    "        \"2011\", \"2012\", \"2013\",\n",
    "        \"2014\", \"2015\", \"2016\",\n",
    "        \"2017\", \"2018\", \"2019\",\n",
    "        \"2020\", \"2021\", \"2022\"\n",
    "    ],\n",
    "    \"month\": [\n",
    "        \"01\", \"02\", \"03\",\n",
    "        \"04\", \"05\", \"06\",\n",
    "        \"07\", \"08\", \"09\",\n",
    "        \"10\", \"11\", \"12\"\n",
    "    ],\n",
    "    \"time\": [\"00:00\"],\n",
    "    \"data_format\": \"netcdf\",\n",
    "    \"download_format\": \"zip\",\n",
    "    \"area\": [47, 3, 43, 8]\n",
    "}\n",
    "\n",
    "client = cdsapi.Client()\n",
    "client.retrieve(dataset, request).download()\n",
    "\n",
    "\n",
    "dataset = \"reanalysis-era5-single-levels\"\n",
    "request = {\n",
    "    \"product_type\": [\"reanalysis\"],\n",
    "    \"variable\": [\"geopotential\"],\n",
    "    \"year\": [\"2024\"],\n",
    "    \"month\": [\"06\"],\n",
    "    \"day\": [\"01\"],\n",
    "    \"time\": [\"12:00\"],\n",
    "    \"data_format\": \"netcdf\"\n",
    "}\n",
    "\n",
    "client = cdsapi.Client()\n",
    "client.retrieve(dataset, request, \"era5_geopotential_pressure.nc\")\n",
    "\"\"\""
   ]
  },
  {
   "cell_type": "markdown",
   "metadata": {},
   "source": []
  },
  {
   "cell_type": "code",
   "execution_count": 3,
   "metadata": {},
   "outputs": [
    {
     "name": "stdout",
     "output_type": "stream",
     "text": [
      "data_stream-moda.nc\t       era5_geopotential_pressure_scratch.nc\n",
      "download.netcdf.zip\t       era5_monthly_averaged_data_scratch.nc\n",
      "era5_geopotential_pressure.nc\n"
     ]
    }
   ],
   "source": [
    "! ls '/home/mburlet/scratch/data/DATA_MB/ERA5Land/raw/'"
   ]
  },
  {
   "cell_type": "code",
   "execution_count": 4,
   "metadata": {},
   "outputs": [],
   "source": [
    "dc=xr.open_dataset(path_ERA5_raw+'data_stream-moda.nc')"
   ]
  },
  {
   "cell_type": "code",
   "execution_count": 5,
   "metadata": {},
   "outputs": [],
   "source": [
    "dc2 = dc.rename({'valid_time': 'time'}) # Coordinates have changed recently in the API, this is to keep compatibility with our code"
   ]
  },
  {
   "cell_type": "code",
   "execution_count": 6,
   "metadata": {},
   "outputs": [],
   "source": [
    "dc2.to_netcdf(path_ERA5_raw + \"era5_monthly_averaged_data.nc\")"
   ]
  }
 ],
 "metadata": {
  "kernelspec": {
   "display_name": "MassBalanceMachine",
   "language": "python",
   "name": "python3"
  },
  "language_info": {
   "codemirror_mode": {
    "name": "ipython",
    "version": 3
   },
   "file_extension": ".py",
   "mimetype": "text/x-python",
   "name": "python",
   "nbconvert_exporter": "python",
   "pygments_lexer": "ipython3",
   "version": "3.11.0"
  },
  "orig_nbformat": 4
 },
 "nbformat": 4,
 "nbformat_minor": 2
}
