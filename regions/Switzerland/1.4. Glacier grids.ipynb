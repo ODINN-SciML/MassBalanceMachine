{
 "cells": [
  {
   "cell_type": "markdown",
   "metadata": {},
   "source": [
    "## Setting up:"
   ]
  },
  {
   "cell_type": "code",
   "execution_count": 11,
   "metadata": {},
   "outputs": [
    {
     "name": "stdout",
     "output_type": "stream",
     "text": [
      "The autoreload extension is already loaded. To reload it, use:\n",
      "  %reload_ext autoreload\n"
     ]
    }
   ],
   "source": [
    "import pandas as pd\n",
    "import os\n",
    "import warnings\n",
    "from tqdm.notebook import tqdm\n",
    "import re\n",
    "import massbalancemachine as mbm\n",
    "import geopandas as gpd\n",
    "from shapely.geometry import Polygon, LineString, Point\n",
    "from scipy.spatial.distance import cdist\n",
    "from sklearn.model_selection import RandomizedSearchCV\n",
    "from sklearn.metrics import r2_score, mean_squared_error, mean_absolute_error\n",
    "from sklearn.model_selection import GroupKFold, KFold, train_test_split, GroupShuffleSplit\n",
    "\n",
    "import matplotlib.pyplot as plt\n",
    "import seaborn as sns\n",
    "from cmcrameri import cm\n",
    "from oggm import cfg, utils, workflow, tasks\n",
    "import logging\n",
    "import geopandas as gpd\n",
    "import xarray as xr\n",
    "\n",
    "import config\n",
    "from scripts.helpers import *\n",
    "from scripts.glamos_preprocess import *\n",
    "from scripts.plots import *\n",
    "\n",
    "warnings.filterwarnings('ignore')\n",
    "%load_ext autoreload\n",
    "%autoreload 2"
   ]
  },
  {
   "cell_type": "code",
   "execution_count": 12,
   "metadata": {},
   "outputs": [],
   "source": [
    "seed_all(config.SEED)\n",
    "\n",
    "# in case no memory\n",
    "free_up_cuda()\n",
    "\n",
    "# Plot styles:\n",
    "path_style_sheet = 'scripts/example.mplstyle'\n",
    "plt.style.use(path_style_sheet)\n",
    "\n",
    "custom_working_dir = '../../../data/OGGM/'"
   ]
  },
  {
   "cell_type": "code",
   "execution_count": 13,
   "metadata": {},
   "outputs": [
    {
     "data": {
      "text/html": [
       "<div>\n",
       "<style scoped>\n",
       "    .dataframe tbody tr th:only-of-type {\n",
       "        vertical-align: middle;\n",
       "    }\n",
       "\n",
       "    .dataframe tbody tr th {\n",
       "        vertical-align: top;\n",
       "    }\n",
       "\n",
       "    .dataframe thead th {\n",
       "        text-align: right;\n",
       "    }\n",
       "</style>\n",
       "<table border=\"1\" class=\"dataframe\">\n",
       "  <thead>\n",
       "    <tr style=\"text-align: right;\">\n",
       "      <th></th>\n",
       "      <th>short_name</th>\n",
       "      <th>full_name</th>\n",
       "      <th>sgi-id</th>\n",
       "      <th>rgi_id.v7</th>\n",
       "      <th>Issue</th>\n",
       "    </tr>\n",
       "    <tr>\n",
       "      <th>rgi_id.v6</th>\n",
       "      <th></th>\n",
       "      <th></th>\n",
       "      <th></th>\n",
       "      <th></th>\n",
       "      <th></th>\n",
       "    </tr>\n",
       "  </thead>\n",
       "  <tbody>\n",
       "    <tr>\n",
       "      <th>RGI60-11.02764</th>\n",
       "      <td>adler</td>\n",
       "      <td>Adler</td>\n",
       "      <td>B56/03</td>\n",
       "      <td>RGI2000-v7.0-G-11-01075</td>\n",
       "      <td>False</td>\n",
       "    </tr>\n",
       "    <tr>\n",
       "      <th>RGI60-11.02285</th>\n",
       "      <td>albigna</td>\n",
       "      <td>Albigna</td>\n",
       "      <td>NaN</td>\n",
       "      <td>RGI2000-v7.0-G-11-02309</td>\n",
       "      <td>True</td>\n",
       "    </tr>\n",
       "  </tbody>\n",
       "</table>\n",
       "</div>"
      ],
      "text/plain": [
       "               short_name full_name   sgi-id                rgi_id.v7  Issue\n",
       "rgi_id.v6                                                                   \n",
       "RGI60-11.02764      adler     Adler   B56/03  RGI2000-v7.0-G-11-01075  False\n",
       "RGI60-11.02285    albigna   Albigna      NaN  RGI2000-v7.0-G-11-02309   True"
      ]
     },
     "execution_count": 13,
     "metadata": {},
     "output_type": "execute_result"
    }
   ],
   "source": [
    "# RGI Ids:\n",
    "# Read rgi ids:\n",
    "path_rgi = '../../../data/GLAMOS/CH_glacier_ids_long.csv'\n",
    "rgi_df = pd.read_csv(path_rgi, sep=',')\n",
    "rgi_df.rename(columns=lambda x: x.strip(), inplace=True)\n",
    "rgi_df.sort_values(by='short_name', inplace=True)\n",
    "rgi_df.set_index('rgi_id.v6', inplace=True)\n",
    "rgi_df.head(2)"
   ]
  },
  {
   "cell_type": "code",
   "execution_count": 14,
   "metadata": {},
   "outputs": [
    {
     "data": {
      "text/html": [
       "<div>\n",
       "<style scoped>\n",
       "    .dataframe tbody tr th:only-of-type {\n",
       "        vertical-align: middle;\n",
       "    }\n",
       "\n",
       "    .dataframe tbody tr th {\n",
       "        vertical-align: top;\n",
       "    }\n",
       "\n",
       "    .dataframe thead th {\n",
       "        text-align: right;\n",
       "    }\n",
       "</style>\n",
       "<table border=\"1\" class=\"dataframe\">\n",
       "  <thead>\n",
       "    <tr style=\"text-align: right;\">\n",
       "      <th></th>\n",
       "      <th>YEAR</th>\n",
       "      <th>POINT_ID</th>\n",
       "      <th>GLACIER</th>\n",
       "      <th>FROM_DATE</th>\n",
       "      <th>TO_DATE</th>\n",
       "      <th>POINT_LAT</th>\n",
       "      <th>POINT_LON</th>\n",
       "      <th>POINT_ELEVATION</th>\n",
       "      <th>POINT_BALANCE</th>\n",
       "      <th>PERIOD</th>\n",
       "      <th>...</th>\n",
       "      <th>slope</th>\n",
       "      <th>dis_from_border</th>\n",
       "      <th>topo</th>\n",
       "      <th>hugonnet_dhdt</th>\n",
       "      <th>consensus_ice_thickness</th>\n",
       "      <th>millan_ice_thickness</th>\n",
       "      <th>millan_v</th>\n",
       "      <th>millan_vx</th>\n",
       "      <th>millan_vy</th>\n",
       "      <th>snowslide_1m</th>\n",
       "    </tr>\n",
       "  </thead>\n",
       "  <tbody>\n",
       "    <tr>\n",
       "      <th>0</th>\n",
       "      <td>2006</td>\n",
       "      <td>adler_28</td>\n",
       "      <td>adler</td>\n",
       "      <td>20051017</td>\n",
       "      <td>20061011</td>\n",
       "      <td>46.010637</td>\n",
       "      <td>7.855896</td>\n",
       "      <td>3096.507742</td>\n",
       "      <td>-2.592</td>\n",
       "      <td>annual</td>\n",
       "      <td>...</td>\n",
       "      <td>0.340053</td>\n",
       "      <td>120.0</td>\n",
       "      <td>3039.0</td>\n",
       "      <td>-1.504815</td>\n",
       "      <td>43.181839</td>\n",
       "      <td>37.110600</td>\n",
       "      <td>3.591626</td>\n",
       "      <td>3.445628</td>\n",
       "      <td>1.013618</td>\n",
       "      <td>1.0</td>\n",
       "    </tr>\n",
       "    <tr>\n",
       "      <th>1</th>\n",
       "      <td>2006</td>\n",
       "      <td>adler_55</td>\n",
       "      <td>adler</td>\n",
       "      <td>20051017</td>\n",
       "      <td>20061011</td>\n",
       "      <td>46.010052</td>\n",
       "      <td>7.858628</td>\n",
       "      <td>3141.506520</td>\n",
       "      <td>-2.502</td>\n",
       "      <td>annual</td>\n",
       "      <td>...</td>\n",
       "      <td>0.219036</td>\n",
       "      <td>30.0</td>\n",
       "      <td>3091.0</td>\n",
       "      <td>-0.970061</td>\n",
       "      <td>41.090096</td>\n",
       "      <td>8.961324</td>\n",
       "      <td>0.975349</td>\n",
       "      <td>-0.948907</td>\n",
       "      <td>-0.058481</td>\n",
       "      <td>1.0</td>\n",
       "    </tr>\n",
       "  </tbody>\n",
       "</table>\n",
       "<p>2 rows × 22 columns</p>\n",
       "</div>"
      ],
      "text/plain": [
       "   YEAR  POINT_ID GLACIER  FROM_DATE   TO_DATE  POINT_LAT  POINT_LON  \\\n",
       "0  2006  adler_28   adler   20051017  20061011  46.010637   7.855896   \n",
       "1  2006  adler_55   adler   20051017  20061011  46.010052   7.858628   \n",
       "\n",
       "   POINT_ELEVATION  POINT_BALANCE  PERIOD  ...     slope  dis_from_border  \\\n",
       "0      3096.507742         -2.592  annual  ...  0.340053            120.0   \n",
       "1      3141.506520         -2.502  annual  ...  0.219036             30.0   \n",
       "\n",
       "     topo  hugonnet_dhdt  consensus_ice_thickness  millan_ice_thickness  \\\n",
       "0  3039.0      -1.504815                43.181839             37.110600   \n",
       "1  3091.0      -0.970061                41.090096              8.961324   \n",
       "\n",
       "   millan_v  millan_vx  millan_vy  snowslide_1m  \n",
       "0  3.591626   3.445628   1.013618           1.0  \n",
       "1  0.975349  -0.948907  -0.058481           1.0  \n",
       "\n",
       "[2 rows x 22 columns]"
      ]
     },
     "execution_count": 14,
     "metadata": {},
     "output_type": "execute_result"
    }
   ],
   "source": [
    "data_glamos = pd.read_csv(path_PMB_GLAMOS_csv + 'CH_wgms_dataset_all.csv')\n",
    "rgis = data_glamos.RGIId.unique()\n",
    "all_gl = list(data_glamos.GLACIER.unique())\n",
    "data_glamos.head(2)"
   ]
  },
  {
   "cell_type": "code",
   "execution_count": 15,
   "metadata": {},
   "outputs": [
    {
     "name": "stderr",
     "output_type": "stream",
     "text": [
      "2024-10-24 13:08:31: oggm.cfg: Reading default parameters from the OGGM `params.cfg` configuration file.\n",
      "2024-10-24 13:08:31: oggm.cfg: Multiprocessing switched OFF according to the parameter file.\n",
      "2024-10-24 13:08:31: oggm.cfg: Multiprocessing: using all available processors (N=32)\n",
      "2024-10-24 13:08:31: oggm.cfg: PARAMS['border'] changed from `80` to `10`.\n",
      "2024-10-24 13:08:31: oggm.cfg: Multiprocessing switched ON after user settings.\n",
      "2024-10-24 13:08:31: oggm.cfg: PARAMS['continue_on_error'] changed from `False` to `True`.\n",
      "2024-10-24 13:08:32: oggm.workflow: init_glacier_directories from prepro level 3 on 3927 glaciers.\n",
      "2024-10-24 13:08:32: oggm.workflow: Execute entity tasks [gdir_from_prepro] on 3927 glaciers\n"
     ]
    },
    {
     "name": "stdout",
     "output_type": "stream",
     "text": [
      "Number of rgis:  42\n"
     ]
    }
   ],
   "source": [
    "# Check which rgis are in the OGGM directory:\n",
    "cfg.initialize(logging_level=\"WARNING\")\n",
    "cfg.PARAMS[\"border\"] = 10\n",
    "cfg.PARAMS[\"use_multiprocessing\"] = True\n",
    "cfg.PARAMS[\"continue_on_error\"] = True\n",
    "cfg.PATHS[\"working_dir\"] = custom_working_dir\n",
    "\n",
    "path = utils.get_rgi_region_file(region=\"11\", version=\"6\")\n",
    "rgidf = gpd.read_file(path)\n",
    "\n",
    "# We use the directories with the shop data in it: \"W5E5_w_data\"\n",
    "base_url = \"https://cluster.klima.uni-bremen.de/~oggm/gdirs/oggm_v1.6/L3-L5_files/2023.1/elev_bands/W5E5_w_data/\"\n",
    "gdirs = workflow.init_glacier_directories(\n",
    "    rgidf,\n",
    "    from_prepro_level=3,\n",
    "    prepro_base_url=base_url,\n",
    "    prepro_border=10,\n",
    "    reset=True,\n",
    "    force=True,\n",
    ")\n",
    "oggm_rgis = [gdir.rgi_id for gdir in gdirs]\n",
    "rgis_in_oggm = []\n",
    "for rig in rgis:\n",
    "    if rig in oggm_rgis:\n",
    "        rgis_in_oggm.append(rig)\n",
    "print('Number of rgis: ', len(rgis_in_oggm))\n",
    "rgis = rgis_in_oggm"
   ]
  },
  {
   "cell_type": "markdown",
   "metadata": {},
   "source": [
    "## Compute grids for all glaciers:"
   ]
  },
  {
   "cell_type": "code",
   "execution_count": 16,
   "metadata": {},
   "outputs": [
    {
     "data": {
      "text/plain": [
       "['adler',\n",
       " 'albigna',\n",
       " 'aletsch',\n",
       " 'allalin',\n",
       " 'arolla',\n",
       " 'basodino',\n",
       " 'claridenL',\n",
       " 'claridenU',\n",
       " 'corbassiere',\n",
       " 'corvatsch',\n",
       " 'findelen',\n",
       " 'forno',\n",
       " 'gietro',\n",
       " 'gorner',\n",
       " 'gries',\n",
       " 'hohlaub',\n",
       " 'joeri',\n",
       " 'limmern',\n",
       " 'morteratsch',\n",
       " 'murtel',\n",
       " 'oberaar',\n",
       " 'otemma',\n",
       " 'pers',\n",
       " 'pizol',\n",
       " 'plainemorte',\n",
       " 'plattalva',\n",
       " 'rhone',\n",
       " 'sanktanna',\n",
       " 'schwarzbach',\n",
       " 'schwarzberg',\n",
       " 'sexrouge',\n",
       " 'silvretta',\n",
       " 'taelliboden',\n",
       " 'tortin',\n",
       " 'tsanfleuron']"
      ]
     },
     "execution_count": 16,
     "metadata": {},
     "output_type": "execute_result"
    }
   ],
   "source": [
    "glDirect = [\n",
    "    re.search(r'xr_direct_(.*?)\\.nc', f).group(1)\n",
    "    for f in os.listdir(path_direct_save)\n",
    "]\n",
    "glDirect.sort()\n",
    "glDirect"
   ]
  },
  {
   "cell_type": "code",
   "execution_count": null,
   "metadata": {},
   "outputs": [
    {
     "data": {
      "application/vnd.jupyter.widget-view+json": {
       "model_id": "745c235cd2f74a38883b36f5f754e4e6",
       "version_major": 2,
       "version_minor": 0
      },
      "text/plain": [
       "Processing glaciers:   0%|          | 0/9 [00:00<?, ?it/s]"
      ]
     },
     "metadata": {},
     "output_type": "display_data"
    },
    {
     "name": "stderr",
     "output_type": "stream",
     "text": [
      "2024-10-24 13:09:12: oggm.cfg: Reading default parameters from the OGGM `params.cfg` configuration file.\n",
      "2024-10-24 13:09:12: oggm.cfg: Multiprocessing switched OFF according to the parameter file.\n",
      "2024-10-24 13:09:12: oggm.cfg: Multiprocessing: using all available processors (N=32)\n",
      "2024-10-24 13:09:12: oggm.cfg: PARAMS['border'] changed from `80` to `10`.\n",
      "2024-10-24 13:09:12: oggm.cfg: Multiprocessing switched ON after user settings.\n",
      "2024-10-24 13:09:12: oggm.cfg: PARAMS['continue_on_error'] changed from `False` to `True`.\n"
     ]
    },
    {
     "name": "stdout",
     "output_type": "stream",
     "text": [
      "\n",
      "-----------------------------------\n",
      "tortin\n"
     ]
    },
    {
     "name": "stderr",
     "output_type": "stream",
     "text": [
      "2024-10-24 13:09:12: oggm.workflow: init_glacier_directories from prepro level 3 on 1 glaciers.\n",
      "2024-10-24 13:09:12: oggm.workflow: Execute entity tasks [gdir_from_prepro] on 1 glaciers\n",
      "2024-10-24 13:09:12: oggm.workflow: Execute entity tasks [gridded_attributes] on 1 glaciers\n"
     ]
    },
    {
     "name": "stdout",
     "output_type": "stream",
     "text": [
      "Adding potential clear sky radiation\n",
      "Converting to monthly time resolution\n"
     ]
    }
   ],
   "source": [
    "EMPTY = True\n",
    "# Add climate variables and convert to monthly\n",
    "vois_climate = [\n",
    "    't2m', 'tp', 'slhf', 'sshf', 'ssrd', 'fal', 'str', 'u10', 'v10'\n",
    "]\n",
    "voi_topographical = [\n",
    "    \"aspect\", \"slope\", \"dis_from_border\", \"hugonnet_dhdt\",\n",
    "    \"consensus_ice_thickness\", \"millan_ice_thickness\", \"millan_v\",\n",
    "    \"millan_vx\", \"millan_vy\", \"topo\", \n",
    "]\n",
    "if EMPTY:\n",
    "    emptyfolder(path_glacier_grid)\n",
    "    rest_rgis = rgis\n",
    "    rest_gl = glDirect\n",
    "else:\n",
    "    already_processed = [\n",
    "        re.split('_', file)[0] for file in os.listdir(path_glacier_grid)\n",
    "    ]\n",
    "    already_processed_rgis = [\n",
    "        rgi_df[rgi_df.short_name == gl].index.values[0]\n",
    "        for gl in already_processed\n",
    "    ]\n",
    "    rest_rgis = Diff(already_processed_rgis, rgis)\n",
    "    rest_gl = Diff(glDirect, already_processed)\n",
    "    print(rest_gl)\n",
    "\n",
    "# Glaciers used for testing\n",
    "rest_gl = [\n",
    "    'tortin', 'plattalva', 'sanktanna', 'schwarzberg', 'hohlaub', 'pizol',\n",
    "    'joeri', 'corvatsch', 'tsanfleuron'\n",
    "]\n",
    "for glacierName in tqdm(rest_gl, desc='Processing glaciers'):\n",
    "    print('\\n-----------------------------------')\n",
    "    print(glacierName)\n",
    "    rgi_gl = rgi_df[rgi_df.short_name == glacierName].index.values[0]\n",
    "    if glacierName == 'morteratsch' or glacierName == 'pers':\n",
    "        rgi_gl = 'RGI60-11.01946'\n",
    "\n",
    "    # check that rgi_gl is a str\n",
    "    if type(rgi_gl) != str:\n",
    "        raise ValueError('RGIId is not a string')\n",
    "\n",
    "    # Load stake data for that glacier\n",
    "    data_gl = data_glamos[data_glamos.RGIId == rgi_gl]\n",
    "    dataset_gl = mbm.Dataset(data=data_gl,\n",
    "                             region_name='CH',\n",
    "                             data_path=path_PMB_GLAMOS_csv)\n",
    "\n",
    "    # Get gridded glacier data from OGGM\n",
    "    df_grid = dataset_gl.create_glacier_grid(custom_working_dir)\n",
    "\n",
    "    # Add metadata that is not in WGMS dataset\n",
    "    df_grid[\"PERIOD\"] = \"annual\"\n",
    "    df_grid['GLACIER'] = glacierName\n",
    "\n",
    "    dataset_grid = mbm.Dataset(data=df_grid,\n",
    "                               region_name='CH',\n",
    "                               data_path=path_PMB_GLAMOS_csv)\n",
    "    # Add climate data:\n",
    "    era5_climate_data = path_ERA5_raw + 'era5_monthly_averaged_data.nc'\n",
    "    geopotential_data = path_ERA5_raw + 'era5_geopotential_pressure.nc'\n",
    "    dataset_grid.get_climate_features(climate_data=era5_climate_data,\n",
    "                                      geopotential_data=geopotential_data,\n",
    "                                      change_units=True)\n",
    "\n",
    "    # Add potential clear sky radiation:\n",
    "    print('Adding potential clear sky radiation')\n",
    "    dataset_grid.get_potential_rad(path_direct_save)\n",
    "\n",
    "    # For each record, convert to a monthly time resolution\n",
    "    print('Converting to monthly time resolution')\n",
    "    dataset_grid.convert_to_monthly(meta_data_columns=config.META_DATA,\n",
    "                                    vois_climate=vois_climate + ['pcsr'],\n",
    "                                    vois_topographical=voi_topographical)\n",
    "    assert ('pcsr' in dataset_grid.data.columns)\n",
    "\n",
    "    # Save gridded dataset:\n",
    "    print('Saving gridded dataset')\n",
    "    dataset_grid.data.to_csv(path_glacier_grid + f'{glacierName}_grid.csv',\n",
    "                             index=False)"
   ]
  },
  {
   "cell_type": "code",
   "execution_count": null,
   "metadata": {},
   "outputs": [],
   "source": [
    "path_glacier_grid"
   ]
  },
  {
   "cell_type": "code",
   "execution_count": null,
   "metadata": {},
   "outputs": [],
   "source": []
  }
 ],
 "metadata": {
  "kernelspec": {
   "display_name": "Python 3 (ipykernel)",
   "language": "python",
   "name": "python3"
  },
  "language_info": {
   "codemirror_mode": {
    "name": "ipython",
    "version": 3
   },
   "file_extension": ".py",
   "mimetype": "text/x-python",
   "name": "python",
   "nbconvert_exporter": "python",
   "pygments_lexer": "ipython3",
   "version": "3.10.0"
  }
 },
 "nbformat": 4,
 "nbformat_minor": 4
}
