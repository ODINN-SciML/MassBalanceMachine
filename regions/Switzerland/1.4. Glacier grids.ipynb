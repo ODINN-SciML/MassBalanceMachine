{
 "cells": [
  {
   "cell_type": "markdown",
   "metadata": {},
   "source": [
    "## Setting up:"
   ]
  },
  {
   "cell_type": "code",
   "execution_count": 2,
   "metadata": {},
   "outputs": [],
   "source": [
    "import pandas as pd\n",
    "import os\n",
    "import warnings\n",
    "from tqdm.notebook import tqdm\n",
    "import re\n",
    "import massbalancemachine as mbm\n",
    "import geopandas as gpd\n",
    "from shapely.geometry import Polygon, LineString, Point\n",
    "from scipy.spatial.distance import cdist\n",
    "from sklearn.model_selection import RandomizedSearchCV\n",
    "from sklearn.metrics import r2_score, mean_squared_error, mean_absolute_error\n",
    "from sklearn.model_selection import GroupKFold, KFold, train_test_split, GroupShuffleSplit\n",
    "\n",
    "import matplotlib.pyplot as plt\n",
    "import seaborn as sns\n",
    "from cmcrameri import cm\n",
    "from oggm import cfg, utils, workflow, tasks\n",
    "import logging\n",
    "import geopandas as gpd\n",
    "import xarray as xr\n",
    "\n",
    "import config\n",
    "from scripts.helpers import *\n",
    "from scripts.glamos_preprocess import *\n",
    "from scripts.plots import *\n",
    "\n",
    "warnings.filterwarnings('ignore')\n",
    "%load_ext autoreload\n",
    "%autoreload 2"
   ]
  },
  {
   "cell_type": "code",
   "execution_count": 3,
   "metadata": {},
   "outputs": [],
   "source": [
    "seed_all(config.SEED)\n",
    "\n",
    "# in case no memory\n",
    "free_up_cuda()\n",
    "\n",
    "# Plot styles:\n",
    "path_style_sheet = 'scripts/example.mplstyle'\n",
    "plt.style.use(path_style_sheet)\n",
    "\n",
    "custom_working_dir = '../../../data/OGGM/'"
   ]
  },
  {
   "cell_type": "code",
   "execution_count": 4,
   "metadata": {},
   "outputs": [
    {
     "data": {
      "text/html": [
       "<div>\n",
       "<style scoped>\n",
       "    .dataframe tbody tr th:only-of-type {\n",
       "        vertical-align: middle;\n",
       "    }\n",
       "\n",
       "    .dataframe tbody tr th {\n",
       "        vertical-align: top;\n",
       "    }\n",
       "\n",
       "    .dataframe thead th {\n",
       "        text-align: right;\n",
       "    }\n",
       "</style>\n",
       "<table border=\"1\" class=\"dataframe\">\n",
       "  <thead>\n",
       "    <tr style=\"text-align: right;\">\n",
       "      <th></th>\n",
       "      <th>short_name</th>\n",
       "      <th>full_name</th>\n",
       "      <th>sgi-id</th>\n",
       "      <th>rgi_id.v7</th>\n",
       "      <th>Issue</th>\n",
       "    </tr>\n",
       "    <tr>\n",
       "      <th>rgi_id.v6</th>\n",
       "      <th></th>\n",
       "      <th></th>\n",
       "      <th></th>\n",
       "      <th></th>\n",
       "      <th></th>\n",
       "    </tr>\n",
       "  </thead>\n",
       "  <tbody>\n",
       "    <tr>\n",
       "      <th>RGI60-11.02764</th>\n",
       "      <td>adler</td>\n",
       "      <td>Adler</td>\n",
       "      <td>B56/03</td>\n",
       "      <td>RGI2000-v7.0-G-11-01075</td>\n",
       "      <td>False</td>\n",
       "    </tr>\n",
       "    <tr>\n",
       "      <th>RGI60-11.02285</th>\n",
       "      <td>albigna</td>\n",
       "      <td>Albigna</td>\n",
       "      <td>NaN</td>\n",
       "      <td>RGI2000-v7.0-G-11-02309</td>\n",
       "      <td>True</td>\n",
       "    </tr>\n",
       "  </tbody>\n",
       "</table>\n",
       "</div>"
      ],
      "text/plain": [
       "               short_name full_name   sgi-id                rgi_id.v7  Issue\n",
       "rgi_id.v6                                                                   \n",
       "RGI60-11.02764      adler     Adler   B56/03  RGI2000-v7.0-G-11-01075  False\n",
       "RGI60-11.02285    albigna   Albigna      NaN  RGI2000-v7.0-G-11-02309   True"
      ]
     },
     "execution_count": 4,
     "metadata": {},
     "output_type": "execute_result"
    }
   ],
   "source": [
    "# RGI Ids:\n",
    "# Read rgi ids:\n",
    "path_rgi = '../../../data/GLAMOS/CH_glacier_ids_long.csv'\n",
    "rgi_df = pd.read_csv(path_rgi, sep=',')\n",
    "rgi_df.rename(columns=lambda x: x.strip(), inplace=True)\n",
    "rgi_df.sort_values(by='short_name', inplace=True)\n",
    "rgi_df.set_index('rgi_id.v6', inplace=True)\n",
    "rgi_df.head(2)"
   ]
  },
  {
   "cell_type": "code",
   "execution_count": 7,
   "metadata": {},
   "outputs": [
    {
     "data": {
      "text/html": [
       "<div>\n",
       "<style scoped>\n",
       "    .dataframe tbody tr th:only-of-type {\n",
       "        vertical-align: middle;\n",
       "    }\n",
       "\n",
       "    .dataframe tbody tr th {\n",
       "        vertical-align: top;\n",
       "    }\n",
       "\n",
       "    .dataframe thead th {\n",
       "        text-align: right;\n",
       "    }\n",
       "</style>\n",
       "<table border=\"1\" class=\"dataframe\">\n",
       "  <thead>\n",
       "    <tr style=\"text-align: right;\">\n",
       "      <th></th>\n",
       "      <th>YEAR</th>\n",
       "      <th>POINT_ID</th>\n",
       "      <th>GLACIER</th>\n",
       "      <th>FROM_DATE</th>\n",
       "      <th>TO_DATE</th>\n",
       "      <th>POINT_LAT</th>\n",
       "      <th>POINT_LON</th>\n",
       "      <th>POINT_ELEVATION</th>\n",
       "      <th>POINT_BALANCE</th>\n",
       "      <th>PERIOD</th>\n",
       "      <th>...</th>\n",
       "      <th>slope</th>\n",
       "      <th>dis_from_border</th>\n",
       "      <th>topo</th>\n",
       "      <th>hugonnet_dhdt</th>\n",
       "      <th>consensus_ice_thickness</th>\n",
       "      <th>millan_ice_thickness</th>\n",
       "      <th>millan_v</th>\n",
       "      <th>millan_vx</th>\n",
       "      <th>millan_vy</th>\n",
       "      <th>snowslide_1m</th>\n",
       "    </tr>\n",
       "  </thead>\n",
       "  <tbody>\n",
       "    <tr>\n",
       "      <th>0</th>\n",
       "      <td>2006</td>\n",
       "      <td>adler_28</td>\n",
       "      <td>adler</td>\n",
       "      <td>20051017</td>\n",
       "      <td>20061011</td>\n",
       "      <td>46.010637</td>\n",
       "      <td>7.855896</td>\n",
       "      <td>3096.507742</td>\n",
       "      <td>-2.592</td>\n",
       "      <td>annual</td>\n",
       "      <td>...</td>\n",
       "      <td>0.340053</td>\n",
       "      <td>120.0</td>\n",
       "      <td>3039.0</td>\n",
       "      <td>-1.504815</td>\n",
       "      <td>43.181839</td>\n",
       "      <td>37.110600</td>\n",
       "      <td>3.591626</td>\n",
       "      <td>3.445628</td>\n",
       "      <td>1.013618</td>\n",
       "      <td>1.0</td>\n",
       "    </tr>\n",
       "    <tr>\n",
       "      <th>1</th>\n",
       "      <td>2006</td>\n",
       "      <td>adler_55</td>\n",
       "      <td>adler</td>\n",
       "      <td>20051017</td>\n",
       "      <td>20061011</td>\n",
       "      <td>46.010052</td>\n",
       "      <td>7.858628</td>\n",
       "      <td>3141.506520</td>\n",
       "      <td>-2.502</td>\n",
       "      <td>annual</td>\n",
       "      <td>...</td>\n",
       "      <td>0.219036</td>\n",
       "      <td>30.0</td>\n",
       "      <td>3091.0</td>\n",
       "      <td>-0.970061</td>\n",
       "      <td>41.090096</td>\n",
       "      <td>8.961324</td>\n",
       "      <td>0.975349</td>\n",
       "      <td>-0.948907</td>\n",
       "      <td>-0.058481</td>\n",
       "      <td>1.0</td>\n",
       "    </tr>\n",
       "  </tbody>\n",
       "</table>\n",
       "<p>2 rows × 22 columns</p>\n",
       "</div>"
      ],
      "text/plain": [
       "   YEAR  POINT_ID GLACIER  FROM_DATE   TO_DATE  POINT_LAT  POINT_LON  \\\n",
       "0  2006  adler_28   adler   20051017  20061011  46.010637   7.855896   \n",
       "1  2006  adler_55   adler   20051017  20061011  46.010052   7.858628   \n",
       "\n",
       "   POINT_ELEVATION  POINT_BALANCE  PERIOD  ...     slope  dis_from_border  \\\n",
       "0      3096.507742         -2.592  annual  ...  0.340053            120.0   \n",
       "1      3141.506520         -2.502  annual  ...  0.219036             30.0   \n",
       "\n",
       "     topo  hugonnet_dhdt  consensus_ice_thickness  millan_ice_thickness  \\\n",
       "0  3039.0      -1.504815                43.181839             37.110600   \n",
       "1  3091.0      -0.970061                41.090096              8.961324   \n",
       "\n",
       "   millan_v  millan_vx  millan_vy  snowslide_1m  \n",
       "0  3.591626   3.445628   1.013618           1.0  \n",
       "1  0.975349  -0.948907  -0.058481           1.0  \n",
       "\n",
       "[2 rows x 22 columns]"
      ]
     },
     "execution_count": 7,
     "metadata": {},
     "output_type": "execute_result"
    }
   ],
   "source": [
    "data_glamos = pd.read_csv(path_PMB_GLAMOS_csv + 'CH_wgms_dataset_all.csv')\n",
    "rgis = data_glamos.RGIId.unique()\n",
    "all_gl = list(data_glamos.GLACIER.unique())\n",
    "data_glamos.head(2)"
   ]
  },
  {
   "cell_type": "code",
   "execution_count": 8,
   "metadata": {},
   "outputs": [
    {
     "name": "stderr",
     "output_type": "stream",
     "text": [
      "2024-10-24 09:39:30: oggm.cfg: Reading default parameters from the OGGM `params.cfg` configuration file.\n",
      "2024-10-24 09:39:30: oggm.cfg: Multiprocessing switched OFF according to the parameter file.\n",
      "2024-10-24 09:39:30: oggm.cfg: Multiprocessing: using all available processors (N=32)\n",
      "2024-10-24 09:39:30: oggm.cfg: PARAMS['border'] changed from `80` to `10`.\n",
      "2024-10-24 09:39:30: oggm.cfg: Multiprocessing switched ON after user settings.\n",
      "2024-10-24 09:39:30: oggm.cfg: PARAMS['continue_on_error'] changed from `False` to `True`.\n",
      "2024-10-24 09:39:31: oggm.workflow: init_glacier_directories from prepro level 3 on 3927 glaciers.\n",
      "2024-10-24 09:39:31: oggm.workflow: Execute entity tasks [gdir_from_prepro] on 3927 glaciers\n"
     ]
    },
    {
     "name": "stdout",
     "output_type": "stream",
     "text": [
      "Number of rgis:  42\n"
     ]
    }
   ],
   "source": [
    "# Check which rgis are in the OGGM directory:\n",
    "cfg.initialize(logging_level=\"WARNING\")\n",
    "cfg.PARAMS[\"border\"] = 10\n",
    "cfg.PARAMS[\"use_multiprocessing\"] = True\n",
    "cfg.PARAMS[\"continue_on_error\"] = True\n",
    "cfg.PATHS[\"working_dir\"] = custom_working_dir\n",
    "\n",
    "path = utils.get_rgi_region_file(region=\"11\", version=\"6\")\n",
    "rgidf = gpd.read_file(path)\n",
    "\n",
    "# We use the directories with the shop data in it: \"W5E5_w_data\"\n",
    "base_url = \"https://cluster.klima.uni-bremen.de/~oggm/gdirs/oggm_v1.6/L3-L5_files/2023.1/elev_bands/W5E5_w_data/\"\n",
    "gdirs = workflow.init_glacier_directories(\n",
    "    rgidf,\n",
    "    from_prepro_level=3,\n",
    "    prepro_base_url=base_url,\n",
    "    prepro_border=10,\n",
    "    reset=True,\n",
    "    force=True,\n",
    ")\n",
    "oggm_rgis = [gdir.rgi_id for gdir in gdirs]\n",
    "rgis_in_oggm = []\n",
    "for rig in rgis:\n",
    "    if rig in oggm_rgis:\n",
    "        rgis_in_oggm.append(rig)\n",
    "print('Number of rgis: ', len(rgis_in_oggm))\n",
    "rgis = rgis_in_oggm"
   ]
  },
  {
   "cell_type": "markdown",
   "metadata": {},
   "source": [
    "## Compute grids for all glaciers:"
   ]
  },
  {
   "cell_type": "code",
   "execution_count": 9,
   "metadata": {},
   "outputs": [
    {
     "data": {
      "text/plain": [
       "['adler',\n",
       " 'albigna',\n",
       " 'aletsch',\n",
       " 'allalin',\n",
       " 'arolla',\n",
       " 'basodino',\n",
       " 'claridenL',\n",
       " 'claridenU',\n",
       " 'corbassiere',\n",
       " 'corvatsch',\n",
       " 'findelen',\n",
       " 'forno',\n",
       " 'gietro',\n",
       " 'gorner',\n",
       " 'gries',\n",
       " 'hohlaub',\n",
       " 'joeri',\n",
       " 'limmern',\n",
       " 'morteratsch',\n",
       " 'murtel',\n",
       " 'oberaar',\n",
       " 'otemma',\n",
       " 'pers',\n",
       " 'pizol',\n",
       " 'plainemorte',\n",
       " 'plattalva',\n",
       " 'rhone',\n",
       " 'sanktanna',\n",
       " 'schwarzbach',\n",
       " 'schwarzberg',\n",
       " 'sexrouge',\n",
       " 'silvretta',\n",
       " 'taelliboden',\n",
       " 'tortin',\n",
       " 'tsanfleuron']"
      ]
     },
     "execution_count": 9,
     "metadata": {},
     "output_type": "execute_result"
    }
   ],
   "source": [
    "glDirect = [\n",
    "    re.search(r'xr_direct_(.*?)\\.nc', f).group(1)\n",
    "    for f in os.listdir(path_direct_save)\n",
    "]\n",
    "glDirect.sort()\n",
    "glDirect"
   ]
  },
  {
   "cell_type": "code",
   "execution_count": 10,
   "metadata": {},
   "outputs": [
    {
     "data": {
      "application/vnd.jupyter.widget-view+json": {
       "model_id": "9a5d8380255845d38b0ca593781a109f",
       "version_major": 2,
       "version_minor": 0
      },
      "text/plain": [
       "Processing glaciers:   0%|          | 0/9 [00:00<?, ?it/s]"
      ]
     },
     "metadata": {},
     "output_type": "display_data"
    },
    {
     "name": "stderr",
     "output_type": "stream",
     "text": [
      "2024-10-24 09:39:48: oggm.cfg: Reading default parameters from the OGGM `params.cfg` configuration file.\n",
      "2024-10-24 09:39:48: oggm.cfg: Multiprocessing switched OFF according to the parameter file.\n",
      "2024-10-24 09:39:48: oggm.cfg: Multiprocessing: using all available processors (N=32)\n",
      "2024-10-24 09:39:48: oggm.cfg: PARAMS['border'] changed from `80` to `10`.\n",
      "2024-10-24 09:39:48: oggm.cfg: Multiprocessing switched ON after user settings.\n",
      "2024-10-24 09:39:48: oggm.cfg: PARAMS['continue_on_error'] changed from `False` to `True`.\n",
      "2024-10-24 09:39:48: oggm.workflow: init_glacier_directories from prepro level 3 on 1 glaciers.\n",
      "2024-10-24 09:39:48: oggm.workflow: Execute entity tasks [gdir_from_prepro] on 1 glaciers\n"
     ]
    },
    {
     "name": "stdout",
     "output_type": "stream",
     "text": [
      "\n",
      "-----------------------------------\n",
      "tortin\n"
     ]
    },
    {
     "name": "stderr",
     "output_type": "stream",
     "text": [
      "2024-10-24 09:39:49: oggm.workflow: Execute entity tasks [gridded_attributes] on 1 glaciers\n"
     ]
    },
    {
     "name": "stdout",
     "output_type": "stream",
     "text": [
      "Adding potential clear sky radiation\n",
      "Converting to monthly time resolution\n"
     ]
    },
    {
     "ename": "KeyError",
     "evalue": "\"['snowslide_1m'] not in index\"",
     "output_type": "error",
     "traceback": [
      "\u001b[0;31m---------------------------------------------------------------------------\u001b[0m",
      "\u001b[0;31mKeyError\u001b[0m                                  Traceback (most recent call last)",
      "Cell \u001b[0;32mIn[10], line 72\u001b[0m\n\u001b[1;32m     70\u001b[0m \u001b[38;5;66;03m# For each record, convert to a monthly time resolution\u001b[39;00m\n\u001b[1;32m     71\u001b[0m \u001b[38;5;28mprint\u001b[39m(\u001b[38;5;124m'\u001b[39m\u001b[38;5;124mConverting to monthly time resolution\u001b[39m\u001b[38;5;124m'\u001b[39m)\n\u001b[0;32m---> 72\u001b[0m \u001b[43mdataset_grid\u001b[49m\u001b[38;5;241;43m.\u001b[39;49m\u001b[43mconvert_to_monthly\u001b[49m\u001b[43m(\u001b[49m\u001b[43mmeta_data_columns\u001b[49m\u001b[38;5;241;43m=\u001b[39;49m\u001b[43mconfig\u001b[49m\u001b[38;5;241;43m.\u001b[39;49m\u001b[43mMETA_DATA\u001b[49m\u001b[43m,\u001b[49m\n\u001b[1;32m     73\u001b[0m \u001b[43m                                \u001b[49m\u001b[43mvois_climate\u001b[49m\u001b[38;5;241;43m=\u001b[39;49m\u001b[43mvois_climate\u001b[49m\u001b[43m \u001b[49m\u001b[38;5;241;43m+\u001b[39;49m\u001b[43m \u001b[49m\u001b[43m[\u001b[49m\u001b[38;5;124;43m'\u001b[39;49m\u001b[38;5;124;43mpcsr\u001b[39;49m\u001b[38;5;124;43m'\u001b[39;49m\u001b[43m]\u001b[49m\u001b[43m,\u001b[49m\n\u001b[1;32m     74\u001b[0m \u001b[43m                                \u001b[49m\u001b[43mvois_topographical\u001b[49m\u001b[38;5;241;43m=\u001b[39;49m\u001b[43mvoi_topographical\u001b[49m\u001b[43m)\u001b[49m\n\u001b[1;32m     75\u001b[0m \u001b[38;5;28;01massert\u001b[39;00m (\u001b[38;5;124m'\u001b[39m\u001b[38;5;124mpcsr\u001b[39m\u001b[38;5;124m'\u001b[39m \u001b[38;5;129;01min\u001b[39;00m dataset_grid\u001b[38;5;241m.\u001b[39mdata\u001b[38;5;241m.\u001b[39mcolumns)\n\u001b[1;32m     77\u001b[0m \u001b[38;5;66;03m# Save gridded dataset:\u001b[39;00m\n",
      "File \u001b[0;32m/scratch-3/vmarijn/MassBalanceMachine/massbalancemachine/data_processing/Dataset.py:119\u001b[0m, in \u001b[0;36mDataset.convert_to_monthly\u001b[0;34m(self, vois_climate, vois_topographical, meta_data_columns)\u001b[0m\n\u001b[1;32m    117\u001b[0m     meta_data_columns \u001b[38;5;241m=\u001b[39m config\u001b[38;5;241m.\u001b[39mMETA_DATA\n\u001b[1;32m    118\u001b[0m output_fname \u001b[38;5;241m=\u001b[39m \u001b[38;5;28mself\u001b[39m\u001b[38;5;241m.\u001b[39m_get_output_filename(\u001b[38;5;124m\"\u001b[39m\u001b[38;5;124mmonthly_dataset\u001b[39m\u001b[38;5;124m\"\u001b[39m)\n\u001b[0;32m--> 119\u001b[0m \u001b[38;5;28mself\u001b[39m\u001b[38;5;241m.\u001b[39mdata \u001b[38;5;241m=\u001b[39m \u001b[43mtransform_to_monthly\u001b[49m\u001b[43m(\u001b[49m\u001b[38;5;28;43mself\u001b[39;49m\u001b[38;5;241;43m.\u001b[39;49m\u001b[43mdata\u001b[49m\u001b[43m,\u001b[49m\u001b[43m \u001b[49m\u001b[43mmeta_data_columns\u001b[49m\u001b[43m,\u001b[49m\n\u001b[1;32m    120\u001b[0m \u001b[43m                                 \u001b[49m\u001b[43mvois_climate\u001b[49m\u001b[43m,\u001b[49m\u001b[43m \u001b[49m\u001b[43mvois_topographical\u001b[49m\u001b[43m,\u001b[49m\n\u001b[1;32m    121\u001b[0m \u001b[43m                                 \u001b[49m\u001b[43moutput_fname\u001b[49m\u001b[43m)\u001b[49m\n",
      "File \u001b[0;32m/scratch-3/vmarijn/MassBalanceMachine/massbalancemachine/data_processing/transform_to_monthly.py:54\u001b[0m, in \u001b[0;36mtransform_to_monthly\u001b[0;34m(df, meta_data_columns, vois_climate, vois_topographical, output_fname)\u001b[0m\n\u001b[1;32m     51\u001b[0m column_names \u001b[38;5;241m=\u001b[39m _get_column_names(meta_data_columns, vois_topographical)\n\u001b[1;32m     53\u001b[0m \u001b[38;5;66;03m# Create the final dataframe with the new exploded climate data\u001b[39;00m\n\u001b[0;32m---> 54\u001b[0m result_df \u001b[38;5;241m=\u001b[39m \u001b[43m_create_result_dataframe\u001b[49m\u001b[43m(\u001b[49m\u001b[43mdf_exploded\u001b[49m\u001b[43m,\u001b[49m\u001b[43m \u001b[49m\u001b[43mcolumn_names\u001b[49m\u001b[43m,\u001b[49m\u001b[43m \u001b[49m\u001b[43mvois_climate\u001b[49m\u001b[43m)\u001b[49m\n\u001b[1;32m     56\u001b[0m result_df\u001b[38;5;241m.\u001b[39mto_csv(output_fname, index\u001b[38;5;241m=\u001b[39m\u001b[38;5;28;01mFalse\u001b[39;00m)\n\u001b[1;32m     58\u001b[0m \u001b[38;5;28;01mreturn\u001b[39;00m result_df\n",
      "File \u001b[0;32m/scratch-3/vmarijn/MassBalanceMachine/massbalancemachine/data_processing/transform_to_monthly.py:137\u001b[0m, in \u001b[0;36m_create_result_dataframe\u001b[0;34m(df_exploded, column_names, vois_climate)\u001b[0m\n\u001b[1;32m    133\u001b[0m \u001b[38;5;28;01mdef\u001b[39;00m \u001b[38;5;21m_create_result_dataframe\u001b[39m(\n\u001b[1;32m    134\u001b[0m     df_exploded: pd\u001b[38;5;241m.\u001b[39mDataFrame, column_names: \u001b[38;5;124m\"\u001b[39m\u001b[38;5;124mlist[str]\u001b[39m\u001b[38;5;124m\"\u001b[39m, vois_climate: \u001b[38;5;124m\"\u001b[39m\u001b[38;5;124mlist[str]\u001b[39m\u001b[38;5;124m\"\u001b[39m\n\u001b[1;32m    135\u001b[0m ) \u001b[38;5;241m-\u001b[39m\u001b[38;5;241m>\u001b[39m pd\u001b[38;5;241m.\u001b[39mDataFrame:\n\u001b[1;32m    136\u001b[0m \u001b[38;5;250m    \u001b[39m\u001b[38;5;124;03m\"\"\"Create the final result DataFrame.\"\"\"\u001b[39;00m\n\u001b[0;32m--> 137\u001b[0m     climate_records \u001b[38;5;241m=\u001b[39m \u001b[43mdf_exploded\u001b[49m\u001b[38;5;241;43m.\u001b[39;49m\u001b[43mapply\u001b[49m\u001b[43m(\u001b[49m\n\u001b[1;32m    138\u001b[0m \u001b[43m        \u001b[49m\u001b[38;5;28;43;01mlambda\u001b[39;49;00m\u001b[43m \u001b[49m\u001b[43mrow\u001b[49m\u001b[43m:\u001b[49m\u001b[43m \u001b[49m\u001b[43m_get_climate_values\u001b[49m\u001b[43m(\u001b[49m\u001b[43mrow\u001b[49m\u001b[43m,\u001b[49m\u001b[43m \u001b[49m\u001b[43mvois_climate\u001b[49m\u001b[43m,\u001b[49m\u001b[43m \u001b[49m\u001b[43mcolumn_names\u001b[49m\u001b[43m)\u001b[49m\u001b[43m,\u001b[49m\u001b[43m \u001b[49m\u001b[43maxis\u001b[49m\u001b[38;5;241;43m=\u001b[39;49m\u001b[38;5;241;43m1\u001b[39;49m\n\u001b[1;32m    139\u001b[0m \u001b[43m    \u001b[49m\u001b[43m)\u001b[49m\u001b[38;5;241m.\u001b[39mtolist()\n\u001b[1;32m    140\u001b[0m     final_column_names \u001b[38;5;241m=\u001b[39m column_names \u001b[38;5;241m+\u001b[39m vois_climate\n\u001b[1;32m    141\u001b[0m     \u001b[38;5;28;01mreturn\u001b[39;00m pd\u001b[38;5;241m.\u001b[39mDataFrame(climate_records, columns\u001b[38;5;241m=\u001b[39mfinal_column_names)\n",
      "File \u001b[0;32m~/mambaforge/envs/MassBalanceMachine/lib/python3.10/site-packages/pandas/core/frame.py:10374\u001b[0m, in \u001b[0;36mDataFrame.apply\u001b[0;34m(self, func, axis, raw, result_type, args, by_row, engine, engine_kwargs, **kwargs)\u001b[0m\n\u001b[1;32m  10360\u001b[0m \u001b[38;5;28;01mfrom\u001b[39;00m \u001b[38;5;21;01mpandas\u001b[39;00m\u001b[38;5;21;01m.\u001b[39;00m\u001b[38;5;21;01mcore\u001b[39;00m\u001b[38;5;21;01m.\u001b[39;00m\u001b[38;5;21;01mapply\u001b[39;00m \u001b[38;5;28;01mimport\u001b[39;00m frame_apply\n\u001b[1;32m  10362\u001b[0m op \u001b[38;5;241m=\u001b[39m frame_apply(\n\u001b[1;32m  10363\u001b[0m     \u001b[38;5;28mself\u001b[39m,\n\u001b[1;32m  10364\u001b[0m     func\u001b[38;5;241m=\u001b[39mfunc,\n\u001b[0;32m   (...)\u001b[0m\n\u001b[1;32m  10372\u001b[0m     kwargs\u001b[38;5;241m=\u001b[39mkwargs,\n\u001b[1;32m  10373\u001b[0m )\n\u001b[0;32m> 10374\u001b[0m \u001b[38;5;28;01mreturn\u001b[39;00m \u001b[43mop\u001b[49m\u001b[38;5;241;43m.\u001b[39;49m\u001b[43mapply\u001b[49m\u001b[43m(\u001b[49m\u001b[43m)\u001b[49m\u001b[38;5;241m.\u001b[39m__finalize__(\u001b[38;5;28mself\u001b[39m, method\u001b[38;5;241m=\u001b[39m\u001b[38;5;124m\"\u001b[39m\u001b[38;5;124mapply\u001b[39m\u001b[38;5;124m\"\u001b[39m)\n",
      "File \u001b[0;32m~/mambaforge/envs/MassBalanceMachine/lib/python3.10/site-packages/pandas/core/apply.py:916\u001b[0m, in \u001b[0;36mFrameApply.apply\u001b[0;34m(self)\u001b[0m\n\u001b[1;32m    913\u001b[0m \u001b[38;5;28;01melif\u001b[39;00m \u001b[38;5;28mself\u001b[39m\u001b[38;5;241m.\u001b[39mraw:\n\u001b[1;32m    914\u001b[0m     \u001b[38;5;28;01mreturn\u001b[39;00m \u001b[38;5;28mself\u001b[39m\u001b[38;5;241m.\u001b[39mapply_raw(engine\u001b[38;5;241m=\u001b[39m\u001b[38;5;28mself\u001b[39m\u001b[38;5;241m.\u001b[39mengine, engine_kwargs\u001b[38;5;241m=\u001b[39m\u001b[38;5;28mself\u001b[39m\u001b[38;5;241m.\u001b[39mengine_kwargs)\n\u001b[0;32m--> 916\u001b[0m \u001b[38;5;28;01mreturn\u001b[39;00m \u001b[38;5;28;43mself\u001b[39;49m\u001b[38;5;241;43m.\u001b[39;49m\u001b[43mapply_standard\u001b[49m\u001b[43m(\u001b[49m\u001b[43m)\u001b[49m\n",
      "File \u001b[0;32m~/mambaforge/envs/MassBalanceMachine/lib/python3.10/site-packages/pandas/core/apply.py:1063\u001b[0m, in \u001b[0;36mFrameApply.apply_standard\u001b[0;34m(self)\u001b[0m\n\u001b[1;32m   1061\u001b[0m \u001b[38;5;28;01mdef\u001b[39;00m \u001b[38;5;21mapply_standard\u001b[39m(\u001b[38;5;28mself\u001b[39m):\n\u001b[1;32m   1062\u001b[0m     \u001b[38;5;28;01mif\u001b[39;00m \u001b[38;5;28mself\u001b[39m\u001b[38;5;241m.\u001b[39mengine \u001b[38;5;241m==\u001b[39m \u001b[38;5;124m\"\u001b[39m\u001b[38;5;124mpython\u001b[39m\u001b[38;5;124m\"\u001b[39m:\n\u001b[0;32m-> 1063\u001b[0m         results, res_index \u001b[38;5;241m=\u001b[39m \u001b[38;5;28;43mself\u001b[39;49m\u001b[38;5;241;43m.\u001b[39;49m\u001b[43mapply_series_generator\u001b[49m\u001b[43m(\u001b[49m\u001b[43m)\u001b[49m\n\u001b[1;32m   1064\u001b[0m     \u001b[38;5;28;01melse\u001b[39;00m:\n\u001b[1;32m   1065\u001b[0m         results, res_index \u001b[38;5;241m=\u001b[39m \u001b[38;5;28mself\u001b[39m\u001b[38;5;241m.\u001b[39mapply_series_numba()\n",
      "File \u001b[0;32m~/mambaforge/envs/MassBalanceMachine/lib/python3.10/site-packages/pandas/core/apply.py:1081\u001b[0m, in \u001b[0;36mFrameApply.apply_series_generator\u001b[0;34m(self)\u001b[0m\n\u001b[1;32m   1078\u001b[0m \u001b[38;5;28;01mwith\u001b[39;00m option_context(\u001b[38;5;124m\"\u001b[39m\u001b[38;5;124mmode.chained_assignment\u001b[39m\u001b[38;5;124m\"\u001b[39m, \u001b[38;5;28;01mNone\u001b[39;00m):\n\u001b[1;32m   1079\u001b[0m     \u001b[38;5;28;01mfor\u001b[39;00m i, v \u001b[38;5;129;01min\u001b[39;00m \u001b[38;5;28menumerate\u001b[39m(series_gen):\n\u001b[1;32m   1080\u001b[0m         \u001b[38;5;66;03m# ignore SettingWithCopy here in case the user mutates\u001b[39;00m\n\u001b[0;32m-> 1081\u001b[0m         results[i] \u001b[38;5;241m=\u001b[39m \u001b[38;5;28;43mself\u001b[39;49m\u001b[38;5;241;43m.\u001b[39;49m\u001b[43mfunc\u001b[49m\u001b[43m(\u001b[49m\u001b[43mv\u001b[49m\u001b[43m,\u001b[49m\u001b[43m \u001b[49m\u001b[38;5;241;43m*\u001b[39;49m\u001b[38;5;28;43mself\u001b[39;49m\u001b[38;5;241;43m.\u001b[39;49m\u001b[43margs\u001b[49m\u001b[43m,\u001b[49m\u001b[43m \u001b[49m\u001b[38;5;241;43m*\u001b[39;49m\u001b[38;5;241;43m*\u001b[39;49m\u001b[38;5;28;43mself\u001b[39;49m\u001b[38;5;241;43m.\u001b[39;49m\u001b[43mkwargs\u001b[49m\u001b[43m)\u001b[49m\n\u001b[1;32m   1082\u001b[0m         \u001b[38;5;28;01mif\u001b[39;00m \u001b[38;5;28misinstance\u001b[39m(results[i], ABCSeries):\n\u001b[1;32m   1083\u001b[0m             \u001b[38;5;66;03m# If we have a view on v, we need to make a copy because\u001b[39;00m\n\u001b[1;32m   1084\u001b[0m             \u001b[38;5;66;03m#  series_generator will swap out the underlying data\u001b[39;00m\n\u001b[1;32m   1085\u001b[0m             results[i] \u001b[38;5;241m=\u001b[39m results[i]\u001b[38;5;241m.\u001b[39mcopy(deep\u001b[38;5;241m=\u001b[39m\u001b[38;5;28;01mFalse\u001b[39;00m)\n",
      "File \u001b[0;32m/scratch-3/vmarijn/MassBalanceMachine/massbalancemachine/data_processing/transform_to_monthly.py:138\u001b[0m, in \u001b[0;36m_create_result_dataframe.<locals>.<lambda>\u001b[0;34m(row)\u001b[0m\n\u001b[1;32m    133\u001b[0m \u001b[38;5;28;01mdef\u001b[39;00m \u001b[38;5;21m_create_result_dataframe\u001b[39m(\n\u001b[1;32m    134\u001b[0m     df_exploded: pd\u001b[38;5;241m.\u001b[39mDataFrame, column_names: \u001b[38;5;124m\"\u001b[39m\u001b[38;5;124mlist[str]\u001b[39m\u001b[38;5;124m\"\u001b[39m, vois_climate: \u001b[38;5;124m\"\u001b[39m\u001b[38;5;124mlist[str]\u001b[39m\u001b[38;5;124m\"\u001b[39m\n\u001b[1;32m    135\u001b[0m ) \u001b[38;5;241m-\u001b[39m\u001b[38;5;241m>\u001b[39m pd\u001b[38;5;241m.\u001b[39mDataFrame:\n\u001b[1;32m    136\u001b[0m \u001b[38;5;250m    \u001b[39m\u001b[38;5;124;03m\"\"\"Create the final result DataFrame.\"\"\"\u001b[39;00m\n\u001b[1;32m    137\u001b[0m     climate_records \u001b[38;5;241m=\u001b[39m df_exploded\u001b[38;5;241m.\u001b[39mapply(\n\u001b[0;32m--> 138\u001b[0m         \u001b[38;5;28;01mlambda\u001b[39;00m row: \u001b[43m_get_climate_values\u001b[49m\u001b[43m(\u001b[49m\u001b[43mrow\u001b[49m\u001b[43m,\u001b[49m\u001b[43m \u001b[49m\u001b[43mvois_climate\u001b[49m\u001b[43m,\u001b[49m\u001b[43m \u001b[49m\u001b[43mcolumn_names\u001b[49m\u001b[43m)\u001b[49m, axis\u001b[38;5;241m=\u001b[39m\u001b[38;5;241m1\u001b[39m\n\u001b[1;32m    139\u001b[0m     )\u001b[38;5;241m.\u001b[39mtolist()\n\u001b[1;32m    140\u001b[0m     final_column_names \u001b[38;5;241m=\u001b[39m column_names \u001b[38;5;241m+\u001b[39m vois_climate\n\u001b[1;32m    141\u001b[0m     \u001b[38;5;28;01mreturn\u001b[39;00m pd\u001b[38;5;241m.\u001b[39mDataFrame(climate_records, columns\u001b[38;5;241m=\u001b[39mfinal_column_names)\n",
      "File \u001b[0;32m/scratch-3/vmarijn/MassBalanceMachine/massbalancemachine/data_processing/transform_to_monthly.py:130\u001b[0m, in \u001b[0;36m_get_climate_values\u001b[0;34m(row, vois_climate, column_names)\u001b[0m\n\u001b[1;32m    128\u001b[0m cols \u001b[38;5;241m=\u001b[39m [\u001b[38;5;124mf\u001b[39m\u001b[38;5;124m'\u001b[39m\u001b[38;5;132;01m{\u001b[39;00mvoi\u001b[38;5;132;01m}\u001b[39;00m\u001b[38;5;124m_\u001b[39m\u001b[38;5;132;01m{\u001b[39;00mrow[\u001b[38;5;124m\"\u001b[39m\u001b[38;5;124mMONTHS\u001b[39m\u001b[38;5;124m\"\u001b[39m]\u001b[38;5;132;01m}\u001b[39;00m\u001b[38;5;124m'\u001b[39m \u001b[38;5;28;01mfor\u001b[39;00m voi \u001b[38;5;129;01min\u001b[39;00m vois_climate]\n\u001b[1;32m    129\u001b[0m all_cols \u001b[38;5;241m=\u001b[39m column_names \u001b[38;5;241m+\u001b[39m cols\n\u001b[0;32m--> 130\u001b[0m \u001b[38;5;28;01mreturn\u001b[39;00m \u001b[43mrow\u001b[49m\u001b[43m[\u001b[49m\u001b[43mall_cols\u001b[49m\u001b[43m]\u001b[49m\u001b[38;5;241m.\u001b[39mvalues\n",
      "File \u001b[0;32m~/mambaforge/envs/MassBalanceMachine/lib/python3.10/site-packages/pandas/core/series.py:1153\u001b[0m, in \u001b[0;36mSeries.__getitem__\u001b[0;34m(self, key)\u001b[0m\n\u001b[1;32m   1150\u001b[0m     key \u001b[38;5;241m=\u001b[39m np\u001b[38;5;241m.\u001b[39masarray(key, dtype\u001b[38;5;241m=\u001b[39m\u001b[38;5;28mbool\u001b[39m)\n\u001b[1;32m   1151\u001b[0m     \u001b[38;5;28;01mreturn\u001b[39;00m \u001b[38;5;28mself\u001b[39m\u001b[38;5;241m.\u001b[39m_get_rows_with_mask(key)\n\u001b[0;32m-> 1153\u001b[0m \u001b[38;5;28;01mreturn\u001b[39;00m \u001b[38;5;28;43mself\u001b[39;49m\u001b[38;5;241;43m.\u001b[39;49m\u001b[43m_get_with\u001b[49m\u001b[43m(\u001b[49m\u001b[43mkey\u001b[49m\u001b[43m)\u001b[49m\n",
      "File \u001b[0;32m~/mambaforge/envs/MassBalanceMachine/lib/python3.10/site-packages/pandas/core/series.py:1194\u001b[0m, in \u001b[0;36mSeries._get_with\u001b[0;34m(self, key)\u001b[0m\n\u001b[1;32m   1191\u001b[0m         \u001b[38;5;28;01mreturn\u001b[39;00m \u001b[38;5;28mself\u001b[39m\u001b[38;5;241m.\u001b[39miloc[key]\n\u001b[1;32m   1193\u001b[0m \u001b[38;5;66;03m# handle the dup indexing case GH#4246\u001b[39;00m\n\u001b[0;32m-> 1194\u001b[0m \u001b[38;5;28;01mreturn\u001b[39;00m \u001b[38;5;28;43mself\u001b[39;49m\u001b[38;5;241;43m.\u001b[39;49m\u001b[43mloc\u001b[49m\u001b[43m[\u001b[49m\u001b[43mkey\u001b[49m\u001b[43m]\u001b[49m\n",
      "File \u001b[0;32m~/mambaforge/envs/MassBalanceMachine/lib/python3.10/site-packages/pandas/core/indexing.py:1191\u001b[0m, in \u001b[0;36m_LocationIndexer.__getitem__\u001b[0;34m(self, key)\u001b[0m\n\u001b[1;32m   1189\u001b[0m maybe_callable \u001b[38;5;241m=\u001b[39m com\u001b[38;5;241m.\u001b[39mapply_if_callable(key, \u001b[38;5;28mself\u001b[39m\u001b[38;5;241m.\u001b[39mobj)\n\u001b[1;32m   1190\u001b[0m maybe_callable \u001b[38;5;241m=\u001b[39m \u001b[38;5;28mself\u001b[39m\u001b[38;5;241m.\u001b[39m_check_deprecated_callable_usage(key, maybe_callable)\n\u001b[0;32m-> 1191\u001b[0m \u001b[38;5;28;01mreturn\u001b[39;00m \u001b[38;5;28;43mself\u001b[39;49m\u001b[38;5;241;43m.\u001b[39;49m\u001b[43m_getitem_axis\u001b[49m\u001b[43m(\u001b[49m\u001b[43mmaybe_callable\u001b[49m\u001b[43m,\u001b[49m\u001b[43m \u001b[49m\u001b[43maxis\u001b[49m\u001b[38;5;241;43m=\u001b[39;49m\u001b[43maxis\u001b[49m\u001b[43m)\u001b[49m\n",
      "File \u001b[0;32m~/mambaforge/envs/MassBalanceMachine/lib/python3.10/site-packages/pandas/core/indexing.py:1420\u001b[0m, in \u001b[0;36m_LocIndexer._getitem_axis\u001b[0;34m(self, key, axis)\u001b[0m\n\u001b[1;32m   1417\u001b[0m     \u001b[38;5;28;01mif\u001b[39;00m \u001b[38;5;28mhasattr\u001b[39m(key, \u001b[38;5;124m\"\u001b[39m\u001b[38;5;124mndim\u001b[39m\u001b[38;5;124m\"\u001b[39m) \u001b[38;5;129;01mand\u001b[39;00m key\u001b[38;5;241m.\u001b[39mndim \u001b[38;5;241m>\u001b[39m \u001b[38;5;241m1\u001b[39m:\n\u001b[1;32m   1418\u001b[0m         \u001b[38;5;28;01mraise\u001b[39;00m \u001b[38;5;167;01mValueError\u001b[39;00m(\u001b[38;5;124m\"\u001b[39m\u001b[38;5;124mCannot index with multidimensional key\u001b[39m\u001b[38;5;124m\"\u001b[39m)\n\u001b[0;32m-> 1420\u001b[0m     \u001b[38;5;28;01mreturn\u001b[39;00m \u001b[38;5;28;43mself\u001b[39;49m\u001b[38;5;241;43m.\u001b[39;49m\u001b[43m_getitem_iterable\u001b[49m\u001b[43m(\u001b[49m\u001b[43mkey\u001b[49m\u001b[43m,\u001b[49m\u001b[43m \u001b[49m\u001b[43maxis\u001b[49m\u001b[38;5;241;43m=\u001b[39;49m\u001b[43maxis\u001b[49m\u001b[43m)\u001b[49m\n\u001b[1;32m   1422\u001b[0m \u001b[38;5;66;03m# nested tuple slicing\u001b[39;00m\n\u001b[1;32m   1423\u001b[0m \u001b[38;5;28;01mif\u001b[39;00m is_nested_tuple(key, labels):\n",
      "File \u001b[0;32m~/mambaforge/envs/MassBalanceMachine/lib/python3.10/site-packages/pandas/core/indexing.py:1360\u001b[0m, in \u001b[0;36m_LocIndexer._getitem_iterable\u001b[0;34m(self, key, axis)\u001b[0m\n\u001b[1;32m   1357\u001b[0m \u001b[38;5;28mself\u001b[39m\u001b[38;5;241m.\u001b[39m_validate_key(key, axis)\n\u001b[1;32m   1359\u001b[0m \u001b[38;5;66;03m# A collection of keys\u001b[39;00m\n\u001b[0;32m-> 1360\u001b[0m keyarr, indexer \u001b[38;5;241m=\u001b[39m \u001b[38;5;28;43mself\u001b[39;49m\u001b[38;5;241;43m.\u001b[39;49m\u001b[43m_get_listlike_indexer\u001b[49m\u001b[43m(\u001b[49m\u001b[43mkey\u001b[49m\u001b[43m,\u001b[49m\u001b[43m \u001b[49m\u001b[43maxis\u001b[49m\u001b[43m)\u001b[49m\n\u001b[1;32m   1361\u001b[0m \u001b[38;5;28;01mreturn\u001b[39;00m \u001b[38;5;28mself\u001b[39m\u001b[38;5;241m.\u001b[39mobj\u001b[38;5;241m.\u001b[39m_reindex_with_indexers(\n\u001b[1;32m   1362\u001b[0m     {axis: [keyarr, indexer]}, copy\u001b[38;5;241m=\u001b[39m\u001b[38;5;28;01mTrue\u001b[39;00m, allow_dups\u001b[38;5;241m=\u001b[39m\u001b[38;5;28;01mTrue\u001b[39;00m\n\u001b[1;32m   1363\u001b[0m )\n",
      "File \u001b[0;32m~/mambaforge/envs/MassBalanceMachine/lib/python3.10/site-packages/pandas/core/indexing.py:1558\u001b[0m, in \u001b[0;36m_LocIndexer._get_listlike_indexer\u001b[0;34m(self, key, axis)\u001b[0m\n\u001b[1;32m   1555\u001b[0m ax \u001b[38;5;241m=\u001b[39m \u001b[38;5;28mself\u001b[39m\u001b[38;5;241m.\u001b[39mobj\u001b[38;5;241m.\u001b[39m_get_axis(axis)\n\u001b[1;32m   1556\u001b[0m axis_name \u001b[38;5;241m=\u001b[39m \u001b[38;5;28mself\u001b[39m\u001b[38;5;241m.\u001b[39mobj\u001b[38;5;241m.\u001b[39m_get_axis_name(axis)\n\u001b[0;32m-> 1558\u001b[0m keyarr, indexer \u001b[38;5;241m=\u001b[39m \u001b[43max\u001b[49m\u001b[38;5;241;43m.\u001b[39;49m\u001b[43m_get_indexer_strict\u001b[49m\u001b[43m(\u001b[49m\u001b[43mkey\u001b[49m\u001b[43m,\u001b[49m\u001b[43m \u001b[49m\u001b[43maxis_name\u001b[49m\u001b[43m)\u001b[49m\n\u001b[1;32m   1560\u001b[0m \u001b[38;5;28;01mreturn\u001b[39;00m keyarr, indexer\n",
      "File \u001b[0;32m~/mambaforge/envs/MassBalanceMachine/lib/python3.10/site-packages/pandas/core/indexes/base.py:6200\u001b[0m, in \u001b[0;36mIndex._get_indexer_strict\u001b[0;34m(self, key, axis_name)\u001b[0m\n\u001b[1;32m   6197\u001b[0m \u001b[38;5;28;01melse\u001b[39;00m:\n\u001b[1;32m   6198\u001b[0m     keyarr, indexer, new_indexer \u001b[38;5;241m=\u001b[39m \u001b[38;5;28mself\u001b[39m\u001b[38;5;241m.\u001b[39m_reindex_non_unique(keyarr)\n\u001b[0;32m-> 6200\u001b[0m \u001b[38;5;28;43mself\u001b[39;49m\u001b[38;5;241;43m.\u001b[39;49m\u001b[43m_raise_if_missing\u001b[49m\u001b[43m(\u001b[49m\u001b[43mkeyarr\u001b[49m\u001b[43m,\u001b[49m\u001b[43m \u001b[49m\u001b[43mindexer\u001b[49m\u001b[43m,\u001b[49m\u001b[43m \u001b[49m\u001b[43maxis_name\u001b[49m\u001b[43m)\u001b[49m\n\u001b[1;32m   6202\u001b[0m keyarr \u001b[38;5;241m=\u001b[39m \u001b[38;5;28mself\u001b[39m\u001b[38;5;241m.\u001b[39mtake(indexer)\n\u001b[1;32m   6203\u001b[0m \u001b[38;5;28;01mif\u001b[39;00m \u001b[38;5;28misinstance\u001b[39m(key, Index):\n\u001b[1;32m   6204\u001b[0m     \u001b[38;5;66;03m# GH 42790 - Preserve name from an Index\u001b[39;00m\n",
      "File \u001b[0;32m~/mambaforge/envs/MassBalanceMachine/lib/python3.10/site-packages/pandas/core/indexes/base.py:6252\u001b[0m, in \u001b[0;36mIndex._raise_if_missing\u001b[0;34m(self, key, indexer, axis_name)\u001b[0m\n\u001b[1;32m   6249\u001b[0m     \u001b[38;5;28;01mraise\u001b[39;00m \u001b[38;5;167;01mKeyError\u001b[39;00m(\u001b[38;5;124mf\u001b[39m\u001b[38;5;124m\"\u001b[39m\u001b[38;5;124mNone of [\u001b[39m\u001b[38;5;132;01m{\u001b[39;00mkey\u001b[38;5;132;01m}\u001b[39;00m\u001b[38;5;124m] are in the [\u001b[39m\u001b[38;5;132;01m{\u001b[39;00maxis_name\u001b[38;5;132;01m}\u001b[39;00m\u001b[38;5;124m]\u001b[39m\u001b[38;5;124m\"\u001b[39m)\n\u001b[1;32m   6251\u001b[0m not_found \u001b[38;5;241m=\u001b[39m \u001b[38;5;28mlist\u001b[39m(ensure_index(key)[missing_mask\u001b[38;5;241m.\u001b[39mnonzero()[\u001b[38;5;241m0\u001b[39m]]\u001b[38;5;241m.\u001b[39munique())\n\u001b[0;32m-> 6252\u001b[0m \u001b[38;5;28;01mraise\u001b[39;00m \u001b[38;5;167;01mKeyError\u001b[39;00m(\u001b[38;5;124mf\u001b[39m\u001b[38;5;124m\"\u001b[39m\u001b[38;5;132;01m{\u001b[39;00mnot_found\u001b[38;5;132;01m}\u001b[39;00m\u001b[38;5;124m not in index\u001b[39m\u001b[38;5;124m\"\u001b[39m)\n",
      "\u001b[0;31mKeyError\u001b[0m: \"['snowslide_1m'] not in index\""
     ]
    }
   ],
   "source": [
    "EMPTY = True\n",
    "# Add climate variables and convert to monthly\n",
    "vois_climate = [\n",
    "    't2m', 'tp', 'slhf', 'sshf', 'ssrd', 'fal', 'str', 'u10', 'v10'\n",
    "]\n",
    "voi_topographical = [\n",
    "    \"aspect\", \"slope\", \"dis_from_border\", \"hugonnet_dhdt\",\n",
    "    \"consensus_ice_thickness\", \"millan_ice_thickness\", \"millan_v\",\n",
    "    \"millan_vx\", \"millan_vy\", \"topo\", \"snowslide_1m\"\n",
    "]\n",
    "if EMPTY:\n",
    "    emptyfolder(path_glacier_grid)\n",
    "    rest_rgis = rgis\n",
    "    rest_gl = glDirect\n",
    "else:\n",
    "    already_processed = [\n",
    "        re.split('_', file)[0] for file in os.listdir(path_glacier_grid)\n",
    "    ]\n",
    "    already_processed_rgis = [\n",
    "        rgi_df[rgi_df.short_name == gl].index.values[0]\n",
    "        for gl in already_processed\n",
    "    ]\n",
    "    rest_rgis = Diff(already_processed_rgis, rgis)\n",
    "    rest_gl = Diff(glDirect, already_processed)\n",
    "    print(rest_gl)\n",
    "\n",
    "# Glaciers used for testing\n",
    "rest_gl = [\n",
    "    'tortin', 'plattalva', 'sanktanna', 'schwarzberg', 'hohlaub', 'pizol',\n",
    "    'joeri', 'corvatsch', 'tsanfleuron'\n",
    "]\n",
    "for glacierName in tqdm(rest_gl, desc='Processing glaciers'):\n",
    "    print('\\n-----------------------------------')\n",
    "    print(glacierName)\n",
    "    rgi_gl = rgi_df[rgi_df.short_name == glacierName].index.values[0]\n",
    "    if glacierName == 'morteratsch' or glacierName == 'pers':\n",
    "        rgi_gl = 'RGI60-11.01946'\n",
    "\n",
    "    # check that rgi_gl is a str\n",
    "    if type(rgi_gl) != str:\n",
    "        raise ValueError('RGIId is not a string')\n",
    "\n",
    "    # Load stake data for that glacier\n",
    "    data_gl = data_glamos[data_glamos.RGIId == rgi_gl]\n",
    "    dataset_gl = mbm.Dataset(data=data_gl,\n",
    "                             region_name='CH',\n",
    "                             data_path=path_PMB_GLAMOS_csv)\n",
    "\n",
    "    # Get gridded glacier data from OGGM\n",
    "    df_grid = dataset_gl.create_glacier_grid(custom_working_dir)\n",
    "\n",
    "    # Add metadata that is not in WGMS dataset\n",
    "    df_grid[\"PERIOD\"] = \"annual\"\n",
    "    df_grid['GLACIER'] = glacierName\n",
    "\n",
    "    dataset_grid = mbm.Dataset(data=df_grid,\n",
    "                               region_name='CH',\n",
    "                               data_path=path_PMB_GLAMOS_csv)\n",
    "    # Add climate data:\n",
    "    era5_climate_data = path_ERA5_raw + 'era5_monthly_averaged_data.nc'\n",
    "    geopotential_data = path_ERA5_raw + 'era5_geopotential_pressure.nc'\n",
    "    dataset_grid.get_climate_features(climate_data=era5_climate_data,\n",
    "                                      geopotential_data=geopotential_data,\n",
    "                                      change_units=True)\n",
    "\n",
    "    # Add potential clear sky radiation:\n",
    "    print('Adding potential clear sky radiation')\n",
    "    dataset_grid.get_potential_rad(path_direct_save)\n",
    "\n",
    "    # For each record, convert to a monthly time resolution\n",
    "    print('Converting to monthly time resolution')\n",
    "    dataset_grid.convert_to_monthly(meta_data_columns=config.META_DATA,\n",
    "                                    vois_climate=vois_climate + ['pcsr'],\n",
    "                                    vois_topographical=voi_topographical)\n",
    "    assert ('pcsr' in dataset_grid.data.columns)\n",
    "\n",
    "    # Save gridded dataset:\n",
    "    print('Saving gridded dataset')\n",
    "    dataset_grid.data.to_csv(path_glacier_grid + f'{glacierName}_grid.csv',\n",
    "                             index=False)"
   ]
  },
  {
   "cell_type": "code",
   "execution_count": null,
   "metadata": {},
   "outputs": [],
   "source": [
    "path_glacier_grid"
   ]
  },
  {
   "cell_type": "code",
   "execution_count": null,
   "metadata": {},
   "outputs": [],
   "source": []
  }
 ],
 "metadata": {
  "kernelspec": {
   "display_name": "Python 3 (ipykernel)",
   "language": "python",
   "name": "python3"
  },
  "language_info": {
   "codemirror_mode": {
    "name": "ipython",
    "version": 3
   },
   "file_extension": ".py",
   "mimetype": "text/x-python",
   "name": "python",
   "nbconvert_exporter": "python",
   "pygments_lexer": "ipython3",
   "version": "3.10.0"
  }
 },
 "nbformat": 4,
 "nbformat_minor": 4
}
