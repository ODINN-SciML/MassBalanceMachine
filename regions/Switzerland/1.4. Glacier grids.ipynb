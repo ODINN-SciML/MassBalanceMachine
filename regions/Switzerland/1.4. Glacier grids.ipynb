{
 "cells": [
  {
   "cell_type": "markdown",
   "metadata": {},
   "source": [
    "## Setting up:"
   ]
  },
  {
   "cell_type": "code",
   "execution_count": null,
   "metadata": {},
   "outputs": [],
   "source": [
    "import pandas as pd\n",
    "import os\n",
    "import warnings\n",
    "from tqdm.notebook import tqdm\n",
    "import re\n",
    "import massbalancemachine as mbm\n",
    "import geopandas as gpd\n",
    "from shapely.geometry import Polygon, LineString, Point\n",
    "from scipy.spatial.distance import cdist\n",
    "from sklearn.model_selection import RandomizedSearchCV\n",
    "from sklearn.metrics import r2_score, mean_squared_error, mean_absolute_error\n",
    "from sklearn.model_selection import GroupKFold, KFold, train_test_split, GroupShuffleSplit\n",
    "\n",
    "import cupy as cp\n",
    "import matplotlib.pyplot as plt\n",
    "import seaborn as sns\n",
    "from cmcrameri import cm\n",
    "from oggm import cfg, utils, workflow, tasks\n",
    "import logging\n",
    "import geopandas as gpd\n",
    "import xarray as xr\n",
    "\n",
    "import config\n",
    "from scripts.helpers import *\n",
    "from scripts.glamos_preprocess import *\n",
    "from scripts.plots import *\n",
    "\n",
    "warnings.filterwarnings('ignore')\n",
    "%load_ext autoreload\n",
    "%autoreload 2"
   ]
  },
  {
   "cell_type": "code",
   "execution_count": null,
   "metadata": {},
   "outputs": [],
   "source": [
    "seed_all(config.SEED)\n",
    "\n",
    "# in case no memory\n",
    "# free_up_cuda()\n",
    "\n",
    "# Plot styles:\n",
    "path_style_sheet = 'scripts/example.mplstyle'\n",
    "plt.style.use(path_style_sheet)\n",
    "\n",
    "custom_working_dir = '../../../data/OGGM/'"
   ]
  },
  {
   "cell_type": "code",
   "execution_count": null,
   "metadata": {},
   "outputs": [],
   "source": [
    "# RGI Ids:\n",
    "# Read rgi ids:\n",
    "path_rgi = '../../../data/GLAMOS/CH_glacier_ids_long.csv'\n",
    "rgi_df = pd.read_csv(path_rgi, sep=',')\n",
    "rgi_df.rename(columns=lambda x: x.strip(), inplace=True)\n",
    "rgi_df.sort_values(by='short_name', inplace=True)\n",
    "rgi_df.set_index('rgi_id.v6', inplace=True)\n",
    "rgi_df.head(2)"
   ]
  },
  {
   "cell_type": "code",
   "execution_count": null,
   "metadata": {},
   "outputs": [],
   "source": [
    "data_glamos = pd.read_csv(path_PMB_GLAMOS_csv + 'CH_wgms_dataset.csv')\n",
    "rgis = data_glamos.RGIId.unique()\n",
    "all_gl = list(data_glamos.GLACIER.unique())\n",
    "data_glamos.head(2)"
   ]
  },
  {
   "cell_type": "code",
   "execution_count": null,
   "metadata": {},
   "outputs": [],
   "source": [
    "# Check which rgis are in the OGGM directory:\n",
    "cfg.initialize(logging_level=\"WARNING\")\n",
    "cfg.PARAMS[\"border\"] = 10\n",
    "cfg.PARAMS[\"use_multiprocessing\"] = True\n",
    "cfg.PARAMS[\"continue_on_error\"] = True\n",
    "cfg.PATHS[\"working_dir\"] = custom_working_dir\n",
    "\n",
    "path = utils.get_rgi_region_file(region=\"11\", version=\"6\")\n",
    "rgidf = gpd.read_file(path)\n",
    "\n",
    "# We use the directories with the shop data in it: \"W5E5_w_data\"\n",
    "base_url = \"https://cluster.klima.uni-bremen.de/~oggm/gdirs/oggm_v1.6/L3-L5_files/2023.1/elev_bands/W5E5_w_data/\"\n",
    "gdirs = workflow.init_glacier_directories(\n",
    "    rgidf,\n",
    "    from_prepro_level=3,\n",
    "    prepro_base_url=base_url,\n",
    "    prepro_border=10,\n",
    "    reset=True,\n",
    "    force=True,\n",
    ")\n",
    "oggm_rgis = [gdir.rgi_id for gdir in gdirs]\n",
    "rgis_in_oggm = []\n",
    "for rig in rgis:\n",
    "    if rig in oggm_rgis:\n",
    "        rgis_in_oggm.append(rig)\n",
    "print('Number of rgis: ', len(rgis_in_oggm))\n",
    "rgis = rgis_in_oggm"
   ]
  },
  {
   "cell_type": "markdown",
   "metadata": {},
   "source": [
    "## Compute grids for all glaciers:"
   ]
  },
  {
   "cell_type": "code",
   "execution_count": null,
   "metadata": {},
   "outputs": [],
   "source": [
    "glDirect = [\n",
    "    re.search(r'xr_direct_(.*?)\\.nc', f).group(1)\n",
    "    for f in os.listdir(path_direct_save)\n",
    "]\n",
    "glDirect.sort()\n",
    "glDirect"
   ]
  },
  {
   "cell_type": "code",
   "execution_count": null,
   "metadata": {},
   "outputs": [],
   "source": [
    "EMPTY = False\n",
    "if EMPTY:\n",
    "    emptyfolder(path_glacier_grid)\n",
    "    rest_rgis = rgis\n",
    "    rest_gl = glDirect\n",
    "else:\n",
    "    already_processed = [\n",
    "        re.split('_', file)[0] for file in os.listdir(path_glacier_grid)\n",
    "    ]\n",
    "    already_processed_rgis = [\n",
    "        rgi_df[rgi_df.short_name == gl].index.values[0]\n",
    "        for gl in already_processed\n",
    "    ]\n",
    "    rest_rgis = Diff(already_processed_rgis, rgis)\n",
    "    rest_gl = Diff(glDirect, already_processed)\n",
    "    print(rest_gl)\n",
    "\n",
    "for glacierName in tqdm(rest_gl, desc='Processing glaciers'):\n",
    "    print('\\n-----------------------------------')\n",
    "    print(glacierName)\n",
    "    rgi_gl = rgi_df[rgi_df.short_name == glacierName].index.values[0]\n",
    "    if glacierName == 'morteratsch' or glacierName == 'pers':\n",
    "        rgi_gl = 'RGI60-11.01946'\n",
    "\n",
    "    # check that rgi_gl is a str\n",
    "    if type(rgi_gl) != str:\n",
    "        raise ValueError('RGIId is not a string')\n",
    "\n",
    "    # Load stake data for that glacier\n",
    "    data_gl = data_glamos[data_glamos.RGIId == rgi_gl]\n",
    "    dataset_gl = mbm.Dataset(data=data_gl,\n",
    "                             region_name='CH',\n",
    "                             data_path=path_PMB_GLAMOS_csv)\n",
    "\n",
    "    # Get gridded glacier data from OGGM\n",
    "    df_grid = dataset_gl.create_glacier_grid(custom_working_dir)\n",
    "\n",
    "    # Add metadata that is not in WGMS dataset\n",
    "    df_grid[\"PERIOD\"] = \"annual\"\n",
    "    df_grid['GLACIER'] = glacierName\n",
    "\n",
    "    # Add climate variables and convert to monthly\n",
    "    vois_climate = ['t2m', 'tp', 'slhf', 'sshf', 'ssrd', 'fal', 'str']\n",
    "    voi_topographical = [\n",
    "        'aspect', 'slope', 'dis_from_border', 'topo', 'hugonnet_dhdt'\n",
    "    ]\n",
    "\n",
    "    dataset_grid = mbm.Dataset(data=df_grid,\n",
    "                               region_name='CH',\n",
    "                               data_path=path_PMB_GLAMOS_csv)\n",
    "    # Add climate data:\n",
    "    era5_climate_data = path_ERA5_raw + 'era5_monthly_averaged_data.nc'\n",
    "    geopotential_data = path_ERA5_raw + 'era5_geopotential_pressure.nc'\n",
    "    dataset_grid.get_climate_features(climate_data=era5_climate_data,\n",
    "                                      geopotential_data=geopotential_data,\n",
    "                                      change_units=True)\n",
    "\n",
    "    # Add potential clear sky radiation:\n",
    "    print('Adding potential clear sky radiation')\n",
    "    dataset_grid.get_potential_rad(path_direct_save)\n",
    "\n",
    "    # For each record, convert to a monthly time resolution\n",
    "    print('Converting to monthly time resolution')\n",
    "    dataset_grid.convert_to_monthly(meta_data_columns=config.META_DATA,\n",
    "                                    vois_climate=vois_climate + ['pcsr'],\n",
    "                                    vois_topographical=voi_topographical)\n",
    "    assert ('pcsr' in dataset_grid.data.columns)\n",
    "\n",
    "    # Save gridded dataset:\n",
    "    print('Saving gridded dataset')\n",
    "    dataset_grid.data.to_csv(path_glacier_grid + f'{glacierName}_grid.csv',\n",
    "                             index=False)"
   ]
  },
  {
   "cell_type": "code",
   "execution_count": null,
   "metadata": {},
   "outputs": [],
   "source": [
    "path_glacier_grid"
   ]
  },
  {
   "cell_type": "code",
   "execution_count": null,
   "metadata": {},
   "outputs": [],
   "source": []
  }
 ],
 "metadata": {
  "kernelspec": {
   "display_name": "Python 3 (ipykernel)",
   "language": "python",
   "name": "python3"
  },
  "language_info": {
   "codemirror_mode": {
    "name": "ipython",
    "version": 3
   },
   "file_extension": ".py",
   "mimetype": "text/x-python",
   "name": "python",
   "nbconvert_exporter": "python",
   "pygments_lexer": "ipython3",
   "version": "3.10.0"
  }
 },
 "nbformat": 4,
 "nbformat_minor": 4
}
