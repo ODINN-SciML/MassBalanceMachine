{
 "cells": [
  {
   "cell_type": "markdown",
   "metadata": {},
   "source": [
    "## Setting Up:"
   ]
  },
  {
   "cell_type": "code",
   "execution_count": 25,
   "metadata": {},
   "outputs": [
    {
     "name": "stdout",
     "output_type": "stream",
     "text": [
      "The autoreload extension is already loaded. To reload it, use:\n",
      "  %reload_ext autoreload\n"
     ]
    }
   ],
   "source": [
    "import pandas as pd\n",
    "import os\n",
    "import warnings\n",
    "from tqdm.notebook import tqdm\n",
    "import re\n",
    "import geopandas as gpd\n",
    "from shapely.geometry import Polygon, LineString, Point\n",
    "from scipy.spatial.distance import cdist\n",
    "from sklearn.model_selection import RandomizedSearchCV\n",
    "from sklearn.metrics import r2_score, mean_squared_error, mean_absolute_error\n",
    "from sklearn.model_selection import GroupKFold, KFold, train_test_split, GroupShuffleSplit\n",
    "from calendar import month_abbr\n",
    "\n",
    "import matplotlib.pyplot as plt\n",
    "import seaborn as sns\n",
    "from cmcrameri import cm\n",
    "from oggm import cfg, utils, workflow, tasks\n",
    "import logging\n",
    "import geopandas as gpd\n",
    "import xarray as xr\n",
    "\n",
    "import config\n",
    "import massbalancemachine as mbm\n",
    "\n",
    "from scripts.helpers import *\n",
    "from scripts.glamos_preprocess import *\n",
    "from scripts.plots import *\n",
    "from scripts.xgb_helpers import *\n",
    "\n",
    "warnings.filterwarnings('ignore')\n",
    "%load_ext autoreload\n",
    "%autoreload 2"
   ]
  },
  {
   "cell_type": "code",
   "execution_count": 26,
   "metadata": {},
   "outputs": [],
   "source": [
    "seed_all(config.SEED)\n",
    "free_up_cuda()\n",
    "\n",
    "# Plot styles:\n",
    "path_style_sheet = 'scripts/example.mplstyle'\n",
    "plt.style.use(path_style_sheet)\n",
    "\n",
    "cmap = cm.devon\n",
    "color_palette_glaciers = sns.color_palette(get_cmap_hex(cmap, 15))\n",
    "\n",
    "# For bars and lines:\n",
    "color_diff_xgb = '#4d4d4d'\n",
    "\n",
    "colors = get_cmap_hex(cm.batlow, 10)\n",
    "color_xgb = colors[0]\n",
    "color_tim = '#c51b7d'\n",
    "\n",
    "color_winter = '#a6cee3'\n",
    "color_annual = '#1f78b4'\n",
    "\n",
    "# Violin and boxplots:\n",
    "colors_temp_freq = sns.color_palette(get_cmap_hex(cm.devon, 8))\n",
    "boxplot_style = {\n",
    "    \"width\": .6,\n",
    "    \"showcaps\": False,\n",
    "    \"palette\": colors_temp_freq,\n",
    "    \"flierprops\": {\n",
    "        \"marker\": \"x\"\n",
    "    },\n",
    "    \"showmeans\": True,\n",
    "    \"meanprops\": {\n",
    "        \"markerfacecolor\": \"white\"\n",
    "    }\n",
    "}\n",
    "\n",
    "custom_working_dir = '../../../data/OGGM/'"
   ]
  },
  {
   "cell_type": "code",
   "execution_count": 27,
   "metadata": {},
   "outputs": [],
   "source": [
    "# RGI Ids:\n",
    "# Read rgi ids:\n",
    "path_rgi = '../../../data/GLAMOS/CH_glacier_ids_long.csv'\n",
    "rgi_df = pd.read_csv(path_rgi, sep=',')\n",
    "rgi_df.rename(columns=lambda x: x.strip(), inplace=True)\n",
    "rgi_df.sort_values(by='short_name', inplace=True)\n",
    "rgi_df.set_index('short_name', inplace=True)"
   ]
  },
  {
   "cell_type": "code",
   "execution_count": 28,
   "metadata": {},
   "outputs": [],
   "source": [
    "# Specify the short names of the climate variables available in the dataset\n",
    "vois_climate = [\n",
    "    't2m', 'tp', 'slhf', 'sshf', 'ssrd', 'fal', 'str', 'u10', 'v10'\n",
    "]\n",
    "\n",
    "vois_topographical = [\n",
    "    \"aspect\",\n",
    "    \"slope\",\n",
    "    \"hugonnet_dhdt\",\n",
    "    \"consensus_ice_thickness\",\n",
    "    \"millan_v\",\n",
    "]"
   ]
  },
  {
   "cell_type": "markdown",
   "metadata": {},
   "source": [
    "## Read GL data:"
   ]
  },
  {
   "cell_type": "code",
   "execution_count": 29,
   "metadata": {},
   "outputs": [
    {
     "name": "stdout",
     "output_type": "stream",
     "text": [
      "Number of glaciers: 43\n"
     ]
    }
   ],
   "source": [
    "# Read stakes data over all glaciers:\n",
    "data_glamos = pd.read_csv(\n",
    "    path_PMB_GLAMOS_csv +\n",
    "    f'CH_wgms_dataset_all.csv')  # with snow probes too (not only stakes)\n",
    "\n",
    "print('Number of glaciers:', len(data_glamos['GLACIER'].unique()))\n",
    "\n",
    "# Capitalize glacier names:\n",
    "glacierCap = {}\n",
    "for gl in data_glamos['GLACIER'].unique():\n",
    "    if gl == 'claridenU':\n",
    "        glacierCap[gl] = 'Clariden_U'\n",
    "    elif gl == 'claridenL':\n",
    "        glacierCap[gl] = 'Clariden_L'\n",
    "    else:\n",
    "        glacierCap[gl] = gl.capitalize()\n",
    "\n",
    "# Glaciers with data of potential clear sky radiation\n",
    "# Format to same names as stakes:\n",
    "glDirect = [\n",
    "    re.search(r'xr_direct_(.*?)\\.nc', f).group(1)\n",
    "    for f in os.listdir(path_direct_save)\n",
    "]\n",
    "glDirect.sort()\n",
    "\n",
    "restgl = Diff(list(glDirect), list(data_glamos.GLACIER.unique()))\n",
    "restgl.sort()\n",
    "\n",
    "# Filter out glaciers without data:\n",
    "data_glamos = data_glamos[data_glamos.GLACIER.isin(glDirect)]"
   ]
  },
  {
   "cell_type": "markdown",
   "metadata": {},
   "source": [
    "## Input data:\n",
    "### Input dataset:"
   ]
  },
  {
   "cell_type": "code",
   "execution_count": 30,
   "metadata": {},
   "outputs": [
    {
     "name": "stdout",
     "output_type": "stream",
     "text": [
      "Number of monthly rows: 300905\n",
      "Number of annual rows: 102252\n",
      "Number of winter rows: 198653\n"
     ]
    }
   ],
   "source": [
    "RUN = False\n",
    "if RUN:\n",
    "    # Filter data_glamos\n",
    "    print('Running on {} glaciers:\\n {}'.format(\n",
    "        len(data_glamos.GLACIER.unique()), data_glamos.GLACIER.unique()))\n",
    "    # Create dataloader:\n",
    "    dataset_gl = mbm.Dataset(data=data_glamos,\n",
    "                             region_name='CH',\n",
    "                             data_path=path_PMB_GLAMOS_csv)\n",
    "    print('Number of winter and annual samples:', len(data_glamos))\n",
    "    print('Number of annual samples:',\n",
    "          len(data_glamos[data_glamos.PERIOD == 'annual']))\n",
    "    print('Number of winter samples:',\n",
    "          len(data_glamos[data_glamos.PERIOD == 'winter']))\n",
    "\n",
    "    # Add climate data:\n",
    "    # Specify the files of the climate data, that will be matched with the coordinates of the stake data\n",
    "    era5_climate_data = path_ERA5_raw + 'era5_monthly_averaged_data.nc'\n",
    "    geopotential_data = path_ERA5_raw + 'era5_geopotential_pressure.nc'\n",
    "\n",
    "    # Match the climate features, from the ERA5Land netCDF file, for each of the stake measurement dataset\n",
    "    dataset_gl.get_climate_features(climate_data=era5_climate_data,\n",
    "                                    geopotential_data=geopotential_data,\n",
    "                                    change_units=True)\n",
    "\n",
    "    # Add potential clear sky radiation:\n",
    "    print('----------------------\\nAdding potential clear sky radiation:')\n",
    "    print('Shape before pot rad:', dataset_gl.data.shape)\n",
    "    dataset_gl.get_potential_rad(path_direct_save)\n",
    "    print('Shape after pot rad:', dataset_gl.data.shape)\n",
    "\n",
    "    print('----------------------\\nConverting to monthly resolution:')\n",
    "    # For each record, convert to a monthly time resolution\n",
    "    dataset_gl.convert_to_monthly(meta_data_columns=config.META_DATA,\n",
    "                                  vois_climate=vois_climate + ['pcsr'],\n",
    "                                  vois_topographical=vois_topographical)\n",
    "\n",
    "    # Create a new DataLoader object with the monthly stake data measurements.\n",
    "    dataloader_gl = mbm.DataLoader(data=dataset_gl.data,\n",
    "                                   random_seed=config.SEED,\n",
    "                                   meta_data_columns=config.META_DATA)\n",
    "\n",
    "    print('Number of monthly rows:', len(dataloader_gl.data))\n",
    "    print('Columns in the dataset:', dataloader_gl.data.columns)\n",
    "\n",
    "    # save the data\n",
    "    dataloader_gl.data.to_csv(path_PMB_GLAMOS_csv +\n",
    "                              'CH_wgms_dataset_monthly_full.csv',\n",
    "                              index=False)\n",
    "else:\n",
    "    # read data\n",
    "    data_monthly = pd.read_csv(path_PMB_GLAMOS_csv +\n",
    "                               'CH_wgms_dataset_monthly_full.csv')\n",
    "    dataloader_gl = mbm.DataLoader(data=data_monthly,\n",
    "                                   random_seed=config.SEED,\n",
    "                                   meta_data_columns=config.META_DATA)\n",
    "    print('Number of monthly rows:', len(dataloader_gl.data))\n",
    "    print('Number of annual rows:',\n",
    "          len(dataloader_gl.data[dataloader_gl.data.PERIOD == 'annual']))\n",
    "    print('Number of winter rows:',\n",
    "          len(dataloader_gl.data[dataloader_gl.data.PERIOD == 'winter']))"
   ]
  },
  {
   "cell_type": "markdown",
   "metadata": {},
   "source": [
    "### Correction for elevation difference:"
   ]
  },
  {
   "cell_type": "code",
   "execution_count": 31,
   "metadata": {},
   "outputs": [],
   "source": [
    "path_glogem_factors = os.path.join(path_glogem, 'reference_run_GloGEM2024.csv')\n",
    "glogem_factors = pd.read_csv(path_glogem_factors)\n",
    "glogem_factors = glogem_factors.rename(columns={'ID': 'RGIId'})\n",
    "\n",
    "glogem_factors['RGIId'] = glogem_factors['RGIId'].apply(\n",
    "    lambda x: format_rgi_code(x))\n",
    "\n",
    "# Correct t2m and tp for elevation\n",
    "data_monthly = correctTP(\n",
    "    data_monthly,\n",
    "    gl_specific=False,\n",
    "    c_prec=2.3,  # Precipitation correction factor\n",
    "    t_off=2.03  # Temperature offset\n",
    ")\n",
    "\n",
    "# Save with corrected values:\n",
    "dataloader_gl = mbm.DataLoader(data=data_monthly,\n",
    "                               random_seed=config.SEED,\n",
    "                               meta_data_columns=config.META_DATA)"
   ]
  },
  {
   "cell_type": "code",
   "execution_count": 32,
   "metadata": {},
   "outputs": [
    {
     "name": "stdout",
     "output_type": "stream",
     "text": [
      "Min c_prec: 1.3 , Max c_prec: 2.3\n",
      "Min t_off: -0.02 , Max t_off: 2.03\n"
     ]
    }
   ],
   "source": [
    "c_prec_dic, t_off_dic = {}, {}\n",
    "for gl in data_monthly.GLACIER.unique():\n",
    "    rgi_gl = data_monthly[data_monthly.GLACIER == gl].RGIId.unique()[0]\n",
    "    factor_gl = glogem_factors[glogem_factors.RGIId == rgi_gl]\n",
    "    c_prec_dic[gl] = factor_gl['Cprec'].values[0]\n",
    "    t_off_dic[gl] = factor_gl['T_off'].values[0]\n",
    "\n",
    "# mean of dic values\n",
    "mean_c_prec = np.min(list(c_prec_dic.values()))\n",
    "mean_t_off = np.min(list(t_off_dic.values()))\n",
    "\n",
    "# print min and max of dic values\n",
    "print('Min c_prec:', np.min(list(c_prec_dic.values())), ', Max c_prec:',\n",
    "      np.max(list(c_prec_dic.values())))\n",
    "print('Min t_off:', np.min(list(t_off_dic.values())), ', Max t_off:',\n",
    "      np.max(list(t_off_dic.values())))\n"
   ]
  },
  {
   "cell_type": "markdown",
   "metadata": {},
   "source": [
    "## Blocking on glaciers:"
   ]
  },
  {
   "cell_type": "code",
   "execution_count": 33,
   "metadata": {},
   "outputs": [
    {
     "name": "stdout",
     "output_type": "stream",
     "text": [
      "Size of test data: 32974\n",
      "Size of train data: 267931\n",
      "Percentage of test size: 12.31%\n",
      "Test glaciers: (9) ['corvatsch' 'hohlaub' 'joeri' 'pizol' 'plattalva' 'sanktanna'\n",
      " 'schwarzberg' 'tortin' 'tsanfleuron']\n",
      "Percentage of test size: 12.31%\n",
      "Size of test set: 32974\n",
      "Train glaciers: (25) ['adler' 'albigna' 'aletsch' 'allalin' 'basodino' 'claridenL' 'claridenU'\n",
      " 'corbassiere' 'findelen' 'forno' 'gietro' 'gorner' 'gries' 'limmern'\n",
      " 'morteratsch' 'murtel' 'oberaar' 'otemma' 'pers' 'plainemorte' 'rhone'\n",
      " 'schwarzbach' 'sexrouge' 'silvretta' 'taelliboden']\n",
      "Size of train set: 267931\n"
     ]
    }
   ],
   "source": [
    "test_glaciers = [\n",
    "    'tortin', 'plattalva', 'sanktanna', 'schwarzberg', 'hohlaub', 'pizol',\n",
    "    'joeri', 'corvatsch', 'tsanfleuron'\n",
    "]\n",
    "train_glaciers = [\n",
    "    i for i in dataloader_gl.data.GLACIER.unique() if i not in test_glaciers\n",
    "]\n",
    "\n",
    "data_test = dataloader_gl.data[dataloader_gl.data.GLACIER.isin(test_glaciers)]\n",
    "print('Size of test data:', len(data_test))\n",
    "data_train = dataloader_gl.data[dataloader_gl.data.GLACIER.isin(\n",
    "    train_glaciers)]\n",
    "print('Size of train data:', len(data_train))\n",
    "\n",
    "test_perc = (len(data_test) / len(data_train)) * 100\n",
    "print('Percentage of test size: {:.2f}%'.format(test_perc))\n",
    "\n",
    "# CV splits\n",
    "splits, test_set, train_set = getCVSplits(dataloader_gl,\n",
    "                                          test_split_on='GLACIER',\n",
    "                                          test_splits=test_glaciers)\n",
    "\n",
    "print('Test glaciers: ({}) {}'.format(len(test_set['splits_vals']),\n",
    "                                      test_set['splits_vals']))\n",
    "test_perc = (len(test_set['df_X']) / len(train_set['df_X'])) * 100\n",
    "print('Percentage of test size: {:.2f}%'.format(test_perc))\n",
    "print('Size of test set:', len(test_set['df_X']))\n",
    "print('Train glaciers: ({}) {}'.format(len(train_set['splits_vals']),\n",
    "                                       train_set['splits_vals']))\n",
    "print('Size of train set:', len(train_set['df_X']))"
   ]
  },
  {
   "cell_type": "markdown",
   "metadata": {},
   "source": [
    "## XGBoost:"
   ]
  },
  {
   "cell_type": "code",
   "execution_count": 34,
   "metadata": {},
   "outputs": [
    {
     "name": "stdout",
     "output_type": "stream",
     "text": [
      "Shape of training dataset: (267931, 27)\n",
      "Shape of testing dataset: (32974, 27)\n",
      "Running with features: ['ELEVATION_DIFFERENCE', 't2m_corr', 'tp_corr', 'slhf', 'sshf', 'ssrd', 'fal', 'str', 'u10', 'v10', 'aspect', 'slope', 'hugonnet_dhdt', 'consensus_ice_thickness', 'millan_v', 'pcsr']\n"
     ]
    }
   ],
   "source": [
    "# Grid search\n",
    "param_grid = {\n",
    "    'max_depth': [2, 3, 4, 5, 6, 7, 8],\n",
    "    'n_estimators':\n",
    "    [50, 100, 200, 300, 400, 500, 600,\n",
    "     700],  # number of trees (too many = overfitting, too few = underfitting)\n",
    "    'learning_rate': [0.01, 0.1, 0.15, 0.2, 0.25, 0.3]\n",
    "}\n",
    "\n",
    "param_init = {}\n",
    "param_init['device'] = 'cuda:0'\n",
    "param_init['tree_method'] = 'hist'\n",
    "param_init[\"random_state\"] = config.SEED\n",
    "param_init[\"n_jobs\"] = config.NUM_JOBS\n",
    "\n",
    "vois_climate = [\n",
    "    't2m_corr', 'tp_corr', 'slhf', 'sshf', 'ssrd', 'fal', 'str', 'u10', 'v10'\n",
    "]\n",
    "\n",
    "# Feature columns:\n",
    "feature_columns = [\n",
    "    'ELEVATION_DIFFERENCE'\n",
    "] + list(vois_climate) + list(vois_topographical) + ['pcsr']\n",
    "all_columns = feature_columns + config.META_DATA + config.NOT_METADATA_NOT_FEATURES\n",
    "df_X_train_subset = train_set['df_X'][all_columns]\n",
    "print('Shape of training dataset:', df_X_train_subset.shape)\n",
    "print('Shape of testing dataset:', test_set['df_X'][all_columns].shape)\n",
    "print('Running with features:', feature_columns)"
   ]
  },
  {
   "cell_type": "code",
   "execution_count": null,
   "metadata": {},
   "outputs": [
    {
     "data": {
      "application/vnd.jupyter.widget-view+json": {
       "model_id": "708c1cba3a414d88bc3105fc392f3bbc",
       "version_major": 2,
       "version_minor": 0
      },
      "text/plain": [
       "c_prec:   0%|          | 0/30 [00:00<?, ?it/s]"
      ]
     },
     "metadata": {},
     "output_type": "display_data"
    },
    {
     "data": {
      "application/vnd.jupyter.widget-view+json": {
       "model_id": "",
       "version_major": 2,
       "version_minor": 0
      },
      "text/plain": [
       "Glaciers:   0%|          | 0/16 [00:00<?, ?it/s]"
      ]
     },
     "metadata": {},
     "output_type": "display_data"
    },
    {
     "name": "stderr",
     "output_type": "stream",
     "text": [
      "2024-12-16 13:28:27: oggm.cfg: Reading default parameters from the OGGM `params.cfg` configuration file.\n",
      "2024-12-16 13:28:27: oggm.cfg: Multiprocessing switched OFF according to the parameter file.\n",
      "2024-12-16 13:28:27: oggm.cfg: Multiprocessing: using all available processors (N=32)\n",
      "2024-12-16 13:28:27: oggm.cfg: PARAMS['border'] changed from `80` to `10`.\n",
      "2024-12-16 13:28:27: oggm.cfg: Multiprocessing switched ON after user settings.\n",
      "2024-12-16 13:28:27: oggm.cfg: PARAMS['continue_on_error'] changed from `False` to `True`.\n",
      "2024-12-16 13:28:27: oggm.workflow: init_glacier_directories from prepro level 3 on 1 glaciers.\n",
      "2024-12-16 13:28:27: oggm.workflow: Execute entity tasks [gdir_from_prepro] on 1 glaciers\n",
      "2024-12-16 13:28:28: oggm.workflow: Execute entity tasks [gridded_attributes] on 1 glaciers\n"
     ]
    },
    {
     "data": {
      "application/vnd.jupyter.widget-view+json": {
       "model_id": "",
       "version_major": 2,
       "version_minor": 0
      },
      "text/plain": [
       "Years:   0%|          | 0/7 [00:00<?, ?it/s]"
      ]
     },
     "metadata": {},
     "output_type": "display_data"
    },
    {
     "name": "stderr",
     "output_type": "stream",
     "text": [
      "2024-12-16 13:28:58: oggm.cfg: Reading default parameters from the OGGM `params.cfg` configuration file.\n",
      "2024-12-16 13:28:58: oggm.cfg: Multiprocessing switched OFF according to the parameter file.\n",
      "2024-12-16 13:28:58: oggm.cfg: Multiprocessing: using all available processors (N=32)\n",
      "2024-12-16 13:28:58: oggm.cfg: PARAMS['border'] changed from `80` to `10`.\n",
      "2024-12-16 13:28:58: oggm.cfg: Multiprocessing switched ON after user settings.\n",
      "2024-12-16 13:28:58: oggm.cfg: PARAMS['continue_on_error'] changed from `False` to `True`.\n",
      "2024-12-16 13:28:58: oggm.workflow: init_glacier_directories from prepro level 3 on 1 glaciers.\n",
      "2024-12-16 13:28:58: oggm.workflow: Execute entity tasks [gdir_from_prepro] on 1 glaciers\n",
      "2024-12-16 13:28:58: oggm.workflow: Execute entity tasks [gridded_attributes] on 1 glaciers\n"
     ]
    },
    {
     "data": {
      "application/vnd.jupyter.widget-view+json": {
       "model_id": "",
       "version_major": 2,
       "version_minor": 0
      },
      "text/plain": [
       "Years:   0%|          | 0/7 [00:00<?, ?it/s]"
      ]
     },
     "metadata": {},
     "output_type": "display_data"
    },
    {
     "name": "stderr",
     "output_type": "stream",
     "text": [
      "2024-12-16 13:29:52: oggm.cfg: Reading default parameters from the OGGM `params.cfg` configuration file.\n",
      "2024-12-16 13:29:52: oggm.cfg: Multiprocessing switched OFF according to the parameter file.\n",
      "2024-12-16 13:29:52: oggm.cfg: Multiprocessing: using all available processors (N=32)\n",
      "2024-12-16 13:29:52: oggm.cfg: PARAMS['border'] changed from `80` to `10`.\n",
      "2024-12-16 13:29:52: oggm.cfg: Multiprocessing switched ON after user settings.\n",
      "2024-12-16 13:29:52: oggm.cfg: PARAMS['continue_on_error'] changed from `False` to `True`.\n",
      "2024-12-16 13:29:52: oggm.workflow: init_glacier_directories from prepro level 3 on 1 glaciers.\n",
      "2024-12-16 13:29:52: oggm.workflow: Execute entity tasks [gdir_from_prepro] on 1 glaciers\n",
      "2024-12-16 13:29:52: oggm.workflow: Execute entity tasks [gridded_attributes] on 1 glaciers\n"
     ]
    },
    {
     "data": {
      "application/vnd.jupyter.widget-view+json": {
       "model_id": "",
       "version_major": 2,
       "version_minor": 0
      },
      "text/plain": [
       "Years:   0%|          | 0/7 [00:00<?, ?it/s]"
      ]
     },
     "metadata": {},
     "output_type": "display_data"
    },
    {
     "name": "stderr",
     "output_type": "stream",
     "text": [
      "2024-12-16 13:30:33: oggm.cfg: Reading default parameters from the OGGM `params.cfg` configuration file.\n",
      "2024-12-16 13:30:33: oggm.cfg: Multiprocessing switched OFF according to the parameter file.\n",
      "2024-12-16 13:30:33: oggm.cfg: Multiprocessing: using all available processors (N=32)\n",
      "2024-12-16 13:30:33: oggm.cfg: PARAMS['border'] changed from `80` to `10`.\n",
      "2024-12-16 13:30:33: oggm.cfg: Multiprocessing switched ON after user settings.\n",
      "2024-12-16 13:30:33: oggm.cfg: PARAMS['continue_on_error'] changed from `False` to `True`.\n",
      "2024-12-16 13:30:33: oggm.workflow: init_glacier_directories from prepro level 3 on 1 glaciers.\n",
      "2024-12-16 13:30:33: oggm.workflow: Execute entity tasks [gdir_from_prepro] on 1 glaciers\n",
      "2024-12-16 13:30:33: oggm.workflow: Execute entity tasks [gridded_attributes] on 1 glaciers\n"
     ]
    },
    {
     "data": {
      "application/vnd.jupyter.widget-view+json": {
       "model_id": "",
       "version_major": 2,
       "version_minor": 0
      },
      "text/plain": [
       "Years:   0%|          | 0/7 [00:00<?, ?it/s]"
      ]
     },
     "metadata": {},
     "output_type": "display_data"
    },
    {
     "name": "stderr",
     "output_type": "stream",
     "text": [
      "2024-12-16 13:31:02: oggm.cfg: Reading default parameters from the OGGM `params.cfg` configuration file.\n",
      "2024-12-16 13:31:02: oggm.cfg: Multiprocessing switched OFF according to the parameter file.\n",
      "2024-12-16 13:31:02: oggm.cfg: Multiprocessing: using all available processors (N=32)\n",
      "2024-12-16 13:31:02: oggm.cfg: PARAMS['border'] changed from `80` to `10`.\n",
      "2024-12-16 13:31:02: oggm.cfg: Multiprocessing switched ON after user settings.\n",
      "2024-12-16 13:31:02: oggm.cfg: PARAMS['continue_on_error'] changed from `False` to `True`.\n",
      "2024-12-16 13:31:02: oggm.workflow: init_glacier_directories from prepro level 3 on 1 glaciers.\n",
      "2024-12-16 13:31:02: oggm.workflow: Execute entity tasks [gdir_from_prepro] on 1 glaciers\n",
      "2024-12-16 13:31:02: oggm.workflow: Execute entity tasks [gridded_attributes] on 1 glaciers\n"
     ]
    },
    {
     "data": {
      "application/vnd.jupyter.widget-view+json": {
       "model_id": "",
       "version_major": 2,
       "version_minor": 0
      },
      "text/plain": [
       "Years:   0%|          | 0/7 [00:00<?, ?it/s]"
      ]
     },
     "metadata": {},
     "output_type": "display_data"
    },
    {
     "name": "stderr",
     "output_type": "stream",
     "text": [
      "2024-12-16 13:31:23: oggm.cfg: Reading default parameters from the OGGM `params.cfg` configuration file.\n",
      "2024-12-16 13:31:23: oggm.cfg: Multiprocessing switched OFF according to the parameter file.\n",
      "2024-12-16 13:31:23: oggm.cfg: Multiprocessing: using all available processors (N=32)\n",
      "2024-12-16 13:31:23: oggm.cfg: PARAMS['border'] changed from `80` to `10`.\n",
      "2024-12-16 13:31:23: oggm.cfg: Multiprocessing switched ON after user settings.\n",
      "2024-12-16 13:31:23: oggm.cfg: PARAMS['continue_on_error'] changed from `False` to `True`.\n",
      "2024-12-16 13:31:23: oggm.workflow: init_glacier_directories from prepro level 3 on 1 glaciers.\n",
      "2024-12-16 13:31:23: oggm.workflow: Execute entity tasks [gdir_from_prepro] on 1 glaciers\n",
      "2024-12-16 13:31:23: oggm.workflow: Execute entity tasks [gridded_attributes] on 1 glaciers\n"
     ]
    },
    {
     "data": {
      "application/vnd.jupyter.widget-view+json": {
       "model_id": "",
       "version_major": 2,
       "version_minor": 0
      },
      "text/plain": [
       "Years:   0%|          | 0/7 [00:00<?, ?it/s]"
      ]
     },
     "metadata": {},
     "output_type": "display_data"
    },
    {
     "name": "stderr",
     "output_type": "stream",
     "text": [
      "2024-12-16 13:31:53: oggm.cfg: Reading default parameters from the OGGM `params.cfg` configuration file.\n",
      "2024-12-16 13:31:53: oggm.cfg: Multiprocessing switched OFF according to the parameter file.\n",
      "2024-12-16 13:31:53: oggm.cfg: Multiprocessing: using all available processors (N=32)\n",
      "2024-12-16 13:31:53: oggm.cfg: PARAMS['border'] changed from `80` to `10`.\n",
      "2024-12-16 13:31:53: oggm.cfg: Multiprocessing switched ON after user settings.\n",
      "2024-12-16 13:31:53: oggm.cfg: PARAMS['continue_on_error'] changed from `False` to `True`.\n",
      "2024-12-16 13:31:53: oggm.workflow: init_glacier_directories from prepro level 3 on 1 glaciers.\n",
      "2024-12-16 13:31:53: oggm.workflow: Execute entity tasks [gdir_from_prepro] on 1 glaciers\n",
      "2024-12-16 13:31:53: oggm.workflow: Execute entity tasks [gridded_attributes] on 1 glaciers\n"
     ]
    },
    {
     "data": {
      "application/vnd.jupyter.widget-view+json": {
       "model_id": "",
       "version_major": 2,
       "version_minor": 0
      },
      "text/plain": [
       "Years:   0%|          | 0/7 [00:00<?, ?it/s]"
      ]
     },
     "metadata": {},
     "output_type": "display_data"
    },
    {
     "name": "stderr",
     "output_type": "stream",
     "text": [
      "2024-12-16 13:32:37: oggm.cfg: Reading default parameters from the OGGM `params.cfg` configuration file.\n",
      "2024-12-16 13:32:37: oggm.cfg: Multiprocessing switched OFF according to the parameter file.\n",
      "2024-12-16 13:32:37: oggm.cfg: Multiprocessing: using all available processors (N=32)\n",
      "2024-12-16 13:32:37: oggm.cfg: PARAMS['border'] changed from `80` to `10`.\n",
      "2024-12-16 13:32:37: oggm.cfg: Multiprocessing switched ON after user settings.\n",
      "2024-12-16 13:32:37: oggm.cfg: PARAMS['continue_on_error'] changed from `False` to `True`.\n",
      "2024-12-16 13:32:38: oggm.workflow: init_glacier_directories from prepro level 3 on 1 glaciers.\n",
      "2024-12-16 13:32:38: oggm.workflow: Execute entity tasks [gdir_from_prepro] on 1 glaciers\n",
      "2024-12-16 13:32:38: oggm.workflow: Execute entity tasks [gridded_attributes] on 1 glaciers\n"
     ]
    },
    {
     "data": {
      "application/vnd.jupyter.widget-view+json": {
       "model_id": "",
       "version_major": 2,
       "version_minor": 0
      },
      "text/plain": [
       "Years:   0%|          | 0/7 [00:00<?, ?it/s]"
      ]
     },
     "metadata": {},
     "output_type": "display_data"
    },
    {
     "name": "stderr",
     "output_type": "stream",
     "text": [
      "2024-12-16 13:33:15: oggm.cfg: Reading default parameters from the OGGM `params.cfg` configuration file.\n",
      "2024-12-16 13:33:15: oggm.cfg: Multiprocessing switched OFF according to the parameter file.\n",
      "2024-12-16 13:33:15: oggm.cfg: Multiprocessing: using all available processors (N=32)\n",
      "2024-12-16 13:33:15: oggm.cfg: PARAMS['border'] changed from `80` to `10`.\n",
      "2024-12-16 13:33:15: oggm.cfg: Multiprocessing switched ON after user settings.\n",
      "2024-12-16 13:33:15: oggm.cfg: PARAMS['continue_on_error'] changed from `False` to `True`.\n",
      "2024-12-16 13:33:15: oggm.workflow: init_glacier_directories from prepro level 3 on 1 glaciers.\n",
      "2024-12-16 13:33:15: oggm.workflow: Execute entity tasks [gdir_from_prepro] on 1 glaciers\n",
      "2024-12-16 13:33:15: oggm.workflow: Execute entity tasks [gridded_attributes] on 1 glaciers\n"
     ]
    },
    {
     "data": {
      "application/vnd.jupyter.widget-view+json": {
       "model_id": "",
       "version_major": 2,
       "version_minor": 0
      },
      "text/plain": [
       "Years:   0%|          | 0/7 [00:00<?, ?it/s]"
      ]
     },
     "metadata": {},
     "output_type": "display_data"
    },
    {
     "name": "stderr",
     "output_type": "stream",
     "text": [
      "2024-12-16 13:33:44: oggm.cfg: Reading default parameters from the OGGM `params.cfg` configuration file.\n",
      "2024-12-16 13:33:44: oggm.cfg: Multiprocessing switched OFF according to the parameter file.\n",
      "2024-12-16 13:33:44: oggm.cfg: Multiprocessing: using all available processors (N=32)\n",
      "2024-12-16 13:33:44: oggm.cfg: PARAMS['border'] changed from `80` to `10`.\n",
      "2024-12-16 13:33:44: oggm.cfg: Multiprocessing switched ON after user settings.\n",
      "2024-12-16 13:33:44: oggm.cfg: PARAMS['continue_on_error'] changed from `False` to `True`.\n",
      "2024-12-16 13:33:44: oggm.workflow: init_glacier_directories from prepro level 3 on 1 glaciers.\n",
      "2024-12-16 13:33:44: oggm.workflow: Execute entity tasks [gdir_from_prepro] on 1 glaciers\n",
      "2024-12-16 13:33:44: oggm.workflow: Execute entity tasks [gridded_attributes] on 1 glaciers\n"
     ]
    },
    {
     "data": {
      "application/vnd.jupyter.widget-view+json": {
       "model_id": "",
       "version_major": 2,
       "version_minor": 0
      },
      "text/plain": [
       "Years:   0%|          | 0/7 [00:00<?, ?it/s]"
      ]
     },
     "metadata": {},
     "output_type": "display_data"
    },
    {
     "name": "stderr",
     "output_type": "stream",
     "text": [
      "2024-12-16 13:34:13: oggm.cfg: Reading default parameters from the OGGM `params.cfg` configuration file.\n",
      "2024-12-16 13:34:13: oggm.cfg: Multiprocessing switched OFF according to the parameter file.\n",
      "2024-12-16 13:34:13: oggm.cfg: Multiprocessing: using all available processors (N=32)\n",
      "2024-12-16 13:34:13: oggm.cfg: PARAMS['border'] changed from `80` to `10`.\n",
      "2024-12-16 13:34:13: oggm.cfg: Multiprocessing switched ON after user settings.\n",
      "2024-12-16 13:34:13: oggm.cfg: PARAMS['continue_on_error'] changed from `False` to `True`.\n",
      "2024-12-16 13:34:14: oggm.workflow: init_glacier_directories from prepro level 3 on 1 glaciers.\n",
      "2024-12-16 13:34:14: oggm.workflow: Execute entity tasks [gdir_from_prepro] on 1 glaciers\n",
      "2024-12-16 13:34:14: oggm.workflow: Execute entity tasks [gridded_attributes] on 1 glaciers\n"
     ]
    },
    {
     "data": {
      "application/vnd.jupyter.widget-view+json": {
       "model_id": "",
       "version_major": 2,
       "version_minor": 0
      },
      "text/plain": [
       "Years:   0%|          | 0/7 [00:00<?, ?it/s]"
      ]
     },
     "metadata": {},
     "output_type": "display_data"
    },
    {
     "name": "stderr",
     "output_type": "stream",
     "text": [
      "2024-12-16 13:34:49: oggm.cfg: Reading default parameters from the OGGM `params.cfg` configuration file.\n",
      "2024-12-16 13:34:49: oggm.cfg: Multiprocessing switched OFF according to the parameter file.\n",
      "2024-12-16 13:34:49: oggm.cfg: Multiprocessing: using all available processors (N=32)\n",
      "2024-12-16 13:34:49: oggm.cfg: PARAMS['border'] changed from `80` to `10`.\n",
      "2024-12-16 13:34:49: oggm.cfg: Multiprocessing switched ON after user settings.\n",
      "2024-12-16 13:34:49: oggm.cfg: PARAMS['continue_on_error'] changed from `False` to `True`.\n",
      "2024-12-16 13:34:49: oggm.workflow: init_glacier_directories from prepro level 3 on 1 glaciers.\n",
      "2024-12-16 13:34:49: oggm.workflow: Execute entity tasks [gdir_from_prepro] on 1 glaciers\n",
      "2024-12-16 13:34:49: oggm.workflow: Execute entity tasks [gridded_attributes] on 1 glaciers\n"
     ]
    },
    {
     "data": {
      "application/vnd.jupyter.widget-view+json": {
       "model_id": "",
       "version_major": 2,
       "version_minor": 0
      },
      "text/plain": [
       "Years:   0%|          | 0/7 [00:00<?, ?it/s]"
      ]
     },
     "metadata": {},
     "output_type": "display_data"
    },
    {
     "name": "stderr",
     "output_type": "stream",
     "text": [
      "2024-12-16 13:35:06: oggm.cfg: Reading default parameters from the OGGM `params.cfg` configuration file.\n",
      "2024-12-16 13:35:06: oggm.cfg: Multiprocessing switched OFF according to the parameter file.\n",
      "2024-12-16 13:35:06: oggm.cfg: Multiprocessing: using all available processors (N=32)\n",
      "2024-12-16 13:35:06: oggm.cfg: PARAMS['border'] changed from `80` to `10`.\n",
      "2024-12-16 13:35:06: oggm.cfg: Multiprocessing switched ON after user settings.\n",
      "2024-12-16 13:35:06: oggm.cfg: PARAMS['continue_on_error'] changed from `False` to `True`.\n",
      "2024-12-16 13:35:06: oggm.workflow: init_glacier_directories from prepro level 3 on 1 glaciers.\n",
      "2024-12-16 13:35:06: oggm.workflow: Execute entity tasks [gdir_from_prepro] on 1 glaciers\n",
      "2024-12-16 13:35:06: oggm.workflow: Execute entity tasks [gridded_attributes] on 1 glaciers\n"
     ]
    },
    {
     "data": {
      "application/vnd.jupyter.widget-view+json": {
       "model_id": "",
       "version_major": 2,
       "version_minor": 0
      },
      "text/plain": [
       "Years:   0%|          | 0/7 [00:00<?, ?it/s]"
      ]
     },
     "metadata": {},
     "output_type": "display_data"
    },
    {
     "name": "stderr",
     "output_type": "stream",
     "text": [
      "2024-12-16 13:35:50: oggm.cfg: Reading default parameters from the OGGM `params.cfg` configuration file.\n",
      "2024-12-16 13:35:50: oggm.cfg: Multiprocessing switched OFF according to the parameter file.\n",
      "2024-12-16 13:35:50: oggm.cfg: Multiprocessing: using all available processors (N=32)\n",
      "2024-12-16 13:35:50: oggm.cfg: PARAMS['border'] changed from `80` to `10`.\n",
      "2024-12-16 13:35:50: oggm.cfg: Multiprocessing switched ON after user settings.\n",
      "2024-12-16 13:35:50: oggm.cfg: PARAMS['continue_on_error'] changed from `False` to `True`.\n",
      "2024-12-16 13:35:50: oggm.workflow: init_glacier_directories from prepro level 3 on 1 glaciers.\n",
      "2024-12-16 13:35:50: oggm.workflow: Execute entity tasks [gdir_from_prepro] on 1 glaciers\n",
      "2024-12-16 13:35:50: oggm.workflow: Execute entity tasks [gridded_attributes] on 1 glaciers\n"
     ]
    },
    {
     "data": {
      "application/vnd.jupyter.widget-view+json": {
       "model_id": "",
       "version_major": 2,
       "version_minor": 0
      },
      "text/plain": [
       "Years:   0%|          | 0/7 [00:00<?, ?it/s]"
      ]
     },
     "metadata": {},
     "output_type": "display_data"
    },
    {
     "name": "stderr",
     "output_type": "stream",
     "text": [
      "2024-12-16 13:36:03: oggm.cfg: Reading default parameters from the OGGM `params.cfg` configuration file.\n",
      "2024-12-16 13:36:03: oggm.cfg: Multiprocessing switched OFF according to the parameter file.\n",
      "2024-12-16 13:36:03: oggm.cfg: Multiprocessing: using all available processors (N=32)\n",
      "2024-12-16 13:36:03: oggm.cfg: PARAMS['border'] changed from `80` to `10`.\n",
      "2024-12-16 13:36:03: oggm.cfg: Multiprocessing switched ON after user settings.\n",
      "2024-12-16 13:36:03: oggm.cfg: PARAMS['continue_on_error'] changed from `False` to `True`.\n",
      "2024-12-16 13:36:03: oggm.workflow: init_glacier_directories from prepro level 3 on 1 glaciers.\n",
      "2024-12-16 13:36:03: oggm.workflow: Execute entity tasks [gdir_from_prepro] on 1 glaciers\n",
      "2024-12-16 13:36:03: oggm.workflow: Execute entity tasks [gridded_attributes] on 1 glaciers\n"
     ]
    },
    {
     "data": {
      "application/vnd.jupyter.widget-view+json": {
       "model_id": "",
       "version_major": 2,
       "version_minor": 0
      },
      "text/plain": [
       "Years:   0%|          | 0/7 [00:00<?, ?it/s]"
      ]
     },
     "metadata": {},
     "output_type": "display_data"
    },
    {
     "name": "stderr",
     "output_type": "stream",
     "text": [
      "2024-12-16 13:36:11: oggm.cfg: Reading default parameters from the OGGM `params.cfg` configuration file.\n",
      "2024-12-16 13:36:11: oggm.cfg: Multiprocessing switched OFF according to the parameter file.\n",
      "2024-12-16 13:36:11: oggm.cfg: Multiprocessing: using all available processors (N=32)\n",
      "2024-12-16 13:36:11: oggm.cfg: PARAMS['border'] changed from `80` to `10`.\n",
      "2024-12-16 13:36:11: oggm.cfg: Multiprocessing switched ON after user settings.\n",
      "2024-12-16 13:36:11: oggm.cfg: PARAMS['continue_on_error'] changed from `False` to `True`.\n",
      "2024-12-16 13:36:11: oggm.workflow: init_glacier_directories from prepro level 3 on 1 glaciers.\n",
      "2024-12-16 13:36:11: oggm.workflow: Execute entity tasks [gdir_from_prepro] on 1 glaciers\n",
      "2024-12-16 13:36:11: oggm.workflow: Execute entity tasks [gridded_attributes] on 1 glaciers\n"
     ]
    },
    {
     "data": {
      "application/vnd.jupyter.widget-view+json": {
       "model_id": "",
       "version_major": 2,
       "version_minor": 0
      },
      "text/plain": [
       "Years:   0%|          | 0/7 [00:00<?, ?it/s]"
      ]
     },
     "metadata": {},
     "output_type": "display_data"
    },
    {
     "data": {
      "application/vnd.jupyter.widget-view+json": {
       "model_id": "",
       "version_major": 2,
       "version_minor": 0
      },
      "text/plain": [
       "Glaciers:   0%|          | 0/16 [00:00<?, ?it/s]"
      ]
     },
     "metadata": {},
     "output_type": "display_data"
    },
    {
     "name": "stderr",
     "output_type": "stream",
     "text": [
      "2024-12-16 13:42:35: oggm.cfg: Reading default parameters from the OGGM `params.cfg` configuration file.\n",
      "2024-12-16 13:42:35: oggm.cfg: Multiprocessing switched OFF according to the parameter file.\n",
      "2024-12-16 13:42:35: oggm.cfg: Multiprocessing: using all available processors (N=32)\n",
      "2024-12-16 13:42:35: oggm.cfg: PARAMS['border'] changed from `80` to `10`.\n",
      "2024-12-16 13:42:35: oggm.cfg: Multiprocessing switched ON after user settings.\n",
      "2024-12-16 13:42:35: oggm.cfg: PARAMS['continue_on_error'] changed from `False` to `True`.\n",
      "2024-12-16 13:42:35: oggm.workflow: init_glacier_directories from prepro level 3 on 1 glaciers.\n",
      "2024-12-16 13:42:35: oggm.workflow: Execute entity tasks [gdir_from_prepro] on 1 glaciers\n",
      "2024-12-16 13:42:35: oggm.workflow: Execute entity tasks [gridded_attributes] on 1 glaciers\n"
     ]
    },
    {
     "data": {
      "application/vnd.jupyter.widget-view+json": {
       "model_id": "",
       "version_major": 2,
       "version_minor": 0
      },
      "text/plain": [
       "Years:   0%|          | 0/7 [00:00<?, ?it/s]"
      ]
     },
     "metadata": {},
     "output_type": "display_data"
    },
    {
     "name": "stderr",
     "output_type": "stream",
     "text": [
      "2024-12-16 13:43:05: oggm.cfg: Reading default parameters from the OGGM `params.cfg` configuration file.\n",
      "2024-12-16 13:43:05: oggm.cfg: Multiprocessing switched OFF according to the parameter file.\n",
      "2024-12-16 13:43:05: oggm.cfg: Multiprocessing: using all available processors (N=32)\n",
      "2024-12-16 13:43:05: oggm.cfg: PARAMS['border'] changed from `80` to `10`.\n",
      "2024-12-16 13:43:05: oggm.cfg: Multiprocessing switched ON after user settings.\n",
      "2024-12-16 13:43:05: oggm.cfg: PARAMS['continue_on_error'] changed from `False` to `True`.\n",
      "2024-12-16 13:43:05: oggm.workflow: init_glacier_directories from prepro level 3 on 1 glaciers.\n",
      "2024-12-16 13:43:05: oggm.workflow: Execute entity tasks [gdir_from_prepro] on 1 glaciers\n",
      "2024-12-16 13:43:05: oggm.workflow: Execute entity tasks [gridded_attributes] on 1 glaciers\n"
     ]
    },
    {
     "data": {
      "application/vnd.jupyter.widget-view+json": {
       "model_id": "",
       "version_major": 2,
       "version_minor": 0
      },
      "text/plain": [
       "Years:   0%|          | 0/7 [00:00<?, ?it/s]"
      ]
     },
     "metadata": {},
     "output_type": "display_data"
    },
    {
     "name": "stderr",
     "output_type": "stream",
     "text": [
      "2024-12-16 13:43:59: oggm.cfg: Reading default parameters from the OGGM `params.cfg` configuration file.\n",
      "2024-12-16 13:43:59: oggm.cfg: Multiprocessing switched OFF according to the parameter file.\n",
      "2024-12-16 13:43:59: oggm.cfg: Multiprocessing: using all available processors (N=32)\n",
      "2024-12-16 13:43:59: oggm.cfg: PARAMS['border'] changed from `80` to `10`.\n",
      "2024-12-16 13:43:59: oggm.cfg: Multiprocessing switched ON after user settings.\n",
      "2024-12-16 13:43:59: oggm.cfg: PARAMS['continue_on_error'] changed from `False` to `True`.\n",
      "2024-12-16 13:43:59: oggm.workflow: init_glacier_directories from prepro level 3 on 1 glaciers.\n",
      "2024-12-16 13:43:59: oggm.workflow: Execute entity tasks [gdir_from_prepro] on 1 glaciers\n",
      "2024-12-16 13:43:59: oggm.workflow: Execute entity tasks [gridded_attributes] on 1 glaciers\n"
     ]
    },
    {
     "data": {
      "application/vnd.jupyter.widget-view+json": {
       "model_id": "",
       "version_major": 2,
       "version_minor": 0
      },
      "text/plain": [
       "Years:   0%|          | 0/7 [00:00<?, ?it/s]"
      ]
     },
     "metadata": {},
     "output_type": "display_data"
    },
    {
     "name": "stderr",
     "output_type": "stream",
     "text": [
      "2024-12-16 13:44:39: oggm.cfg: Reading default parameters from the OGGM `params.cfg` configuration file.\n",
      "2024-12-16 13:44:39: oggm.cfg: Multiprocessing switched OFF according to the parameter file.\n",
      "2024-12-16 13:44:39: oggm.cfg: Multiprocessing: using all available processors (N=32)\n",
      "2024-12-16 13:44:39: oggm.cfg: PARAMS['border'] changed from `80` to `10`.\n",
      "2024-12-16 13:44:39: oggm.cfg: Multiprocessing switched ON after user settings.\n",
      "2024-12-16 13:44:39: oggm.cfg: PARAMS['continue_on_error'] changed from `False` to `True`.\n",
      "2024-12-16 13:44:39: oggm.workflow: init_glacier_directories from prepro level 3 on 1 glaciers.\n",
      "2024-12-16 13:44:39: oggm.workflow: Execute entity tasks [gdir_from_prepro] on 1 glaciers\n",
      "2024-12-16 13:44:39: oggm.workflow: Execute entity tasks [gridded_attributes] on 1 glaciers\n"
     ]
    },
    {
     "data": {
      "application/vnd.jupyter.widget-view+json": {
       "model_id": "",
       "version_major": 2,
       "version_minor": 0
      },
      "text/plain": [
       "Years:   0%|          | 0/7 [00:00<?, ?it/s]"
      ]
     },
     "metadata": {},
     "output_type": "display_data"
    },
    {
     "name": "stderr",
     "output_type": "stream",
     "text": [
      "2024-12-16 13:45:08: oggm.cfg: Reading default parameters from the OGGM `params.cfg` configuration file.\n",
      "2024-12-16 13:45:08: oggm.cfg: Multiprocessing switched OFF according to the parameter file.\n",
      "2024-12-16 13:45:08: oggm.cfg: Multiprocessing: using all available processors (N=32)\n",
      "2024-12-16 13:45:08: oggm.cfg: PARAMS['border'] changed from `80` to `10`.\n",
      "2024-12-16 13:45:08: oggm.cfg: Multiprocessing switched ON after user settings.\n",
      "2024-12-16 13:45:08: oggm.cfg: PARAMS['continue_on_error'] changed from `False` to `True`.\n",
      "2024-12-16 13:45:08: oggm.workflow: init_glacier_directories from prepro level 3 on 1 glaciers.\n",
      "2024-12-16 13:45:08: oggm.workflow: Execute entity tasks [gdir_from_prepro] on 1 glaciers\n",
      "2024-12-16 13:45:08: oggm.workflow: Execute entity tasks [gridded_attributes] on 1 glaciers\n"
     ]
    },
    {
     "data": {
      "application/vnd.jupyter.widget-view+json": {
       "model_id": "",
       "version_major": 2,
       "version_minor": 0
      },
      "text/plain": [
       "Years:   0%|          | 0/7 [00:00<?, ?it/s]"
      ]
     },
     "metadata": {},
     "output_type": "display_data"
    },
    {
     "name": "stderr",
     "output_type": "stream",
     "text": [
      "2024-12-16 13:45:28: oggm.cfg: Reading default parameters from the OGGM `params.cfg` configuration file.\n",
      "2024-12-16 13:45:28: oggm.cfg: Multiprocessing switched OFF according to the parameter file.\n",
      "2024-12-16 13:45:28: oggm.cfg: Multiprocessing: using all available processors (N=32)\n",
      "2024-12-16 13:45:28: oggm.cfg: PARAMS['border'] changed from `80` to `10`.\n",
      "2024-12-16 13:45:28: oggm.cfg: Multiprocessing switched ON after user settings.\n",
      "2024-12-16 13:45:28: oggm.cfg: PARAMS['continue_on_error'] changed from `False` to `True`.\n",
      "2024-12-16 13:45:28: oggm.workflow: init_glacier_directories from prepro level 3 on 1 glaciers.\n",
      "2024-12-16 13:45:28: oggm.workflow: Execute entity tasks [gdir_from_prepro] on 1 glaciers\n",
      "2024-12-16 13:45:28: oggm.workflow: Execute entity tasks [gridded_attributes] on 1 glaciers\n"
     ]
    },
    {
     "data": {
      "application/vnd.jupyter.widget-view+json": {
       "model_id": "",
       "version_major": 2,
       "version_minor": 0
      },
      "text/plain": [
       "Years:   0%|          | 0/7 [00:00<?, ?it/s]"
      ]
     },
     "metadata": {},
     "output_type": "display_data"
    },
    {
     "name": "stderr",
     "output_type": "stream",
     "text": [
      "2024-12-16 13:45:58: oggm.cfg: Reading default parameters from the OGGM `params.cfg` configuration file.\n",
      "2024-12-16 13:45:58: oggm.cfg: Multiprocessing switched OFF according to the parameter file.\n",
      "2024-12-16 13:45:58: oggm.cfg: Multiprocessing: using all available processors (N=32)\n",
      "2024-12-16 13:45:58: oggm.cfg: PARAMS['border'] changed from `80` to `10`.\n",
      "2024-12-16 13:45:58: oggm.cfg: Multiprocessing switched ON after user settings.\n",
      "2024-12-16 13:45:58: oggm.cfg: PARAMS['continue_on_error'] changed from `False` to `True`.\n",
      "2024-12-16 13:45:58: oggm.workflow: init_glacier_directories from prepro level 3 on 1 glaciers.\n",
      "2024-12-16 13:45:58: oggm.workflow: Execute entity tasks [gdir_from_prepro] on 1 glaciers\n",
      "2024-12-16 13:45:58: oggm.workflow: Execute entity tasks [gridded_attributes] on 1 glaciers\n"
     ]
    },
    {
     "data": {
      "application/vnd.jupyter.widget-view+json": {
       "model_id": "",
       "version_major": 2,
       "version_minor": 0
      },
      "text/plain": [
       "Years:   0%|          | 0/7 [00:00<?, ?it/s]"
      ]
     },
     "metadata": {},
     "output_type": "display_data"
    },
    {
     "name": "stderr",
     "output_type": "stream",
     "text": [
      "2024-12-16 13:46:42: oggm.cfg: Reading default parameters from the OGGM `params.cfg` configuration file.\n",
      "2024-12-16 13:46:42: oggm.cfg: Multiprocessing switched OFF according to the parameter file.\n",
      "2024-12-16 13:46:42: oggm.cfg: Multiprocessing: using all available processors (N=32)\n",
      "2024-12-16 13:46:42: oggm.cfg: PARAMS['border'] changed from `80` to `10`.\n",
      "2024-12-16 13:46:42: oggm.cfg: Multiprocessing switched ON after user settings.\n",
      "2024-12-16 13:46:42: oggm.cfg: PARAMS['continue_on_error'] changed from `False` to `True`.\n",
      "2024-12-16 13:46:42: oggm.workflow: init_glacier_directories from prepro level 3 on 1 glaciers.\n",
      "2024-12-16 13:46:42: oggm.workflow: Execute entity tasks [gdir_from_prepro] on 1 glaciers\n",
      "2024-12-16 13:46:42: oggm.workflow: Execute entity tasks [gridded_attributes] on 1 glaciers\n"
     ]
    },
    {
     "data": {
      "application/vnd.jupyter.widget-view+json": {
       "model_id": "dd813835902c4fda9f50b18531c6537f",
       "version_major": 2,
       "version_minor": 0
      },
      "text/plain": [
       "Years:   0%|          | 0/7 [00:00<?, ?it/s]"
      ]
     },
     "metadata": {},
     "output_type": "display_data"
    },
    {
     "name": "stderr",
     "output_type": "stream",
     "text": [
      "2024-12-16 13:47:19: oggm.cfg: Reading default parameters from the OGGM `params.cfg` configuration file.\n",
      "2024-12-16 13:47:19: oggm.cfg: Multiprocessing switched OFF according to the parameter file.\n",
      "2024-12-16 13:47:19: oggm.cfg: Multiprocessing: using all available processors (N=32)\n",
      "2024-12-16 13:47:19: oggm.cfg: PARAMS['border'] changed from `80` to `10`.\n",
      "2024-12-16 13:47:19: oggm.cfg: Multiprocessing switched ON after user settings.\n",
      "2024-12-16 13:47:19: oggm.cfg: PARAMS['continue_on_error'] changed from `False` to `True`.\n",
      "2024-12-16 13:47:19: oggm.workflow: init_glacier_directories from prepro level 3 on 1 glaciers.\n",
      "2024-12-16 13:47:19: oggm.workflow: Execute entity tasks [gdir_from_prepro] on 1 glaciers\n",
      "2024-12-16 13:47:19: oggm.workflow: Execute entity tasks [gridded_attributes] on 1 glaciers\n"
     ]
    },
    {
     "data": {
      "application/vnd.jupyter.widget-view+json": {
       "model_id": "6d61c2e4fdd34a07a2eb8e3c7b16fbf4",
       "version_major": 2,
       "version_minor": 0
      },
      "text/plain": [
       "Years:   0%|          | 0/7 [00:00<?, ?it/s]"
      ]
     },
     "metadata": {},
     "output_type": "display_data"
    },
    {
     "name": "stderr",
     "output_type": "stream",
     "text": [
      "2024-12-16 13:47:48: oggm.cfg: Reading default parameters from the OGGM `params.cfg` configuration file.\n",
      "2024-12-16 13:47:48: oggm.cfg: Multiprocessing switched OFF according to the parameter file.\n",
      "2024-12-16 13:47:48: oggm.cfg: Multiprocessing: using all available processors (N=32)\n",
      "2024-12-16 13:47:48: oggm.cfg: PARAMS['border'] changed from `80` to `10`.\n",
      "2024-12-16 13:47:48: oggm.cfg: Multiprocessing switched ON after user settings.\n",
      "2024-12-16 13:47:48: oggm.cfg: PARAMS['continue_on_error'] changed from `False` to `True`.\n",
      "2024-12-16 13:47:48: oggm.workflow: init_glacier_directories from prepro level 3 on 1 glaciers.\n",
      "2024-12-16 13:47:48: oggm.workflow: Execute entity tasks [gdir_from_prepro] on 1 glaciers\n",
      "2024-12-16 13:47:49: oggm.workflow: Execute entity tasks [gridded_attributes] on 1 glaciers\n"
     ]
    },
    {
     "data": {
      "application/vnd.jupyter.widget-view+json": {
       "model_id": "4274f1e5aae44165ae159a0539b9c34b",
       "version_major": 2,
       "version_minor": 0
      },
      "text/plain": [
       "Years:   0%|          | 0/7 [00:00<?, ?it/s]"
      ]
     },
     "metadata": {},
     "output_type": "display_data"
    },
    {
     "name": "stderr",
     "output_type": "stream",
     "text": [
      "2024-12-16 13:48:17: oggm.cfg: Reading default parameters from the OGGM `params.cfg` configuration file.\n",
      "2024-12-16 13:48:17: oggm.cfg: Multiprocessing switched OFF according to the parameter file.\n",
      "2024-12-16 13:48:17: oggm.cfg: Multiprocessing: using all available processors (N=32)\n",
      "2024-12-16 13:48:17: oggm.cfg: PARAMS['border'] changed from `80` to `10`.\n",
      "2024-12-16 13:48:17: oggm.cfg: Multiprocessing switched ON after user settings.\n",
      "2024-12-16 13:48:17: oggm.cfg: PARAMS['continue_on_error'] changed from `False` to `True`.\n",
      "2024-12-16 13:48:18: oggm.workflow: init_glacier_directories from prepro level 3 on 1 glaciers.\n",
      "2024-12-16 13:48:18: oggm.workflow: Execute entity tasks [gdir_from_prepro] on 1 glaciers\n",
      "2024-12-16 13:48:18: oggm.workflow: Execute entity tasks [gridded_attributes] on 1 glaciers\n"
     ]
    },
    {
     "data": {
      "application/vnd.jupyter.widget-view+json": {
       "model_id": "3a918e6c67f5476d8d53c9b18b65b12f",
       "version_major": 2,
       "version_minor": 0
      },
      "text/plain": [
       "Years:   0%|          | 0/7 [00:00<?, ?it/s]"
      ]
     },
     "metadata": {},
     "output_type": "display_data"
    },
    {
     "name": "stderr",
     "output_type": "stream",
     "text": [
      "2024-12-16 13:48:53: oggm.cfg: Reading default parameters from the OGGM `params.cfg` configuration file.\n",
      "2024-12-16 13:48:53: oggm.cfg: Multiprocessing switched OFF according to the parameter file.\n",
      "2024-12-16 13:48:53: oggm.cfg: Multiprocessing: using all available processors (N=32)\n",
      "2024-12-16 13:48:53: oggm.cfg: PARAMS['border'] changed from `80` to `10`.\n",
      "2024-12-16 13:48:53: oggm.cfg: Multiprocessing switched ON after user settings.\n",
      "2024-12-16 13:48:53: oggm.cfg: PARAMS['continue_on_error'] changed from `False` to `True`.\n",
      "2024-12-16 13:48:53: oggm.workflow: init_glacier_directories from prepro level 3 on 1 glaciers.\n",
      "2024-12-16 13:48:53: oggm.workflow: Execute entity tasks [gdir_from_prepro] on 1 glaciers\n",
      "2024-12-16 13:48:53: oggm.workflow: Execute entity tasks [gridded_attributes] on 1 glaciers\n"
     ]
    },
    {
     "data": {
      "application/vnd.jupyter.widget-view+json": {
       "model_id": "7976c0ae8cef425da71b4b5eb0def7bd",
       "version_major": 2,
       "version_minor": 0
      },
      "text/plain": [
       "Years:   0%|          | 0/7 [00:00<?, ?it/s]"
      ]
     },
     "metadata": {},
     "output_type": "display_data"
    },
    {
     "name": "stderr",
     "output_type": "stream",
     "text": [
      "2024-12-16 13:49:10: oggm.cfg: Reading default parameters from the OGGM `params.cfg` configuration file.\n",
      "2024-12-16 13:49:10: oggm.cfg: Multiprocessing switched OFF according to the parameter file.\n",
      "2024-12-16 13:49:10: oggm.cfg: Multiprocessing: using all available processors (N=32)\n",
      "2024-12-16 13:49:10: oggm.cfg: PARAMS['border'] changed from `80` to `10`.\n",
      "2024-12-16 13:49:10: oggm.cfg: Multiprocessing switched ON after user settings.\n",
      "2024-12-16 13:49:10: oggm.cfg: PARAMS['continue_on_error'] changed from `False` to `True`.\n",
      "2024-12-16 13:49:10: oggm.workflow: init_glacier_directories from prepro level 3 on 1 glaciers.\n",
      "2024-12-16 13:49:10: oggm.workflow: Execute entity tasks [gdir_from_prepro] on 1 glaciers\n",
      "2024-12-16 13:49:10: oggm.workflow: Execute entity tasks [gridded_attributes] on 1 glaciers\n"
     ]
    },
    {
     "data": {
      "application/vnd.jupyter.widget-view+json": {
       "model_id": "866747beb83245aa9e54ff38026c7c7f",
       "version_major": 2,
       "version_minor": 0
      },
      "text/plain": [
       "Years:   0%|          | 0/7 [00:00<?, ?it/s]"
      ]
     },
     "metadata": {},
     "output_type": "display_data"
    },
    {
     "name": "stderr",
     "output_type": "stream",
     "text": [
      "2024-12-16 13:49:54: oggm.cfg: Reading default parameters from the OGGM `params.cfg` configuration file.\n",
      "2024-12-16 13:49:54: oggm.cfg: Multiprocessing switched OFF according to the parameter file.\n",
      "2024-12-16 13:49:54: oggm.cfg: Multiprocessing: using all available processors (N=32)\n",
      "2024-12-16 13:49:54: oggm.cfg: PARAMS['border'] changed from `80` to `10`.\n",
      "2024-12-16 13:49:54: oggm.cfg: Multiprocessing switched ON after user settings.\n",
      "2024-12-16 13:49:54: oggm.cfg: PARAMS['continue_on_error'] changed from `False` to `True`.\n",
      "2024-12-16 13:49:54: oggm.workflow: init_glacier_directories from prepro level 3 on 1 glaciers.\n",
      "2024-12-16 13:49:54: oggm.workflow: Execute entity tasks [gdir_from_prepro] on 1 glaciers\n",
      "2024-12-16 13:49:55: oggm.workflow: Execute entity tasks [gridded_attributes] on 1 glaciers\n"
     ]
    },
    {
     "data": {
      "application/vnd.jupyter.widget-view+json": {
       "model_id": "32e6a3c433c94cbead79834ca6b4351e",
       "version_major": 2,
       "version_minor": 0
      },
      "text/plain": [
       "Years:   0%|          | 0/7 [00:00<?, ?it/s]"
      ]
     },
     "metadata": {},
     "output_type": "display_data"
    },
    {
     "name": "stderr",
     "output_type": "stream",
     "text": [
      "2024-12-16 13:50:07: oggm.cfg: Reading default parameters from the OGGM `params.cfg` configuration file.\n",
      "2024-12-16 13:50:07: oggm.cfg: Multiprocessing switched OFF according to the parameter file.\n",
      "2024-12-16 13:50:07: oggm.cfg: Multiprocessing: using all available processors (N=32)\n",
      "2024-12-16 13:50:07: oggm.cfg: PARAMS['border'] changed from `80` to `10`.\n",
      "2024-12-16 13:50:07: oggm.cfg: Multiprocessing switched ON after user settings.\n",
      "2024-12-16 13:50:07: oggm.cfg: PARAMS['continue_on_error'] changed from `False` to `True`.\n",
      "2024-12-16 13:50:07: oggm.workflow: init_glacier_directories from prepro level 3 on 1 glaciers.\n",
      "2024-12-16 13:50:07: oggm.workflow: Execute entity tasks [gdir_from_prepro] on 1 glaciers\n",
      "2024-12-16 13:50:08: oggm.workflow: Execute entity tasks [gridded_attributes] on 1 glaciers\n"
     ]
    },
    {
     "data": {
      "application/vnd.jupyter.widget-view+json": {
       "model_id": "e50d4c62704f4d078e6a0f4cb59f2b07",
       "version_major": 2,
       "version_minor": 0
      },
      "text/plain": [
       "Years:   0%|          | 0/7 [00:00<?, ?it/s]"
      ]
     },
     "metadata": {},
     "output_type": "display_data"
    },
    {
     "name": "stderr",
     "output_type": "stream",
     "text": [
      "2024-12-16 13:50:15: oggm.cfg: Reading default parameters from the OGGM `params.cfg` configuration file.\n",
      "2024-12-16 13:50:15: oggm.cfg: Multiprocessing switched OFF according to the parameter file.\n",
      "2024-12-16 13:50:15: oggm.cfg: Multiprocessing: using all available processors (N=32)\n",
      "2024-12-16 13:50:15: oggm.cfg: PARAMS['border'] changed from `80` to `10`.\n",
      "2024-12-16 13:50:15: oggm.cfg: Multiprocessing switched ON after user settings.\n",
      "2024-12-16 13:50:15: oggm.cfg: PARAMS['continue_on_error'] changed from `False` to `True`.\n",
      "2024-12-16 13:50:15: oggm.workflow: init_glacier_directories from prepro level 3 on 1 glaciers.\n",
      "2024-12-16 13:50:15: oggm.workflow: Execute entity tasks [gdir_from_prepro] on 1 glaciers\n",
      "2024-12-16 13:50:15: oggm.workflow: Execute entity tasks [gridded_attributes] on 1 glaciers\n"
     ]
    },
    {
     "data": {
      "application/vnd.jupyter.widget-view+json": {
       "model_id": "e161ff858441482588743747ed681351",
       "version_major": 2,
       "version_minor": 0
      },
      "text/plain": [
       "Years:   0%|          | 0/7 [00:00<?, ?it/s]"
      ]
     },
     "metadata": {},
     "output_type": "display_data"
    },
    {
     "data": {
      "application/vnd.jupyter.widget-view+json": {
       "model_id": "1c82f1dff2d643be843139201dece3bb",
       "version_major": 2,
       "version_minor": 0
      },
      "text/plain": [
       "Glaciers:   0%|          | 0/16 [00:00<?, ?it/s]"
      ]
     },
     "metadata": {},
     "output_type": "display_data"
    },
    {
     "name": "stderr",
     "output_type": "stream",
     "text": [
      "2024-12-16 13:56:47: oggm.cfg: Reading default parameters from the OGGM `params.cfg` configuration file.\n",
      "2024-12-16 13:56:47: oggm.cfg: Multiprocessing switched OFF according to the parameter file.\n",
      "2024-12-16 13:56:47: oggm.cfg: Multiprocessing: using all available processors (N=32)\n",
      "2024-12-16 13:56:47: oggm.cfg: PARAMS['border'] changed from `80` to `10`.\n",
      "2024-12-16 13:56:47: oggm.cfg: Multiprocessing switched ON after user settings.\n",
      "2024-12-16 13:56:47: oggm.cfg: PARAMS['continue_on_error'] changed from `False` to `True`.\n",
      "2024-12-16 13:56:47: oggm.workflow: init_glacier_directories from prepro level 3 on 1 glaciers.\n",
      "2024-12-16 13:56:47: oggm.workflow: Execute entity tasks [gdir_from_prepro] on 1 glaciers\n",
      "2024-12-16 13:56:47: oggm.workflow: Execute entity tasks [gridded_attributes] on 1 glaciers\n"
     ]
    },
    {
     "data": {
      "application/vnd.jupyter.widget-view+json": {
       "model_id": "d9fbcf402d12482f9d682aebc1fbecbc",
       "version_major": 2,
       "version_minor": 0
      },
      "text/plain": [
       "Years:   0%|          | 0/7 [00:00<?, ?it/s]"
      ]
     },
     "metadata": {},
     "output_type": "display_data"
    },
    {
     "name": "stderr",
     "output_type": "stream",
     "text": [
      "2024-12-16 13:57:17: oggm.cfg: Reading default parameters from the OGGM `params.cfg` configuration file.\n",
      "2024-12-16 13:57:17: oggm.cfg: Multiprocessing switched OFF according to the parameter file.\n",
      "2024-12-16 13:57:17: oggm.cfg: Multiprocessing: using all available processors (N=32)\n",
      "2024-12-16 13:57:17: oggm.cfg: PARAMS['border'] changed from `80` to `10`.\n",
      "2024-12-16 13:57:17: oggm.cfg: Multiprocessing switched ON after user settings.\n",
      "2024-12-16 13:57:17: oggm.cfg: PARAMS['continue_on_error'] changed from `False` to `True`.\n",
      "2024-12-16 13:57:17: oggm.workflow: init_glacier_directories from prepro level 3 on 1 glaciers.\n",
      "2024-12-16 13:57:17: oggm.workflow: Execute entity tasks [gdir_from_prepro] on 1 glaciers\n",
      "2024-12-16 13:57:17: oggm.workflow: Execute entity tasks [gridded_attributes] on 1 glaciers\n"
     ]
    },
    {
     "data": {
      "application/vnd.jupyter.widget-view+json": {
       "model_id": "5ec3476b09014b87bfb0d75cd2465067",
       "version_major": 2,
       "version_minor": 0
      },
      "text/plain": [
       "Years:   0%|          | 0/7 [00:00<?, ?it/s]"
      ]
     },
     "metadata": {},
     "output_type": "display_data"
    }
   ],
   "source": [
    "c_prec_range = np.linspace(1, 4, 30)\n",
    "#t_off_range = np.linspace(-1, 2, 10)\n",
    "t_off_range = [0]\n",
    "custom_params = {'learning_rate': 0.01, 'max_depth': 6, 'n_estimators': 800}\n",
    "\n",
    "satellite_years = [2015, 2016, 2017, 2018, 2019, 2020, 2021]\n",
    "satellite_glaciers = [\n",
    "    'adler', 'aletsch', 'allalin', 'basodino', 'claridenL', 'claridenU',\n",
    "    'findelen', 'gries', 'hohlaub', 'limmern', 'oberaar', 'plattalva', 'rhone',\n",
    "    'sanktanna', 'schwarzbach', 'schwarzberg'\n",
    "]\n",
    "\n",
    "scores = []\n",
    "c_prec_, t_off_ = [], []\n",
    "\n",
    "RUN = True\n",
    "if RUN:\n",
    "    emptyfolder('results/nc/sensitivity/')\n",
    "\n",
    "    # first delete results file\n",
    "    if os.path.exists(f'results/sensitivity_scores.csv'):\n",
    "        os.remove(f'results/sensitivity_scores.csv')\n",
    "\n",
    "    # Add header\n",
    "    with open(f'results/sensitivity_scores.csv', 'w') as f:\n",
    "        f.write(\"c_prec,t_off,score\\n\")\n",
    "\n",
    "    # for c_prec, t_off in tqdm(zip(np.random.choice(c_prec_range, size=10),\n",
    "    #                             np.random.choice(t_off_range, size=10)),\n",
    "    #                         desc='c_prec and t_off',\n",
    "    #                         position=0):\n",
    "    for c_prec in tqdm(c_prec_range, desc='c_prec', position=0):\n",
    "        c_prec_.append(c_prec)\n",
    "        t_off = 0.0\n",
    "        t_off_.append(t_off)\n",
    "\n",
    "        # Correct t2m and tp for elevation\n",
    "        data_monthly = correctTP(\n",
    "            data_monthly,\n",
    "            gl_specific=False,\n",
    "            c_prec=c_prec,  # Precipitation correction factor\n",
    "            t_off=t_off  # Temperature offset\n",
    "        )\n",
    "\n",
    "        dataloader_gl = mbm.DataLoader(data=data_monthly,\n",
    "                                       random_seed=config.SEED,\n",
    "                                       meta_data_columns=config.META_DATA)\n",
    "\n",
    "        data_test = dataloader_gl.data[dataloader_gl.data.GLACIER.isin(\n",
    "            test_glaciers)]\n",
    "        data_train = dataloader_gl.data[dataloader_gl.data.GLACIER.isin(\n",
    "            train_glaciers)]\n",
    "\n",
    "        test_perc = (len(data_test) / len(data_train)) * 100\n",
    "\n",
    "        # CV splits\n",
    "        splits, test_set, train_set = getCVSplits(dataloader_gl,\n",
    "                                                  test_split_on='GLACIER',\n",
    "                                                  test_splits=test_glaciers)\n",
    "\n",
    "        df_X_train_subset = train_set['df_X'][all_columns]\n",
    "        params = {**param_init, **custom_params}\n",
    "        custom_model = mbm.models.CustomXGBoostRegressor(**params)\n",
    "\n",
    "        # Fit on train data:\n",
    "        custom_model.fit(train_set['df_X'][all_columns], train_set['y'])\n",
    "\n",
    "        # Make predictions on test\n",
    "        custom_model = custom_model.set_params(device='cpu')\n",
    "\n",
    "        # Calculate scores\n",
    "        score = custom_model.score(test_set['df_X'][all_columns],\n",
    "                                   test_set['y'])  # negative\n",
    "        scores.append(score)\n",
    "\n",
    "        # write score to file\n",
    "        with open('results/sensitivity_scores.csv', 'a') as f:\n",
    "            f.write(f'{c_prec},{t_off},{score}\\n')\n",
    "\n",
    "        for glacierName in tqdm(satellite_glaciers,\n",
    "                                desc='Glaciers',\n",
    "                                position=1,\n",
    "                                leave=False):\n",
    "            # Get stake measurements for the glacier\n",
    "            rgi_gl = rgi_df.loc[glacierName]['rgi_id.v6']\n",
    "            data_gl = data_glamos[data_glamos.RGIId == rgi_gl]\n",
    "            dataset_gl = mbm.Dataset(data=data_gl,\n",
    "                                     region_name='CH',\n",
    "                                     data_path=path_PMB_GLAMOS_csv)\n",
    "            # Get OGGM glacier mask and grid\n",
    "            ds, glacier_indices, gdir = dataset_gl.get_glacier_mask(\n",
    "                custom_working_dir)\n",
    "\n",
    "            # Get glacier grid (preprocessed):\n",
    "            df_grid_monthly = pd.read_csv(path_glacier_grid +\n",
    "                                          f'{glacierName}_grid.csv')\n",
    "            df_grid_monthly['GLACIER'] = glacierName\n",
    "            df_grid_monthly['POINT_ELEVATION'] = df_grid_monthly['topo']\n",
    "            df_grid_monthly.drop_duplicates(inplace=True)  # remove duplicates\n",
    "\n",
    "            df_grid_monthly = correctTP(\n",
    "                df_grid_monthly)  # Correct T & P for altitude\n",
    "\n",
    "            df_grid_monthly = df_grid_monthly[all_columns]\n",
    "\n",
    "            # Add cumulative monthly SMB:\n",
    "            df_grid_monthly = cumulativeMonthly(df_grid_monthly, custom_model)\n",
    "            dataloader = mbm.DataLoader(data=df_grid_monthly,\n",
    "                                        meta_data_columns=config.META_DATA)\n",
    "\n",
    "            # Seasonal predictions:\n",
    "            grouped_ids_annual = GlacierWidePred(custom_model,\n",
    "                                                 df_grid_monthly[all_columns],\n",
    "                                                 type_pred='annual')\n",
    "\n",
    "            grouped_ids_winter = GlacierWidePred(custom_model,\n",
    "                                                 df_grid_monthly[all_columns],\n",
    "                                                 type_pred='winter')\n",
    "\n",
    "            # Save to netcdf for mapping:\n",
    "            path_lv95 = f\"results/nc/sensitivity/{glacierName}/lv95/\"  # Swiss coordinate system\n",
    "            path_wgs84 = f\"results/nc/sensitivity/{glacierName}/wgs84/\"  # Laton coordinate system\n",
    "\n",
    "            for year in tqdm(satellite_years,\n",
    "                             desc='Years',\n",
    "                             leave=False,\n",
    "                             position=2):\n",
    "                # Annual SMB:\n",
    "                pred_y_annual = grouped_ids_annual[grouped_ids_annual.YEAR ==\n",
    "                                                   year].drop(['YEAR'], axis=1)\n",
    "\n",
    "                ds_pred_annual_latlon, ds_pred_annual_xy = predXarray(\n",
    "                    ds, gdir, pred_y_annual)\n",
    "                save_to_netcdf(ds_pred_annual_latlon, path_wgs84,\n",
    "                               f\"{glacierName}_{year}_annual.nc\")\n",
    "                save_to_netcdf(ds_pred_annual_xy, path_lv95,\n",
    "                               f\"{glacierName}_{year}_annual.nc\")\n",
    "\n",
    "                # Winter SMB:\n",
    "                pred_y_winter = grouped_ids_winter[grouped_ids_winter.YEAR ==\n",
    "                                                   year].drop(['YEAR'], axis=1)\n",
    "                ds_pred_winter_latlon, ds_pred_winter_xy = predXarray(\n",
    "                    ds, gdir, pred_y_winter)\n",
    "                save_to_netcdf(ds_pred_winter_latlon, path_wgs84,\n",
    "                               f\"{glacierName}_{year}_winter.nc\")\n",
    "                save_to_netcdf(ds_pred_winter_xy, path_lv95,\n",
    "                               f\"{glacierName}_{year}_winter.nc\")\n",
    "\n",
    "                # Save monthly grids:\n",
    "                df_grid_monthly_gl_y = df_grid_monthly[\n",
    "                    (df_grid_monthly['GLACIER'] == glacierName)\n",
    "                    & (df_grid_monthly['YEAR'] == year)]\n",
    "\n",
    "                for i, month in enumerate(month_abbr_hydr.keys()):\n",
    "                    if month == 'sep_':\n",
    "                        continue\n",
    "                    monthNb = month_abbr_hydr[month]\n",
    "                    df_grid_gl_m = df_grid_monthly_gl_y[\n",
    "                        df_grid_monthly_gl_y['MONTHS'] == month]\n",
    "\n",
    "                    # Get in format for map:\n",
    "                    df_grid_gl_m = df_grid_gl_m.groupby('ID').agg({\n",
    "                        'YEAR':\n",
    "                        'mean',\n",
    "                        'POINT_LAT':\n",
    "                        'mean',\n",
    "                        'POINT_LON':\n",
    "                        'mean',\n",
    "                        'pred':\n",
    "                        'mean',\n",
    "                        'cum_pred':\n",
    "                        'mean'\n",
    "                    })\n",
    "                    pred_y = df_grid_gl_m.drop(['YEAR'], axis=1)\n",
    "                    ds_pred_latlon, ds_pred_xy = predXarray(\n",
    "                        ds, gdir, pred_y, pred_var='cum_pred')\n",
    "                    # save grids\n",
    "                    save_to_netcdf(\n",
    "                        ds_pred_xy, path_lv95,\n",
    "                        f\"{glacierName}_{year}_{monthNb}_{np.round(c_prec, 4)}_{np.round(t_off, 4)}.nc\"\n",
    "                    )\n",
    "                    save_to_netcdf(\n",
    "                        ds_pred_latlon, path_wgs84,\n",
    "                        f\"{glacierName}_{year}_{monthNb}_{np.round(c_prec, 4)}_{np.round(t_off, 4)}.nc\"\n",
    "                    )\n",
    "        free_up_cuda()"
   ]
  },
  {
   "cell_type": "code",
   "execution_count": null,
   "metadata": {},
   "outputs": [],
   "source": []
  }
 ],
 "metadata": {
  "kernelspec": {
   "display_name": "Python 3 (ipykernel)",
   "language": "python",
   "name": "python3"
  },
  "language_info": {
   "codemirror_mode": {
    "name": "ipython",
    "version": 3
   },
   "file_extension": ".py",
   "mimetype": "text/x-python",
   "name": "python",
   "nbconvert_exporter": "python",
   "pygments_lexer": "ipython3",
   "version": "3.10.0"
  }
 },
 "nbformat": 4,
 "nbformat_minor": 4
}
