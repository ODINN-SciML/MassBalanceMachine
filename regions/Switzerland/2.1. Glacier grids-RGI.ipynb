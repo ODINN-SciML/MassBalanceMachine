{
 "cells": [
  {
   "cell_type": "markdown",
   "metadata": {},
   "source": [
    "# Glacier grids from RGI:\n",
    "\n",
    "Creates monthly grid files for the MBM to make PMB predictions over the whole glacier grid. The files come from the RGI grid and use OGGM topography. Computing takes a long time because of the conversion to monthly format."
   ]
  },
  {
   "cell_type": "markdown",
   "metadata": {},
   "source": [
    "## Setting up:"
   ]
  },
  {
   "cell_type": "code",
   "execution_count": 1,
   "metadata": {},
   "outputs": [],
   "source": [
    "import pandas as pd\n",
    "import os\n",
    "import warnings\n",
    "from tqdm.notebook import tqdm\n",
    "import re\n",
    "import massbalancemachine as mbm\n",
    "import geopandas as gpd\n",
    "import matplotlib.pyplot as plt\n",
    "from cmcrameri import cm\n",
    "from oggm import utils, workflow\n",
    "from oggm import cfg as oggmCfg\n",
    "import geopandas as gpd\n",
    "import geopandas as gpd\n",
    "import traceback\n",
    "\n",
    "# scripts\n",
    "from scripts.helpers import *\n",
    "from scripts.glamos_preprocess import *\n",
    "from scripts.plots import *\n",
    "from scripts.geodata import *\n",
    "from scripts.xgb_helpers import *\n",
    "from scripts.config_CH import *\n",
    "\n",
    "warnings.filterwarnings('ignore')\n",
    "%load_ext autoreload\n",
    "%autoreload 2\n",
    "\n",
    "cfg = mbm.SwitzerlandConfig()"
   ]
  },
  {
   "cell_type": "code",
   "execution_count": 2,
   "metadata": {},
   "outputs": [],
   "source": [
    "seed_all(cfg.seed)\n",
    "free_up_cuda()  # in case no memory\n",
    "\n",
    "# Plot styles:\n",
    "path_style_sheet = 'scripts/example.mplstyle'\n",
    "plt.style.use(path_style_sheet)\n",
    "\n",
    "# Climate columns\n",
    "vois_climate = [\n",
    "    't2m', 'tp', 'slhf', 'sshf', 'ssrd', 'fal', 'str', 'u10', 'v10'\n",
    "]\n",
    "# Topographical columns\n",
    "voi_topographical = [\n",
    "    \"aspect\",\n",
    "    \"slope\",\n",
    "    \"hugonnet_dhdt\",\n",
    "    \"consensus_ice_thickness\",\n",
    "    \"millan_v\",\n",
    "    \"topo\",\n",
    "]\n"
   ]
  },
  {
   "cell_type": "markdown",
   "metadata": {},
   "source": [
    "### Read PMB data:"
   ]
  },
  {
   "cell_type": "code",
   "execution_count": 3,
   "metadata": {},
   "outputs": [
    {
     "data": {
      "text/html": [
       "<div>\n",
       "<style scoped>\n",
       "    .dataframe tbody tr th:only-of-type {\n",
       "        vertical-align: middle;\n",
       "    }\n",
       "\n",
       "    .dataframe tbody tr th {\n",
       "        vertical-align: top;\n",
       "    }\n",
       "\n",
       "    .dataframe thead th {\n",
       "        text-align: right;\n",
       "    }\n",
       "</style>\n",
       "<table border=\"1\" class=\"dataframe\">\n",
       "  <thead>\n",
       "    <tr style=\"text-align: right;\">\n",
       "      <th></th>\n",
       "      <th>full_name</th>\n",
       "      <th>sgi-id</th>\n",
       "      <th>rgi_id_v6_2016_shp</th>\n",
       "      <th>rgi_id.v6</th>\n",
       "      <th>rgi_id.v7</th>\n",
       "      <th>Issue</th>\n",
       "    </tr>\n",
       "    <tr>\n",
       "      <th>short_name</th>\n",
       "      <th></th>\n",
       "      <th></th>\n",
       "      <th></th>\n",
       "      <th></th>\n",
       "      <th></th>\n",
       "      <th></th>\n",
       "    </tr>\n",
       "  </thead>\n",
       "  <tbody>\n",
       "    <tr>\n",
       "      <th>adler</th>\n",
       "      <td>Adler</td>\n",
       "      <td>B56-14</td>\n",
       "      <td>RGI60-11.B56-14</td>\n",
       "      <td>RGI60-11.02764</td>\n",
       "      <td>RGI2000-v7.0-G-11-01075</td>\n",
       "      <td>False</td>\n",
       "    </tr>\n",
       "    <tr>\n",
       "      <th>albigna</th>\n",
       "      <td>Albigna</td>\n",
       "      <td>C84-16</td>\n",
       "      <td>RGI60-11.C84-16</td>\n",
       "      <td>RGI60-11.02285</td>\n",
       "      <td>RGI2000-v7.0-G-11-02309</td>\n",
       "      <td>True</td>\n",
       "    </tr>\n",
       "  </tbody>\n",
       "</table>\n",
       "</div>"
      ],
      "text/plain": [
       "           full_name  sgi-id rgi_id_v6_2016_shp       rgi_id.v6  \\\n",
       "short_name                                                        \n",
       "adler          Adler  B56-14    RGI60-11.B56-14  RGI60-11.02764   \n",
       "albigna      Albigna  C84-16    RGI60-11.C84-16  RGI60-11.02285   \n",
       "\n",
       "                          rgi_id.v7  Issue  \n",
       "short_name                                  \n",
       "adler       RGI2000-v7.0-G-11-01075  False  \n",
       "albigna     RGI2000-v7.0-G-11-02309   True  "
      ]
     },
     "execution_count": 3,
     "metadata": {},
     "output_type": "execute_result"
    }
   ],
   "source": [
    "# RGI Ids:\n",
    "# Read glacier ids:\n",
    "rgi_df = pd.read_csv(path_glacier_ids, sep=',')\n",
    "rgi_df.rename(columns=lambda x: x.strip(), inplace=True)\n",
    "rgi_df.sort_values(by='short_name', inplace=True)\n",
    "rgi_df.set_index('short_name', inplace=True)\n",
    "rgi_df.head(2)"
   ]
  },
  {
   "cell_type": "code",
   "execution_count": 4,
   "metadata": {},
   "outputs": [
    {
     "name": "stdout",
     "output_type": "stream",
     "text": [
      "Number of glaciers with pcsr: 31\n"
     ]
    },
    {
     "data": {
      "text/plain": [
       "['schwarzbach',\n",
       " 'taelliboden',\n",
       " 'pizol',\n",
       " 'sanktanna',\n",
       " 'corvatsch',\n",
       " 'sexrouge',\n",
       " 'murtel',\n",
       " 'plattalva',\n",
       " 'tortin',\n",
       " 'basodino',\n",
       " 'limmern',\n",
       " 'adler',\n",
       " 'hohlaub',\n",
       " 'albigna',\n",
       " 'tsanfleuron',\n",
       " 'silvretta',\n",
       " 'oberaar',\n",
       " 'gries',\n",
       " 'clariden',\n",
       " 'gietro',\n",
       " 'schwarzberg',\n",
       " 'forno',\n",
       " 'plainemorte',\n",
       " 'allalin',\n",
       " 'otemma',\n",
       " 'findelen',\n",
       " 'rhone',\n",
       " 'morteratsch',\n",
       " 'corbassiere',\n",
       " 'gorner',\n",
       " 'aletsch']"
      ]
     },
     "execution_count": 4,
     "metadata": {},
     "output_type": "execute_result"
    }
   ],
   "source": [
    "data_glamos = pd.read_csv(path_PMB_GLAMOS_csv + 'CH_wgms_dataset_all.csv')\n",
    "glDirect = [\n",
    "    re.search(r'xr_direct_(.*?)\\.nc', f).group(1)\n",
    "    for f in os.listdir(path_pcsr + 'csv/')\n",
    "]\n",
    "data_glamos = data_glamos[data_glamos.GLACIER.isin(glDirect)]\n",
    "glacier_list = list(data_glamos.GLACIER.unique())\n",
    "print('Number of glaciers with pcsr:', len(glacier_list))\n",
    "\n",
    "# Glacier outlines:\n",
    "glacier_outline_rgi = gpd.read_file(\n",
    "    '../../../data/GLAMOS/RGI/nsidc0770_11.rgi60.CentralEurope/11_rgi60_CentralEurope.shp'\n",
    ")\n",
    "\n",
    "# Sort glaciers by area\n",
    "gl_area = get_gl_area()\n",
    "gl_area['clariden'] = gl_area['claridenL']\n",
    "\n",
    "\n",
    "# Sort the lists by area if available in gl_area\n",
    "def sort_by_area(glacier_list, gl_area):\n",
    "    return sorted(glacier_list, key=lambda g: gl_area.get(g, 0), reverse=False)\n",
    "\n",
    "\n",
    "glacier_list = sort_by_area(glacier_list, gl_area)\n",
    "glacier_list"
   ]
  },
  {
   "cell_type": "code",
   "execution_count": 5,
   "metadata": {},
   "outputs": [
    {
     "name": "stderr",
     "output_type": "stream",
     "text": [
      "2025-03-03 14:10:15: oggm.cfg: Reading default parameters from the OGGM `params.cfg` configuration file.\n",
      "2025-03-03 14:10:15: oggm.cfg: Multiprocessing switched OFF according to the parameter file.\n",
      "2025-03-03 14:10:15: oggm.cfg: Multiprocessing: using all available processors (N=32)\n",
      "2025-03-03 14:10:15: oggm.cfg: PARAMS['border'] changed from `80` to `10`.\n",
      "2025-03-03 14:10:15: oggm.cfg: Multiprocessing switched ON after user settings.\n",
      "2025-03-03 14:10:15: oggm.cfg: PARAMS['continue_on_error'] changed from `False` to `True`.\n",
      "2025-03-03 14:10:16: oggm.workflow: init_glacier_directories from prepro level 3 on 32 glaciers.\n",
      "2025-03-03 14:10:16: oggm.workflow: Execute entity tasks [gdir_from_prepro] on 32 glaciers\n"
     ]
    },
    {
     "name": "stdout",
     "output_type": "stream",
     "text": [
      "Number of rgis: 32\n"
     ]
    },
    {
     "name": "stderr",
     "output_type": "stream",
     "text": [
      "Process ForkPoolWorker-32:\n",
      "Process ForkPoolWorker-11:\n",
      "Process ForkPoolWorker-22:\n",
      "Process ForkPoolWorker-30:\n",
      "Process ForkPoolWorker-20:\n",
      "Process ForkPoolWorker-31:\n",
      "Traceback (most recent call last):\n",
      "Traceback (most recent call last):\n",
      "Process ForkPoolWorker-33:\n",
      "Process ForkPoolWorker-25:\n",
      "Traceback (most recent call last):\n",
      "Process ForkPoolWorker-29:\n",
      "  File \"/home/vmarijn/mambaforge/envs/MassBalanceMachine/lib/python3.11/multiprocessing/process.py\", line 314, in _bootstrap\n",
      "    self.run()\n",
      "Traceback (most recent call last):\n",
      "Process ForkPoolWorker-21:\n",
      "  File \"/home/vmarijn/mambaforge/envs/MassBalanceMachine/lib/python3.11/multiprocessing/process.py\", line 314, in _bootstrap\n",
      "    self.run()\n",
      "Process ForkPoolWorker-17:\n",
      "Traceback (most recent call last):\n",
      "Process ForkPoolWorker-9:\n",
      "  File \"/home/vmarijn/mambaforge/envs/MassBalanceMachine/lib/python3.11/multiprocessing/process.py\", line 108, in run\n",
      "    self._target(*self._args, **self._kwargs)\n",
      "  File \"/home/vmarijn/mambaforge/envs/MassBalanceMachine/lib/python3.11/multiprocessing/process.py\", line 108, in run\n",
      "    self._target(*self._args, **self._kwargs)\n",
      "  File \"/home/vmarijn/mambaforge/envs/MassBalanceMachine/lib/python3.11/multiprocessing/process.py\", line 314, in _bootstrap\n",
      "    self.run()\n",
      "Traceback (most recent call last):\n",
      "  File \"/home/vmarijn/mambaforge/envs/MassBalanceMachine/lib/python3.11/multiprocessing/process.py\", line 314, in _bootstrap\n",
      "    self.run()\n",
      "Traceback (most recent call last):\n",
      "Traceback (most recent call last):\n",
      "  File \"/home/vmarijn/mambaforge/envs/MassBalanceMachine/lib/python3.11/multiprocessing/process.py\", line 314, in _bootstrap\n",
      "    self.run()\n",
      "Traceback (most recent call last):\n",
      "Traceback (most recent call last):\n",
      "  File \"/home/vmarijn/mambaforge/envs/MassBalanceMachine/lib/python3.11/multiprocessing/pool.py\", line 114, in worker\n",
      "    task = get()\n",
      "           ^^^^^\n",
      "  File \"/home/vmarijn/mambaforge/envs/MassBalanceMachine/lib/python3.11/multiprocessing/process.py\", line 108, in run\n",
      "    self._target(*self._args, **self._kwargs)\n",
      "  File \"/home/vmarijn/mambaforge/envs/MassBalanceMachine/lib/python3.11/multiprocessing/pool.py\", line 114, in worker\n",
      "    task = get()\n",
      "           ^^^^^\n",
      "Traceback (most recent call last):\n",
      "  File \"/home/vmarijn/mambaforge/envs/MassBalanceMachine/lib/python3.11/multiprocessing/process.py\", line 314, in _bootstrap\n",
      "    self.run()\n",
      "  File \"/home/vmarijn/mambaforge/envs/MassBalanceMachine/lib/python3.11/multiprocessing/process.py\", line 314, in _bootstrap\n",
      "    self.run()\n",
      "  File \"/home/vmarijn/mambaforge/envs/MassBalanceMachine/lib/python3.11/multiprocessing/process.py\", line 314, in _bootstrap\n",
      "    self.run()\n",
      "Traceback (most recent call last):\n",
      "  File \"/home/vmarijn/mambaforge/envs/MassBalanceMachine/lib/python3.11/multiprocessing/queues.py\", line 364, in get\n",
      "    with self._rlock:\n",
      "  File \"/home/vmarijn/mambaforge/envs/MassBalanceMachine/lib/python3.11/multiprocessing/process.py\", line 108, in run\n",
      "    self._target(*self._args, **self._kwargs)\n",
      "  File \"/home/vmarijn/mambaforge/envs/MassBalanceMachine/lib/python3.11/multiprocessing/process.py\", line 314, in _bootstrap\n",
      "    self.run()\n",
      "  File \"/home/vmarijn/mambaforge/envs/MassBalanceMachine/lib/python3.11/multiprocessing/pool.py\", line 114, in worker\n",
      "    task = get()\n",
      "           ^^^^^\n",
      "  File \"/home/vmarijn/mambaforge/envs/MassBalanceMachine/lib/python3.11/multiprocessing/queues.py\", line 364, in get\n",
      "    with self._rlock:\n",
      "Process ForkPoolWorker-7:\n",
      "  File \"/home/vmarijn/mambaforge/envs/MassBalanceMachine/lib/python3.11/multiprocessing/process.py\", line 108, in run\n",
      "    self._target(*self._args, **self._kwargs)\n",
      "  File \"/home/vmarijn/mambaforge/envs/MassBalanceMachine/lib/python3.11/multiprocessing/process.py\", line 108, in run\n",
      "    self._target(*self._args, **self._kwargs)\n",
      "  File \"/home/vmarijn/mambaforge/envs/MassBalanceMachine/lib/python3.11/multiprocessing/process.py\", line 108, in run\n",
      "    self._target(*self._args, **self._kwargs)\n",
      "  File \"/home/vmarijn/mambaforge/envs/MassBalanceMachine/lib/python3.11/multiprocessing/process.py\", line 314, in _bootstrap\n",
      "    self.run()\n",
      "  File \"/home/vmarijn/mambaforge/envs/MassBalanceMachine/lib/python3.11/multiprocessing/process.py\", line 314, in _bootstrap\n",
      "    self.run()\n",
      "  File \"/home/vmarijn/mambaforge/envs/MassBalanceMachine/lib/python3.11/multiprocessing/synchronize.py\", line 95, in __enter__\n",
      "    return self._semlock.__enter__()\n",
      "           ^^^^^^^^^^^^^^^^^^^^^^^^^\n",
      "  File \"/home/vmarijn/mambaforge/envs/MassBalanceMachine/lib/python3.11/multiprocessing/process.py\", line 108, in run\n",
      "    self._target(*self._args, **self._kwargs)\n",
      "  File \"/home/vmarijn/mambaforge/envs/MassBalanceMachine/lib/python3.11/multiprocessing/queues.py\", line 364, in get\n",
      "    with self._rlock:\n",
      "  File \"/home/vmarijn/mambaforge/envs/MassBalanceMachine/lib/python3.11/multiprocessing/pool.py\", line 114, in worker\n",
      "    task = get()\n",
      "           ^^^^^\n",
      "Process ForkPoolWorker-28:\n",
      "Process ForkPoolWorker-19:\n",
      "  File \"/home/vmarijn/mambaforge/envs/MassBalanceMachine/lib/python3.11/multiprocessing/process.py\", line 314, in _bootstrap\n",
      "    self.run()\n",
      "  File \"/home/vmarijn/mambaforge/envs/MassBalanceMachine/lib/python3.11/multiprocessing/process.py\", line 108, in run\n",
      "    self._target(*self._args, **self._kwargs)\n",
      "  File \"/home/vmarijn/mambaforge/envs/MassBalanceMachine/lib/python3.11/multiprocessing/pool.py\", line 114, in worker\n",
      "    task = get()\n",
      "           ^^^^^\n",
      "  File \"/home/vmarijn/mambaforge/envs/MassBalanceMachine/lib/python3.11/multiprocessing/pool.py\", line 114, in worker\n",
      "    task = get()\n",
      "           ^^^^^\n",
      "  File \"/home/vmarijn/mambaforge/envs/MassBalanceMachine/lib/python3.11/multiprocessing/synchronize.py\", line 95, in __enter__\n",
      "    return self._semlock.__enter__()\n",
      "           ^^^^^^^^^^^^^^^^^^^^^^^^^\n",
      "Process ForkPoolWorker-12:\n",
      "Process ForkPoolWorker-15:\n",
      "  File \"/home/vmarijn/mambaforge/envs/MassBalanceMachine/lib/python3.11/multiprocessing/process.py\", line 108, in run\n",
      "    self._target(*self._args, **self._kwargs)\n",
      "  File \"/home/vmarijn/mambaforge/envs/MassBalanceMachine/lib/python3.11/multiprocessing/pool.py\", line 114, in worker\n",
      "    task = get()\n",
      "           ^^^^^\n",
      "Process ForkPoolWorker-13:\n",
      "  File \"/home/vmarijn/mambaforge/envs/MassBalanceMachine/lib/python3.11/multiprocessing/process.py\", line 108, in run\n",
      "    self._target(*self._args, **self._kwargs)\n",
      "KeyboardInterrupt\n",
      "  File \"/home/vmarijn/mambaforge/envs/MassBalanceMachine/lib/python3.11/multiprocessing/queues.py\", line 364, in get\n",
      "    with self._rlock:\n",
      "  File \"/home/vmarijn/mambaforge/envs/MassBalanceMachine/lib/python3.11/multiprocessing/process.py\", line 108, in run\n",
      "    self._target(*self._args, **self._kwargs)\n",
      "  File \"/home/vmarijn/mambaforge/envs/MassBalanceMachine/lib/python3.11/multiprocessing/pool.py\", line 114, in worker\n",
      "    task = get()\n",
      "           ^^^^^\n",
      "  File \"/home/vmarijn/mambaforge/envs/MassBalanceMachine/lib/python3.11/multiprocessing/synchronize.py\", line 95, in __enter__\n",
      "    return self._semlock.__enter__()\n",
      "           ^^^^^^^^^^^^^^^^^^^^^^^^^\n",
      "  File \"/home/vmarijn/mambaforge/envs/MassBalanceMachine/lib/python3.11/multiprocessing/pool.py\", line 114, in worker\n",
      "    task = get()\n",
      "           ^^^^^\n",
      "  File \"/home/vmarijn/mambaforge/envs/MassBalanceMachine/lib/python3.11/multiprocessing/synchronize.py\", line 95, in __enter__\n",
      "    return self._semlock.__enter__()\n",
      "           ^^^^^^^^^^^^^^^^^^^^^^^^^\n",
      "  File \"/home/vmarijn/mambaforge/envs/MassBalanceMachine/lib/python3.11/multiprocessing/queues.py\", line 364, in get\n",
      "    with self._rlock:\n",
      "  File \"/home/vmarijn/mambaforge/envs/MassBalanceMachine/lib/python3.11/multiprocessing/queues.py\", line 364, in get\n",
      "    with self._rlock:\n",
      "KeyboardInterrupt\n",
      "  File \"/home/vmarijn/mambaforge/envs/MassBalanceMachine/lib/python3.11/multiprocessing/pool.py\", line 114, in worker\n",
      "    task = get()\n",
      "           ^^^^^\n",
      "  File \"/home/vmarijn/mambaforge/envs/MassBalanceMachine/lib/python3.11/multiprocessing/pool.py\", line 114, in worker\n",
      "    task = get()\n",
      "           ^^^^^\n",
      "Traceback (most recent call last):\n",
      "  File \"/home/vmarijn/mambaforge/envs/MassBalanceMachine/lib/python3.11/multiprocessing/pool.py\", line 114, in worker\n",
      "    task = get()\n",
      "           ^^^^^\n",
      "Traceback (most recent call last):\n",
      "  File \"/home/vmarijn/mambaforge/envs/MassBalanceMachine/lib/python3.11/multiprocessing/queues.py\", line 364, in get\n",
      "    with self._rlock:\n",
      "Process ForkPoolWorker-26:\n",
      "Traceback (most recent call last):\n",
      "  File \"/home/vmarijn/mambaforge/envs/MassBalanceMachine/lib/python3.11/multiprocessing/queues.py\", line 364, in get\n",
      "    with self._rlock:\n",
      "Process ForkPoolWorker-14:\n",
      "  File \"/home/vmarijn/mambaforge/envs/MassBalanceMachine/lib/python3.11/multiprocessing/synchronize.py\", line 95, in __enter__\n",
      "    return self._semlock.__enter__()\n",
      "           ^^^^^^^^^^^^^^^^^^^^^^^^^\n",
      "Traceback (most recent call last):\n",
      "KeyboardInterrupt\n",
      "Traceback (most recent call last):\n",
      "  File \"/home/vmarijn/mambaforge/envs/MassBalanceMachine/lib/python3.11/multiprocessing/synchronize.py\", line 95, in __enter__\n",
      "    return self._semlock.__enter__()\n",
      "           ^^^^^^^^^^^^^^^^^^^^^^^^^\n",
      "Traceback (most recent call last):\n",
      "  File \"/home/vmarijn/mambaforge/envs/MassBalanceMachine/lib/python3.11/multiprocessing/queues.py\", line 364, in get\n",
      "    with self._rlock:\n",
      "Process ForkPoolWorker-6:\n",
      "Process ForkPoolWorker-16:\n",
      "  File \"/home/vmarijn/mambaforge/envs/MassBalanceMachine/lib/python3.11/multiprocessing/queues.py\", line 364, in get\n",
      "    with self._rlock:\n",
      "Process ForkPoolWorker-18:\n",
      "Process ForkPoolWorker-8:\n",
      "  File \"/home/vmarijn/mambaforge/envs/MassBalanceMachine/lib/python3.11/multiprocessing/queues.py\", line 364, in get\n",
      "    with self._rlock:\n",
      "  File \"/home/vmarijn/mambaforge/envs/MassBalanceMachine/lib/python3.11/multiprocessing/queues.py\", line 364, in get\n",
      "    with self._rlock:\n",
      "Process ForkPoolWorker-2:\n",
      "  File \"/home/vmarijn/mambaforge/envs/MassBalanceMachine/lib/python3.11/multiprocessing/process.py\", line 314, in _bootstrap\n",
      "    self.run()\n",
      "  File \"/home/vmarijn/mambaforge/envs/MassBalanceMachine/lib/python3.11/multiprocessing/process.py\", line 314, in _bootstrap\n",
      "    self.run()\n",
      "  File \"/home/vmarijn/mambaforge/envs/MassBalanceMachine/lib/python3.11/multiprocessing/synchronize.py\", line 95, in __enter__\n",
      "    return self._semlock.__enter__()\n",
      "           ^^^^^^^^^^^^^^^^^^^^^^^^^\n",
      "Process ForkPoolWorker-27:\n",
      "Process ForkPoolWorker-4:\n",
      "  File \"/home/vmarijn/mambaforge/envs/MassBalanceMachine/lib/python3.11/multiprocessing/process.py\", line 314, in _bootstrap\n",
      "    self.run()\n",
      "  File \"/home/vmarijn/mambaforge/envs/MassBalanceMachine/lib/python3.11/multiprocessing/synchronize.py\", line 95, in __enter__\n",
      "    return self._semlock.__enter__()\n",
      "           ^^^^^^^^^^^^^^^^^^^^^^^^^\n",
      "KeyboardInterrupt\n",
      "KeyboardInterrupt\n",
      "Traceback (most recent call last):\n",
      "Process ForkPoolWorker-3:\n",
      "Process ForkPoolWorker-5:\n",
      "Traceback (most recent call last):\n",
      "  File \"/home/vmarijn/mambaforge/envs/MassBalanceMachine/lib/python3.11/multiprocessing/synchronize.py\", line 95, in __enter__\n",
      "    return self._semlock.__enter__()\n",
      "           ^^^^^^^^^^^^^^^^^^^^^^^^^\n",
      "  File \"/home/vmarijn/mambaforge/envs/MassBalanceMachine/lib/python3.11/multiprocessing/process.py\", line 314, in _bootstrap\n",
      "    self.run()\n",
      "  File \"/home/vmarijn/mambaforge/envs/MassBalanceMachine/lib/python3.11/multiprocessing/process.py\", line 314, in _bootstrap\n",
      "    self.run()\n",
      "  File \"/home/vmarijn/mambaforge/envs/MassBalanceMachine/lib/python3.11/multiprocessing/synchronize.py\", line 95, in __enter__\n",
      "    return self._semlock.__enter__()\n",
      "           ^^^^^^^^^^^^^^^^^^^^^^^^^\n",
      "  File \"/home/vmarijn/mambaforge/envs/MassBalanceMachine/lib/python3.11/multiprocessing/process.py\", line 314, in _bootstrap\n",
      "    self.run()\n",
      "Process ForkPoolWorker-10:\n",
      "  File \"/home/vmarijn/mambaforge/envs/MassBalanceMachine/lib/python3.11/multiprocessing/process.py\", line 108, in run\n",
      "    self._target(*self._args, **self._kwargs)\n",
      "Traceback (most recent call last):\n",
      "KeyboardInterrupt\n",
      "Traceback (most recent call last):\n",
      "  File \"/home/vmarijn/mambaforge/envs/MassBalanceMachine/lib/python3.11/multiprocessing/synchronize.py\", line 95, in __enter__\n",
      "    return self._semlock.__enter__()\n",
      "           ^^^^^^^^^^^^^^^^^^^^^^^^^\n",
      "  File \"/home/vmarijn/mambaforge/envs/MassBalanceMachine/lib/python3.11/multiprocessing/process.py\", line 108, in run\n",
      "    self._target(*self._args, **self._kwargs)\n",
      "Traceback (most recent call last):\n",
      "  File \"/home/vmarijn/mambaforge/envs/MassBalanceMachine/lib/python3.11/multiprocessing/process.py\", line 108, in run\n",
      "    self._target(*self._args, **self._kwargs)\n",
      "KeyboardInterrupt\n",
      "Traceback (most recent call last):\n",
      "Traceback (most recent call last):\n",
      "  File \"/home/vmarijn/mambaforge/envs/MassBalanceMachine/lib/python3.11/multiprocessing/process.py\", line 314, in _bootstrap\n",
      "    self.run()\n",
      "KeyboardInterrupt\n",
      "  File \"/home/vmarijn/mambaforge/envs/MassBalanceMachine/lib/python3.11/multiprocessing/synchronize.py\", line 95, in __enter__\n",
      "    return self._semlock.__enter__()\n",
      "           ^^^^^^^^^^^^^^^^^^^^^^^^^\n",
      "  File \"/home/vmarijn/mambaforge/envs/MassBalanceMachine/lib/python3.11/multiprocessing/process.py\", line 108, in run\n",
      "    self._target(*self._args, **self._kwargs)\n",
      "  File \"/home/vmarijn/mambaforge/envs/MassBalanceMachine/lib/python3.11/multiprocessing/process.py\", line 108, in run\n",
      "    self._target(*self._args, **self._kwargs)\n",
      "Traceback (most recent call last):\n",
      "KeyboardInterrupt\n",
      "Traceback (most recent call last):\n",
      "  File \"/home/vmarijn/mambaforge/envs/MassBalanceMachine/lib/python3.11/multiprocessing/process.py\", line 108, in run\n",
      "    self._target(*self._args, **self._kwargs)\n",
      "KeyboardInterrupt\n",
      "  File \"/home/vmarijn/mambaforge/envs/MassBalanceMachine/lib/python3.11/multiprocessing/pool.py\", line 114, in worker\n",
      "    task = get()\n",
      "           ^^^^^\n",
      "  File \"/home/vmarijn/mambaforge/envs/MassBalanceMachine/lib/python3.11/multiprocessing/process.py\", line 314, in _bootstrap\n",
      "    self.run()\n",
      "Traceback (most recent call last):\n",
      "Traceback (most recent call last):\n",
      "KeyboardInterrupt\n",
      "  File \"/home/vmarijn/mambaforge/envs/MassBalanceMachine/lib/python3.11/multiprocessing/pool.py\", line 114, in worker\n",
      "    task = get()\n",
      "           ^^^^^\n",
      "  File \"/home/vmarijn/mambaforge/envs/MassBalanceMachine/lib/python3.11/multiprocessing/process.py\", line 314, in _bootstrap\n",
      "    self.run()\n",
      "  File \"/home/vmarijn/mambaforge/envs/MassBalanceMachine/lib/python3.11/multiprocessing/process.py\", line 314, in _bootstrap\n",
      "    self.run()\n",
      "Traceback (most recent call last):\n",
      "  File \"/home/vmarijn/mambaforge/envs/MassBalanceMachine/lib/python3.11/multiprocessing/pool.py\", line 114, in worker\n",
      "    task = get()\n",
      "           ^^^^^\n",
      "  File \"/home/vmarijn/mambaforge/envs/MassBalanceMachine/lib/python3.11/multiprocessing/process.py\", line 314, in _bootstrap\n",
      "    self.run()\n",
      "KeyboardInterrupt\n",
      "  File \"/home/vmarijn/mambaforge/envs/MassBalanceMachine/lib/python3.11/multiprocessing/process.py\", line 314, in _bootstrap\n",
      "    self.run()\n",
      "  File \"/home/vmarijn/mambaforge/envs/MassBalanceMachine/lib/python3.11/multiprocessing/process.py\", line 108, in run\n",
      "    self._target(*self._args, **self._kwargs)\n",
      "  File \"/home/vmarijn/mambaforge/envs/MassBalanceMachine/lib/python3.11/multiprocessing/pool.py\", line 114, in worker\n",
      "    task = get()\n",
      "           ^^^^^\n",
      "  File \"/home/vmarijn/mambaforge/envs/MassBalanceMachine/lib/python3.11/multiprocessing/process.py\", line 314, in _bootstrap\n",
      "    self.run()\n",
      "  File \"/home/vmarijn/mambaforge/envs/MassBalanceMachine/lib/python3.11/multiprocessing/pool.py\", line 114, in worker\n",
      "    task = get()\n",
      "           ^^^^^\n",
      "  File \"/home/vmarijn/mambaforge/envs/MassBalanceMachine/lib/python3.11/multiprocessing/process.py\", line 314, in _bootstrap\n",
      "    self.run()\n",
      "  File \"/home/vmarijn/mambaforge/envs/MassBalanceMachine/lib/python3.11/multiprocessing/pool.py\", line 114, in worker\n",
      "    task = get()\n",
      "           ^^^^^\n",
      "  File \"/home/vmarijn/mambaforge/envs/MassBalanceMachine/lib/python3.11/multiprocessing/process.py\", line 108, in run\n",
      "    self._target(*self._args, **self._kwargs)\n",
      "  File \"/home/vmarijn/mambaforge/envs/MassBalanceMachine/lib/python3.11/multiprocessing/process.py\", line 108, in run\n",
      "    self._target(*self._args, **self._kwargs)\n",
      "  File \"/home/vmarijn/mambaforge/envs/MassBalanceMachine/lib/python3.11/multiprocessing/process.py\", line 314, in _bootstrap\n",
      "    self.run()\n",
      "  File \"/home/vmarijn/mambaforge/envs/MassBalanceMachine/lib/python3.11/multiprocessing/process.py\", line 314, in _bootstrap\n",
      "    self.run()\n",
      "  File \"/home/vmarijn/mambaforge/envs/MassBalanceMachine/lib/python3.11/multiprocessing/process.py\", line 314, in _bootstrap\n",
      "    self.run()\n",
      "  File \"/home/vmarijn/mambaforge/envs/MassBalanceMachine/lib/python3.11/multiprocessing/queues.py\", line 364, in get\n",
      "    with self._rlock:\n",
      "  File \"/home/vmarijn/mambaforge/envs/MassBalanceMachine/lib/python3.11/multiprocessing/process.py\", line 108, in run\n",
      "    self._target(*self._args, **self._kwargs)\n",
      "  File \"/home/vmarijn/mambaforge/envs/MassBalanceMachine/lib/python3.11/multiprocessing/process.py\", line 108, in run\n",
      "    self._target(*self._args, **self._kwargs)\n",
      "  File \"/home/vmarijn/mambaforge/envs/MassBalanceMachine/lib/python3.11/multiprocessing/queues.py\", line 364, in get\n",
      "    with self._rlock:\n",
      "  File \"/home/vmarijn/mambaforge/envs/MassBalanceMachine/lib/python3.11/multiprocessing/pool.py\", line 114, in worker\n",
      "    task = get()\n",
      "           ^^^^^\n",
      "  File \"/home/vmarijn/mambaforge/envs/MassBalanceMachine/lib/python3.11/multiprocessing/process.py\", line 108, in run\n",
      "    self._target(*self._args, **self._kwargs)\n",
      "  File \"/home/vmarijn/mambaforge/envs/MassBalanceMachine/lib/python3.11/multiprocessing/pool.py\", line 114, in worker\n",
      "    task = get()\n",
      "           ^^^^^\n",
      "  File \"/home/vmarijn/mambaforge/envs/MassBalanceMachine/lib/python3.11/multiprocessing/queues.py\", line 364, in get\n",
      "    with self._rlock:\n",
      "  File \"/home/vmarijn/mambaforge/envs/MassBalanceMachine/lib/python3.11/multiprocessing/queues.py\", line 364, in get\n",
      "    with self._rlock:\n",
      "  File \"/home/vmarijn/mambaforge/envs/MassBalanceMachine/lib/python3.11/multiprocessing/process.py\", line 108, in run\n",
      "    self._target(*self._args, **self._kwargs)\n",
      "  File \"/home/vmarijn/mambaforge/envs/MassBalanceMachine/lib/python3.11/multiprocessing/process.py\", line 108, in run\n",
      "    self._target(*self._args, **self._kwargs)\n",
      "  File \"/home/vmarijn/mambaforge/envs/MassBalanceMachine/lib/python3.11/multiprocessing/synchronize.py\", line 95, in __enter__\n",
      "    return self._semlock.__enter__()\n",
      "           ^^^^^^^^^^^^^^^^^^^^^^^^^\n",
      "  File \"/home/vmarijn/mambaforge/envs/MassBalanceMachine/lib/python3.11/multiprocessing/queues.py\", line 364, in get\n",
      "    with self._rlock:\n",
      "  File \"/home/vmarijn/mambaforge/envs/MassBalanceMachine/lib/python3.11/multiprocessing/synchronize.py\", line 95, in __enter__\n",
      "    return self._semlock.__enter__()\n",
      "           ^^^^^^^^^^^^^^^^^^^^^^^^^\n",
      "  File \"/home/vmarijn/mambaforge/envs/MassBalanceMachine/lib/python3.11/multiprocessing/pool.py\", line 114, in worker\n",
      "    task = get()\n",
      "           ^^^^^\n",
      "  File \"/home/vmarijn/mambaforge/envs/MassBalanceMachine/lib/python3.11/multiprocessing/synchronize.py\", line 95, in __enter__\n",
      "    return self._semlock.__enter__()\n",
      "           ^^^^^^^^^^^^^^^^^^^^^^^^^\n",
      "  File \"/home/vmarijn/mambaforge/envs/MassBalanceMachine/lib/python3.11/multiprocessing/pool.py\", line 114, in worker\n",
      "    task = get()\n",
      "           ^^^^^\n",
      "  File \"/home/vmarijn/mambaforge/envs/MassBalanceMachine/lib/python3.11/multiprocessing/pool.py\", line 114, in worker\n",
      "    task = get()\n",
      "           ^^^^^\n",
      "  File \"/home/vmarijn/mambaforge/envs/MassBalanceMachine/lib/python3.11/multiprocessing/synchronize.py\", line 95, in __enter__\n",
      "    return self._semlock.__enter__()\n",
      "           ^^^^^^^^^^^^^^^^^^^^^^^^^\n",
      "  File \"/home/vmarijn/mambaforge/envs/MassBalanceMachine/lib/python3.11/multiprocessing/queues.py\", line 364, in get\n",
      "    with self._rlock:\n",
      "  File \"/home/vmarijn/mambaforge/envs/MassBalanceMachine/lib/python3.11/multiprocessing/queues.py\", line 364, in get\n",
      "    with self._rlock:\n",
      "  File \"/home/vmarijn/mambaforge/envs/MassBalanceMachine/lib/python3.11/multiprocessing/synchronize.py\", line 95, in __enter__\n",
      "    return self._semlock.__enter__()\n",
      "           ^^^^^^^^^^^^^^^^^^^^^^^^^\n",
      "  File \"/home/vmarijn/mambaforge/envs/MassBalanceMachine/lib/python3.11/multiprocessing/pool.py\", line 114, in worker\n",
      "    task = get()\n",
      "           ^^^^^\n",
      "  File \"/home/vmarijn/mambaforge/envs/MassBalanceMachine/lib/python3.11/multiprocessing/pool.py\", line 114, in worker\n",
      "    task = get()\n",
      "           ^^^^^\n",
      "KeyboardInterrupt\n",
      "  File \"/home/vmarijn/mambaforge/envs/MassBalanceMachine/lib/python3.11/multiprocessing/process.py\", line 108, in run\n",
      "    self._target(*self._args, **self._kwargs)\n",
      "KeyboardInterrupt\n",
      "  File \"/home/vmarijn/mambaforge/envs/MassBalanceMachine/lib/python3.11/multiprocessing/queues.py\", line 364, in get\n",
      "    with self._rlock:\n",
      "  File \"/home/vmarijn/mambaforge/envs/MassBalanceMachine/lib/python3.11/multiprocessing/queues.py\", line 365, in get\n",
      "    res = self._reader.recv_bytes()\n",
      "          ^^^^^^^^^^^^^^^^^^^^^^^^^\n",
      "KeyboardInterrupt\n",
      "KeyboardInterrupt\n",
      "KeyboardInterrupt\n",
      "  File \"/home/vmarijn/mambaforge/envs/MassBalanceMachine/lib/python3.11/multiprocessing/synchronize.py\", line 95, in __enter__\n",
      "    return self._semlock.__enter__()\n",
      "           ^^^^^^^^^^^^^^^^^^^^^^^^^\n",
      "  File \"/home/vmarijn/mambaforge/envs/MassBalanceMachine/lib/python3.11/multiprocessing/queues.py\", line 364, in get\n",
      "    with self._rlock:\n",
      "  File \"/home/vmarijn/mambaforge/envs/MassBalanceMachine/lib/python3.11/multiprocessing/process.py\", line 108, in run\n",
      "    self._target(*self._args, **self._kwargs)\n",
      "  File \"/home/vmarijn/mambaforge/envs/MassBalanceMachine/lib/python3.11/multiprocessing/synchronize.py\", line 95, in __enter__\n",
      "    return self._semlock.__enter__()\n",
      "           ^^^^^^^^^^^^^^^^^^^^^^^^^\n",
      "  File \"/home/vmarijn/mambaforge/envs/MassBalanceMachine/lib/python3.11/multiprocessing/queues.py\", line 364, in get\n",
      "    with self._rlock:\n",
      "  File \"/home/vmarijn/mambaforge/envs/MassBalanceMachine/lib/python3.11/multiprocessing/process.py\", line 314, in _bootstrap\n",
      "    self.run()\n",
      "  File \"/home/vmarijn/mambaforge/envs/MassBalanceMachine/lib/python3.11/multiprocessing/queues.py\", line 364, in get\n",
      "    with self._rlock:\n",
      "  File \"/home/vmarijn/mambaforge/envs/MassBalanceMachine/lib/python3.11/multiprocessing/queues.py\", line 364, in get\n",
      "    with self._rlock:\n",
      "  File \"/home/vmarijn/mambaforge/envs/MassBalanceMachine/lib/python3.11/multiprocessing/synchronize.py\", line 95, in __enter__\n",
      "    return self._semlock.__enter__()\n",
      "           ^^^^^^^^^^^^^^^^^^^^^^^^^\n",
      "  File \"/home/vmarijn/mambaforge/envs/MassBalanceMachine/lib/python3.11/multiprocessing/connection.py\", line 215, in recv_bytes\n",
      "    buf = self._recv_bytes(maxlength)\n",
      "          ^^^^^^^^^^^^^^^^^^^^^^^^^^^\n",
      "  File \"/home/vmarijn/mambaforge/envs/MassBalanceMachine/lib/python3.11/multiprocessing/process.py\", line 108, in run\n",
      "    self._target(*self._args, **self._kwargs)\n",
      "  File \"/home/vmarijn/mambaforge/envs/MassBalanceMachine/lib/python3.11/multiprocessing/pool.py\", line 114, in worker\n",
      "    task = get()\n",
      "           ^^^^^\n",
      "  File \"/home/vmarijn/mambaforge/envs/MassBalanceMachine/lib/python3.11/multiprocessing/pool.py\", line 114, in worker\n",
      "    task = get()\n",
      "           ^^^^^\n",
      "KeyboardInterrupt\n",
      "KeyboardInterrupt\n",
      "  File \"/home/vmarijn/mambaforge/envs/MassBalanceMachine/lib/python3.11/multiprocessing/synchronize.py\", line 95, in __enter__\n",
      "    return self._semlock.__enter__()\n",
      "           ^^^^^^^^^^^^^^^^^^^^^^^^^\n",
      "  File \"/home/vmarijn/mambaforge/envs/MassBalanceMachine/lib/python3.11/multiprocessing/pool.py\", line 114, in worker\n",
      "    task = get()\n",
      "           ^^^^^\n",
      "  File \"/home/vmarijn/mambaforge/envs/MassBalanceMachine/lib/python3.11/multiprocessing/process.py\", line 108, in run\n",
      "    self._target(*self._args, **self._kwargs)\n",
      "  File \"/home/vmarijn/mambaforge/envs/MassBalanceMachine/lib/python3.11/multiprocessing/synchronize.py\", line 95, in __enter__\n",
      "    return self._semlock.__enter__()\n",
      "           ^^^^^^^^^^^^^^^^^^^^^^^^^\n",
      "  File \"/home/vmarijn/mambaforge/envs/MassBalanceMachine/lib/python3.11/multiprocessing/synchronize.py\", line 95, in __enter__\n",
      "    return self._semlock.__enter__()\n",
      "           ^^^^^^^^^^^^^^^^^^^^^^^^^\n",
      "  File \"/home/vmarijn/mambaforge/envs/MassBalanceMachine/lib/python3.11/multiprocessing/pool.py\", line 114, in worker\n",
      "    task = get()\n",
      "           ^^^^^\n",
      "KeyboardInterrupt\n",
      "  File \"/home/vmarijn/mambaforge/envs/MassBalanceMachine/lib/python3.11/multiprocessing/connection.py\", line 413, in _recv_bytes\n",
      "    buf = self._recv(4)\n",
      "          ^^^^^^^^^^^^^\n",
      "  File \"/home/vmarijn/mambaforge/envs/MassBalanceMachine/lib/python3.11/multiprocessing/queues.py\", line 364, in get\n",
      "    with self._rlock:\n",
      "  File \"/home/vmarijn/mambaforge/envs/MassBalanceMachine/lib/python3.11/multiprocessing/queues.py\", line 364, in get\n",
      "    with self._rlock:\n",
      "Process ForkPoolWorker-23:\n",
      "  File \"/home/vmarijn/mambaforge/envs/MassBalanceMachine/lib/python3.11/multiprocessing/synchronize.py\", line 95, in __enter__\n",
      "    return self._semlock.__enter__()\n",
      "           ^^^^^^^^^^^^^^^^^^^^^^^^^\n",
      "KeyboardInterrupt\n",
      "Process ForkPoolWorker-24:\n",
      "  File \"/home/vmarijn/mambaforge/envs/MassBalanceMachine/lib/python3.11/multiprocessing/queues.py\", line 364, in get\n",
      "    with self._rlock:\n",
      "  File \"/home/vmarijn/mambaforge/envs/MassBalanceMachine/lib/python3.11/multiprocessing/pool.py\", line 114, in worker\n",
      "    task = get()\n",
      "           ^^^^^\n",
      "KeyboardInterrupt\n",
      "KeyboardInterrupt\n",
      "  File \"/home/vmarijn/mambaforge/envs/MassBalanceMachine/lib/python3.11/multiprocessing/queues.py\", line 364, in get\n",
      "    with self._rlock:\n",
      "  File \"/home/vmarijn/mambaforge/envs/MassBalanceMachine/lib/python3.11/multiprocessing/connection.py\", line 378, in _recv\n",
      "    chunk = read(handle, remaining)\n",
      "            ^^^^^^^^^^^^^^^^^^^^^^^\n",
      "  File \"/home/vmarijn/mambaforge/envs/MassBalanceMachine/lib/python3.11/multiprocessing/synchronize.py\", line 95, in __enter__\n",
      "    return self._semlock.__enter__()\n",
      "           ^^^^^^^^^^^^^^^^^^^^^^^^^\n",
      "  File \"/home/vmarijn/mambaforge/envs/MassBalanceMachine/lib/python3.11/multiprocessing/synchronize.py\", line 95, in __enter__\n",
      "    return self._semlock.__enter__()\n",
      "           ^^^^^^^^^^^^^^^^^^^^^^^^^\n",
      "Traceback (most recent call last):\n",
      "KeyboardInterrupt\n",
      "  File \"/home/vmarijn/mambaforge/envs/MassBalanceMachine/lib/python3.11/multiprocessing/synchronize.py\", line 95, in __enter__\n",
      "    return self._semlock.__enter__()\n",
      "           ^^^^^^^^^^^^^^^^^^^^^^^^^\n",
      "  File \"/home/vmarijn/mambaforge/envs/MassBalanceMachine/lib/python3.11/multiprocessing/queues.py\", line 364, in get\n",
      "    with self._rlock:\n",
      "Traceback (most recent call last):\n",
      "  File \"/home/vmarijn/mambaforge/envs/MassBalanceMachine/lib/python3.11/multiprocessing/synchronize.py\", line 95, in __enter__\n",
      "    return self._semlock.__enter__()\n",
      "           ^^^^^^^^^^^^^^^^^^^^^^^^^\n",
      "KeyboardInterrupt\n",
      "KeyboardInterrupt\n",
      "KeyboardInterrupt\n",
      "KeyboardInterrupt\n",
      "  File \"/home/vmarijn/mambaforge/envs/MassBalanceMachine/lib/python3.11/multiprocessing/synchronize.py\", line 95, in __enter__\n",
      "    return self._semlock.__enter__()\n",
      "           ^^^^^^^^^^^^^^^^^^^^^^^^^\n",
      "  File \"/home/vmarijn/mambaforge/envs/MassBalanceMachine/lib/python3.11/multiprocessing/process.py\", line 314, in _bootstrap\n",
      "    self.run()\n",
      "KeyboardInterrupt\n",
      "KeyboardInterrupt\n",
      "  File \"/home/vmarijn/mambaforge/envs/MassBalanceMachine/lib/python3.11/multiprocessing/process.py\", line 108, in run\n",
      "    self._target(*self._args, **self._kwargs)\n",
      "  File \"/home/vmarijn/mambaforge/envs/MassBalanceMachine/lib/python3.11/multiprocessing/pool.py\", line 114, in worker\n",
      "    task = get()\n",
      "           ^^^^^\n",
      "  File \"/home/vmarijn/mambaforge/envs/MassBalanceMachine/lib/python3.11/multiprocessing/queues.py\", line 364, in get\n",
      "    with self._rlock:\n",
      "  File \"/home/vmarijn/mambaforge/envs/MassBalanceMachine/lib/python3.11/multiprocessing/synchronize.py\", line 95, in __enter__\n",
      "    return self._semlock.__enter__()\n",
      "           ^^^^^^^^^^^^^^^^^^^^^^^^^\n",
      "KeyboardInterrupt\n",
      "  File \"/home/vmarijn/mambaforge/envs/MassBalanceMachine/lib/python3.11/multiprocessing/process.py\", line 314, in _bootstrap\n",
      "    self.run()\n",
      "  File \"/home/vmarijn/mambaforge/envs/MassBalanceMachine/lib/python3.11/multiprocessing/process.py\", line 108, in run\n",
      "    self._target(*self._args, **self._kwargs)\n",
      "  File \"/home/vmarijn/mambaforge/envs/MassBalanceMachine/lib/python3.11/multiprocessing/pool.py\", line 114, in worker\n",
      "    task = get()\n",
      "           ^^^^^\n",
      "  File \"/home/vmarijn/mambaforge/envs/MassBalanceMachine/lib/python3.11/multiprocessing/queues.py\", line 364, in get\n",
      "    with self._rlock:\n",
      "  File \"/home/vmarijn/mambaforge/envs/MassBalanceMachine/lib/python3.11/multiprocessing/synchronize.py\", line 95, in __enter__\n",
      "    return self._semlock.__enter__()\n",
      "           ^^^^^^^^^^^^^^^^^^^^^^^^^\n",
      "KeyboardInterrupt\n"
     ]
    }
   ],
   "source": [
    "# Check which rgis are in the OGGM directory:\n",
    "oggmCfg.initialize(logging_level=\"WARNING\")\n",
    "oggmCfg.PARAMS[\"border\"] = 10\n",
    "oggmCfg.PARAMS[\"use_multiprocessing\"] = True\n",
    "oggmCfg.PARAMS[\"continue_on_error\"] = True\n",
    "custom_working_dir = '../../../data/OGGM/'\n",
    "oggmCfg.PATHS[\"working_dir\"] = custom_working_dir\n",
    "\n",
    "# Intersect dataframe with list of available glaciers in GLAMOS\n",
    "# to reduce computation load in OGGM\n",
    "rgidf = gpd.read_file(utils.get_rgi_region_file(region=\"11\", version=\"6\"))\n",
    "rgidf = rgidf.loc[rgidf['RGIId'].isin(data_glamos.RGIId.unique())]\n",
    "\n",
    "# We use the directories with the shop data in it: \"W5E5_w_data\"\n",
    "base_url = \"https://cluster.klima.uni-bremen.de/~oggm/gdirs/oggm_v1.6/L3-L5_files/2023.1/elev_bands/W5E5_w_data/\"\n",
    "gdirs = workflow.init_glacier_directories(\n",
    "    rgidf,\n",
    "    from_prepro_level=3,\n",
    "    prepro_base_url=base_url,\n",
    "    prepro_border=10,\n",
    "    reset=True,\n",
    "    force=True,\n",
    ")\n",
    "rgis = list(\n",
    "    set(data_glamos.RGIId.unique()) & set(gdir.rgi_id for gdir in gdirs))\n",
    "print('Number of rgis:', len(rgis))"
   ]
  },
  {
   "cell_type": "markdown",
   "metadata": {},
   "source": [
    "## Compute glacier grids:\n",
    "Add topo, climate variables and convert to monthly (takes a long time)."
   ]
  },
  {
   "cell_type": "code",
   "execution_count": 6,
   "metadata": {},
   "outputs": [
    {
     "data": {
      "application/vnd.jupyter.widget-view+json": {
       "model_id": "7f26eed8549a4804a1d30705410b54f6",
       "version_major": 2,
       "version_minor": 0
      },
      "text/plain": [
       "Processing glaciers:   0%|          | 0/31 [00:00<?, ?it/s]"
      ]
     },
     "metadata": {},
     "output_type": "display_data"
    },
    {
     "name": "stderr",
     "output_type": "stream",
     "text": [
      "2025-03-03 14:10:18: oggm.cfg: Reading default parameters from the OGGM `params.cfg` configuration file.\n",
      "2025-03-03 14:10:18: oggm.cfg: Multiprocessing switched OFF according to the parameter file.\n",
      "2025-03-03 14:10:18: oggm.cfg: Multiprocessing: using all available processors (N=32)\n",
      "2025-03-03 14:10:18: oggm.cfg: PARAMS['border'] changed from `80` to `10`.\n",
      "2025-03-03 14:10:18: oggm.cfg: Multiprocessing switched ON after user settings.\n",
      "2025-03-03 14:10:18: oggm.cfg: PARAMS['continue_on_error'] changed from `False` to `True`.\n"
     ]
    },
    {
     "name": "stdout",
     "output_type": "stream",
     "text": [
      "\n",
      "-----------------------------------\n",
      "Processing: schwarzbach\n"
     ]
    },
    {
     "name": "stderr",
     "output_type": "stream",
     "text": [
      "2025-03-03 14:10:18: oggm.workflow: init_glacier_directories from prepro level 3 on 1 glaciers.\n",
      "2025-03-03 14:10:18: oggm.workflow: Execute entity tasks [gdir_from_prepro] on 1 glaciers\n",
      "2025-03-03 14:10:18: oggm.workflow: Execute entity tasks [gridded_attributes] on 1 glaciers\n"
     ]
    },
    {
     "name": "stdout",
     "output_type": "stream",
     "text": [
      "Adding climate data...\n",
      "Adding potential clear sky radiation...\n",
      "Converting to monthly time resolution for 1951...\n",
      "Saving gridded dataset to: ../../../data/GLAMOS/topo/gridded_topo_inputs/RGI_grid/schwarzbach/schwarzbach_grid_1951.parquet\n",
      "⚠️ Error processing glacier 'schwarzbach' for year 1951: Cannot save file into a non-existent directory: '../../../data/GLAMOS/topo/gridded_topo_inputs/RGI_grid/schwarzbach'\n",
      "Converting to monthly time resolution for 1952...\n"
     ]
    },
    {
     "name": "stderr",
     "output_type": "stream",
     "text": [
      "Traceback (most recent call last):\n",
      "  File \"/tmp/ipykernel_72266/2765871222.py\", line 76, in <module>\n",
      "    dataset_grid_yearly.data.to_parquet(save_path, engine=\"pyarrow\", compression=\"snappy\")\n",
      "  File \"/home/vmarijn/mambaforge/envs/MassBalanceMachine/lib/python3.11/site-packages/pandas/util/_decorators.py\", line 333, in wrapper\n",
      "    return func(*args, **kwargs)\n",
      "           ^^^^^^^^^^^^^^^^^^^^^\n",
      "  File \"/home/vmarijn/mambaforge/envs/MassBalanceMachine/lib/python3.11/site-packages/pandas/core/frame.py\", line 3113, in to_parquet\n",
      "    return to_parquet(\n",
      "           ^^^^^^^^^^^\n",
      "  File \"/home/vmarijn/mambaforge/envs/MassBalanceMachine/lib/python3.11/site-packages/pandas/io/parquet.py\", line 480, in to_parquet\n",
      "    impl.write(\n",
      "  File \"/home/vmarijn/mambaforge/envs/MassBalanceMachine/lib/python3.11/site-packages/pandas/io/parquet.py\", line 198, in write\n",
      "    path_or_handle, handles, filesystem = _get_path_or_handle(\n",
      "                                          ^^^^^^^^^^^^^^^^^^^^\n",
      "  File \"/home/vmarijn/mambaforge/envs/MassBalanceMachine/lib/python3.11/site-packages/pandas/io/parquet.py\", line 140, in _get_path_or_handle\n",
      "    handles = get_handle(\n",
      "              ^^^^^^^^^^^\n",
      "  File \"/home/vmarijn/mambaforge/envs/MassBalanceMachine/lib/python3.11/site-packages/pandas/io/common.py\", line 749, in get_handle\n",
      "    check_parent_directory(str(handle))\n",
      "  File \"/home/vmarijn/mambaforge/envs/MassBalanceMachine/lib/python3.11/site-packages/pandas/io/common.py\", line 616, in check_parent_directory\n",
      "    raise OSError(rf\"Cannot save file into a non-existent directory: '{parent}'\")\n",
      "OSError: Cannot save file into a non-existent directory: '../../../data/GLAMOS/topo/gridded_topo_inputs/RGI_grid/schwarzbach'\n"
     ]
    },
    {
     "name": "stdout",
     "output_type": "stream",
     "text": [
      "Saving gridded dataset to: ../../../data/GLAMOS/topo/gridded_topo_inputs/RGI_grid/schwarzbach/schwarzbach_grid_1952.parquet\n",
      "⚠️ Error processing glacier 'schwarzbach' for year 1952: Cannot save file into a non-existent directory: '../../../data/GLAMOS/topo/gridded_topo_inputs/RGI_grid/schwarzbach'\n",
      "Converting to monthly time resolution for 1953...\n"
     ]
    },
    {
     "name": "stderr",
     "output_type": "stream",
     "text": [
      "Traceback (most recent call last):\n",
      "  File \"/tmp/ipykernel_72266/2765871222.py\", line 76, in <module>\n",
      "    dataset_grid_yearly.data.to_parquet(save_path, engine=\"pyarrow\", compression=\"snappy\")\n",
      "  File \"/home/vmarijn/mambaforge/envs/MassBalanceMachine/lib/python3.11/site-packages/pandas/util/_decorators.py\", line 333, in wrapper\n",
      "    return func(*args, **kwargs)\n",
      "           ^^^^^^^^^^^^^^^^^^^^^\n",
      "  File \"/home/vmarijn/mambaforge/envs/MassBalanceMachine/lib/python3.11/site-packages/pandas/core/frame.py\", line 3113, in to_parquet\n",
      "    return to_parquet(\n",
      "           ^^^^^^^^^^^\n",
      "  File \"/home/vmarijn/mambaforge/envs/MassBalanceMachine/lib/python3.11/site-packages/pandas/io/parquet.py\", line 480, in to_parquet\n",
      "    impl.write(\n",
      "  File \"/home/vmarijn/mambaforge/envs/MassBalanceMachine/lib/python3.11/site-packages/pandas/io/parquet.py\", line 198, in write\n",
      "    path_or_handle, handles, filesystem = _get_path_or_handle(\n",
      "                                          ^^^^^^^^^^^^^^^^^^^^\n",
      "  File \"/home/vmarijn/mambaforge/envs/MassBalanceMachine/lib/python3.11/site-packages/pandas/io/parquet.py\", line 140, in _get_path_or_handle\n",
      "    handles = get_handle(\n",
      "              ^^^^^^^^^^^\n",
      "  File \"/home/vmarijn/mambaforge/envs/MassBalanceMachine/lib/python3.11/site-packages/pandas/io/common.py\", line 749, in get_handle\n",
      "    check_parent_directory(str(handle))\n",
      "  File \"/home/vmarijn/mambaforge/envs/MassBalanceMachine/lib/python3.11/site-packages/pandas/io/common.py\", line 616, in check_parent_directory\n",
      "    raise OSError(rf\"Cannot save file into a non-existent directory: '{parent}'\")\n",
      "OSError: Cannot save file into a non-existent directory: '../../../data/GLAMOS/topo/gridded_topo_inputs/RGI_grid/schwarzbach'\n"
     ]
    },
    {
     "name": "stdout",
     "output_type": "stream",
     "text": [
      "Saving gridded dataset to: ../../../data/GLAMOS/topo/gridded_topo_inputs/RGI_grid/schwarzbach/schwarzbach_grid_1953.parquet\n",
      "⚠️ Error processing glacier 'schwarzbach' for year 1953: Cannot save file into a non-existent directory: '../../../data/GLAMOS/topo/gridded_topo_inputs/RGI_grid/schwarzbach'\n",
      "Converting to monthly time resolution for 1954...\n"
     ]
    },
    {
     "name": "stderr",
     "output_type": "stream",
     "text": [
      "Traceback (most recent call last):\n",
      "  File \"/tmp/ipykernel_72266/2765871222.py\", line 76, in <module>\n",
      "    dataset_grid_yearly.data.to_parquet(save_path, engine=\"pyarrow\", compression=\"snappy\")\n",
      "  File \"/home/vmarijn/mambaforge/envs/MassBalanceMachine/lib/python3.11/site-packages/pandas/util/_decorators.py\", line 333, in wrapper\n",
      "    return func(*args, **kwargs)\n",
      "           ^^^^^^^^^^^^^^^^^^^^^\n",
      "  File \"/home/vmarijn/mambaforge/envs/MassBalanceMachine/lib/python3.11/site-packages/pandas/core/frame.py\", line 3113, in to_parquet\n",
      "    return to_parquet(\n",
      "           ^^^^^^^^^^^\n",
      "  File \"/home/vmarijn/mambaforge/envs/MassBalanceMachine/lib/python3.11/site-packages/pandas/io/parquet.py\", line 480, in to_parquet\n",
      "    impl.write(\n",
      "  File \"/home/vmarijn/mambaforge/envs/MassBalanceMachine/lib/python3.11/site-packages/pandas/io/parquet.py\", line 198, in write\n",
      "    path_or_handle, handles, filesystem = _get_path_or_handle(\n",
      "                                          ^^^^^^^^^^^^^^^^^^^^\n",
      "  File \"/home/vmarijn/mambaforge/envs/MassBalanceMachine/lib/python3.11/site-packages/pandas/io/parquet.py\", line 140, in _get_path_or_handle\n",
      "    handles = get_handle(\n",
      "              ^^^^^^^^^^^\n",
      "  File \"/home/vmarijn/mambaforge/envs/MassBalanceMachine/lib/python3.11/site-packages/pandas/io/common.py\", line 749, in get_handle\n",
      "    check_parent_directory(str(handle))\n",
      "  File \"/home/vmarijn/mambaforge/envs/MassBalanceMachine/lib/python3.11/site-packages/pandas/io/common.py\", line 616, in check_parent_directory\n",
      "    raise OSError(rf\"Cannot save file into a non-existent directory: '{parent}'\")\n",
      "OSError: Cannot save file into a non-existent directory: '../../../data/GLAMOS/topo/gridded_topo_inputs/RGI_grid/schwarzbach'\n"
     ]
    },
    {
     "name": "stdout",
     "output_type": "stream",
     "text": [
      "Saving gridded dataset to: ../../../data/GLAMOS/topo/gridded_topo_inputs/RGI_grid/schwarzbach/schwarzbach_grid_1954.parquet\n",
      "⚠️ Error processing glacier 'schwarzbach' for year 1954: Cannot save file into a non-existent directory: '../../../data/GLAMOS/topo/gridded_topo_inputs/RGI_grid/schwarzbach'\n",
      "Converting to monthly time resolution for 1955...\n"
     ]
    },
    {
     "name": "stderr",
     "output_type": "stream",
     "text": [
      "Traceback (most recent call last):\n",
      "  File \"/tmp/ipykernel_72266/2765871222.py\", line 76, in <module>\n",
      "    dataset_grid_yearly.data.to_parquet(save_path, engine=\"pyarrow\", compression=\"snappy\")\n",
      "  File \"/home/vmarijn/mambaforge/envs/MassBalanceMachine/lib/python3.11/site-packages/pandas/util/_decorators.py\", line 333, in wrapper\n",
      "    return func(*args, **kwargs)\n",
      "           ^^^^^^^^^^^^^^^^^^^^^\n",
      "  File \"/home/vmarijn/mambaforge/envs/MassBalanceMachine/lib/python3.11/site-packages/pandas/core/frame.py\", line 3113, in to_parquet\n",
      "    return to_parquet(\n",
      "           ^^^^^^^^^^^\n",
      "  File \"/home/vmarijn/mambaforge/envs/MassBalanceMachine/lib/python3.11/site-packages/pandas/io/parquet.py\", line 480, in to_parquet\n",
      "    impl.write(\n",
      "  File \"/home/vmarijn/mambaforge/envs/MassBalanceMachine/lib/python3.11/site-packages/pandas/io/parquet.py\", line 198, in write\n",
      "    path_or_handle, handles, filesystem = _get_path_or_handle(\n",
      "                                          ^^^^^^^^^^^^^^^^^^^^\n",
      "  File \"/home/vmarijn/mambaforge/envs/MassBalanceMachine/lib/python3.11/site-packages/pandas/io/parquet.py\", line 140, in _get_path_or_handle\n",
      "    handles = get_handle(\n",
      "              ^^^^^^^^^^^\n",
      "  File \"/home/vmarijn/mambaforge/envs/MassBalanceMachine/lib/python3.11/site-packages/pandas/io/common.py\", line 749, in get_handle\n",
      "    check_parent_directory(str(handle))\n",
      "  File \"/home/vmarijn/mambaforge/envs/MassBalanceMachine/lib/python3.11/site-packages/pandas/io/common.py\", line 616, in check_parent_directory\n",
      "    raise OSError(rf\"Cannot save file into a non-existent directory: '{parent}'\")\n",
      "OSError: Cannot save file into a non-existent directory: '../../../data/GLAMOS/topo/gridded_topo_inputs/RGI_grid/schwarzbach'\n"
     ]
    },
    {
     "name": "stdout",
     "output_type": "stream",
     "text": [
      "Saving gridded dataset to: ../../../data/GLAMOS/topo/gridded_topo_inputs/RGI_grid/schwarzbach/schwarzbach_grid_1955.parquet\n",
      "⚠️ Error processing glacier 'schwarzbach' for year 1955: Cannot save file into a non-existent directory: '../../../data/GLAMOS/topo/gridded_topo_inputs/RGI_grid/schwarzbach'\n",
      "Converting to monthly time resolution for 1956...\n"
     ]
    },
    {
     "name": "stderr",
     "output_type": "stream",
     "text": [
      "Traceback (most recent call last):\n",
      "  File \"/tmp/ipykernel_72266/2765871222.py\", line 76, in <module>\n",
      "    dataset_grid_yearly.data.to_parquet(save_path, engine=\"pyarrow\", compression=\"snappy\")\n",
      "  File \"/home/vmarijn/mambaforge/envs/MassBalanceMachine/lib/python3.11/site-packages/pandas/util/_decorators.py\", line 333, in wrapper\n",
      "    return func(*args, **kwargs)\n",
      "           ^^^^^^^^^^^^^^^^^^^^^\n",
      "  File \"/home/vmarijn/mambaforge/envs/MassBalanceMachine/lib/python3.11/site-packages/pandas/core/frame.py\", line 3113, in to_parquet\n",
      "    return to_parquet(\n",
      "           ^^^^^^^^^^^\n",
      "  File \"/home/vmarijn/mambaforge/envs/MassBalanceMachine/lib/python3.11/site-packages/pandas/io/parquet.py\", line 480, in to_parquet\n",
      "    impl.write(\n",
      "  File \"/home/vmarijn/mambaforge/envs/MassBalanceMachine/lib/python3.11/site-packages/pandas/io/parquet.py\", line 198, in write\n",
      "    path_or_handle, handles, filesystem = _get_path_or_handle(\n",
      "                                          ^^^^^^^^^^^^^^^^^^^^\n",
      "  File \"/home/vmarijn/mambaforge/envs/MassBalanceMachine/lib/python3.11/site-packages/pandas/io/parquet.py\", line 140, in _get_path_or_handle\n",
      "    handles = get_handle(\n",
      "              ^^^^^^^^^^^\n",
      "  File \"/home/vmarijn/mambaforge/envs/MassBalanceMachine/lib/python3.11/site-packages/pandas/io/common.py\", line 749, in get_handle\n",
      "    check_parent_directory(str(handle))\n",
      "  File \"/home/vmarijn/mambaforge/envs/MassBalanceMachine/lib/python3.11/site-packages/pandas/io/common.py\", line 616, in check_parent_directory\n",
      "    raise OSError(rf\"Cannot save file into a non-existent directory: '{parent}'\")\n",
      "OSError: Cannot save file into a non-existent directory: '../../../data/GLAMOS/topo/gridded_topo_inputs/RGI_grid/schwarzbach'\n"
     ]
    },
    {
     "name": "stdout",
     "output_type": "stream",
     "text": [
      "Saving gridded dataset to: ../../../data/GLAMOS/topo/gridded_topo_inputs/RGI_grid/schwarzbach/schwarzbach_grid_1956.parquet\n",
      "⚠️ Error processing glacier 'schwarzbach' for year 1956: Cannot save file into a non-existent directory: '../../../data/GLAMOS/topo/gridded_topo_inputs/RGI_grid/schwarzbach'\n",
      "Converting to monthly time resolution for 1957...\n"
     ]
    },
    {
     "name": "stderr",
     "output_type": "stream",
     "text": [
      "Traceback (most recent call last):\n",
      "  File \"/tmp/ipykernel_72266/2765871222.py\", line 76, in <module>\n",
      "    dataset_grid_yearly.data.to_parquet(save_path, engine=\"pyarrow\", compression=\"snappy\")\n",
      "  File \"/home/vmarijn/mambaforge/envs/MassBalanceMachine/lib/python3.11/site-packages/pandas/util/_decorators.py\", line 333, in wrapper\n",
      "    return func(*args, **kwargs)\n",
      "           ^^^^^^^^^^^^^^^^^^^^^\n",
      "  File \"/home/vmarijn/mambaforge/envs/MassBalanceMachine/lib/python3.11/site-packages/pandas/core/frame.py\", line 3113, in to_parquet\n",
      "    return to_parquet(\n",
      "           ^^^^^^^^^^^\n",
      "  File \"/home/vmarijn/mambaforge/envs/MassBalanceMachine/lib/python3.11/site-packages/pandas/io/parquet.py\", line 480, in to_parquet\n",
      "    impl.write(\n",
      "  File \"/home/vmarijn/mambaforge/envs/MassBalanceMachine/lib/python3.11/site-packages/pandas/io/parquet.py\", line 198, in write\n",
      "    path_or_handle, handles, filesystem = _get_path_or_handle(\n",
      "                                          ^^^^^^^^^^^^^^^^^^^^\n",
      "  File \"/home/vmarijn/mambaforge/envs/MassBalanceMachine/lib/python3.11/site-packages/pandas/io/parquet.py\", line 140, in _get_path_or_handle\n",
      "    handles = get_handle(\n",
      "              ^^^^^^^^^^^\n",
      "  File \"/home/vmarijn/mambaforge/envs/MassBalanceMachine/lib/python3.11/site-packages/pandas/io/common.py\", line 749, in get_handle\n",
      "    check_parent_directory(str(handle))\n",
      "  File \"/home/vmarijn/mambaforge/envs/MassBalanceMachine/lib/python3.11/site-packages/pandas/io/common.py\", line 616, in check_parent_directory\n",
      "    raise OSError(rf\"Cannot save file into a non-existent directory: '{parent}'\")\n",
      "OSError: Cannot save file into a non-existent directory: '../../../data/GLAMOS/topo/gridded_topo_inputs/RGI_grid/schwarzbach'\n"
     ]
    },
    {
     "name": "stdout",
     "output_type": "stream",
     "text": [
      "Saving gridded dataset to: ../../../data/GLAMOS/topo/gridded_topo_inputs/RGI_grid/schwarzbach/schwarzbach_grid_1957.parquet\n",
      "⚠️ Error processing glacier 'schwarzbach' for year 1957: Cannot save file into a non-existent directory: '../../../data/GLAMOS/topo/gridded_topo_inputs/RGI_grid/schwarzbach'\n",
      "Converting to monthly time resolution for 1958...\n"
     ]
    },
    {
     "name": "stderr",
     "output_type": "stream",
     "text": [
      "Traceback (most recent call last):\n",
      "  File \"/tmp/ipykernel_72266/2765871222.py\", line 76, in <module>\n",
      "    dataset_grid_yearly.data.to_parquet(save_path, engine=\"pyarrow\", compression=\"snappy\")\n",
      "  File \"/home/vmarijn/mambaforge/envs/MassBalanceMachine/lib/python3.11/site-packages/pandas/util/_decorators.py\", line 333, in wrapper\n",
      "    return func(*args, **kwargs)\n",
      "           ^^^^^^^^^^^^^^^^^^^^^\n",
      "  File \"/home/vmarijn/mambaforge/envs/MassBalanceMachine/lib/python3.11/site-packages/pandas/core/frame.py\", line 3113, in to_parquet\n",
      "    return to_parquet(\n",
      "           ^^^^^^^^^^^\n",
      "  File \"/home/vmarijn/mambaforge/envs/MassBalanceMachine/lib/python3.11/site-packages/pandas/io/parquet.py\", line 480, in to_parquet\n",
      "    impl.write(\n",
      "  File \"/home/vmarijn/mambaforge/envs/MassBalanceMachine/lib/python3.11/site-packages/pandas/io/parquet.py\", line 198, in write\n",
      "    path_or_handle, handles, filesystem = _get_path_or_handle(\n",
      "                                          ^^^^^^^^^^^^^^^^^^^^\n",
      "  File \"/home/vmarijn/mambaforge/envs/MassBalanceMachine/lib/python3.11/site-packages/pandas/io/parquet.py\", line 140, in _get_path_or_handle\n",
      "    handles = get_handle(\n",
      "              ^^^^^^^^^^^\n",
      "  File \"/home/vmarijn/mambaforge/envs/MassBalanceMachine/lib/python3.11/site-packages/pandas/io/common.py\", line 749, in get_handle\n",
      "    check_parent_directory(str(handle))\n",
      "  File \"/home/vmarijn/mambaforge/envs/MassBalanceMachine/lib/python3.11/site-packages/pandas/io/common.py\", line 616, in check_parent_directory\n",
      "    raise OSError(rf\"Cannot save file into a non-existent directory: '{parent}'\")\n",
      "OSError: Cannot save file into a non-existent directory: '../../../data/GLAMOS/topo/gridded_topo_inputs/RGI_grid/schwarzbach'\n"
     ]
    },
    {
     "name": "stdout",
     "output_type": "stream",
     "text": [
      "Saving gridded dataset to: ../../../data/GLAMOS/topo/gridded_topo_inputs/RGI_grid/schwarzbach/schwarzbach_grid_1958.parquet\n",
      "⚠️ Error processing glacier 'schwarzbach' for year 1958: Cannot save file into a non-existent directory: '../../../data/GLAMOS/topo/gridded_topo_inputs/RGI_grid/schwarzbach'\n",
      "Converting to monthly time resolution for 1959...\n"
     ]
    },
    {
     "name": "stderr",
     "output_type": "stream",
     "text": [
      "Traceback (most recent call last):\n",
      "  File \"/tmp/ipykernel_72266/2765871222.py\", line 76, in <module>\n",
      "    dataset_grid_yearly.data.to_parquet(save_path, engine=\"pyarrow\", compression=\"snappy\")\n",
      "  File \"/home/vmarijn/mambaforge/envs/MassBalanceMachine/lib/python3.11/site-packages/pandas/util/_decorators.py\", line 333, in wrapper\n",
      "    return func(*args, **kwargs)\n",
      "           ^^^^^^^^^^^^^^^^^^^^^\n",
      "  File \"/home/vmarijn/mambaforge/envs/MassBalanceMachine/lib/python3.11/site-packages/pandas/core/frame.py\", line 3113, in to_parquet\n",
      "    return to_parquet(\n",
      "           ^^^^^^^^^^^\n",
      "  File \"/home/vmarijn/mambaforge/envs/MassBalanceMachine/lib/python3.11/site-packages/pandas/io/parquet.py\", line 480, in to_parquet\n",
      "    impl.write(\n",
      "  File \"/home/vmarijn/mambaforge/envs/MassBalanceMachine/lib/python3.11/site-packages/pandas/io/parquet.py\", line 198, in write\n",
      "    path_or_handle, handles, filesystem = _get_path_or_handle(\n",
      "                                          ^^^^^^^^^^^^^^^^^^^^\n",
      "  File \"/home/vmarijn/mambaforge/envs/MassBalanceMachine/lib/python3.11/site-packages/pandas/io/parquet.py\", line 140, in _get_path_or_handle\n",
      "    handles = get_handle(\n",
      "              ^^^^^^^^^^^\n",
      "  File \"/home/vmarijn/mambaforge/envs/MassBalanceMachine/lib/python3.11/site-packages/pandas/io/common.py\", line 749, in get_handle\n",
      "    check_parent_directory(str(handle))\n",
      "  File \"/home/vmarijn/mambaforge/envs/MassBalanceMachine/lib/python3.11/site-packages/pandas/io/common.py\", line 616, in check_parent_directory\n",
      "    raise OSError(rf\"Cannot save file into a non-existent directory: '{parent}'\")\n",
      "OSError: Cannot save file into a non-existent directory: '../../../data/GLAMOS/topo/gridded_topo_inputs/RGI_grid/schwarzbach'\n"
     ]
    },
    {
     "name": "stdout",
     "output_type": "stream",
     "text": [
      "Saving gridded dataset to: ../../../data/GLAMOS/topo/gridded_topo_inputs/RGI_grid/schwarzbach/schwarzbach_grid_1959.parquet\n",
      "⚠️ Error processing glacier 'schwarzbach' for year 1959: Cannot save file into a non-existent directory: '../../../data/GLAMOS/topo/gridded_topo_inputs/RGI_grid/schwarzbach'\n",
      "Converting to monthly time resolution for 1960...\n"
     ]
    },
    {
     "name": "stderr",
     "output_type": "stream",
     "text": [
      "Traceback (most recent call last):\n",
      "  File \"/tmp/ipykernel_72266/2765871222.py\", line 76, in <module>\n",
      "    dataset_grid_yearly.data.to_parquet(save_path, engine=\"pyarrow\", compression=\"snappy\")\n",
      "  File \"/home/vmarijn/mambaforge/envs/MassBalanceMachine/lib/python3.11/site-packages/pandas/util/_decorators.py\", line 333, in wrapper\n",
      "    return func(*args, **kwargs)\n",
      "           ^^^^^^^^^^^^^^^^^^^^^\n",
      "  File \"/home/vmarijn/mambaforge/envs/MassBalanceMachine/lib/python3.11/site-packages/pandas/core/frame.py\", line 3113, in to_parquet\n",
      "    return to_parquet(\n",
      "           ^^^^^^^^^^^\n",
      "  File \"/home/vmarijn/mambaforge/envs/MassBalanceMachine/lib/python3.11/site-packages/pandas/io/parquet.py\", line 480, in to_parquet\n",
      "    impl.write(\n",
      "  File \"/home/vmarijn/mambaforge/envs/MassBalanceMachine/lib/python3.11/site-packages/pandas/io/parquet.py\", line 198, in write\n",
      "    path_or_handle, handles, filesystem = _get_path_or_handle(\n",
      "                                          ^^^^^^^^^^^^^^^^^^^^\n",
      "  File \"/home/vmarijn/mambaforge/envs/MassBalanceMachine/lib/python3.11/site-packages/pandas/io/parquet.py\", line 140, in _get_path_or_handle\n",
      "    handles = get_handle(\n",
      "              ^^^^^^^^^^^\n",
      "  File \"/home/vmarijn/mambaforge/envs/MassBalanceMachine/lib/python3.11/site-packages/pandas/io/common.py\", line 749, in get_handle\n",
      "    check_parent_directory(str(handle))\n",
      "  File \"/home/vmarijn/mambaforge/envs/MassBalanceMachine/lib/python3.11/site-packages/pandas/io/common.py\", line 616, in check_parent_directory\n",
      "    raise OSError(rf\"Cannot save file into a non-existent directory: '{parent}'\")\n",
      "OSError: Cannot save file into a non-existent directory: '../../../data/GLAMOS/topo/gridded_topo_inputs/RGI_grid/schwarzbach'\n"
     ]
    },
    {
     "name": "stdout",
     "output_type": "stream",
     "text": [
      "Saving gridded dataset to: ../../../data/GLAMOS/topo/gridded_topo_inputs/RGI_grid/schwarzbach/schwarzbach_grid_1960.parquet\n",
      "⚠️ Error processing glacier 'schwarzbach' for year 1960: Cannot save file into a non-existent directory: '../../../data/GLAMOS/topo/gridded_topo_inputs/RGI_grid/schwarzbach'\n",
      "Converting to monthly time resolution for 1961...\n"
     ]
    },
    {
     "name": "stderr",
     "output_type": "stream",
     "text": [
      "Traceback (most recent call last):\n",
      "  File \"/tmp/ipykernel_72266/2765871222.py\", line 76, in <module>\n",
      "    dataset_grid_yearly.data.to_parquet(save_path, engine=\"pyarrow\", compression=\"snappy\")\n",
      "  File \"/home/vmarijn/mambaforge/envs/MassBalanceMachine/lib/python3.11/site-packages/pandas/util/_decorators.py\", line 333, in wrapper\n",
      "    return func(*args, **kwargs)\n",
      "           ^^^^^^^^^^^^^^^^^^^^^\n",
      "  File \"/home/vmarijn/mambaforge/envs/MassBalanceMachine/lib/python3.11/site-packages/pandas/core/frame.py\", line 3113, in to_parquet\n",
      "    return to_parquet(\n",
      "           ^^^^^^^^^^^\n",
      "  File \"/home/vmarijn/mambaforge/envs/MassBalanceMachine/lib/python3.11/site-packages/pandas/io/parquet.py\", line 480, in to_parquet\n",
      "    impl.write(\n",
      "  File \"/home/vmarijn/mambaforge/envs/MassBalanceMachine/lib/python3.11/site-packages/pandas/io/parquet.py\", line 198, in write\n",
      "    path_or_handle, handles, filesystem = _get_path_or_handle(\n",
      "                                          ^^^^^^^^^^^^^^^^^^^^\n",
      "  File \"/home/vmarijn/mambaforge/envs/MassBalanceMachine/lib/python3.11/site-packages/pandas/io/parquet.py\", line 140, in _get_path_or_handle\n",
      "    handles = get_handle(\n",
      "              ^^^^^^^^^^^\n",
      "  File \"/home/vmarijn/mambaforge/envs/MassBalanceMachine/lib/python3.11/site-packages/pandas/io/common.py\", line 749, in get_handle\n",
      "    check_parent_directory(str(handle))\n",
      "  File \"/home/vmarijn/mambaforge/envs/MassBalanceMachine/lib/python3.11/site-packages/pandas/io/common.py\", line 616, in check_parent_directory\n",
      "    raise OSError(rf\"Cannot save file into a non-existent directory: '{parent}'\")\n",
      "OSError: Cannot save file into a non-existent directory: '../../../data/GLAMOS/topo/gridded_topo_inputs/RGI_grid/schwarzbach'\n"
     ]
    },
    {
     "name": "stdout",
     "output_type": "stream",
     "text": [
      "Saving gridded dataset to: ../../../data/GLAMOS/topo/gridded_topo_inputs/RGI_grid/schwarzbach/schwarzbach_grid_1961.parquet\n",
      "⚠️ Error processing glacier 'schwarzbach' for year 1961: Cannot save file into a non-existent directory: '../../../data/GLAMOS/topo/gridded_topo_inputs/RGI_grid/schwarzbach'\n",
      "Converting to monthly time resolution for 1962...\n"
     ]
    },
    {
     "name": "stderr",
     "output_type": "stream",
     "text": [
      "Traceback (most recent call last):\n",
      "  File \"/tmp/ipykernel_72266/2765871222.py\", line 76, in <module>\n",
      "    dataset_grid_yearly.data.to_parquet(save_path, engine=\"pyarrow\", compression=\"snappy\")\n",
      "  File \"/home/vmarijn/mambaforge/envs/MassBalanceMachine/lib/python3.11/site-packages/pandas/util/_decorators.py\", line 333, in wrapper\n",
      "    return func(*args, **kwargs)\n",
      "           ^^^^^^^^^^^^^^^^^^^^^\n",
      "  File \"/home/vmarijn/mambaforge/envs/MassBalanceMachine/lib/python3.11/site-packages/pandas/core/frame.py\", line 3113, in to_parquet\n",
      "    return to_parquet(\n",
      "           ^^^^^^^^^^^\n",
      "  File \"/home/vmarijn/mambaforge/envs/MassBalanceMachine/lib/python3.11/site-packages/pandas/io/parquet.py\", line 480, in to_parquet\n",
      "    impl.write(\n",
      "  File \"/home/vmarijn/mambaforge/envs/MassBalanceMachine/lib/python3.11/site-packages/pandas/io/parquet.py\", line 198, in write\n",
      "    path_or_handle, handles, filesystem = _get_path_or_handle(\n",
      "                                          ^^^^^^^^^^^^^^^^^^^^\n",
      "  File \"/home/vmarijn/mambaforge/envs/MassBalanceMachine/lib/python3.11/site-packages/pandas/io/parquet.py\", line 140, in _get_path_or_handle\n",
      "    handles = get_handle(\n",
      "              ^^^^^^^^^^^\n",
      "  File \"/home/vmarijn/mambaforge/envs/MassBalanceMachine/lib/python3.11/site-packages/pandas/io/common.py\", line 749, in get_handle\n",
      "    check_parent_directory(str(handle))\n",
      "  File \"/home/vmarijn/mambaforge/envs/MassBalanceMachine/lib/python3.11/site-packages/pandas/io/common.py\", line 616, in check_parent_directory\n",
      "    raise OSError(rf\"Cannot save file into a non-existent directory: '{parent}'\")\n",
      "OSError: Cannot save file into a non-existent directory: '../../../data/GLAMOS/topo/gridded_topo_inputs/RGI_grid/schwarzbach'\n"
     ]
    },
    {
     "name": "stdout",
     "output_type": "stream",
     "text": [
      "Saving gridded dataset to: ../../../data/GLAMOS/topo/gridded_topo_inputs/RGI_grid/schwarzbach/schwarzbach_grid_1962.parquet\n",
      "⚠️ Error processing glacier 'schwarzbach' for year 1962: Cannot save file into a non-existent directory: '../../../data/GLAMOS/topo/gridded_topo_inputs/RGI_grid/schwarzbach'\n",
      "Converting to monthly time resolution for 1963...\n"
     ]
    },
    {
     "name": "stderr",
     "output_type": "stream",
     "text": [
      "Traceback (most recent call last):\n",
      "  File \"/tmp/ipykernel_72266/2765871222.py\", line 76, in <module>\n",
      "    dataset_grid_yearly.data.to_parquet(save_path, engine=\"pyarrow\", compression=\"snappy\")\n",
      "  File \"/home/vmarijn/mambaforge/envs/MassBalanceMachine/lib/python3.11/site-packages/pandas/util/_decorators.py\", line 333, in wrapper\n",
      "    return func(*args, **kwargs)\n",
      "           ^^^^^^^^^^^^^^^^^^^^^\n",
      "  File \"/home/vmarijn/mambaforge/envs/MassBalanceMachine/lib/python3.11/site-packages/pandas/core/frame.py\", line 3113, in to_parquet\n",
      "    return to_parquet(\n",
      "           ^^^^^^^^^^^\n",
      "  File \"/home/vmarijn/mambaforge/envs/MassBalanceMachine/lib/python3.11/site-packages/pandas/io/parquet.py\", line 480, in to_parquet\n",
      "    impl.write(\n",
      "  File \"/home/vmarijn/mambaforge/envs/MassBalanceMachine/lib/python3.11/site-packages/pandas/io/parquet.py\", line 198, in write\n",
      "    path_or_handle, handles, filesystem = _get_path_or_handle(\n",
      "                                          ^^^^^^^^^^^^^^^^^^^^\n",
      "  File \"/home/vmarijn/mambaforge/envs/MassBalanceMachine/lib/python3.11/site-packages/pandas/io/parquet.py\", line 140, in _get_path_or_handle\n",
      "    handles = get_handle(\n",
      "              ^^^^^^^^^^^\n",
      "  File \"/home/vmarijn/mambaforge/envs/MassBalanceMachine/lib/python3.11/site-packages/pandas/io/common.py\", line 749, in get_handle\n",
      "    check_parent_directory(str(handle))\n",
      "  File \"/home/vmarijn/mambaforge/envs/MassBalanceMachine/lib/python3.11/site-packages/pandas/io/common.py\", line 616, in check_parent_directory\n",
      "    raise OSError(rf\"Cannot save file into a non-existent directory: '{parent}'\")\n",
      "OSError: Cannot save file into a non-existent directory: '../../../data/GLAMOS/topo/gridded_topo_inputs/RGI_grid/schwarzbach'\n"
     ]
    },
    {
     "name": "stdout",
     "output_type": "stream",
     "text": [
      "Saving gridded dataset to: ../../../data/GLAMOS/topo/gridded_topo_inputs/RGI_grid/schwarzbach/schwarzbach_grid_1963.parquet\n",
      "⚠️ Error processing glacier 'schwarzbach' for year 1963: Cannot save file into a non-existent directory: '../../../data/GLAMOS/topo/gridded_topo_inputs/RGI_grid/schwarzbach'\n",
      "Converting to monthly time resolution for 1964...\n"
     ]
    },
    {
     "name": "stderr",
     "output_type": "stream",
     "text": [
      "Traceback (most recent call last):\n",
      "  File \"/tmp/ipykernel_72266/2765871222.py\", line 76, in <module>\n",
      "    dataset_grid_yearly.data.to_parquet(save_path, engine=\"pyarrow\", compression=\"snappy\")\n",
      "  File \"/home/vmarijn/mambaforge/envs/MassBalanceMachine/lib/python3.11/site-packages/pandas/util/_decorators.py\", line 333, in wrapper\n",
      "    return func(*args, **kwargs)\n",
      "           ^^^^^^^^^^^^^^^^^^^^^\n",
      "  File \"/home/vmarijn/mambaforge/envs/MassBalanceMachine/lib/python3.11/site-packages/pandas/core/frame.py\", line 3113, in to_parquet\n",
      "    return to_parquet(\n",
      "           ^^^^^^^^^^^\n",
      "  File \"/home/vmarijn/mambaforge/envs/MassBalanceMachine/lib/python3.11/site-packages/pandas/io/parquet.py\", line 480, in to_parquet\n",
      "    impl.write(\n",
      "  File \"/home/vmarijn/mambaforge/envs/MassBalanceMachine/lib/python3.11/site-packages/pandas/io/parquet.py\", line 198, in write\n",
      "    path_or_handle, handles, filesystem = _get_path_or_handle(\n",
      "                                          ^^^^^^^^^^^^^^^^^^^^\n",
      "  File \"/home/vmarijn/mambaforge/envs/MassBalanceMachine/lib/python3.11/site-packages/pandas/io/parquet.py\", line 140, in _get_path_or_handle\n",
      "    handles = get_handle(\n",
      "              ^^^^^^^^^^^\n",
      "  File \"/home/vmarijn/mambaforge/envs/MassBalanceMachine/lib/python3.11/site-packages/pandas/io/common.py\", line 749, in get_handle\n",
      "    check_parent_directory(str(handle))\n",
      "  File \"/home/vmarijn/mambaforge/envs/MassBalanceMachine/lib/python3.11/site-packages/pandas/io/common.py\", line 616, in check_parent_directory\n",
      "    raise OSError(rf\"Cannot save file into a non-existent directory: '{parent}'\")\n",
      "OSError: Cannot save file into a non-existent directory: '../../../data/GLAMOS/topo/gridded_topo_inputs/RGI_grid/schwarzbach'\n"
     ]
    },
    {
     "name": "stdout",
     "output_type": "stream",
     "text": [
      "Saving gridded dataset to: ../../../data/GLAMOS/topo/gridded_topo_inputs/RGI_grid/schwarzbach/schwarzbach_grid_1964.parquet\n",
      "⚠️ Error processing glacier 'schwarzbach' for year 1964: Cannot save file into a non-existent directory: '../../../data/GLAMOS/topo/gridded_topo_inputs/RGI_grid/schwarzbach'\n",
      "Converting to monthly time resolution for 1965...\n"
     ]
    },
    {
     "name": "stderr",
     "output_type": "stream",
     "text": [
      "Traceback (most recent call last):\n",
      "  File \"/tmp/ipykernel_72266/2765871222.py\", line 76, in <module>\n",
      "    dataset_grid_yearly.data.to_parquet(save_path, engine=\"pyarrow\", compression=\"snappy\")\n",
      "  File \"/home/vmarijn/mambaforge/envs/MassBalanceMachine/lib/python3.11/site-packages/pandas/util/_decorators.py\", line 333, in wrapper\n",
      "    return func(*args, **kwargs)\n",
      "           ^^^^^^^^^^^^^^^^^^^^^\n",
      "  File \"/home/vmarijn/mambaforge/envs/MassBalanceMachine/lib/python3.11/site-packages/pandas/core/frame.py\", line 3113, in to_parquet\n",
      "    return to_parquet(\n",
      "           ^^^^^^^^^^^\n",
      "  File \"/home/vmarijn/mambaforge/envs/MassBalanceMachine/lib/python3.11/site-packages/pandas/io/parquet.py\", line 480, in to_parquet\n",
      "    impl.write(\n",
      "  File \"/home/vmarijn/mambaforge/envs/MassBalanceMachine/lib/python3.11/site-packages/pandas/io/parquet.py\", line 198, in write\n",
      "    path_or_handle, handles, filesystem = _get_path_or_handle(\n",
      "                                          ^^^^^^^^^^^^^^^^^^^^\n",
      "  File \"/home/vmarijn/mambaforge/envs/MassBalanceMachine/lib/python3.11/site-packages/pandas/io/parquet.py\", line 140, in _get_path_or_handle\n",
      "    handles = get_handle(\n",
      "              ^^^^^^^^^^^\n",
      "  File \"/home/vmarijn/mambaforge/envs/MassBalanceMachine/lib/python3.11/site-packages/pandas/io/common.py\", line 749, in get_handle\n",
      "    check_parent_directory(str(handle))\n",
      "  File \"/home/vmarijn/mambaforge/envs/MassBalanceMachine/lib/python3.11/site-packages/pandas/io/common.py\", line 616, in check_parent_directory\n",
      "    raise OSError(rf\"Cannot save file into a non-existent directory: '{parent}'\")\n",
      "OSError: Cannot save file into a non-existent directory: '../../../data/GLAMOS/topo/gridded_topo_inputs/RGI_grid/schwarzbach'\n"
     ]
    },
    {
     "name": "stdout",
     "output_type": "stream",
     "text": [
      "Saving gridded dataset to: ../../../data/GLAMOS/topo/gridded_topo_inputs/RGI_grid/schwarzbach/schwarzbach_grid_1965.parquet\n",
      "⚠️ Error processing glacier 'schwarzbach' for year 1965: Cannot save file into a non-existent directory: '../../../data/GLAMOS/topo/gridded_topo_inputs/RGI_grid/schwarzbach'\n",
      "Converting to monthly time resolution for 1966...\n"
     ]
    },
    {
     "name": "stderr",
     "output_type": "stream",
     "text": [
      "Traceback (most recent call last):\n",
      "  File \"/tmp/ipykernel_72266/2765871222.py\", line 76, in <module>\n",
      "    dataset_grid_yearly.data.to_parquet(save_path, engine=\"pyarrow\", compression=\"snappy\")\n",
      "  File \"/home/vmarijn/mambaforge/envs/MassBalanceMachine/lib/python3.11/site-packages/pandas/util/_decorators.py\", line 333, in wrapper\n",
      "    return func(*args, **kwargs)\n",
      "           ^^^^^^^^^^^^^^^^^^^^^\n",
      "  File \"/home/vmarijn/mambaforge/envs/MassBalanceMachine/lib/python3.11/site-packages/pandas/core/frame.py\", line 3113, in to_parquet\n",
      "    return to_parquet(\n",
      "           ^^^^^^^^^^^\n",
      "  File \"/home/vmarijn/mambaforge/envs/MassBalanceMachine/lib/python3.11/site-packages/pandas/io/parquet.py\", line 480, in to_parquet\n",
      "    impl.write(\n",
      "  File \"/home/vmarijn/mambaforge/envs/MassBalanceMachine/lib/python3.11/site-packages/pandas/io/parquet.py\", line 198, in write\n",
      "    path_or_handle, handles, filesystem = _get_path_or_handle(\n",
      "                                          ^^^^^^^^^^^^^^^^^^^^\n",
      "  File \"/home/vmarijn/mambaforge/envs/MassBalanceMachine/lib/python3.11/site-packages/pandas/io/parquet.py\", line 140, in _get_path_or_handle\n",
      "    handles = get_handle(\n",
      "              ^^^^^^^^^^^\n",
      "  File \"/home/vmarijn/mambaforge/envs/MassBalanceMachine/lib/python3.11/site-packages/pandas/io/common.py\", line 749, in get_handle\n",
      "    check_parent_directory(str(handle))\n",
      "  File \"/home/vmarijn/mambaforge/envs/MassBalanceMachine/lib/python3.11/site-packages/pandas/io/common.py\", line 616, in check_parent_directory\n",
      "    raise OSError(rf\"Cannot save file into a non-existent directory: '{parent}'\")\n",
      "OSError: Cannot save file into a non-existent directory: '../../../data/GLAMOS/topo/gridded_topo_inputs/RGI_grid/schwarzbach'\n"
     ]
    },
    {
     "name": "stdout",
     "output_type": "stream",
     "text": [
      "Saving gridded dataset to: ../../../data/GLAMOS/topo/gridded_topo_inputs/RGI_grid/schwarzbach/schwarzbach_grid_1966.parquet\n",
      "⚠️ Error processing glacier 'schwarzbach' for year 1966: Cannot save file into a non-existent directory: '../../../data/GLAMOS/topo/gridded_topo_inputs/RGI_grid/schwarzbach'\n",
      "Converting to monthly time resolution for 1967...\n"
     ]
    },
    {
     "name": "stderr",
     "output_type": "stream",
     "text": [
      "Traceback (most recent call last):\n",
      "  File \"/tmp/ipykernel_72266/2765871222.py\", line 76, in <module>\n",
      "    dataset_grid_yearly.data.to_parquet(save_path, engine=\"pyarrow\", compression=\"snappy\")\n",
      "  File \"/home/vmarijn/mambaforge/envs/MassBalanceMachine/lib/python3.11/site-packages/pandas/util/_decorators.py\", line 333, in wrapper\n",
      "    return func(*args, **kwargs)\n",
      "           ^^^^^^^^^^^^^^^^^^^^^\n",
      "  File \"/home/vmarijn/mambaforge/envs/MassBalanceMachine/lib/python3.11/site-packages/pandas/core/frame.py\", line 3113, in to_parquet\n",
      "    return to_parquet(\n",
      "           ^^^^^^^^^^^\n",
      "  File \"/home/vmarijn/mambaforge/envs/MassBalanceMachine/lib/python3.11/site-packages/pandas/io/parquet.py\", line 480, in to_parquet\n",
      "    impl.write(\n",
      "  File \"/home/vmarijn/mambaforge/envs/MassBalanceMachine/lib/python3.11/site-packages/pandas/io/parquet.py\", line 198, in write\n",
      "    path_or_handle, handles, filesystem = _get_path_or_handle(\n",
      "                                          ^^^^^^^^^^^^^^^^^^^^\n",
      "  File \"/home/vmarijn/mambaforge/envs/MassBalanceMachine/lib/python3.11/site-packages/pandas/io/parquet.py\", line 140, in _get_path_or_handle\n",
      "    handles = get_handle(\n",
      "              ^^^^^^^^^^^\n",
      "  File \"/home/vmarijn/mambaforge/envs/MassBalanceMachine/lib/python3.11/site-packages/pandas/io/common.py\", line 749, in get_handle\n",
      "    check_parent_directory(str(handle))\n",
      "  File \"/home/vmarijn/mambaforge/envs/MassBalanceMachine/lib/python3.11/site-packages/pandas/io/common.py\", line 616, in check_parent_directory\n",
      "    raise OSError(rf\"Cannot save file into a non-existent directory: '{parent}'\")\n",
      "OSError: Cannot save file into a non-existent directory: '../../../data/GLAMOS/topo/gridded_topo_inputs/RGI_grid/schwarzbach'\n"
     ]
    },
    {
     "name": "stdout",
     "output_type": "stream",
     "text": [
      "Saving gridded dataset to: ../../../data/GLAMOS/topo/gridded_topo_inputs/RGI_grid/schwarzbach/schwarzbach_grid_1967.parquet\n",
      "⚠️ Error processing glacier 'schwarzbach' for year 1967: Cannot save file into a non-existent directory: '../../../data/GLAMOS/topo/gridded_topo_inputs/RGI_grid/schwarzbach'\n",
      "Converting to monthly time resolution for 1968...\n"
     ]
    },
    {
     "name": "stderr",
     "output_type": "stream",
     "text": [
      "Traceback (most recent call last):\n",
      "  File \"/tmp/ipykernel_72266/2765871222.py\", line 76, in <module>\n",
      "    dataset_grid_yearly.data.to_parquet(save_path, engine=\"pyarrow\", compression=\"snappy\")\n",
      "  File \"/home/vmarijn/mambaforge/envs/MassBalanceMachine/lib/python3.11/site-packages/pandas/util/_decorators.py\", line 333, in wrapper\n",
      "    return func(*args, **kwargs)\n",
      "           ^^^^^^^^^^^^^^^^^^^^^\n",
      "  File \"/home/vmarijn/mambaforge/envs/MassBalanceMachine/lib/python3.11/site-packages/pandas/core/frame.py\", line 3113, in to_parquet\n",
      "    return to_parquet(\n",
      "           ^^^^^^^^^^^\n",
      "  File \"/home/vmarijn/mambaforge/envs/MassBalanceMachine/lib/python3.11/site-packages/pandas/io/parquet.py\", line 480, in to_parquet\n",
      "    impl.write(\n",
      "  File \"/home/vmarijn/mambaforge/envs/MassBalanceMachine/lib/python3.11/site-packages/pandas/io/parquet.py\", line 198, in write\n",
      "    path_or_handle, handles, filesystem = _get_path_or_handle(\n",
      "                                          ^^^^^^^^^^^^^^^^^^^^\n",
      "  File \"/home/vmarijn/mambaforge/envs/MassBalanceMachine/lib/python3.11/site-packages/pandas/io/parquet.py\", line 140, in _get_path_or_handle\n",
      "    handles = get_handle(\n",
      "              ^^^^^^^^^^^\n",
      "  File \"/home/vmarijn/mambaforge/envs/MassBalanceMachine/lib/python3.11/site-packages/pandas/io/common.py\", line 749, in get_handle\n",
      "    check_parent_directory(str(handle))\n",
      "  File \"/home/vmarijn/mambaforge/envs/MassBalanceMachine/lib/python3.11/site-packages/pandas/io/common.py\", line 616, in check_parent_directory\n",
      "    raise OSError(rf\"Cannot save file into a non-existent directory: '{parent}'\")\n",
      "OSError: Cannot save file into a non-existent directory: '../../../data/GLAMOS/topo/gridded_topo_inputs/RGI_grid/schwarzbach'\n"
     ]
    },
    {
     "name": "stdout",
     "output_type": "stream",
     "text": [
      "Saving gridded dataset to: ../../../data/GLAMOS/topo/gridded_topo_inputs/RGI_grid/schwarzbach/schwarzbach_grid_1968.parquet\n",
      "⚠️ Error processing glacier 'schwarzbach' for year 1968: Cannot save file into a non-existent directory: '../../../data/GLAMOS/topo/gridded_topo_inputs/RGI_grid/schwarzbach'\n",
      "Converting to monthly time resolution for 1969...\n"
     ]
    },
    {
     "name": "stderr",
     "output_type": "stream",
     "text": [
      "Traceback (most recent call last):\n",
      "  File \"/tmp/ipykernel_72266/2765871222.py\", line 76, in <module>\n",
      "    dataset_grid_yearly.data.to_parquet(save_path, engine=\"pyarrow\", compression=\"snappy\")\n",
      "  File \"/home/vmarijn/mambaforge/envs/MassBalanceMachine/lib/python3.11/site-packages/pandas/util/_decorators.py\", line 333, in wrapper\n",
      "    return func(*args, **kwargs)\n",
      "           ^^^^^^^^^^^^^^^^^^^^^\n",
      "  File \"/home/vmarijn/mambaforge/envs/MassBalanceMachine/lib/python3.11/site-packages/pandas/core/frame.py\", line 3113, in to_parquet\n",
      "    return to_parquet(\n",
      "           ^^^^^^^^^^^\n",
      "  File \"/home/vmarijn/mambaforge/envs/MassBalanceMachine/lib/python3.11/site-packages/pandas/io/parquet.py\", line 480, in to_parquet\n",
      "    impl.write(\n",
      "  File \"/home/vmarijn/mambaforge/envs/MassBalanceMachine/lib/python3.11/site-packages/pandas/io/parquet.py\", line 198, in write\n",
      "    path_or_handle, handles, filesystem = _get_path_or_handle(\n",
      "                                          ^^^^^^^^^^^^^^^^^^^^\n",
      "  File \"/home/vmarijn/mambaforge/envs/MassBalanceMachine/lib/python3.11/site-packages/pandas/io/parquet.py\", line 140, in _get_path_or_handle\n",
      "    handles = get_handle(\n",
      "              ^^^^^^^^^^^\n",
      "  File \"/home/vmarijn/mambaforge/envs/MassBalanceMachine/lib/python3.11/site-packages/pandas/io/common.py\", line 749, in get_handle\n",
      "    check_parent_directory(str(handle))\n",
      "  File \"/home/vmarijn/mambaforge/envs/MassBalanceMachine/lib/python3.11/site-packages/pandas/io/common.py\", line 616, in check_parent_directory\n",
      "    raise OSError(rf\"Cannot save file into a non-existent directory: '{parent}'\")\n",
      "OSError: Cannot save file into a non-existent directory: '../../../data/GLAMOS/topo/gridded_topo_inputs/RGI_grid/schwarzbach'\n"
     ]
    },
    {
     "name": "stdout",
     "output_type": "stream",
     "text": [
      "Saving gridded dataset to: ../../../data/GLAMOS/topo/gridded_topo_inputs/RGI_grid/schwarzbach/schwarzbach_grid_1969.parquet\n",
      "⚠️ Error processing glacier 'schwarzbach' for year 1969: Cannot save file into a non-existent directory: '../../../data/GLAMOS/topo/gridded_topo_inputs/RGI_grid/schwarzbach'\n",
      "Converting to monthly time resolution for 1970...\n"
     ]
    },
    {
     "name": "stderr",
     "output_type": "stream",
     "text": [
      "Traceback (most recent call last):\n",
      "  File \"/tmp/ipykernel_72266/2765871222.py\", line 76, in <module>\n",
      "    dataset_grid_yearly.data.to_parquet(save_path, engine=\"pyarrow\", compression=\"snappy\")\n",
      "  File \"/home/vmarijn/mambaforge/envs/MassBalanceMachine/lib/python3.11/site-packages/pandas/util/_decorators.py\", line 333, in wrapper\n",
      "    return func(*args, **kwargs)\n",
      "           ^^^^^^^^^^^^^^^^^^^^^\n",
      "  File \"/home/vmarijn/mambaforge/envs/MassBalanceMachine/lib/python3.11/site-packages/pandas/core/frame.py\", line 3113, in to_parquet\n",
      "    return to_parquet(\n",
      "           ^^^^^^^^^^^\n",
      "  File \"/home/vmarijn/mambaforge/envs/MassBalanceMachine/lib/python3.11/site-packages/pandas/io/parquet.py\", line 480, in to_parquet\n",
      "    impl.write(\n",
      "  File \"/home/vmarijn/mambaforge/envs/MassBalanceMachine/lib/python3.11/site-packages/pandas/io/parquet.py\", line 198, in write\n",
      "    path_or_handle, handles, filesystem = _get_path_or_handle(\n",
      "                                          ^^^^^^^^^^^^^^^^^^^^\n",
      "  File \"/home/vmarijn/mambaforge/envs/MassBalanceMachine/lib/python3.11/site-packages/pandas/io/parquet.py\", line 140, in _get_path_or_handle\n",
      "    handles = get_handle(\n",
      "              ^^^^^^^^^^^\n",
      "  File \"/home/vmarijn/mambaforge/envs/MassBalanceMachine/lib/python3.11/site-packages/pandas/io/common.py\", line 749, in get_handle\n",
      "    check_parent_directory(str(handle))\n",
      "  File \"/home/vmarijn/mambaforge/envs/MassBalanceMachine/lib/python3.11/site-packages/pandas/io/common.py\", line 616, in check_parent_directory\n",
      "    raise OSError(rf\"Cannot save file into a non-existent directory: '{parent}'\")\n",
      "OSError: Cannot save file into a non-existent directory: '../../../data/GLAMOS/topo/gridded_topo_inputs/RGI_grid/schwarzbach'\n"
     ]
    },
    {
     "name": "stdout",
     "output_type": "stream",
     "text": [
      "Saving gridded dataset to: ../../../data/GLAMOS/topo/gridded_topo_inputs/RGI_grid/schwarzbach/schwarzbach_grid_1970.parquet\n",
      "⚠️ Error processing glacier 'schwarzbach' for year 1970: Cannot save file into a non-existent directory: '../../../data/GLAMOS/topo/gridded_topo_inputs/RGI_grid/schwarzbach'\n",
      "Converting to monthly time resolution for 1971...\n"
     ]
    },
    {
     "name": "stderr",
     "output_type": "stream",
     "text": [
      "Traceback (most recent call last):\n",
      "  File \"/tmp/ipykernel_72266/2765871222.py\", line 76, in <module>\n",
      "    dataset_grid_yearly.data.to_parquet(save_path, engine=\"pyarrow\", compression=\"snappy\")\n",
      "  File \"/home/vmarijn/mambaforge/envs/MassBalanceMachine/lib/python3.11/site-packages/pandas/util/_decorators.py\", line 333, in wrapper\n",
      "    return func(*args, **kwargs)\n",
      "           ^^^^^^^^^^^^^^^^^^^^^\n",
      "  File \"/home/vmarijn/mambaforge/envs/MassBalanceMachine/lib/python3.11/site-packages/pandas/core/frame.py\", line 3113, in to_parquet\n",
      "    return to_parquet(\n",
      "           ^^^^^^^^^^^\n",
      "  File \"/home/vmarijn/mambaforge/envs/MassBalanceMachine/lib/python3.11/site-packages/pandas/io/parquet.py\", line 480, in to_parquet\n",
      "    impl.write(\n",
      "  File \"/home/vmarijn/mambaforge/envs/MassBalanceMachine/lib/python3.11/site-packages/pandas/io/parquet.py\", line 198, in write\n",
      "    path_or_handle, handles, filesystem = _get_path_or_handle(\n",
      "                                          ^^^^^^^^^^^^^^^^^^^^\n",
      "  File \"/home/vmarijn/mambaforge/envs/MassBalanceMachine/lib/python3.11/site-packages/pandas/io/parquet.py\", line 140, in _get_path_or_handle\n",
      "    handles = get_handle(\n",
      "              ^^^^^^^^^^^\n",
      "  File \"/home/vmarijn/mambaforge/envs/MassBalanceMachine/lib/python3.11/site-packages/pandas/io/common.py\", line 749, in get_handle\n",
      "    check_parent_directory(str(handle))\n",
      "  File \"/home/vmarijn/mambaforge/envs/MassBalanceMachine/lib/python3.11/site-packages/pandas/io/common.py\", line 616, in check_parent_directory\n",
      "    raise OSError(rf\"Cannot save file into a non-existent directory: '{parent}'\")\n",
      "OSError: Cannot save file into a non-existent directory: '../../../data/GLAMOS/topo/gridded_topo_inputs/RGI_grid/schwarzbach'\n"
     ]
    },
    {
     "name": "stdout",
     "output_type": "stream",
     "text": [
      "Saving gridded dataset to: ../../../data/GLAMOS/topo/gridded_topo_inputs/RGI_grid/schwarzbach/schwarzbach_grid_1971.parquet\n",
      "⚠️ Error processing glacier 'schwarzbach' for year 1971: Cannot save file into a non-existent directory: '../../../data/GLAMOS/topo/gridded_topo_inputs/RGI_grid/schwarzbach'\n",
      "Converting to monthly time resolution for 1972...\n"
     ]
    },
    {
     "name": "stderr",
     "output_type": "stream",
     "text": [
      "Traceback (most recent call last):\n",
      "  File \"/tmp/ipykernel_72266/2765871222.py\", line 76, in <module>\n",
      "    dataset_grid_yearly.data.to_parquet(save_path, engine=\"pyarrow\", compression=\"snappy\")\n",
      "  File \"/home/vmarijn/mambaforge/envs/MassBalanceMachine/lib/python3.11/site-packages/pandas/util/_decorators.py\", line 333, in wrapper\n",
      "    return func(*args, **kwargs)\n",
      "           ^^^^^^^^^^^^^^^^^^^^^\n",
      "  File \"/home/vmarijn/mambaforge/envs/MassBalanceMachine/lib/python3.11/site-packages/pandas/core/frame.py\", line 3113, in to_parquet\n",
      "    return to_parquet(\n",
      "           ^^^^^^^^^^^\n",
      "  File \"/home/vmarijn/mambaforge/envs/MassBalanceMachine/lib/python3.11/site-packages/pandas/io/parquet.py\", line 480, in to_parquet\n",
      "    impl.write(\n",
      "  File \"/home/vmarijn/mambaforge/envs/MassBalanceMachine/lib/python3.11/site-packages/pandas/io/parquet.py\", line 198, in write\n",
      "    path_or_handle, handles, filesystem = _get_path_or_handle(\n",
      "                                          ^^^^^^^^^^^^^^^^^^^^\n",
      "  File \"/home/vmarijn/mambaforge/envs/MassBalanceMachine/lib/python3.11/site-packages/pandas/io/parquet.py\", line 140, in _get_path_or_handle\n",
      "    handles = get_handle(\n",
      "              ^^^^^^^^^^^\n",
      "  File \"/home/vmarijn/mambaforge/envs/MassBalanceMachine/lib/python3.11/site-packages/pandas/io/common.py\", line 749, in get_handle\n",
      "    check_parent_directory(str(handle))\n",
      "  File \"/home/vmarijn/mambaforge/envs/MassBalanceMachine/lib/python3.11/site-packages/pandas/io/common.py\", line 616, in check_parent_directory\n",
      "    raise OSError(rf\"Cannot save file into a non-existent directory: '{parent}'\")\n",
      "OSError: Cannot save file into a non-existent directory: '../../../data/GLAMOS/topo/gridded_topo_inputs/RGI_grid/schwarzbach'\n"
     ]
    },
    {
     "name": "stdout",
     "output_type": "stream",
     "text": [
      "Saving gridded dataset to: ../../../data/GLAMOS/topo/gridded_topo_inputs/RGI_grid/schwarzbach/schwarzbach_grid_1972.parquet\n",
      "⚠️ Error processing glacier 'schwarzbach' for year 1972: Cannot save file into a non-existent directory: '../../../data/GLAMOS/topo/gridded_topo_inputs/RGI_grid/schwarzbach'\n",
      "Converting to monthly time resolution for 1973...\n"
     ]
    },
    {
     "name": "stderr",
     "output_type": "stream",
     "text": [
      "Traceback (most recent call last):\n",
      "  File \"/tmp/ipykernel_72266/2765871222.py\", line 76, in <module>\n",
      "    dataset_grid_yearly.data.to_parquet(save_path, engine=\"pyarrow\", compression=\"snappy\")\n",
      "  File \"/home/vmarijn/mambaforge/envs/MassBalanceMachine/lib/python3.11/site-packages/pandas/util/_decorators.py\", line 333, in wrapper\n",
      "    return func(*args, **kwargs)\n",
      "           ^^^^^^^^^^^^^^^^^^^^^\n",
      "  File \"/home/vmarijn/mambaforge/envs/MassBalanceMachine/lib/python3.11/site-packages/pandas/core/frame.py\", line 3113, in to_parquet\n",
      "    return to_parquet(\n",
      "           ^^^^^^^^^^^\n",
      "  File \"/home/vmarijn/mambaforge/envs/MassBalanceMachine/lib/python3.11/site-packages/pandas/io/parquet.py\", line 480, in to_parquet\n",
      "    impl.write(\n",
      "  File \"/home/vmarijn/mambaforge/envs/MassBalanceMachine/lib/python3.11/site-packages/pandas/io/parquet.py\", line 198, in write\n",
      "    path_or_handle, handles, filesystem = _get_path_or_handle(\n",
      "                                          ^^^^^^^^^^^^^^^^^^^^\n",
      "  File \"/home/vmarijn/mambaforge/envs/MassBalanceMachine/lib/python3.11/site-packages/pandas/io/parquet.py\", line 140, in _get_path_or_handle\n",
      "    handles = get_handle(\n",
      "              ^^^^^^^^^^^\n",
      "  File \"/home/vmarijn/mambaforge/envs/MassBalanceMachine/lib/python3.11/site-packages/pandas/io/common.py\", line 749, in get_handle\n",
      "    check_parent_directory(str(handle))\n",
      "  File \"/home/vmarijn/mambaforge/envs/MassBalanceMachine/lib/python3.11/site-packages/pandas/io/common.py\", line 616, in check_parent_directory\n",
      "    raise OSError(rf\"Cannot save file into a non-existent directory: '{parent}'\")\n",
      "OSError: Cannot save file into a non-existent directory: '../../../data/GLAMOS/topo/gridded_topo_inputs/RGI_grid/schwarzbach'\n"
     ]
    },
    {
     "name": "stdout",
     "output_type": "stream",
     "text": [
      "Saving gridded dataset to: ../../../data/GLAMOS/topo/gridded_topo_inputs/RGI_grid/schwarzbach/schwarzbach_grid_1973.parquet\n",
      "⚠️ Error processing glacier 'schwarzbach' for year 1973: Cannot save file into a non-existent directory: '../../../data/GLAMOS/topo/gridded_topo_inputs/RGI_grid/schwarzbach'\n",
      "Converting to monthly time resolution for 1974...\n"
     ]
    },
    {
     "name": "stderr",
     "output_type": "stream",
     "text": [
      "Traceback (most recent call last):\n",
      "  File \"/tmp/ipykernel_72266/2765871222.py\", line 76, in <module>\n",
      "    dataset_grid_yearly.data.to_parquet(save_path, engine=\"pyarrow\", compression=\"snappy\")\n",
      "  File \"/home/vmarijn/mambaforge/envs/MassBalanceMachine/lib/python3.11/site-packages/pandas/util/_decorators.py\", line 333, in wrapper\n",
      "    return func(*args, **kwargs)\n",
      "           ^^^^^^^^^^^^^^^^^^^^^\n",
      "  File \"/home/vmarijn/mambaforge/envs/MassBalanceMachine/lib/python3.11/site-packages/pandas/core/frame.py\", line 3113, in to_parquet\n",
      "    return to_parquet(\n",
      "           ^^^^^^^^^^^\n",
      "  File \"/home/vmarijn/mambaforge/envs/MassBalanceMachine/lib/python3.11/site-packages/pandas/io/parquet.py\", line 480, in to_parquet\n",
      "    impl.write(\n",
      "  File \"/home/vmarijn/mambaforge/envs/MassBalanceMachine/lib/python3.11/site-packages/pandas/io/parquet.py\", line 198, in write\n",
      "    path_or_handle, handles, filesystem = _get_path_or_handle(\n",
      "                                          ^^^^^^^^^^^^^^^^^^^^\n",
      "  File \"/home/vmarijn/mambaforge/envs/MassBalanceMachine/lib/python3.11/site-packages/pandas/io/parquet.py\", line 140, in _get_path_or_handle\n",
      "    handles = get_handle(\n",
      "              ^^^^^^^^^^^\n",
      "  File \"/home/vmarijn/mambaforge/envs/MassBalanceMachine/lib/python3.11/site-packages/pandas/io/common.py\", line 749, in get_handle\n",
      "    check_parent_directory(str(handle))\n",
      "  File \"/home/vmarijn/mambaforge/envs/MassBalanceMachine/lib/python3.11/site-packages/pandas/io/common.py\", line 616, in check_parent_directory\n",
      "    raise OSError(rf\"Cannot save file into a non-existent directory: '{parent}'\")\n",
      "OSError: Cannot save file into a non-existent directory: '../../../data/GLAMOS/topo/gridded_topo_inputs/RGI_grid/schwarzbach'\n"
     ]
    },
    {
     "name": "stdout",
     "output_type": "stream",
     "text": [
      "Saving gridded dataset to: ../../../data/GLAMOS/topo/gridded_topo_inputs/RGI_grid/schwarzbach/schwarzbach_grid_1974.parquet\n",
      "⚠️ Error processing glacier 'schwarzbach' for year 1974: Cannot save file into a non-existent directory: '../../../data/GLAMOS/topo/gridded_topo_inputs/RGI_grid/schwarzbach'\n",
      "Converting to monthly time resolution for 1975...\n"
     ]
    },
    {
     "name": "stderr",
     "output_type": "stream",
     "text": [
      "Traceback (most recent call last):\n",
      "  File \"/tmp/ipykernel_72266/2765871222.py\", line 76, in <module>\n",
      "    dataset_grid_yearly.data.to_parquet(save_path, engine=\"pyarrow\", compression=\"snappy\")\n",
      "  File \"/home/vmarijn/mambaforge/envs/MassBalanceMachine/lib/python3.11/site-packages/pandas/util/_decorators.py\", line 333, in wrapper\n",
      "    return func(*args, **kwargs)\n",
      "           ^^^^^^^^^^^^^^^^^^^^^\n",
      "  File \"/home/vmarijn/mambaforge/envs/MassBalanceMachine/lib/python3.11/site-packages/pandas/core/frame.py\", line 3113, in to_parquet\n",
      "    return to_parquet(\n",
      "           ^^^^^^^^^^^\n",
      "  File \"/home/vmarijn/mambaforge/envs/MassBalanceMachine/lib/python3.11/site-packages/pandas/io/parquet.py\", line 480, in to_parquet\n",
      "    impl.write(\n",
      "  File \"/home/vmarijn/mambaforge/envs/MassBalanceMachine/lib/python3.11/site-packages/pandas/io/parquet.py\", line 198, in write\n",
      "    path_or_handle, handles, filesystem = _get_path_or_handle(\n",
      "                                          ^^^^^^^^^^^^^^^^^^^^\n",
      "  File \"/home/vmarijn/mambaforge/envs/MassBalanceMachine/lib/python3.11/site-packages/pandas/io/parquet.py\", line 140, in _get_path_or_handle\n",
      "    handles = get_handle(\n",
      "              ^^^^^^^^^^^\n",
      "  File \"/home/vmarijn/mambaforge/envs/MassBalanceMachine/lib/python3.11/site-packages/pandas/io/common.py\", line 749, in get_handle\n",
      "    check_parent_directory(str(handle))\n",
      "  File \"/home/vmarijn/mambaforge/envs/MassBalanceMachine/lib/python3.11/site-packages/pandas/io/common.py\", line 616, in check_parent_directory\n",
      "    raise OSError(rf\"Cannot save file into a non-existent directory: '{parent}'\")\n",
      "OSError: Cannot save file into a non-existent directory: '../../../data/GLAMOS/topo/gridded_topo_inputs/RGI_grid/schwarzbach'\n"
     ]
    },
    {
     "name": "stdout",
     "output_type": "stream",
     "text": [
      "Saving gridded dataset to: ../../../data/GLAMOS/topo/gridded_topo_inputs/RGI_grid/schwarzbach/schwarzbach_grid_1975.parquet\n",
      "⚠️ Error processing glacier 'schwarzbach' for year 1975: Cannot save file into a non-existent directory: '../../../data/GLAMOS/topo/gridded_topo_inputs/RGI_grid/schwarzbach'\n",
      "Converting to monthly time resolution for 1976...\n"
     ]
    },
    {
     "name": "stderr",
     "output_type": "stream",
     "text": [
      "Traceback (most recent call last):\n",
      "  File \"/tmp/ipykernel_72266/2765871222.py\", line 76, in <module>\n",
      "    dataset_grid_yearly.data.to_parquet(save_path, engine=\"pyarrow\", compression=\"snappy\")\n",
      "  File \"/home/vmarijn/mambaforge/envs/MassBalanceMachine/lib/python3.11/site-packages/pandas/util/_decorators.py\", line 333, in wrapper\n",
      "    return func(*args, **kwargs)\n",
      "           ^^^^^^^^^^^^^^^^^^^^^\n",
      "  File \"/home/vmarijn/mambaforge/envs/MassBalanceMachine/lib/python3.11/site-packages/pandas/core/frame.py\", line 3113, in to_parquet\n",
      "    return to_parquet(\n",
      "           ^^^^^^^^^^^\n",
      "  File \"/home/vmarijn/mambaforge/envs/MassBalanceMachine/lib/python3.11/site-packages/pandas/io/parquet.py\", line 480, in to_parquet\n",
      "    impl.write(\n",
      "  File \"/home/vmarijn/mambaforge/envs/MassBalanceMachine/lib/python3.11/site-packages/pandas/io/parquet.py\", line 198, in write\n",
      "    path_or_handle, handles, filesystem = _get_path_or_handle(\n",
      "                                          ^^^^^^^^^^^^^^^^^^^^\n",
      "  File \"/home/vmarijn/mambaforge/envs/MassBalanceMachine/lib/python3.11/site-packages/pandas/io/parquet.py\", line 140, in _get_path_or_handle\n",
      "    handles = get_handle(\n",
      "              ^^^^^^^^^^^\n",
      "  File \"/home/vmarijn/mambaforge/envs/MassBalanceMachine/lib/python3.11/site-packages/pandas/io/common.py\", line 749, in get_handle\n",
      "    check_parent_directory(str(handle))\n",
      "  File \"/home/vmarijn/mambaforge/envs/MassBalanceMachine/lib/python3.11/site-packages/pandas/io/common.py\", line 616, in check_parent_directory\n",
      "    raise OSError(rf\"Cannot save file into a non-existent directory: '{parent}'\")\n",
      "OSError: Cannot save file into a non-existent directory: '../../../data/GLAMOS/topo/gridded_topo_inputs/RGI_grid/schwarzbach'\n"
     ]
    },
    {
     "name": "stdout",
     "output_type": "stream",
     "text": [
      "Saving gridded dataset to: ../../../data/GLAMOS/topo/gridded_topo_inputs/RGI_grid/schwarzbach/schwarzbach_grid_1976.parquet\n",
      "⚠️ Error processing glacier 'schwarzbach' for year 1976: Cannot save file into a non-existent directory: '../../../data/GLAMOS/topo/gridded_topo_inputs/RGI_grid/schwarzbach'\n",
      "Converting to monthly time resolution for 1977...\n"
     ]
    },
    {
     "name": "stderr",
     "output_type": "stream",
     "text": [
      "Traceback (most recent call last):\n",
      "  File \"/tmp/ipykernel_72266/2765871222.py\", line 76, in <module>\n",
      "    dataset_grid_yearly.data.to_parquet(save_path, engine=\"pyarrow\", compression=\"snappy\")\n",
      "  File \"/home/vmarijn/mambaforge/envs/MassBalanceMachine/lib/python3.11/site-packages/pandas/util/_decorators.py\", line 333, in wrapper\n",
      "    return func(*args, **kwargs)\n",
      "           ^^^^^^^^^^^^^^^^^^^^^\n",
      "  File \"/home/vmarijn/mambaforge/envs/MassBalanceMachine/lib/python3.11/site-packages/pandas/core/frame.py\", line 3113, in to_parquet\n",
      "    return to_parquet(\n",
      "           ^^^^^^^^^^^\n",
      "  File \"/home/vmarijn/mambaforge/envs/MassBalanceMachine/lib/python3.11/site-packages/pandas/io/parquet.py\", line 480, in to_parquet\n",
      "    impl.write(\n",
      "  File \"/home/vmarijn/mambaforge/envs/MassBalanceMachine/lib/python3.11/site-packages/pandas/io/parquet.py\", line 198, in write\n",
      "    path_or_handle, handles, filesystem = _get_path_or_handle(\n",
      "                                          ^^^^^^^^^^^^^^^^^^^^\n",
      "  File \"/home/vmarijn/mambaforge/envs/MassBalanceMachine/lib/python3.11/site-packages/pandas/io/parquet.py\", line 140, in _get_path_or_handle\n",
      "    handles = get_handle(\n",
      "              ^^^^^^^^^^^\n",
      "  File \"/home/vmarijn/mambaforge/envs/MassBalanceMachine/lib/python3.11/site-packages/pandas/io/common.py\", line 749, in get_handle\n",
      "    check_parent_directory(str(handle))\n",
      "  File \"/home/vmarijn/mambaforge/envs/MassBalanceMachine/lib/python3.11/site-packages/pandas/io/common.py\", line 616, in check_parent_directory\n",
      "    raise OSError(rf\"Cannot save file into a non-existent directory: '{parent}'\")\n",
      "OSError: Cannot save file into a non-existent directory: '../../../data/GLAMOS/topo/gridded_topo_inputs/RGI_grid/schwarzbach'\n"
     ]
    },
    {
     "name": "stdout",
     "output_type": "stream",
     "text": [
      "Saving gridded dataset to: ../../../data/GLAMOS/topo/gridded_topo_inputs/RGI_grid/schwarzbach/schwarzbach_grid_1977.parquet\n",
      "⚠️ Error processing glacier 'schwarzbach' for year 1977: Cannot save file into a non-existent directory: '../../../data/GLAMOS/topo/gridded_topo_inputs/RGI_grid/schwarzbach'\n",
      "Converting to monthly time resolution for 1978...\n"
     ]
    },
    {
     "name": "stderr",
     "output_type": "stream",
     "text": [
      "Traceback (most recent call last):\n",
      "  File \"/tmp/ipykernel_72266/2765871222.py\", line 76, in <module>\n",
      "    dataset_grid_yearly.data.to_parquet(save_path, engine=\"pyarrow\", compression=\"snappy\")\n",
      "  File \"/home/vmarijn/mambaforge/envs/MassBalanceMachine/lib/python3.11/site-packages/pandas/util/_decorators.py\", line 333, in wrapper\n",
      "    return func(*args, **kwargs)\n",
      "           ^^^^^^^^^^^^^^^^^^^^^\n",
      "  File \"/home/vmarijn/mambaforge/envs/MassBalanceMachine/lib/python3.11/site-packages/pandas/core/frame.py\", line 3113, in to_parquet\n",
      "    return to_parquet(\n",
      "           ^^^^^^^^^^^\n",
      "  File \"/home/vmarijn/mambaforge/envs/MassBalanceMachine/lib/python3.11/site-packages/pandas/io/parquet.py\", line 480, in to_parquet\n",
      "    impl.write(\n",
      "  File \"/home/vmarijn/mambaforge/envs/MassBalanceMachine/lib/python3.11/site-packages/pandas/io/parquet.py\", line 198, in write\n",
      "    path_or_handle, handles, filesystem = _get_path_or_handle(\n",
      "                                          ^^^^^^^^^^^^^^^^^^^^\n",
      "  File \"/home/vmarijn/mambaforge/envs/MassBalanceMachine/lib/python3.11/site-packages/pandas/io/parquet.py\", line 140, in _get_path_or_handle\n",
      "    handles = get_handle(\n",
      "              ^^^^^^^^^^^\n",
      "  File \"/home/vmarijn/mambaforge/envs/MassBalanceMachine/lib/python3.11/site-packages/pandas/io/common.py\", line 749, in get_handle\n",
      "    check_parent_directory(str(handle))\n",
      "  File \"/home/vmarijn/mambaforge/envs/MassBalanceMachine/lib/python3.11/site-packages/pandas/io/common.py\", line 616, in check_parent_directory\n",
      "    raise OSError(rf\"Cannot save file into a non-existent directory: '{parent}'\")\n",
      "OSError: Cannot save file into a non-existent directory: '../../../data/GLAMOS/topo/gridded_topo_inputs/RGI_grid/schwarzbach'\n"
     ]
    },
    {
     "name": "stdout",
     "output_type": "stream",
     "text": [
      "Saving gridded dataset to: ../../../data/GLAMOS/topo/gridded_topo_inputs/RGI_grid/schwarzbach/schwarzbach_grid_1978.parquet\n",
      "⚠️ Error processing glacier 'schwarzbach' for year 1978: Cannot save file into a non-existent directory: '../../../data/GLAMOS/topo/gridded_topo_inputs/RGI_grid/schwarzbach'\n",
      "Converting to monthly time resolution for 1979...\n"
     ]
    },
    {
     "name": "stderr",
     "output_type": "stream",
     "text": [
      "Traceback (most recent call last):\n",
      "  File \"/tmp/ipykernel_72266/2765871222.py\", line 76, in <module>\n",
      "    dataset_grid_yearly.data.to_parquet(save_path, engine=\"pyarrow\", compression=\"snappy\")\n",
      "  File \"/home/vmarijn/mambaforge/envs/MassBalanceMachine/lib/python3.11/site-packages/pandas/util/_decorators.py\", line 333, in wrapper\n",
      "    return func(*args, **kwargs)\n",
      "           ^^^^^^^^^^^^^^^^^^^^^\n",
      "  File \"/home/vmarijn/mambaforge/envs/MassBalanceMachine/lib/python3.11/site-packages/pandas/core/frame.py\", line 3113, in to_parquet\n",
      "    return to_parquet(\n",
      "           ^^^^^^^^^^^\n",
      "  File \"/home/vmarijn/mambaforge/envs/MassBalanceMachine/lib/python3.11/site-packages/pandas/io/parquet.py\", line 480, in to_parquet\n",
      "    impl.write(\n",
      "  File \"/home/vmarijn/mambaforge/envs/MassBalanceMachine/lib/python3.11/site-packages/pandas/io/parquet.py\", line 198, in write\n",
      "    path_or_handle, handles, filesystem = _get_path_or_handle(\n",
      "                                          ^^^^^^^^^^^^^^^^^^^^\n",
      "  File \"/home/vmarijn/mambaforge/envs/MassBalanceMachine/lib/python3.11/site-packages/pandas/io/parquet.py\", line 140, in _get_path_or_handle\n",
      "    handles = get_handle(\n",
      "              ^^^^^^^^^^^\n",
      "  File \"/home/vmarijn/mambaforge/envs/MassBalanceMachine/lib/python3.11/site-packages/pandas/io/common.py\", line 749, in get_handle\n",
      "    check_parent_directory(str(handle))\n",
      "  File \"/home/vmarijn/mambaforge/envs/MassBalanceMachine/lib/python3.11/site-packages/pandas/io/common.py\", line 616, in check_parent_directory\n",
      "    raise OSError(rf\"Cannot save file into a non-existent directory: '{parent}'\")\n",
      "OSError: Cannot save file into a non-existent directory: '../../../data/GLAMOS/topo/gridded_topo_inputs/RGI_grid/schwarzbach'\n"
     ]
    },
    {
     "name": "stdout",
     "output_type": "stream",
     "text": [
      "Saving gridded dataset to: ../../../data/GLAMOS/topo/gridded_topo_inputs/RGI_grid/schwarzbach/schwarzbach_grid_1979.parquet\n",
      "⚠️ Error processing glacier 'schwarzbach' for year 1979: Cannot save file into a non-existent directory: '../../../data/GLAMOS/topo/gridded_topo_inputs/RGI_grid/schwarzbach'\n",
      "Converting to monthly time resolution for 1980...\n"
     ]
    },
    {
     "name": "stderr",
     "output_type": "stream",
     "text": [
      "Traceback (most recent call last):\n",
      "  File \"/tmp/ipykernel_72266/2765871222.py\", line 76, in <module>\n",
      "    dataset_grid_yearly.data.to_parquet(save_path, engine=\"pyarrow\", compression=\"snappy\")\n",
      "  File \"/home/vmarijn/mambaforge/envs/MassBalanceMachine/lib/python3.11/site-packages/pandas/util/_decorators.py\", line 333, in wrapper\n",
      "    return func(*args, **kwargs)\n",
      "           ^^^^^^^^^^^^^^^^^^^^^\n",
      "  File \"/home/vmarijn/mambaforge/envs/MassBalanceMachine/lib/python3.11/site-packages/pandas/core/frame.py\", line 3113, in to_parquet\n",
      "    return to_parquet(\n",
      "           ^^^^^^^^^^^\n",
      "  File \"/home/vmarijn/mambaforge/envs/MassBalanceMachine/lib/python3.11/site-packages/pandas/io/parquet.py\", line 480, in to_parquet\n",
      "    impl.write(\n",
      "  File \"/home/vmarijn/mambaforge/envs/MassBalanceMachine/lib/python3.11/site-packages/pandas/io/parquet.py\", line 198, in write\n",
      "    path_or_handle, handles, filesystem = _get_path_or_handle(\n",
      "                                          ^^^^^^^^^^^^^^^^^^^^\n",
      "  File \"/home/vmarijn/mambaforge/envs/MassBalanceMachine/lib/python3.11/site-packages/pandas/io/parquet.py\", line 140, in _get_path_or_handle\n",
      "    handles = get_handle(\n",
      "              ^^^^^^^^^^^\n",
      "  File \"/home/vmarijn/mambaforge/envs/MassBalanceMachine/lib/python3.11/site-packages/pandas/io/common.py\", line 749, in get_handle\n",
      "    check_parent_directory(str(handle))\n",
      "  File \"/home/vmarijn/mambaforge/envs/MassBalanceMachine/lib/python3.11/site-packages/pandas/io/common.py\", line 616, in check_parent_directory\n",
      "    raise OSError(rf\"Cannot save file into a non-existent directory: '{parent}'\")\n",
      "OSError: Cannot save file into a non-existent directory: '../../../data/GLAMOS/topo/gridded_topo_inputs/RGI_grid/schwarzbach'\n"
     ]
    },
    {
     "name": "stdout",
     "output_type": "stream",
     "text": [
      "Saving gridded dataset to: ../../../data/GLAMOS/topo/gridded_topo_inputs/RGI_grid/schwarzbach/schwarzbach_grid_1980.parquet\n",
      "⚠️ Error processing glacier 'schwarzbach' for year 1980: Cannot save file into a non-existent directory: '../../../data/GLAMOS/topo/gridded_topo_inputs/RGI_grid/schwarzbach'\n",
      "Converting to monthly time resolution for 1981...\n"
     ]
    },
    {
     "name": "stderr",
     "output_type": "stream",
     "text": [
      "Traceback (most recent call last):\n",
      "  File \"/tmp/ipykernel_72266/2765871222.py\", line 76, in <module>\n",
      "    dataset_grid_yearly.data.to_parquet(save_path, engine=\"pyarrow\", compression=\"snappy\")\n",
      "  File \"/home/vmarijn/mambaforge/envs/MassBalanceMachine/lib/python3.11/site-packages/pandas/util/_decorators.py\", line 333, in wrapper\n",
      "    return func(*args, **kwargs)\n",
      "           ^^^^^^^^^^^^^^^^^^^^^\n",
      "  File \"/home/vmarijn/mambaforge/envs/MassBalanceMachine/lib/python3.11/site-packages/pandas/core/frame.py\", line 3113, in to_parquet\n",
      "    return to_parquet(\n",
      "           ^^^^^^^^^^^\n",
      "  File \"/home/vmarijn/mambaforge/envs/MassBalanceMachine/lib/python3.11/site-packages/pandas/io/parquet.py\", line 480, in to_parquet\n",
      "    impl.write(\n",
      "  File \"/home/vmarijn/mambaforge/envs/MassBalanceMachine/lib/python3.11/site-packages/pandas/io/parquet.py\", line 198, in write\n",
      "    path_or_handle, handles, filesystem = _get_path_or_handle(\n",
      "                                          ^^^^^^^^^^^^^^^^^^^^\n",
      "  File \"/home/vmarijn/mambaforge/envs/MassBalanceMachine/lib/python3.11/site-packages/pandas/io/parquet.py\", line 140, in _get_path_or_handle\n",
      "    handles = get_handle(\n",
      "              ^^^^^^^^^^^\n",
      "  File \"/home/vmarijn/mambaforge/envs/MassBalanceMachine/lib/python3.11/site-packages/pandas/io/common.py\", line 749, in get_handle\n",
      "    check_parent_directory(str(handle))\n",
      "  File \"/home/vmarijn/mambaforge/envs/MassBalanceMachine/lib/python3.11/site-packages/pandas/io/common.py\", line 616, in check_parent_directory\n",
      "    raise OSError(rf\"Cannot save file into a non-existent directory: '{parent}'\")\n",
      "OSError: Cannot save file into a non-existent directory: '../../../data/GLAMOS/topo/gridded_topo_inputs/RGI_grid/schwarzbach'\n"
     ]
    },
    {
     "name": "stdout",
     "output_type": "stream",
     "text": [
      "Saving gridded dataset to: ../../../data/GLAMOS/topo/gridded_topo_inputs/RGI_grid/schwarzbach/schwarzbach_grid_1981.parquet\n",
      "⚠️ Error processing glacier 'schwarzbach' for year 1981: Cannot save file into a non-existent directory: '../../../data/GLAMOS/topo/gridded_topo_inputs/RGI_grid/schwarzbach'\n",
      "Converting to monthly time resolution for 1982...\n"
     ]
    },
    {
     "name": "stderr",
     "output_type": "stream",
     "text": [
      "Traceback (most recent call last):\n",
      "  File \"/tmp/ipykernel_72266/2765871222.py\", line 76, in <module>\n",
      "    dataset_grid_yearly.data.to_parquet(save_path, engine=\"pyarrow\", compression=\"snappy\")\n",
      "  File \"/home/vmarijn/mambaforge/envs/MassBalanceMachine/lib/python3.11/site-packages/pandas/util/_decorators.py\", line 333, in wrapper\n",
      "    return func(*args, **kwargs)\n",
      "           ^^^^^^^^^^^^^^^^^^^^^\n",
      "  File \"/home/vmarijn/mambaforge/envs/MassBalanceMachine/lib/python3.11/site-packages/pandas/core/frame.py\", line 3113, in to_parquet\n",
      "    return to_parquet(\n",
      "           ^^^^^^^^^^^\n",
      "  File \"/home/vmarijn/mambaforge/envs/MassBalanceMachine/lib/python3.11/site-packages/pandas/io/parquet.py\", line 480, in to_parquet\n",
      "    impl.write(\n",
      "  File \"/home/vmarijn/mambaforge/envs/MassBalanceMachine/lib/python3.11/site-packages/pandas/io/parquet.py\", line 198, in write\n",
      "    path_or_handle, handles, filesystem = _get_path_or_handle(\n",
      "                                          ^^^^^^^^^^^^^^^^^^^^\n",
      "  File \"/home/vmarijn/mambaforge/envs/MassBalanceMachine/lib/python3.11/site-packages/pandas/io/parquet.py\", line 140, in _get_path_or_handle\n",
      "    handles = get_handle(\n",
      "              ^^^^^^^^^^^\n",
      "  File \"/home/vmarijn/mambaforge/envs/MassBalanceMachine/lib/python3.11/site-packages/pandas/io/common.py\", line 749, in get_handle\n",
      "    check_parent_directory(str(handle))\n",
      "  File \"/home/vmarijn/mambaforge/envs/MassBalanceMachine/lib/python3.11/site-packages/pandas/io/common.py\", line 616, in check_parent_directory\n",
      "    raise OSError(rf\"Cannot save file into a non-existent directory: '{parent}'\")\n",
      "OSError: Cannot save file into a non-existent directory: '../../../data/GLAMOS/topo/gridded_topo_inputs/RGI_grid/schwarzbach'\n"
     ]
    },
    {
     "name": "stdout",
     "output_type": "stream",
     "text": [
      "Saving gridded dataset to: ../../../data/GLAMOS/topo/gridded_topo_inputs/RGI_grid/schwarzbach/schwarzbach_grid_1982.parquet\n",
      "⚠️ Error processing glacier 'schwarzbach' for year 1982: Cannot save file into a non-existent directory: '../../../data/GLAMOS/topo/gridded_topo_inputs/RGI_grid/schwarzbach'\n",
      "Converting to monthly time resolution for 1983...\n"
     ]
    },
    {
     "name": "stderr",
     "output_type": "stream",
     "text": [
      "Traceback (most recent call last):\n",
      "  File \"/tmp/ipykernel_72266/2765871222.py\", line 76, in <module>\n",
      "    dataset_grid_yearly.data.to_parquet(save_path, engine=\"pyarrow\", compression=\"snappy\")\n",
      "  File \"/home/vmarijn/mambaforge/envs/MassBalanceMachine/lib/python3.11/site-packages/pandas/util/_decorators.py\", line 333, in wrapper\n",
      "    return func(*args, **kwargs)\n",
      "           ^^^^^^^^^^^^^^^^^^^^^\n",
      "  File \"/home/vmarijn/mambaforge/envs/MassBalanceMachine/lib/python3.11/site-packages/pandas/core/frame.py\", line 3113, in to_parquet\n",
      "    return to_parquet(\n",
      "           ^^^^^^^^^^^\n",
      "  File \"/home/vmarijn/mambaforge/envs/MassBalanceMachine/lib/python3.11/site-packages/pandas/io/parquet.py\", line 480, in to_parquet\n",
      "    impl.write(\n",
      "  File \"/home/vmarijn/mambaforge/envs/MassBalanceMachine/lib/python3.11/site-packages/pandas/io/parquet.py\", line 198, in write\n",
      "    path_or_handle, handles, filesystem = _get_path_or_handle(\n",
      "                                          ^^^^^^^^^^^^^^^^^^^^\n",
      "  File \"/home/vmarijn/mambaforge/envs/MassBalanceMachine/lib/python3.11/site-packages/pandas/io/parquet.py\", line 140, in _get_path_or_handle\n",
      "    handles = get_handle(\n",
      "              ^^^^^^^^^^^\n",
      "  File \"/home/vmarijn/mambaforge/envs/MassBalanceMachine/lib/python3.11/site-packages/pandas/io/common.py\", line 749, in get_handle\n",
      "    check_parent_directory(str(handle))\n",
      "  File \"/home/vmarijn/mambaforge/envs/MassBalanceMachine/lib/python3.11/site-packages/pandas/io/common.py\", line 616, in check_parent_directory\n",
      "    raise OSError(rf\"Cannot save file into a non-existent directory: '{parent}'\")\n",
      "OSError: Cannot save file into a non-existent directory: '../../../data/GLAMOS/topo/gridded_topo_inputs/RGI_grid/schwarzbach'\n"
     ]
    },
    {
     "name": "stdout",
     "output_type": "stream",
     "text": [
      "Saving gridded dataset to: ../../../data/GLAMOS/topo/gridded_topo_inputs/RGI_grid/schwarzbach/schwarzbach_grid_1983.parquet\n",
      "⚠️ Error processing glacier 'schwarzbach' for year 1983: Cannot save file into a non-existent directory: '../../../data/GLAMOS/topo/gridded_topo_inputs/RGI_grid/schwarzbach'\n",
      "Converting to monthly time resolution for 1984...\n"
     ]
    },
    {
     "name": "stderr",
     "output_type": "stream",
     "text": [
      "Traceback (most recent call last):\n",
      "  File \"/tmp/ipykernel_72266/2765871222.py\", line 76, in <module>\n",
      "    dataset_grid_yearly.data.to_parquet(save_path, engine=\"pyarrow\", compression=\"snappy\")\n",
      "  File \"/home/vmarijn/mambaforge/envs/MassBalanceMachine/lib/python3.11/site-packages/pandas/util/_decorators.py\", line 333, in wrapper\n",
      "    return func(*args, **kwargs)\n",
      "           ^^^^^^^^^^^^^^^^^^^^^\n",
      "  File \"/home/vmarijn/mambaforge/envs/MassBalanceMachine/lib/python3.11/site-packages/pandas/core/frame.py\", line 3113, in to_parquet\n",
      "    return to_parquet(\n",
      "           ^^^^^^^^^^^\n",
      "  File \"/home/vmarijn/mambaforge/envs/MassBalanceMachine/lib/python3.11/site-packages/pandas/io/parquet.py\", line 480, in to_parquet\n",
      "    impl.write(\n",
      "  File \"/home/vmarijn/mambaforge/envs/MassBalanceMachine/lib/python3.11/site-packages/pandas/io/parquet.py\", line 198, in write\n",
      "    path_or_handle, handles, filesystem = _get_path_or_handle(\n",
      "                                          ^^^^^^^^^^^^^^^^^^^^\n",
      "  File \"/home/vmarijn/mambaforge/envs/MassBalanceMachine/lib/python3.11/site-packages/pandas/io/parquet.py\", line 140, in _get_path_or_handle\n",
      "    handles = get_handle(\n",
      "              ^^^^^^^^^^^\n",
      "  File \"/home/vmarijn/mambaforge/envs/MassBalanceMachine/lib/python3.11/site-packages/pandas/io/common.py\", line 749, in get_handle\n",
      "    check_parent_directory(str(handle))\n",
      "  File \"/home/vmarijn/mambaforge/envs/MassBalanceMachine/lib/python3.11/site-packages/pandas/io/common.py\", line 616, in check_parent_directory\n",
      "    raise OSError(rf\"Cannot save file into a non-existent directory: '{parent}'\")\n",
      "OSError: Cannot save file into a non-existent directory: '../../../data/GLAMOS/topo/gridded_topo_inputs/RGI_grid/schwarzbach'\n"
     ]
    },
    {
     "name": "stdout",
     "output_type": "stream",
     "text": [
      "Saving gridded dataset to: ../../../data/GLAMOS/topo/gridded_topo_inputs/RGI_grid/schwarzbach/schwarzbach_grid_1984.parquet\n",
      "⚠️ Error processing glacier 'schwarzbach' for year 1984: Cannot save file into a non-existent directory: '../../../data/GLAMOS/topo/gridded_topo_inputs/RGI_grid/schwarzbach'\n",
      "Converting to monthly time resolution for 1985...\n"
     ]
    },
    {
     "name": "stderr",
     "output_type": "stream",
     "text": [
      "Traceback (most recent call last):\n",
      "  File \"/tmp/ipykernel_72266/2765871222.py\", line 76, in <module>\n",
      "    dataset_grid_yearly.data.to_parquet(save_path, engine=\"pyarrow\", compression=\"snappy\")\n",
      "  File \"/home/vmarijn/mambaforge/envs/MassBalanceMachine/lib/python3.11/site-packages/pandas/util/_decorators.py\", line 333, in wrapper\n",
      "    return func(*args, **kwargs)\n",
      "           ^^^^^^^^^^^^^^^^^^^^^\n",
      "  File \"/home/vmarijn/mambaforge/envs/MassBalanceMachine/lib/python3.11/site-packages/pandas/core/frame.py\", line 3113, in to_parquet\n",
      "    return to_parquet(\n",
      "           ^^^^^^^^^^^\n",
      "  File \"/home/vmarijn/mambaforge/envs/MassBalanceMachine/lib/python3.11/site-packages/pandas/io/parquet.py\", line 480, in to_parquet\n",
      "    impl.write(\n",
      "  File \"/home/vmarijn/mambaforge/envs/MassBalanceMachine/lib/python3.11/site-packages/pandas/io/parquet.py\", line 198, in write\n",
      "    path_or_handle, handles, filesystem = _get_path_or_handle(\n",
      "                                          ^^^^^^^^^^^^^^^^^^^^\n",
      "  File \"/home/vmarijn/mambaforge/envs/MassBalanceMachine/lib/python3.11/site-packages/pandas/io/parquet.py\", line 140, in _get_path_or_handle\n",
      "    handles = get_handle(\n",
      "              ^^^^^^^^^^^\n",
      "  File \"/home/vmarijn/mambaforge/envs/MassBalanceMachine/lib/python3.11/site-packages/pandas/io/common.py\", line 749, in get_handle\n",
      "    check_parent_directory(str(handle))\n",
      "  File \"/home/vmarijn/mambaforge/envs/MassBalanceMachine/lib/python3.11/site-packages/pandas/io/common.py\", line 616, in check_parent_directory\n",
      "    raise OSError(rf\"Cannot save file into a non-existent directory: '{parent}'\")\n",
      "OSError: Cannot save file into a non-existent directory: '../../../data/GLAMOS/topo/gridded_topo_inputs/RGI_grid/schwarzbach'\n"
     ]
    },
    {
     "name": "stdout",
     "output_type": "stream",
     "text": [
      "Saving gridded dataset to: ../../../data/GLAMOS/topo/gridded_topo_inputs/RGI_grid/schwarzbach/schwarzbach_grid_1985.parquet\n",
      "⚠️ Error processing glacier 'schwarzbach' for year 1985: Cannot save file into a non-existent directory: '../../../data/GLAMOS/topo/gridded_topo_inputs/RGI_grid/schwarzbach'\n",
      "Converting to monthly time resolution for 1986...\n"
     ]
    },
    {
     "name": "stderr",
     "output_type": "stream",
     "text": [
      "Traceback (most recent call last):\n",
      "  File \"/tmp/ipykernel_72266/2765871222.py\", line 76, in <module>\n",
      "    dataset_grid_yearly.data.to_parquet(save_path, engine=\"pyarrow\", compression=\"snappy\")\n",
      "  File \"/home/vmarijn/mambaforge/envs/MassBalanceMachine/lib/python3.11/site-packages/pandas/util/_decorators.py\", line 333, in wrapper\n",
      "    return func(*args, **kwargs)\n",
      "           ^^^^^^^^^^^^^^^^^^^^^\n",
      "  File \"/home/vmarijn/mambaforge/envs/MassBalanceMachine/lib/python3.11/site-packages/pandas/core/frame.py\", line 3113, in to_parquet\n",
      "    return to_parquet(\n",
      "           ^^^^^^^^^^^\n",
      "  File \"/home/vmarijn/mambaforge/envs/MassBalanceMachine/lib/python3.11/site-packages/pandas/io/parquet.py\", line 480, in to_parquet\n",
      "    impl.write(\n",
      "  File \"/home/vmarijn/mambaforge/envs/MassBalanceMachine/lib/python3.11/site-packages/pandas/io/parquet.py\", line 198, in write\n",
      "    path_or_handle, handles, filesystem = _get_path_or_handle(\n",
      "                                          ^^^^^^^^^^^^^^^^^^^^\n",
      "  File \"/home/vmarijn/mambaforge/envs/MassBalanceMachine/lib/python3.11/site-packages/pandas/io/parquet.py\", line 140, in _get_path_or_handle\n",
      "    handles = get_handle(\n",
      "              ^^^^^^^^^^^\n",
      "  File \"/home/vmarijn/mambaforge/envs/MassBalanceMachine/lib/python3.11/site-packages/pandas/io/common.py\", line 749, in get_handle\n",
      "    check_parent_directory(str(handle))\n",
      "  File \"/home/vmarijn/mambaforge/envs/MassBalanceMachine/lib/python3.11/site-packages/pandas/io/common.py\", line 616, in check_parent_directory\n",
      "    raise OSError(rf\"Cannot save file into a non-existent directory: '{parent}'\")\n",
      "OSError: Cannot save file into a non-existent directory: '../../../data/GLAMOS/topo/gridded_topo_inputs/RGI_grid/schwarzbach'\n"
     ]
    },
    {
     "name": "stdout",
     "output_type": "stream",
     "text": [
      "Saving gridded dataset to: ../../../data/GLAMOS/topo/gridded_topo_inputs/RGI_grid/schwarzbach/schwarzbach_grid_1986.parquet\n",
      "⚠️ Error processing glacier 'schwarzbach' for year 1986: Cannot save file into a non-existent directory: '../../../data/GLAMOS/topo/gridded_topo_inputs/RGI_grid/schwarzbach'\n",
      "Converting to monthly time resolution for 1987...\n"
     ]
    },
    {
     "name": "stderr",
     "output_type": "stream",
     "text": [
      "Traceback (most recent call last):\n",
      "  File \"/tmp/ipykernel_72266/2765871222.py\", line 76, in <module>\n",
      "    dataset_grid_yearly.data.to_parquet(save_path, engine=\"pyarrow\", compression=\"snappy\")\n",
      "  File \"/home/vmarijn/mambaforge/envs/MassBalanceMachine/lib/python3.11/site-packages/pandas/util/_decorators.py\", line 333, in wrapper\n",
      "    return func(*args, **kwargs)\n",
      "           ^^^^^^^^^^^^^^^^^^^^^\n",
      "  File \"/home/vmarijn/mambaforge/envs/MassBalanceMachine/lib/python3.11/site-packages/pandas/core/frame.py\", line 3113, in to_parquet\n",
      "    return to_parquet(\n",
      "           ^^^^^^^^^^^\n",
      "  File \"/home/vmarijn/mambaforge/envs/MassBalanceMachine/lib/python3.11/site-packages/pandas/io/parquet.py\", line 480, in to_parquet\n",
      "    impl.write(\n",
      "  File \"/home/vmarijn/mambaforge/envs/MassBalanceMachine/lib/python3.11/site-packages/pandas/io/parquet.py\", line 198, in write\n",
      "    path_or_handle, handles, filesystem = _get_path_or_handle(\n",
      "                                          ^^^^^^^^^^^^^^^^^^^^\n",
      "  File \"/home/vmarijn/mambaforge/envs/MassBalanceMachine/lib/python3.11/site-packages/pandas/io/parquet.py\", line 140, in _get_path_or_handle\n",
      "    handles = get_handle(\n",
      "              ^^^^^^^^^^^\n",
      "  File \"/home/vmarijn/mambaforge/envs/MassBalanceMachine/lib/python3.11/site-packages/pandas/io/common.py\", line 749, in get_handle\n",
      "    check_parent_directory(str(handle))\n",
      "  File \"/home/vmarijn/mambaforge/envs/MassBalanceMachine/lib/python3.11/site-packages/pandas/io/common.py\", line 616, in check_parent_directory\n",
      "    raise OSError(rf\"Cannot save file into a non-existent directory: '{parent}'\")\n",
      "OSError: Cannot save file into a non-existent directory: '../../../data/GLAMOS/topo/gridded_topo_inputs/RGI_grid/schwarzbach'\n"
     ]
    },
    {
     "name": "stdout",
     "output_type": "stream",
     "text": [
      "Saving gridded dataset to: ../../../data/GLAMOS/topo/gridded_topo_inputs/RGI_grid/schwarzbach/schwarzbach_grid_1987.parquet\n",
      "⚠️ Error processing glacier 'schwarzbach' for year 1987: Cannot save file into a non-existent directory: '../../../data/GLAMOS/topo/gridded_topo_inputs/RGI_grid/schwarzbach'\n",
      "Converting to monthly time resolution for 1988...\n"
     ]
    },
    {
     "name": "stderr",
     "output_type": "stream",
     "text": [
      "Traceback (most recent call last):\n",
      "  File \"/tmp/ipykernel_72266/2765871222.py\", line 76, in <module>\n",
      "    dataset_grid_yearly.data.to_parquet(save_path, engine=\"pyarrow\", compression=\"snappy\")\n",
      "  File \"/home/vmarijn/mambaforge/envs/MassBalanceMachine/lib/python3.11/site-packages/pandas/util/_decorators.py\", line 333, in wrapper\n",
      "    return func(*args, **kwargs)\n",
      "           ^^^^^^^^^^^^^^^^^^^^^\n",
      "  File \"/home/vmarijn/mambaforge/envs/MassBalanceMachine/lib/python3.11/site-packages/pandas/core/frame.py\", line 3113, in to_parquet\n",
      "    return to_parquet(\n",
      "           ^^^^^^^^^^^\n",
      "  File \"/home/vmarijn/mambaforge/envs/MassBalanceMachine/lib/python3.11/site-packages/pandas/io/parquet.py\", line 480, in to_parquet\n",
      "    impl.write(\n",
      "  File \"/home/vmarijn/mambaforge/envs/MassBalanceMachine/lib/python3.11/site-packages/pandas/io/parquet.py\", line 198, in write\n",
      "    path_or_handle, handles, filesystem = _get_path_or_handle(\n",
      "                                          ^^^^^^^^^^^^^^^^^^^^\n",
      "  File \"/home/vmarijn/mambaforge/envs/MassBalanceMachine/lib/python3.11/site-packages/pandas/io/parquet.py\", line 140, in _get_path_or_handle\n",
      "    handles = get_handle(\n",
      "              ^^^^^^^^^^^\n",
      "  File \"/home/vmarijn/mambaforge/envs/MassBalanceMachine/lib/python3.11/site-packages/pandas/io/common.py\", line 749, in get_handle\n",
      "    check_parent_directory(str(handle))\n",
      "  File \"/home/vmarijn/mambaforge/envs/MassBalanceMachine/lib/python3.11/site-packages/pandas/io/common.py\", line 616, in check_parent_directory\n",
      "    raise OSError(rf\"Cannot save file into a non-existent directory: '{parent}'\")\n",
      "OSError: Cannot save file into a non-existent directory: '../../../data/GLAMOS/topo/gridded_topo_inputs/RGI_grid/schwarzbach'\n"
     ]
    },
    {
     "name": "stdout",
     "output_type": "stream",
     "text": [
      "Saving gridded dataset to: ../../../data/GLAMOS/topo/gridded_topo_inputs/RGI_grid/schwarzbach/schwarzbach_grid_1988.parquet\n",
      "⚠️ Error processing glacier 'schwarzbach' for year 1988: Cannot save file into a non-existent directory: '../../../data/GLAMOS/topo/gridded_topo_inputs/RGI_grid/schwarzbach'\n",
      "Converting to monthly time resolution for 1989...\n"
     ]
    },
    {
     "name": "stderr",
     "output_type": "stream",
     "text": [
      "Traceback (most recent call last):\n",
      "  File \"/tmp/ipykernel_72266/2765871222.py\", line 76, in <module>\n",
      "    dataset_grid_yearly.data.to_parquet(save_path, engine=\"pyarrow\", compression=\"snappy\")\n",
      "  File \"/home/vmarijn/mambaforge/envs/MassBalanceMachine/lib/python3.11/site-packages/pandas/util/_decorators.py\", line 333, in wrapper\n",
      "    return func(*args, **kwargs)\n",
      "           ^^^^^^^^^^^^^^^^^^^^^\n",
      "  File \"/home/vmarijn/mambaforge/envs/MassBalanceMachine/lib/python3.11/site-packages/pandas/core/frame.py\", line 3113, in to_parquet\n",
      "    return to_parquet(\n",
      "           ^^^^^^^^^^^\n",
      "  File \"/home/vmarijn/mambaforge/envs/MassBalanceMachine/lib/python3.11/site-packages/pandas/io/parquet.py\", line 480, in to_parquet\n",
      "    impl.write(\n",
      "  File \"/home/vmarijn/mambaforge/envs/MassBalanceMachine/lib/python3.11/site-packages/pandas/io/parquet.py\", line 198, in write\n",
      "    path_or_handle, handles, filesystem = _get_path_or_handle(\n",
      "                                          ^^^^^^^^^^^^^^^^^^^^\n",
      "  File \"/home/vmarijn/mambaforge/envs/MassBalanceMachine/lib/python3.11/site-packages/pandas/io/parquet.py\", line 140, in _get_path_or_handle\n",
      "    handles = get_handle(\n",
      "              ^^^^^^^^^^^\n",
      "  File \"/home/vmarijn/mambaforge/envs/MassBalanceMachine/lib/python3.11/site-packages/pandas/io/common.py\", line 749, in get_handle\n",
      "    check_parent_directory(str(handle))\n",
      "  File \"/home/vmarijn/mambaforge/envs/MassBalanceMachine/lib/python3.11/site-packages/pandas/io/common.py\", line 616, in check_parent_directory\n",
      "    raise OSError(rf\"Cannot save file into a non-existent directory: '{parent}'\")\n",
      "OSError: Cannot save file into a non-existent directory: '../../../data/GLAMOS/topo/gridded_topo_inputs/RGI_grid/schwarzbach'\n"
     ]
    },
    {
     "name": "stdout",
     "output_type": "stream",
     "text": [
      "Saving gridded dataset to: ../../../data/GLAMOS/topo/gridded_topo_inputs/RGI_grid/schwarzbach/schwarzbach_grid_1989.parquet\n",
      "⚠️ Error processing glacier 'schwarzbach' for year 1989: Cannot save file into a non-existent directory: '../../../data/GLAMOS/topo/gridded_topo_inputs/RGI_grid/schwarzbach'\n",
      "Converting to monthly time resolution for 1990...\n"
     ]
    },
    {
     "name": "stderr",
     "output_type": "stream",
     "text": [
      "Traceback (most recent call last):\n",
      "  File \"/tmp/ipykernel_72266/2765871222.py\", line 76, in <module>\n",
      "    dataset_grid_yearly.data.to_parquet(save_path, engine=\"pyarrow\", compression=\"snappy\")\n",
      "  File \"/home/vmarijn/mambaforge/envs/MassBalanceMachine/lib/python3.11/site-packages/pandas/util/_decorators.py\", line 333, in wrapper\n",
      "    return func(*args, **kwargs)\n",
      "           ^^^^^^^^^^^^^^^^^^^^^\n",
      "  File \"/home/vmarijn/mambaforge/envs/MassBalanceMachine/lib/python3.11/site-packages/pandas/core/frame.py\", line 3113, in to_parquet\n",
      "    return to_parquet(\n",
      "           ^^^^^^^^^^^\n",
      "  File \"/home/vmarijn/mambaforge/envs/MassBalanceMachine/lib/python3.11/site-packages/pandas/io/parquet.py\", line 480, in to_parquet\n",
      "    impl.write(\n",
      "  File \"/home/vmarijn/mambaforge/envs/MassBalanceMachine/lib/python3.11/site-packages/pandas/io/parquet.py\", line 198, in write\n",
      "    path_or_handle, handles, filesystem = _get_path_or_handle(\n",
      "                                          ^^^^^^^^^^^^^^^^^^^^\n",
      "  File \"/home/vmarijn/mambaforge/envs/MassBalanceMachine/lib/python3.11/site-packages/pandas/io/parquet.py\", line 140, in _get_path_or_handle\n",
      "    handles = get_handle(\n",
      "              ^^^^^^^^^^^\n",
      "  File \"/home/vmarijn/mambaforge/envs/MassBalanceMachine/lib/python3.11/site-packages/pandas/io/common.py\", line 749, in get_handle\n",
      "    check_parent_directory(str(handle))\n",
      "  File \"/home/vmarijn/mambaforge/envs/MassBalanceMachine/lib/python3.11/site-packages/pandas/io/common.py\", line 616, in check_parent_directory\n",
      "    raise OSError(rf\"Cannot save file into a non-existent directory: '{parent}'\")\n",
      "OSError: Cannot save file into a non-existent directory: '../../../data/GLAMOS/topo/gridded_topo_inputs/RGI_grid/schwarzbach'\n"
     ]
    },
    {
     "name": "stdout",
     "output_type": "stream",
     "text": [
      "Saving gridded dataset to: ../../../data/GLAMOS/topo/gridded_topo_inputs/RGI_grid/schwarzbach/schwarzbach_grid_1990.parquet\n",
      "⚠️ Error processing glacier 'schwarzbach' for year 1990: Cannot save file into a non-existent directory: '../../../data/GLAMOS/topo/gridded_topo_inputs/RGI_grid/schwarzbach'\n",
      "Converting to monthly time resolution for 1991...\n"
     ]
    },
    {
     "name": "stderr",
     "output_type": "stream",
     "text": [
      "Traceback (most recent call last):\n",
      "  File \"/tmp/ipykernel_72266/2765871222.py\", line 76, in <module>\n",
      "    dataset_grid_yearly.data.to_parquet(save_path, engine=\"pyarrow\", compression=\"snappy\")\n",
      "  File \"/home/vmarijn/mambaforge/envs/MassBalanceMachine/lib/python3.11/site-packages/pandas/util/_decorators.py\", line 333, in wrapper\n",
      "    return func(*args, **kwargs)\n",
      "           ^^^^^^^^^^^^^^^^^^^^^\n",
      "  File \"/home/vmarijn/mambaforge/envs/MassBalanceMachine/lib/python3.11/site-packages/pandas/core/frame.py\", line 3113, in to_parquet\n",
      "    return to_parquet(\n",
      "           ^^^^^^^^^^^\n",
      "  File \"/home/vmarijn/mambaforge/envs/MassBalanceMachine/lib/python3.11/site-packages/pandas/io/parquet.py\", line 480, in to_parquet\n",
      "    impl.write(\n",
      "  File \"/home/vmarijn/mambaforge/envs/MassBalanceMachine/lib/python3.11/site-packages/pandas/io/parquet.py\", line 198, in write\n",
      "    path_or_handle, handles, filesystem = _get_path_or_handle(\n",
      "                                          ^^^^^^^^^^^^^^^^^^^^\n",
      "  File \"/home/vmarijn/mambaforge/envs/MassBalanceMachine/lib/python3.11/site-packages/pandas/io/parquet.py\", line 140, in _get_path_or_handle\n",
      "    handles = get_handle(\n",
      "              ^^^^^^^^^^^\n",
      "  File \"/home/vmarijn/mambaforge/envs/MassBalanceMachine/lib/python3.11/site-packages/pandas/io/common.py\", line 749, in get_handle\n",
      "    check_parent_directory(str(handle))\n",
      "  File \"/home/vmarijn/mambaforge/envs/MassBalanceMachine/lib/python3.11/site-packages/pandas/io/common.py\", line 616, in check_parent_directory\n",
      "    raise OSError(rf\"Cannot save file into a non-existent directory: '{parent}'\")\n",
      "OSError: Cannot save file into a non-existent directory: '../../../data/GLAMOS/topo/gridded_topo_inputs/RGI_grid/schwarzbach'\n"
     ]
    },
    {
     "name": "stdout",
     "output_type": "stream",
     "text": [
      "Saving gridded dataset to: ../../../data/GLAMOS/topo/gridded_topo_inputs/RGI_grid/schwarzbach/schwarzbach_grid_1991.parquet\n",
      "⚠️ Error processing glacier 'schwarzbach' for year 1991: Cannot save file into a non-existent directory: '../../../data/GLAMOS/topo/gridded_topo_inputs/RGI_grid/schwarzbach'\n",
      "Converting to monthly time resolution for 1992...\n"
     ]
    },
    {
     "name": "stderr",
     "output_type": "stream",
     "text": [
      "Traceback (most recent call last):\n",
      "  File \"/tmp/ipykernel_72266/2765871222.py\", line 76, in <module>\n",
      "    dataset_grid_yearly.data.to_parquet(save_path, engine=\"pyarrow\", compression=\"snappy\")\n",
      "  File \"/home/vmarijn/mambaforge/envs/MassBalanceMachine/lib/python3.11/site-packages/pandas/util/_decorators.py\", line 333, in wrapper\n",
      "    return func(*args, **kwargs)\n",
      "           ^^^^^^^^^^^^^^^^^^^^^\n",
      "  File \"/home/vmarijn/mambaforge/envs/MassBalanceMachine/lib/python3.11/site-packages/pandas/core/frame.py\", line 3113, in to_parquet\n",
      "    return to_parquet(\n",
      "           ^^^^^^^^^^^\n",
      "  File \"/home/vmarijn/mambaforge/envs/MassBalanceMachine/lib/python3.11/site-packages/pandas/io/parquet.py\", line 480, in to_parquet\n",
      "    impl.write(\n",
      "  File \"/home/vmarijn/mambaforge/envs/MassBalanceMachine/lib/python3.11/site-packages/pandas/io/parquet.py\", line 198, in write\n",
      "    path_or_handle, handles, filesystem = _get_path_or_handle(\n",
      "                                          ^^^^^^^^^^^^^^^^^^^^\n",
      "  File \"/home/vmarijn/mambaforge/envs/MassBalanceMachine/lib/python3.11/site-packages/pandas/io/parquet.py\", line 140, in _get_path_or_handle\n",
      "    handles = get_handle(\n",
      "              ^^^^^^^^^^^\n",
      "  File \"/home/vmarijn/mambaforge/envs/MassBalanceMachine/lib/python3.11/site-packages/pandas/io/common.py\", line 749, in get_handle\n",
      "    check_parent_directory(str(handle))\n",
      "  File \"/home/vmarijn/mambaforge/envs/MassBalanceMachine/lib/python3.11/site-packages/pandas/io/common.py\", line 616, in check_parent_directory\n",
      "    raise OSError(rf\"Cannot save file into a non-existent directory: '{parent}'\")\n",
      "OSError: Cannot save file into a non-existent directory: '../../../data/GLAMOS/topo/gridded_topo_inputs/RGI_grid/schwarzbach'\n"
     ]
    },
    {
     "name": "stdout",
     "output_type": "stream",
     "text": [
      "Saving gridded dataset to: ../../../data/GLAMOS/topo/gridded_topo_inputs/RGI_grid/schwarzbach/schwarzbach_grid_1992.parquet\n",
      "⚠️ Error processing glacier 'schwarzbach' for year 1992: Cannot save file into a non-existent directory: '../../../data/GLAMOS/topo/gridded_topo_inputs/RGI_grid/schwarzbach'\n",
      "Converting to monthly time resolution for 1993...\n"
     ]
    },
    {
     "name": "stderr",
     "output_type": "stream",
     "text": [
      "Traceback (most recent call last):\n",
      "  File \"/tmp/ipykernel_72266/2765871222.py\", line 76, in <module>\n",
      "    dataset_grid_yearly.data.to_parquet(save_path, engine=\"pyarrow\", compression=\"snappy\")\n",
      "  File \"/home/vmarijn/mambaforge/envs/MassBalanceMachine/lib/python3.11/site-packages/pandas/util/_decorators.py\", line 333, in wrapper\n",
      "    return func(*args, **kwargs)\n",
      "           ^^^^^^^^^^^^^^^^^^^^^\n",
      "  File \"/home/vmarijn/mambaforge/envs/MassBalanceMachine/lib/python3.11/site-packages/pandas/core/frame.py\", line 3113, in to_parquet\n",
      "    return to_parquet(\n",
      "           ^^^^^^^^^^^\n",
      "  File \"/home/vmarijn/mambaforge/envs/MassBalanceMachine/lib/python3.11/site-packages/pandas/io/parquet.py\", line 480, in to_parquet\n",
      "    impl.write(\n",
      "  File \"/home/vmarijn/mambaforge/envs/MassBalanceMachine/lib/python3.11/site-packages/pandas/io/parquet.py\", line 198, in write\n",
      "    path_or_handle, handles, filesystem = _get_path_or_handle(\n",
      "                                          ^^^^^^^^^^^^^^^^^^^^\n",
      "  File \"/home/vmarijn/mambaforge/envs/MassBalanceMachine/lib/python3.11/site-packages/pandas/io/parquet.py\", line 140, in _get_path_or_handle\n",
      "    handles = get_handle(\n",
      "              ^^^^^^^^^^^\n",
      "  File \"/home/vmarijn/mambaforge/envs/MassBalanceMachine/lib/python3.11/site-packages/pandas/io/common.py\", line 749, in get_handle\n",
      "    check_parent_directory(str(handle))\n",
      "  File \"/home/vmarijn/mambaforge/envs/MassBalanceMachine/lib/python3.11/site-packages/pandas/io/common.py\", line 616, in check_parent_directory\n",
      "    raise OSError(rf\"Cannot save file into a non-existent directory: '{parent}'\")\n",
      "OSError: Cannot save file into a non-existent directory: '../../../data/GLAMOS/topo/gridded_topo_inputs/RGI_grid/schwarzbach'\n"
     ]
    },
    {
     "name": "stdout",
     "output_type": "stream",
     "text": [
      "Saving gridded dataset to: ../../../data/GLAMOS/topo/gridded_topo_inputs/RGI_grid/schwarzbach/schwarzbach_grid_1993.parquet\n",
      "⚠️ Error processing glacier 'schwarzbach' for year 1993: Cannot save file into a non-existent directory: '../../../data/GLAMOS/topo/gridded_topo_inputs/RGI_grid/schwarzbach'\n",
      "Converting to monthly time resolution for 1994...\n"
     ]
    },
    {
     "name": "stderr",
     "output_type": "stream",
     "text": [
      "Traceback (most recent call last):\n",
      "  File \"/tmp/ipykernel_72266/2765871222.py\", line 76, in <module>\n",
      "    dataset_grid_yearly.data.to_parquet(save_path, engine=\"pyarrow\", compression=\"snappy\")\n",
      "  File \"/home/vmarijn/mambaforge/envs/MassBalanceMachine/lib/python3.11/site-packages/pandas/util/_decorators.py\", line 333, in wrapper\n",
      "    return func(*args, **kwargs)\n",
      "           ^^^^^^^^^^^^^^^^^^^^^\n",
      "  File \"/home/vmarijn/mambaforge/envs/MassBalanceMachine/lib/python3.11/site-packages/pandas/core/frame.py\", line 3113, in to_parquet\n",
      "    return to_parquet(\n",
      "           ^^^^^^^^^^^\n",
      "  File \"/home/vmarijn/mambaforge/envs/MassBalanceMachine/lib/python3.11/site-packages/pandas/io/parquet.py\", line 480, in to_parquet\n",
      "    impl.write(\n",
      "  File \"/home/vmarijn/mambaforge/envs/MassBalanceMachine/lib/python3.11/site-packages/pandas/io/parquet.py\", line 198, in write\n",
      "    path_or_handle, handles, filesystem = _get_path_or_handle(\n",
      "                                          ^^^^^^^^^^^^^^^^^^^^\n",
      "  File \"/home/vmarijn/mambaforge/envs/MassBalanceMachine/lib/python3.11/site-packages/pandas/io/parquet.py\", line 140, in _get_path_or_handle\n",
      "    handles = get_handle(\n",
      "              ^^^^^^^^^^^\n",
      "  File \"/home/vmarijn/mambaforge/envs/MassBalanceMachine/lib/python3.11/site-packages/pandas/io/common.py\", line 749, in get_handle\n",
      "    check_parent_directory(str(handle))\n",
      "  File \"/home/vmarijn/mambaforge/envs/MassBalanceMachine/lib/python3.11/site-packages/pandas/io/common.py\", line 616, in check_parent_directory\n",
      "    raise OSError(rf\"Cannot save file into a non-existent directory: '{parent}'\")\n",
      "OSError: Cannot save file into a non-existent directory: '../../../data/GLAMOS/topo/gridded_topo_inputs/RGI_grid/schwarzbach'\n"
     ]
    },
    {
     "name": "stdout",
     "output_type": "stream",
     "text": [
      "Saving gridded dataset to: ../../../data/GLAMOS/topo/gridded_topo_inputs/RGI_grid/schwarzbach/schwarzbach_grid_1994.parquet\n",
      "⚠️ Error processing glacier 'schwarzbach' for year 1994: Cannot save file into a non-existent directory: '../../../data/GLAMOS/topo/gridded_topo_inputs/RGI_grid/schwarzbach'\n",
      "Converting to monthly time resolution for 1995...\n"
     ]
    },
    {
     "name": "stderr",
     "output_type": "stream",
     "text": [
      "Traceback (most recent call last):\n",
      "  File \"/tmp/ipykernel_72266/2765871222.py\", line 76, in <module>\n",
      "    dataset_grid_yearly.data.to_parquet(save_path, engine=\"pyarrow\", compression=\"snappy\")\n",
      "  File \"/home/vmarijn/mambaforge/envs/MassBalanceMachine/lib/python3.11/site-packages/pandas/util/_decorators.py\", line 333, in wrapper\n",
      "    return func(*args, **kwargs)\n",
      "           ^^^^^^^^^^^^^^^^^^^^^\n",
      "  File \"/home/vmarijn/mambaforge/envs/MassBalanceMachine/lib/python3.11/site-packages/pandas/core/frame.py\", line 3113, in to_parquet\n",
      "    return to_parquet(\n",
      "           ^^^^^^^^^^^\n",
      "  File \"/home/vmarijn/mambaforge/envs/MassBalanceMachine/lib/python3.11/site-packages/pandas/io/parquet.py\", line 480, in to_parquet\n",
      "    impl.write(\n",
      "  File \"/home/vmarijn/mambaforge/envs/MassBalanceMachine/lib/python3.11/site-packages/pandas/io/parquet.py\", line 198, in write\n",
      "    path_or_handle, handles, filesystem = _get_path_or_handle(\n",
      "                                          ^^^^^^^^^^^^^^^^^^^^\n",
      "  File \"/home/vmarijn/mambaforge/envs/MassBalanceMachine/lib/python3.11/site-packages/pandas/io/parquet.py\", line 140, in _get_path_or_handle\n",
      "    handles = get_handle(\n",
      "              ^^^^^^^^^^^\n",
      "  File \"/home/vmarijn/mambaforge/envs/MassBalanceMachine/lib/python3.11/site-packages/pandas/io/common.py\", line 749, in get_handle\n",
      "    check_parent_directory(str(handle))\n",
      "  File \"/home/vmarijn/mambaforge/envs/MassBalanceMachine/lib/python3.11/site-packages/pandas/io/common.py\", line 616, in check_parent_directory\n",
      "    raise OSError(rf\"Cannot save file into a non-existent directory: '{parent}'\")\n",
      "OSError: Cannot save file into a non-existent directory: '../../../data/GLAMOS/topo/gridded_topo_inputs/RGI_grid/schwarzbach'\n"
     ]
    },
    {
     "name": "stdout",
     "output_type": "stream",
     "text": [
      "Saving gridded dataset to: ../../../data/GLAMOS/topo/gridded_topo_inputs/RGI_grid/schwarzbach/schwarzbach_grid_1995.parquet\n",
      "⚠️ Error processing glacier 'schwarzbach' for year 1995: Cannot save file into a non-existent directory: '../../../data/GLAMOS/topo/gridded_topo_inputs/RGI_grid/schwarzbach'\n",
      "Converting to monthly time resolution for 1996...\n"
     ]
    },
    {
     "name": "stderr",
     "output_type": "stream",
     "text": [
      "Traceback (most recent call last):\n",
      "  File \"/tmp/ipykernel_72266/2765871222.py\", line 76, in <module>\n",
      "    dataset_grid_yearly.data.to_parquet(save_path, engine=\"pyarrow\", compression=\"snappy\")\n",
      "  File \"/home/vmarijn/mambaforge/envs/MassBalanceMachine/lib/python3.11/site-packages/pandas/util/_decorators.py\", line 333, in wrapper\n",
      "    return func(*args, **kwargs)\n",
      "           ^^^^^^^^^^^^^^^^^^^^^\n",
      "  File \"/home/vmarijn/mambaforge/envs/MassBalanceMachine/lib/python3.11/site-packages/pandas/core/frame.py\", line 3113, in to_parquet\n",
      "    return to_parquet(\n",
      "           ^^^^^^^^^^^\n",
      "  File \"/home/vmarijn/mambaforge/envs/MassBalanceMachine/lib/python3.11/site-packages/pandas/io/parquet.py\", line 480, in to_parquet\n",
      "    impl.write(\n",
      "  File \"/home/vmarijn/mambaforge/envs/MassBalanceMachine/lib/python3.11/site-packages/pandas/io/parquet.py\", line 198, in write\n",
      "    path_or_handle, handles, filesystem = _get_path_or_handle(\n",
      "                                          ^^^^^^^^^^^^^^^^^^^^\n",
      "  File \"/home/vmarijn/mambaforge/envs/MassBalanceMachine/lib/python3.11/site-packages/pandas/io/parquet.py\", line 140, in _get_path_or_handle\n",
      "    handles = get_handle(\n",
      "              ^^^^^^^^^^^\n",
      "  File \"/home/vmarijn/mambaforge/envs/MassBalanceMachine/lib/python3.11/site-packages/pandas/io/common.py\", line 749, in get_handle\n",
      "    check_parent_directory(str(handle))\n",
      "  File \"/home/vmarijn/mambaforge/envs/MassBalanceMachine/lib/python3.11/site-packages/pandas/io/common.py\", line 616, in check_parent_directory\n",
      "    raise OSError(rf\"Cannot save file into a non-existent directory: '{parent}'\")\n",
      "OSError: Cannot save file into a non-existent directory: '../../../data/GLAMOS/topo/gridded_topo_inputs/RGI_grid/schwarzbach'\n"
     ]
    },
    {
     "name": "stdout",
     "output_type": "stream",
     "text": [
      "Saving gridded dataset to: ../../../data/GLAMOS/topo/gridded_topo_inputs/RGI_grid/schwarzbach/schwarzbach_grid_1996.parquet\n",
      "⚠️ Error processing glacier 'schwarzbach' for year 1996: Cannot save file into a non-existent directory: '../../../data/GLAMOS/topo/gridded_topo_inputs/RGI_grid/schwarzbach'\n",
      "Converting to monthly time resolution for 1997...\n"
     ]
    },
    {
     "name": "stderr",
     "output_type": "stream",
     "text": [
      "Traceback (most recent call last):\n",
      "  File \"/tmp/ipykernel_72266/2765871222.py\", line 76, in <module>\n",
      "    dataset_grid_yearly.data.to_parquet(save_path, engine=\"pyarrow\", compression=\"snappy\")\n",
      "  File \"/home/vmarijn/mambaforge/envs/MassBalanceMachine/lib/python3.11/site-packages/pandas/util/_decorators.py\", line 333, in wrapper\n",
      "    return func(*args, **kwargs)\n",
      "           ^^^^^^^^^^^^^^^^^^^^^\n",
      "  File \"/home/vmarijn/mambaforge/envs/MassBalanceMachine/lib/python3.11/site-packages/pandas/core/frame.py\", line 3113, in to_parquet\n",
      "    return to_parquet(\n",
      "           ^^^^^^^^^^^\n",
      "  File \"/home/vmarijn/mambaforge/envs/MassBalanceMachine/lib/python3.11/site-packages/pandas/io/parquet.py\", line 480, in to_parquet\n",
      "    impl.write(\n",
      "  File \"/home/vmarijn/mambaforge/envs/MassBalanceMachine/lib/python3.11/site-packages/pandas/io/parquet.py\", line 198, in write\n",
      "    path_or_handle, handles, filesystem = _get_path_or_handle(\n",
      "                                          ^^^^^^^^^^^^^^^^^^^^\n",
      "  File \"/home/vmarijn/mambaforge/envs/MassBalanceMachine/lib/python3.11/site-packages/pandas/io/parquet.py\", line 140, in _get_path_or_handle\n",
      "    handles = get_handle(\n",
      "              ^^^^^^^^^^^\n",
      "  File \"/home/vmarijn/mambaforge/envs/MassBalanceMachine/lib/python3.11/site-packages/pandas/io/common.py\", line 749, in get_handle\n",
      "    check_parent_directory(str(handle))\n",
      "  File \"/home/vmarijn/mambaforge/envs/MassBalanceMachine/lib/python3.11/site-packages/pandas/io/common.py\", line 616, in check_parent_directory\n",
      "    raise OSError(rf\"Cannot save file into a non-existent directory: '{parent}'\")\n",
      "OSError: Cannot save file into a non-existent directory: '../../../data/GLAMOS/topo/gridded_topo_inputs/RGI_grid/schwarzbach'\n"
     ]
    },
    {
     "name": "stdout",
     "output_type": "stream",
     "text": [
      "Saving gridded dataset to: ../../../data/GLAMOS/topo/gridded_topo_inputs/RGI_grid/schwarzbach/schwarzbach_grid_1997.parquet\n",
      "⚠️ Error processing glacier 'schwarzbach' for year 1997: Cannot save file into a non-existent directory: '../../../data/GLAMOS/topo/gridded_topo_inputs/RGI_grid/schwarzbach'\n",
      "Converting to monthly time resolution for 1998...\n"
     ]
    },
    {
     "name": "stderr",
     "output_type": "stream",
     "text": [
      "Traceback (most recent call last):\n",
      "  File \"/tmp/ipykernel_72266/2765871222.py\", line 76, in <module>\n",
      "    dataset_grid_yearly.data.to_parquet(save_path, engine=\"pyarrow\", compression=\"snappy\")\n",
      "  File \"/home/vmarijn/mambaforge/envs/MassBalanceMachine/lib/python3.11/site-packages/pandas/util/_decorators.py\", line 333, in wrapper\n",
      "    return func(*args, **kwargs)\n",
      "           ^^^^^^^^^^^^^^^^^^^^^\n",
      "  File \"/home/vmarijn/mambaforge/envs/MassBalanceMachine/lib/python3.11/site-packages/pandas/core/frame.py\", line 3113, in to_parquet\n",
      "    return to_parquet(\n",
      "           ^^^^^^^^^^^\n",
      "  File \"/home/vmarijn/mambaforge/envs/MassBalanceMachine/lib/python3.11/site-packages/pandas/io/parquet.py\", line 480, in to_parquet\n",
      "    impl.write(\n",
      "  File \"/home/vmarijn/mambaforge/envs/MassBalanceMachine/lib/python3.11/site-packages/pandas/io/parquet.py\", line 198, in write\n",
      "    path_or_handle, handles, filesystem = _get_path_or_handle(\n",
      "                                          ^^^^^^^^^^^^^^^^^^^^\n",
      "  File \"/home/vmarijn/mambaforge/envs/MassBalanceMachine/lib/python3.11/site-packages/pandas/io/parquet.py\", line 140, in _get_path_or_handle\n",
      "    handles = get_handle(\n",
      "              ^^^^^^^^^^^\n",
      "  File \"/home/vmarijn/mambaforge/envs/MassBalanceMachine/lib/python3.11/site-packages/pandas/io/common.py\", line 749, in get_handle\n",
      "    check_parent_directory(str(handle))\n",
      "  File \"/home/vmarijn/mambaforge/envs/MassBalanceMachine/lib/python3.11/site-packages/pandas/io/common.py\", line 616, in check_parent_directory\n",
      "    raise OSError(rf\"Cannot save file into a non-existent directory: '{parent}'\")\n",
      "OSError: Cannot save file into a non-existent directory: '../../../data/GLAMOS/topo/gridded_topo_inputs/RGI_grid/schwarzbach'\n"
     ]
    },
    {
     "name": "stdout",
     "output_type": "stream",
     "text": [
      "Saving gridded dataset to: ../../../data/GLAMOS/topo/gridded_topo_inputs/RGI_grid/schwarzbach/schwarzbach_grid_1998.parquet\n",
      "⚠️ Error processing glacier 'schwarzbach' for year 1998: Cannot save file into a non-existent directory: '../../../data/GLAMOS/topo/gridded_topo_inputs/RGI_grid/schwarzbach'\n",
      "Converting to monthly time resolution for 1999...\n"
     ]
    },
    {
     "name": "stderr",
     "output_type": "stream",
     "text": [
      "Traceback (most recent call last):\n",
      "  File \"/tmp/ipykernel_72266/2765871222.py\", line 76, in <module>\n",
      "    dataset_grid_yearly.data.to_parquet(save_path, engine=\"pyarrow\", compression=\"snappy\")\n",
      "  File \"/home/vmarijn/mambaforge/envs/MassBalanceMachine/lib/python3.11/site-packages/pandas/util/_decorators.py\", line 333, in wrapper\n",
      "    return func(*args, **kwargs)\n",
      "           ^^^^^^^^^^^^^^^^^^^^^\n",
      "  File \"/home/vmarijn/mambaforge/envs/MassBalanceMachine/lib/python3.11/site-packages/pandas/core/frame.py\", line 3113, in to_parquet\n",
      "    return to_parquet(\n",
      "           ^^^^^^^^^^^\n",
      "  File \"/home/vmarijn/mambaforge/envs/MassBalanceMachine/lib/python3.11/site-packages/pandas/io/parquet.py\", line 480, in to_parquet\n",
      "    impl.write(\n",
      "  File \"/home/vmarijn/mambaforge/envs/MassBalanceMachine/lib/python3.11/site-packages/pandas/io/parquet.py\", line 198, in write\n",
      "    path_or_handle, handles, filesystem = _get_path_or_handle(\n",
      "                                          ^^^^^^^^^^^^^^^^^^^^\n",
      "  File \"/home/vmarijn/mambaforge/envs/MassBalanceMachine/lib/python3.11/site-packages/pandas/io/parquet.py\", line 140, in _get_path_or_handle\n",
      "    handles = get_handle(\n",
      "              ^^^^^^^^^^^\n",
      "  File \"/home/vmarijn/mambaforge/envs/MassBalanceMachine/lib/python3.11/site-packages/pandas/io/common.py\", line 749, in get_handle\n",
      "    check_parent_directory(str(handle))\n",
      "  File \"/home/vmarijn/mambaforge/envs/MassBalanceMachine/lib/python3.11/site-packages/pandas/io/common.py\", line 616, in check_parent_directory\n",
      "    raise OSError(rf\"Cannot save file into a non-existent directory: '{parent}'\")\n",
      "OSError: Cannot save file into a non-existent directory: '../../../data/GLAMOS/topo/gridded_topo_inputs/RGI_grid/schwarzbach'\n"
     ]
    },
    {
     "name": "stdout",
     "output_type": "stream",
     "text": [
      "Saving gridded dataset to: ../../../data/GLAMOS/topo/gridded_topo_inputs/RGI_grid/schwarzbach/schwarzbach_grid_1999.parquet\n",
      "⚠️ Error processing glacier 'schwarzbach' for year 1999: Cannot save file into a non-existent directory: '../../../data/GLAMOS/topo/gridded_topo_inputs/RGI_grid/schwarzbach'\n",
      "Converting to monthly time resolution for 2000...\n"
     ]
    },
    {
     "name": "stderr",
     "output_type": "stream",
     "text": [
      "Traceback (most recent call last):\n",
      "  File \"/tmp/ipykernel_72266/2765871222.py\", line 76, in <module>\n",
      "    dataset_grid_yearly.data.to_parquet(save_path, engine=\"pyarrow\", compression=\"snappy\")\n",
      "  File \"/home/vmarijn/mambaforge/envs/MassBalanceMachine/lib/python3.11/site-packages/pandas/util/_decorators.py\", line 333, in wrapper\n",
      "    return func(*args, **kwargs)\n",
      "           ^^^^^^^^^^^^^^^^^^^^^\n",
      "  File \"/home/vmarijn/mambaforge/envs/MassBalanceMachine/lib/python3.11/site-packages/pandas/core/frame.py\", line 3113, in to_parquet\n",
      "    return to_parquet(\n",
      "           ^^^^^^^^^^^\n",
      "  File \"/home/vmarijn/mambaforge/envs/MassBalanceMachine/lib/python3.11/site-packages/pandas/io/parquet.py\", line 480, in to_parquet\n",
      "    impl.write(\n",
      "  File \"/home/vmarijn/mambaforge/envs/MassBalanceMachine/lib/python3.11/site-packages/pandas/io/parquet.py\", line 198, in write\n",
      "    path_or_handle, handles, filesystem = _get_path_or_handle(\n",
      "                                          ^^^^^^^^^^^^^^^^^^^^\n",
      "  File \"/home/vmarijn/mambaforge/envs/MassBalanceMachine/lib/python3.11/site-packages/pandas/io/parquet.py\", line 140, in _get_path_or_handle\n",
      "    handles = get_handle(\n",
      "              ^^^^^^^^^^^\n",
      "  File \"/home/vmarijn/mambaforge/envs/MassBalanceMachine/lib/python3.11/site-packages/pandas/io/common.py\", line 749, in get_handle\n",
      "    check_parent_directory(str(handle))\n",
      "  File \"/home/vmarijn/mambaforge/envs/MassBalanceMachine/lib/python3.11/site-packages/pandas/io/common.py\", line 616, in check_parent_directory\n",
      "    raise OSError(rf\"Cannot save file into a non-existent directory: '{parent}'\")\n",
      "OSError: Cannot save file into a non-existent directory: '../../../data/GLAMOS/topo/gridded_topo_inputs/RGI_grid/schwarzbach'\n"
     ]
    },
    {
     "name": "stdout",
     "output_type": "stream",
     "text": [
      "Saving gridded dataset to: ../../../data/GLAMOS/topo/gridded_topo_inputs/RGI_grid/schwarzbach/schwarzbach_grid_2000.parquet\n",
      "⚠️ Error processing glacier 'schwarzbach' for year 2000: Cannot save file into a non-existent directory: '../../../data/GLAMOS/topo/gridded_topo_inputs/RGI_grid/schwarzbach'\n",
      "Converting to monthly time resolution for 2001...\n"
     ]
    },
    {
     "name": "stderr",
     "output_type": "stream",
     "text": [
      "Traceback (most recent call last):\n",
      "  File \"/tmp/ipykernel_72266/2765871222.py\", line 76, in <module>\n",
      "    dataset_grid_yearly.data.to_parquet(save_path, engine=\"pyarrow\", compression=\"snappy\")\n",
      "  File \"/home/vmarijn/mambaforge/envs/MassBalanceMachine/lib/python3.11/site-packages/pandas/util/_decorators.py\", line 333, in wrapper\n",
      "    return func(*args, **kwargs)\n",
      "           ^^^^^^^^^^^^^^^^^^^^^\n",
      "  File \"/home/vmarijn/mambaforge/envs/MassBalanceMachine/lib/python3.11/site-packages/pandas/core/frame.py\", line 3113, in to_parquet\n",
      "    return to_parquet(\n",
      "           ^^^^^^^^^^^\n",
      "  File \"/home/vmarijn/mambaforge/envs/MassBalanceMachine/lib/python3.11/site-packages/pandas/io/parquet.py\", line 480, in to_parquet\n",
      "    impl.write(\n",
      "  File \"/home/vmarijn/mambaforge/envs/MassBalanceMachine/lib/python3.11/site-packages/pandas/io/parquet.py\", line 198, in write\n",
      "    path_or_handle, handles, filesystem = _get_path_or_handle(\n",
      "                                          ^^^^^^^^^^^^^^^^^^^^\n",
      "  File \"/home/vmarijn/mambaforge/envs/MassBalanceMachine/lib/python3.11/site-packages/pandas/io/parquet.py\", line 140, in _get_path_or_handle\n",
      "    handles = get_handle(\n",
      "              ^^^^^^^^^^^\n",
      "  File \"/home/vmarijn/mambaforge/envs/MassBalanceMachine/lib/python3.11/site-packages/pandas/io/common.py\", line 749, in get_handle\n",
      "    check_parent_directory(str(handle))\n",
      "  File \"/home/vmarijn/mambaforge/envs/MassBalanceMachine/lib/python3.11/site-packages/pandas/io/common.py\", line 616, in check_parent_directory\n",
      "    raise OSError(rf\"Cannot save file into a non-existent directory: '{parent}'\")\n",
      "OSError: Cannot save file into a non-existent directory: '../../../data/GLAMOS/topo/gridded_topo_inputs/RGI_grid/schwarzbach'\n"
     ]
    },
    {
     "name": "stdout",
     "output_type": "stream",
     "text": [
      "Saving gridded dataset to: ../../../data/GLAMOS/topo/gridded_topo_inputs/RGI_grid/schwarzbach/schwarzbach_grid_2001.parquet\n",
      "⚠️ Error processing glacier 'schwarzbach' for year 2001: Cannot save file into a non-existent directory: '../../../data/GLAMOS/topo/gridded_topo_inputs/RGI_grid/schwarzbach'\n",
      "Converting to monthly time resolution for 2002...\n"
     ]
    },
    {
     "name": "stderr",
     "output_type": "stream",
     "text": [
      "Traceback (most recent call last):\n",
      "  File \"/tmp/ipykernel_72266/2765871222.py\", line 76, in <module>\n",
      "    dataset_grid_yearly.data.to_parquet(save_path, engine=\"pyarrow\", compression=\"snappy\")\n",
      "  File \"/home/vmarijn/mambaforge/envs/MassBalanceMachine/lib/python3.11/site-packages/pandas/util/_decorators.py\", line 333, in wrapper\n",
      "    return func(*args, **kwargs)\n",
      "           ^^^^^^^^^^^^^^^^^^^^^\n",
      "  File \"/home/vmarijn/mambaforge/envs/MassBalanceMachine/lib/python3.11/site-packages/pandas/core/frame.py\", line 3113, in to_parquet\n",
      "    return to_parquet(\n",
      "           ^^^^^^^^^^^\n",
      "  File \"/home/vmarijn/mambaforge/envs/MassBalanceMachine/lib/python3.11/site-packages/pandas/io/parquet.py\", line 480, in to_parquet\n",
      "    impl.write(\n",
      "  File \"/home/vmarijn/mambaforge/envs/MassBalanceMachine/lib/python3.11/site-packages/pandas/io/parquet.py\", line 198, in write\n",
      "    path_or_handle, handles, filesystem = _get_path_or_handle(\n",
      "                                          ^^^^^^^^^^^^^^^^^^^^\n",
      "  File \"/home/vmarijn/mambaforge/envs/MassBalanceMachine/lib/python3.11/site-packages/pandas/io/parquet.py\", line 140, in _get_path_or_handle\n",
      "    handles = get_handle(\n",
      "              ^^^^^^^^^^^\n",
      "  File \"/home/vmarijn/mambaforge/envs/MassBalanceMachine/lib/python3.11/site-packages/pandas/io/common.py\", line 749, in get_handle\n",
      "    check_parent_directory(str(handle))\n",
      "  File \"/home/vmarijn/mambaforge/envs/MassBalanceMachine/lib/python3.11/site-packages/pandas/io/common.py\", line 616, in check_parent_directory\n",
      "    raise OSError(rf\"Cannot save file into a non-existent directory: '{parent}'\")\n",
      "OSError: Cannot save file into a non-existent directory: '../../../data/GLAMOS/topo/gridded_topo_inputs/RGI_grid/schwarzbach'\n"
     ]
    },
    {
     "name": "stdout",
     "output_type": "stream",
     "text": [
      "Saving gridded dataset to: ../../../data/GLAMOS/topo/gridded_topo_inputs/RGI_grid/schwarzbach/schwarzbach_grid_2002.parquet\n",
      "⚠️ Error processing glacier 'schwarzbach' for year 2002: Cannot save file into a non-existent directory: '../../../data/GLAMOS/topo/gridded_topo_inputs/RGI_grid/schwarzbach'\n",
      "Converting to monthly time resolution for 2003...\n"
     ]
    },
    {
     "name": "stderr",
     "output_type": "stream",
     "text": [
      "Traceback (most recent call last):\n",
      "  File \"/tmp/ipykernel_72266/2765871222.py\", line 76, in <module>\n",
      "    dataset_grid_yearly.data.to_parquet(save_path, engine=\"pyarrow\", compression=\"snappy\")\n",
      "  File \"/home/vmarijn/mambaforge/envs/MassBalanceMachine/lib/python3.11/site-packages/pandas/util/_decorators.py\", line 333, in wrapper\n",
      "    return func(*args, **kwargs)\n",
      "           ^^^^^^^^^^^^^^^^^^^^^\n",
      "  File \"/home/vmarijn/mambaforge/envs/MassBalanceMachine/lib/python3.11/site-packages/pandas/core/frame.py\", line 3113, in to_parquet\n",
      "    return to_parquet(\n",
      "           ^^^^^^^^^^^\n",
      "  File \"/home/vmarijn/mambaforge/envs/MassBalanceMachine/lib/python3.11/site-packages/pandas/io/parquet.py\", line 480, in to_parquet\n",
      "    impl.write(\n",
      "  File \"/home/vmarijn/mambaforge/envs/MassBalanceMachine/lib/python3.11/site-packages/pandas/io/parquet.py\", line 198, in write\n",
      "    path_or_handle, handles, filesystem = _get_path_or_handle(\n",
      "                                          ^^^^^^^^^^^^^^^^^^^^\n",
      "  File \"/home/vmarijn/mambaforge/envs/MassBalanceMachine/lib/python3.11/site-packages/pandas/io/parquet.py\", line 140, in _get_path_or_handle\n",
      "    handles = get_handle(\n",
      "              ^^^^^^^^^^^\n",
      "  File \"/home/vmarijn/mambaforge/envs/MassBalanceMachine/lib/python3.11/site-packages/pandas/io/common.py\", line 749, in get_handle\n",
      "    check_parent_directory(str(handle))\n",
      "  File \"/home/vmarijn/mambaforge/envs/MassBalanceMachine/lib/python3.11/site-packages/pandas/io/common.py\", line 616, in check_parent_directory\n",
      "    raise OSError(rf\"Cannot save file into a non-existent directory: '{parent}'\")\n",
      "OSError: Cannot save file into a non-existent directory: '../../../data/GLAMOS/topo/gridded_topo_inputs/RGI_grid/schwarzbach'\n"
     ]
    },
    {
     "name": "stdout",
     "output_type": "stream",
     "text": [
      "Saving gridded dataset to: ../../../data/GLAMOS/topo/gridded_topo_inputs/RGI_grid/schwarzbach/schwarzbach_grid_2003.parquet\n",
      "⚠️ Error processing glacier 'schwarzbach' for year 2003: Cannot save file into a non-existent directory: '../../../data/GLAMOS/topo/gridded_topo_inputs/RGI_grid/schwarzbach'\n",
      "Converting to monthly time resolution for 2004...\n"
     ]
    },
    {
     "name": "stderr",
     "output_type": "stream",
     "text": [
      "Traceback (most recent call last):\n",
      "  File \"/tmp/ipykernel_72266/2765871222.py\", line 76, in <module>\n",
      "    dataset_grid_yearly.data.to_parquet(save_path, engine=\"pyarrow\", compression=\"snappy\")\n",
      "  File \"/home/vmarijn/mambaforge/envs/MassBalanceMachine/lib/python3.11/site-packages/pandas/util/_decorators.py\", line 333, in wrapper\n",
      "    return func(*args, **kwargs)\n",
      "           ^^^^^^^^^^^^^^^^^^^^^\n",
      "  File \"/home/vmarijn/mambaforge/envs/MassBalanceMachine/lib/python3.11/site-packages/pandas/core/frame.py\", line 3113, in to_parquet\n",
      "    return to_parquet(\n",
      "           ^^^^^^^^^^^\n",
      "  File \"/home/vmarijn/mambaforge/envs/MassBalanceMachine/lib/python3.11/site-packages/pandas/io/parquet.py\", line 480, in to_parquet\n",
      "    impl.write(\n",
      "  File \"/home/vmarijn/mambaforge/envs/MassBalanceMachine/lib/python3.11/site-packages/pandas/io/parquet.py\", line 198, in write\n",
      "    path_or_handle, handles, filesystem = _get_path_or_handle(\n",
      "                                          ^^^^^^^^^^^^^^^^^^^^\n",
      "  File \"/home/vmarijn/mambaforge/envs/MassBalanceMachine/lib/python3.11/site-packages/pandas/io/parquet.py\", line 140, in _get_path_or_handle\n",
      "    handles = get_handle(\n",
      "              ^^^^^^^^^^^\n",
      "  File \"/home/vmarijn/mambaforge/envs/MassBalanceMachine/lib/python3.11/site-packages/pandas/io/common.py\", line 749, in get_handle\n",
      "    check_parent_directory(str(handle))\n",
      "  File \"/home/vmarijn/mambaforge/envs/MassBalanceMachine/lib/python3.11/site-packages/pandas/io/common.py\", line 616, in check_parent_directory\n",
      "    raise OSError(rf\"Cannot save file into a non-existent directory: '{parent}'\")\n",
      "OSError: Cannot save file into a non-existent directory: '../../../data/GLAMOS/topo/gridded_topo_inputs/RGI_grid/schwarzbach'\n"
     ]
    },
    {
     "name": "stdout",
     "output_type": "stream",
     "text": [
      "Saving gridded dataset to: ../../../data/GLAMOS/topo/gridded_topo_inputs/RGI_grid/schwarzbach/schwarzbach_grid_2004.parquet\n",
      "⚠️ Error processing glacier 'schwarzbach' for year 2004: Cannot save file into a non-existent directory: '../../../data/GLAMOS/topo/gridded_topo_inputs/RGI_grid/schwarzbach'\n",
      "Converting to monthly time resolution for 2005...\n"
     ]
    },
    {
     "name": "stderr",
     "output_type": "stream",
     "text": [
      "Traceback (most recent call last):\n",
      "  File \"/tmp/ipykernel_72266/2765871222.py\", line 76, in <module>\n",
      "    dataset_grid_yearly.data.to_parquet(save_path, engine=\"pyarrow\", compression=\"snappy\")\n",
      "  File \"/home/vmarijn/mambaforge/envs/MassBalanceMachine/lib/python3.11/site-packages/pandas/util/_decorators.py\", line 333, in wrapper\n",
      "    return func(*args, **kwargs)\n",
      "           ^^^^^^^^^^^^^^^^^^^^^\n",
      "  File \"/home/vmarijn/mambaforge/envs/MassBalanceMachine/lib/python3.11/site-packages/pandas/core/frame.py\", line 3113, in to_parquet\n",
      "    return to_parquet(\n",
      "           ^^^^^^^^^^^\n",
      "  File \"/home/vmarijn/mambaforge/envs/MassBalanceMachine/lib/python3.11/site-packages/pandas/io/parquet.py\", line 480, in to_parquet\n",
      "    impl.write(\n",
      "  File \"/home/vmarijn/mambaforge/envs/MassBalanceMachine/lib/python3.11/site-packages/pandas/io/parquet.py\", line 198, in write\n",
      "    path_or_handle, handles, filesystem = _get_path_or_handle(\n",
      "                                          ^^^^^^^^^^^^^^^^^^^^\n",
      "  File \"/home/vmarijn/mambaforge/envs/MassBalanceMachine/lib/python3.11/site-packages/pandas/io/parquet.py\", line 140, in _get_path_or_handle\n",
      "    handles = get_handle(\n",
      "              ^^^^^^^^^^^\n",
      "  File \"/home/vmarijn/mambaforge/envs/MassBalanceMachine/lib/python3.11/site-packages/pandas/io/common.py\", line 749, in get_handle\n",
      "    check_parent_directory(str(handle))\n",
      "  File \"/home/vmarijn/mambaforge/envs/MassBalanceMachine/lib/python3.11/site-packages/pandas/io/common.py\", line 616, in check_parent_directory\n",
      "    raise OSError(rf\"Cannot save file into a non-existent directory: '{parent}'\")\n",
      "OSError: Cannot save file into a non-existent directory: '../../../data/GLAMOS/topo/gridded_topo_inputs/RGI_grid/schwarzbach'\n"
     ]
    },
    {
     "name": "stdout",
     "output_type": "stream",
     "text": [
      "Saving gridded dataset to: ../../../data/GLAMOS/topo/gridded_topo_inputs/RGI_grid/schwarzbach/schwarzbach_grid_2005.parquet\n",
      "⚠️ Error processing glacier 'schwarzbach' for year 2005: Cannot save file into a non-existent directory: '../../../data/GLAMOS/topo/gridded_topo_inputs/RGI_grid/schwarzbach'\n",
      "Converting to monthly time resolution for 2006...\n"
     ]
    },
    {
     "name": "stderr",
     "output_type": "stream",
     "text": [
      "Traceback (most recent call last):\n",
      "  File \"/tmp/ipykernel_72266/2765871222.py\", line 76, in <module>\n",
      "    dataset_grid_yearly.data.to_parquet(save_path, engine=\"pyarrow\", compression=\"snappy\")\n",
      "  File \"/home/vmarijn/mambaforge/envs/MassBalanceMachine/lib/python3.11/site-packages/pandas/util/_decorators.py\", line 333, in wrapper\n",
      "    return func(*args, **kwargs)\n",
      "           ^^^^^^^^^^^^^^^^^^^^^\n",
      "  File \"/home/vmarijn/mambaforge/envs/MassBalanceMachine/lib/python3.11/site-packages/pandas/core/frame.py\", line 3113, in to_parquet\n",
      "    return to_parquet(\n",
      "           ^^^^^^^^^^^\n",
      "  File \"/home/vmarijn/mambaforge/envs/MassBalanceMachine/lib/python3.11/site-packages/pandas/io/parquet.py\", line 480, in to_parquet\n",
      "    impl.write(\n",
      "  File \"/home/vmarijn/mambaforge/envs/MassBalanceMachine/lib/python3.11/site-packages/pandas/io/parquet.py\", line 198, in write\n",
      "    path_or_handle, handles, filesystem = _get_path_or_handle(\n",
      "                                          ^^^^^^^^^^^^^^^^^^^^\n",
      "  File \"/home/vmarijn/mambaforge/envs/MassBalanceMachine/lib/python3.11/site-packages/pandas/io/parquet.py\", line 140, in _get_path_or_handle\n",
      "    handles = get_handle(\n",
      "              ^^^^^^^^^^^\n",
      "  File \"/home/vmarijn/mambaforge/envs/MassBalanceMachine/lib/python3.11/site-packages/pandas/io/common.py\", line 749, in get_handle\n",
      "    check_parent_directory(str(handle))\n",
      "  File \"/home/vmarijn/mambaforge/envs/MassBalanceMachine/lib/python3.11/site-packages/pandas/io/common.py\", line 616, in check_parent_directory\n",
      "    raise OSError(rf\"Cannot save file into a non-existent directory: '{parent}'\")\n",
      "OSError: Cannot save file into a non-existent directory: '../../../data/GLAMOS/topo/gridded_topo_inputs/RGI_grid/schwarzbach'\n"
     ]
    },
    {
     "name": "stdout",
     "output_type": "stream",
     "text": [
      "Saving gridded dataset to: ../../../data/GLAMOS/topo/gridded_topo_inputs/RGI_grid/schwarzbach/schwarzbach_grid_2006.parquet\n",
      "⚠️ Error processing glacier 'schwarzbach' for year 2006: Cannot save file into a non-existent directory: '../../../data/GLAMOS/topo/gridded_topo_inputs/RGI_grid/schwarzbach'\n",
      "Converting to monthly time resolution for 2007...\n"
     ]
    },
    {
     "name": "stderr",
     "output_type": "stream",
     "text": [
      "Traceback (most recent call last):\n",
      "  File \"/tmp/ipykernel_72266/2765871222.py\", line 76, in <module>\n",
      "    dataset_grid_yearly.data.to_parquet(save_path, engine=\"pyarrow\", compression=\"snappy\")\n",
      "  File \"/home/vmarijn/mambaforge/envs/MassBalanceMachine/lib/python3.11/site-packages/pandas/util/_decorators.py\", line 333, in wrapper\n",
      "    return func(*args, **kwargs)\n",
      "           ^^^^^^^^^^^^^^^^^^^^^\n",
      "  File \"/home/vmarijn/mambaforge/envs/MassBalanceMachine/lib/python3.11/site-packages/pandas/core/frame.py\", line 3113, in to_parquet\n",
      "    return to_parquet(\n",
      "           ^^^^^^^^^^^\n",
      "  File \"/home/vmarijn/mambaforge/envs/MassBalanceMachine/lib/python3.11/site-packages/pandas/io/parquet.py\", line 480, in to_parquet\n",
      "    impl.write(\n",
      "  File \"/home/vmarijn/mambaforge/envs/MassBalanceMachine/lib/python3.11/site-packages/pandas/io/parquet.py\", line 198, in write\n",
      "    path_or_handle, handles, filesystem = _get_path_or_handle(\n",
      "                                          ^^^^^^^^^^^^^^^^^^^^\n",
      "  File \"/home/vmarijn/mambaforge/envs/MassBalanceMachine/lib/python3.11/site-packages/pandas/io/parquet.py\", line 140, in _get_path_or_handle\n",
      "    handles = get_handle(\n",
      "              ^^^^^^^^^^^\n",
      "  File \"/home/vmarijn/mambaforge/envs/MassBalanceMachine/lib/python3.11/site-packages/pandas/io/common.py\", line 749, in get_handle\n",
      "    check_parent_directory(str(handle))\n",
      "  File \"/home/vmarijn/mambaforge/envs/MassBalanceMachine/lib/python3.11/site-packages/pandas/io/common.py\", line 616, in check_parent_directory\n",
      "    raise OSError(rf\"Cannot save file into a non-existent directory: '{parent}'\")\n",
      "OSError: Cannot save file into a non-existent directory: '../../../data/GLAMOS/topo/gridded_topo_inputs/RGI_grid/schwarzbach'\n"
     ]
    },
    {
     "name": "stdout",
     "output_type": "stream",
     "text": [
      "Saving gridded dataset to: ../../../data/GLAMOS/topo/gridded_topo_inputs/RGI_grid/schwarzbach/schwarzbach_grid_2007.parquet\n",
      "⚠️ Error processing glacier 'schwarzbach' for year 2007: Cannot save file into a non-existent directory: '../../../data/GLAMOS/topo/gridded_topo_inputs/RGI_grid/schwarzbach'\n",
      "Converting to monthly time resolution for 2008...\n"
     ]
    },
    {
     "name": "stderr",
     "output_type": "stream",
     "text": [
      "Traceback (most recent call last):\n",
      "  File \"/tmp/ipykernel_72266/2765871222.py\", line 76, in <module>\n",
      "    dataset_grid_yearly.data.to_parquet(save_path, engine=\"pyarrow\", compression=\"snappy\")\n",
      "  File \"/home/vmarijn/mambaforge/envs/MassBalanceMachine/lib/python3.11/site-packages/pandas/util/_decorators.py\", line 333, in wrapper\n",
      "    return func(*args, **kwargs)\n",
      "           ^^^^^^^^^^^^^^^^^^^^^\n",
      "  File \"/home/vmarijn/mambaforge/envs/MassBalanceMachine/lib/python3.11/site-packages/pandas/core/frame.py\", line 3113, in to_parquet\n",
      "    return to_parquet(\n",
      "           ^^^^^^^^^^^\n",
      "  File \"/home/vmarijn/mambaforge/envs/MassBalanceMachine/lib/python3.11/site-packages/pandas/io/parquet.py\", line 480, in to_parquet\n",
      "    impl.write(\n",
      "  File \"/home/vmarijn/mambaforge/envs/MassBalanceMachine/lib/python3.11/site-packages/pandas/io/parquet.py\", line 198, in write\n",
      "    path_or_handle, handles, filesystem = _get_path_or_handle(\n",
      "                                          ^^^^^^^^^^^^^^^^^^^^\n",
      "  File \"/home/vmarijn/mambaforge/envs/MassBalanceMachine/lib/python3.11/site-packages/pandas/io/parquet.py\", line 140, in _get_path_or_handle\n",
      "    handles = get_handle(\n",
      "              ^^^^^^^^^^^\n",
      "  File \"/home/vmarijn/mambaforge/envs/MassBalanceMachine/lib/python3.11/site-packages/pandas/io/common.py\", line 749, in get_handle\n",
      "    check_parent_directory(str(handle))\n",
      "  File \"/home/vmarijn/mambaforge/envs/MassBalanceMachine/lib/python3.11/site-packages/pandas/io/common.py\", line 616, in check_parent_directory\n",
      "    raise OSError(rf\"Cannot save file into a non-existent directory: '{parent}'\")\n",
      "OSError: Cannot save file into a non-existent directory: '../../../data/GLAMOS/topo/gridded_topo_inputs/RGI_grid/schwarzbach'\n"
     ]
    },
    {
     "name": "stdout",
     "output_type": "stream",
     "text": [
      "Saving gridded dataset to: ../../../data/GLAMOS/topo/gridded_topo_inputs/RGI_grid/schwarzbach/schwarzbach_grid_2008.parquet\n",
      "⚠️ Error processing glacier 'schwarzbach' for year 2008: Cannot save file into a non-existent directory: '../../../data/GLAMOS/topo/gridded_topo_inputs/RGI_grid/schwarzbach'\n",
      "Converting to monthly time resolution for 2009...\n"
     ]
    },
    {
     "name": "stderr",
     "output_type": "stream",
     "text": [
      "Traceback (most recent call last):\n",
      "  File \"/tmp/ipykernel_72266/2765871222.py\", line 76, in <module>\n",
      "    dataset_grid_yearly.data.to_parquet(save_path, engine=\"pyarrow\", compression=\"snappy\")\n",
      "  File \"/home/vmarijn/mambaforge/envs/MassBalanceMachine/lib/python3.11/site-packages/pandas/util/_decorators.py\", line 333, in wrapper\n",
      "    return func(*args, **kwargs)\n",
      "           ^^^^^^^^^^^^^^^^^^^^^\n",
      "  File \"/home/vmarijn/mambaforge/envs/MassBalanceMachine/lib/python3.11/site-packages/pandas/core/frame.py\", line 3113, in to_parquet\n",
      "    return to_parquet(\n",
      "           ^^^^^^^^^^^\n",
      "  File \"/home/vmarijn/mambaforge/envs/MassBalanceMachine/lib/python3.11/site-packages/pandas/io/parquet.py\", line 480, in to_parquet\n",
      "    impl.write(\n",
      "  File \"/home/vmarijn/mambaforge/envs/MassBalanceMachine/lib/python3.11/site-packages/pandas/io/parquet.py\", line 198, in write\n",
      "    path_or_handle, handles, filesystem = _get_path_or_handle(\n",
      "                                          ^^^^^^^^^^^^^^^^^^^^\n",
      "  File \"/home/vmarijn/mambaforge/envs/MassBalanceMachine/lib/python3.11/site-packages/pandas/io/parquet.py\", line 140, in _get_path_or_handle\n",
      "    handles = get_handle(\n",
      "              ^^^^^^^^^^^\n",
      "  File \"/home/vmarijn/mambaforge/envs/MassBalanceMachine/lib/python3.11/site-packages/pandas/io/common.py\", line 749, in get_handle\n",
      "    check_parent_directory(str(handle))\n",
      "  File \"/home/vmarijn/mambaforge/envs/MassBalanceMachine/lib/python3.11/site-packages/pandas/io/common.py\", line 616, in check_parent_directory\n",
      "    raise OSError(rf\"Cannot save file into a non-existent directory: '{parent}'\")\n",
      "OSError: Cannot save file into a non-existent directory: '../../../data/GLAMOS/topo/gridded_topo_inputs/RGI_grid/schwarzbach'\n"
     ]
    },
    {
     "name": "stdout",
     "output_type": "stream",
     "text": [
      "Saving gridded dataset to: ../../../data/GLAMOS/topo/gridded_topo_inputs/RGI_grid/schwarzbach/schwarzbach_grid_2009.parquet\n",
      "⚠️ Error processing glacier 'schwarzbach' for year 2009: Cannot save file into a non-existent directory: '../../../data/GLAMOS/topo/gridded_topo_inputs/RGI_grid/schwarzbach'\n",
      "Converting to monthly time resolution for 2010...\n"
     ]
    },
    {
     "name": "stderr",
     "output_type": "stream",
     "text": [
      "Traceback (most recent call last):\n",
      "  File \"/tmp/ipykernel_72266/2765871222.py\", line 76, in <module>\n",
      "    dataset_grid_yearly.data.to_parquet(save_path, engine=\"pyarrow\", compression=\"snappy\")\n",
      "  File \"/home/vmarijn/mambaforge/envs/MassBalanceMachine/lib/python3.11/site-packages/pandas/util/_decorators.py\", line 333, in wrapper\n",
      "    return func(*args, **kwargs)\n",
      "           ^^^^^^^^^^^^^^^^^^^^^\n",
      "  File \"/home/vmarijn/mambaforge/envs/MassBalanceMachine/lib/python3.11/site-packages/pandas/core/frame.py\", line 3113, in to_parquet\n",
      "    return to_parquet(\n",
      "           ^^^^^^^^^^^\n",
      "  File \"/home/vmarijn/mambaforge/envs/MassBalanceMachine/lib/python3.11/site-packages/pandas/io/parquet.py\", line 480, in to_parquet\n",
      "    impl.write(\n",
      "  File \"/home/vmarijn/mambaforge/envs/MassBalanceMachine/lib/python3.11/site-packages/pandas/io/parquet.py\", line 198, in write\n",
      "    path_or_handle, handles, filesystem = _get_path_or_handle(\n",
      "                                          ^^^^^^^^^^^^^^^^^^^^\n",
      "  File \"/home/vmarijn/mambaforge/envs/MassBalanceMachine/lib/python3.11/site-packages/pandas/io/parquet.py\", line 140, in _get_path_or_handle\n",
      "    handles = get_handle(\n",
      "              ^^^^^^^^^^^\n",
      "  File \"/home/vmarijn/mambaforge/envs/MassBalanceMachine/lib/python3.11/site-packages/pandas/io/common.py\", line 749, in get_handle\n",
      "    check_parent_directory(str(handle))\n",
      "  File \"/home/vmarijn/mambaforge/envs/MassBalanceMachine/lib/python3.11/site-packages/pandas/io/common.py\", line 616, in check_parent_directory\n",
      "    raise OSError(rf\"Cannot save file into a non-existent directory: '{parent}'\")\n",
      "OSError: Cannot save file into a non-existent directory: '../../../data/GLAMOS/topo/gridded_topo_inputs/RGI_grid/schwarzbach'\n"
     ]
    },
    {
     "name": "stdout",
     "output_type": "stream",
     "text": [
      "Saving gridded dataset to: ../../../data/GLAMOS/topo/gridded_topo_inputs/RGI_grid/schwarzbach/schwarzbach_grid_2010.parquet\n",
      "⚠️ Error processing glacier 'schwarzbach' for year 2010: Cannot save file into a non-existent directory: '../../../data/GLAMOS/topo/gridded_topo_inputs/RGI_grid/schwarzbach'\n",
      "Converting to monthly time resolution for 2011...\n"
     ]
    },
    {
     "name": "stderr",
     "output_type": "stream",
     "text": [
      "Traceback (most recent call last):\n",
      "  File \"/tmp/ipykernel_72266/2765871222.py\", line 76, in <module>\n",
      "    dataset_grid_yearly.data.to_parquet(save_path, engine=\"pyarrow\", compression=\"snappy\")\n",
      "  File \"/home/vmarijn/mambaforge/envs/MassBalanceMachine/lib/python3.11/site-packages/pandas/util/_decorators.py\", line 333, in wrapper\n",
      "    return func(*args, **kwargs)\n",
      "           ^^^^^^^^^^^^^^^^^^^^^\n",
      "  File \"/home/vmarijn/mambaforge/envs/MassBalanceMachine/lib/python3.11/site-packages/pandas/core/frame.py\", line 3113, in to_parquet\n",
      "    return to_parquet(\n",
      "           ^^^^^^^^^^^\n",
      "  File \"/home/vmarijn/mambaforge/envs/MassBalanceMachine/lib/python3.11/site-packages/pandas/io/parquet.py\", line 480, in to_parquet\n",
      "    impl.write(\n",
      "  File \"/home/vmarijn/mambaforge/envs/MassBalanceMachine/lib/python3.11/site-packages/pandas/io/parquet.py\", line 198, in write\n",
      "    path_or_handle, handles, filesystem = _get_path_or_handle(\n",
      "                                          ^^^^^^^^^^^^^^^^^^^^\n",
      "  File \"/home/vmarijn/mambaforge/envs/MassBalanceMachine/lib/python3.11/site-packages/pandas/io/parquet.py\", line 140, in _get_path_or_handle\n",
      "    handles = get_handle(\n",
      "              ^^^^^^^^^^^\n",
      "  File \"/home/vmarijn/mambaforge/envs/MassBalanceMachine/lib/python3.11/site-packages/pandas/io/common.py\", line 749, in get_handle\n",
      "    check_parent_directory(str(handle))\n",
      "  File \"/home/vmarijn/mambaforge/envs/MassBalanceMachine/lib/python3.11/site-packages/pandas/io/common.py\", line 616, in check_parent_directory\n",
      "    raise OSError(rf\"Cannot save file into a non-existent directory: '{parent}'\")\n",
      "OSError: Cannot save file into a non-existent directory: '../../../data/GLAMOS/topo/gridded_topo_inputs/RGI_grid/schwarzbach'\n"
     ]
    },
    {
     "name": "stdout",
     "output_type": "stream",
     "text": [
      "Saving gridded dataset to: ../../../data/GLAMOS/topo/gridded_topo_inputs/RGI_grid/schwarzbach/schwarzbach_grid_2011.parquet\n",
      "⚠️ Error processing glacier 'schwarzbach' for year 2011: Cannot save file into a non-existent directory: '../../../data/GLAMOS/topo/gridded_topo_inputs/RGI_grid/schwarzbach'\n",
      "Converting to monthly time resolution for 2012...\n"
     ]
    },
    {
     "name": "stderr",
     "output_type": "stream",
     "text": [
      "Traceback (most recent call last):\n",
      "  File \"/tmp/ipykernel_72266/2765871222.py\", line 76, in <module>\n",
      "    dataset_grid_yearly.data.to_parquet(save_path, engine=\"pyarrow\", compression=\"snappy\")\n",
      "  File \"/home/vmarijn/mambaforge/envs/MassBalanceMachine/lib/python3.11/site-packages/pandas/util/_decorators.py\", line 333, in wrapper\n",
      "    return func(*args, **kwargs)\n",
      "           ^^^^^^^^^^^^^^^^^^^^^\n",
      "  File \"/home/vmarijn/mambaforge/envs/MassBalanceMachine/lib/python3.11/site-packages/pandas/core/frame.py\", line 3113, in to_parquet\n",
      "    return to_parquet(\n",
      "           ^^^^^^^^^^^\n",
      "  File \"/home/vmarijn/mambaforge/envs/MassBalanceMachine/lib/python3.11/site-packages/pandas/io/parquet.py\", line 480, in to_parquet\n",
      "    impl.write(\n",
      "  File \"/home/vmarijn/mambaforge/envs/MassBalanceMachine/lib/python3.11/site-packages/pandas/io/parquet.py\", line 198, in write\n",
      "    path_or_handle, handles, filesystem = _get_path_or_handle(\n",
      "                                          ^^^^^^^^^^^^^^^^^^^^\n",
      "  File \"/home/vmarijn/mambaforge/envs/MassBalanceMachine/lib/python3.11/site-packages/pandas/io/parquet.py\", line 140, in _get_path_or_handle\n",
      "    handles = get_handle(\n",
      "              ^^^^^^^^^^^\n",
      "  File \"/home/vmarijn/mambaforge/envs/MassBalanceMachine/lib/python3.11/site-packages/pandas/io/common.py\", line 749, in get_handle\n",
      "    check_parent_directory(str(handle))\n",
      "  File \"/home/vmarijn/mambaforge/envs/MassBalanceMachine/lib/python3.11/site-packages/pandas/io/common.py\", line 616, in check_parent_directory\n",
      "    raise OSError(rf\"Cannot save file into a non-existent directory: '{parent}'\")\n",
      "OSError: Cannot save file into a non-existent directory: '../../../data/GLAMOS/topo/gridded_topo_inputs/RGI_grid/schwarzbach'\n"
     ]
    },
    {
     "name": "stdout",
     "output_type": "stream",
     "text": [
      "Saving gridded dataset to: ../../../data/GLAMOS/topo/gridded_topo_inputs/RGI_grid/schwarzbach/schwarzbach_grid_2012.parquet\n",
      "⚠️ Error processing glacier 'schwarzbach' for year 2012: Cannot save file into a non-existent directory: '../../../data/GLAMOS/topo/gridded_topo_inputs/RGI_grid/schwarzbach'\n",
      "Converting to monthly time resolution for 2013...\n"
     ]
    },
    {
     "name": "stderr",
     "output_type": "stream",
     "text": [
      "Traceback (most recent call last):\n",
      "  File \"/tmp/ipykernel_72266/2765871222.py\", line 76, in <module>\n",
      "    dataset_grid_yearly.data.to_parquet(save_path, engine=\"pyarrow\", compression=\"snappy\")\n",
      "  File \"/home/vmarijn/mambaforge/envs/MassBalanceMachine/lib/python3.11/site-packages/pandas/util/_decorators.py\", line 333, in wrapper\n",
      "    return func(*args, **kwargs)\n",
      "           ^^^^^^^^^^^^^^^^^^^^^\n",
      "  File \"/home/vmarijn/mambaforge/envs/MassBalanceMachine/lib/python3.11/site-packages/pandas/core/frame.py\", line 3113, in to_parquet\n",
      "    return to_parquet(\n",
      "           ^^^^^^^^^^^\n",
      "  File \"/home/vmarijn/mambaforge/envs/MassBalanceMachine/lib/python3.11/site-packages/pandas/io/parquet.py\", line 480, in to_parquet\n",
      "    impl.write(\n",
      "  File \"/home/vmarijn/mambaforge/envs/MassBalanceMachine/lib/python3.11/site-packages/pandas/io/parquet.py\", line 198, in write\n",
      "    path_or_handle, handles, filesystem = _get_path_or_handle(\n",
      "                                          ^^^^^^^^^^^^^^^^^^^^\n",
      "  File \"/home/vmarijn/mambaforge/envs/MassBalanceMachine/lib/python3.11/site-packages/pandas/io/parquet.py\", line 140, in _get_path_or_handle\n",
      "    handles = get_handle(\n",
      "              ^^^^^^^^^^^\n",
      "  File \"/home/vmarijn/mambaforge/envs/MassBalanceMachine/lib/python3.11/site-packages/pandas/io/common.py\", line 749, in get_handle\n",
      "    check_parent_directory(str(handle))\n",
      "  File \"/home/vmarijn/mambaforge/envs/MassBalanceMachine/lib/python3.11/site-packages/pandas/io/common.py\", line 616, in check_parent_directory\n",
      "    raise OSError(rf\"Cannot save file into a non-existent directory: '{parent}'\")\n",
      "OSError: Cannot save file into a non-existent directory: '../../../data/GLAMOS/topo/gridded_topo_inputs/RGI_grid/schwarzbach'\n"
     ]
    },
    {
     "name": "stdout",
     "output_type": "stream",
     "text": [
      "Saving gridded dataset to: ../../../data/GLAMOS/topo/gridded_topo_inputs/RGI_grid/schwarzbach/schwarzbach_grid_2013.parquet\n",
      "⚠️ Error processing glacier 'schwarzbach' for year 2013: Cannot save file into a non-existent directory: '../../../data/GLAMOS/topo/gridded_topo_inputs/RGI_grid/schwarzbach'\n",
      "Converting to monthly time resolution for 2014...\n"
     ]
    },
    {
     "name": "stderr",
     "output_type": "stream",
     "text": [
      "Traceback (most recent call last):\n",
      "  File \"/tmp/ipykernel_72266/2765871222.py\", line 76, in <module>\n",
      "    dataset_grid_yearly.data.to_parquet(save_path, engine=\"pyarrow\", compression=\"snappy\")\n",
      "  File \"/home/vmarijn/mambaforge/envs/MassBalanceMachine/lib/python3.11/site-packages/pandas/util/_decorators.py\", line 333, in wrapper\n",
      "    return func(*args, **kwargs)\n",
      "           ^^^^^^^^^^^^^^^^^^^^^\n",
      "  File \"/home/vmarijn/mambaforge/envs/MassBalanceMachine/lib/python3.11/site-packages/pandas/core/frame.py\", line 3113, in to_parquet\n",
      "    return to_parquet(\n",
      "           ^^^^^^^^^^^\n",
      "  File \"/home/vmarijn/mambaforge/envs/MassBalanceMachine/lib/python3.11/site-packages/pandas/io/parquet.py\", line 480, in to_parquet\n",
      "    impl.write(\n",
      "  File \"/home/vmarijn/mambaforge/envs/MassBalanceMachine/lib/python3.11/site-packages/pandas/io/parquet.py\", line 198, in write\n",
      "    path_or_handle, handles, filesystem = _get_path_or_handle(\n",
      "                                          ^^^^^^^^^^^^^^^^^^^^\n",
      "  File \"/home/vmarijn/mambaforge/envs/MassBalanceMachine/lib/python3.11/site-packages/pandas/io/parquet.py\", line 140, in _get_path_or_handle\n",
      "    handles = get_handle(\n",
      "              ^^^^^^^^^^^\n",
      "  File \"/home/vmarijn/mambaforge/envs/MassBalanceMachine/lib/python3.11/site-packages/pandas/io/common.py\", line 749, in get_handle\n",
      "    check_parent_directory(str(handle))\n",
      "  File \"/home/vmarijn/mambaforge/envs/MassBalanceMachine/lib/python3.11/site-packages/pandas/io/common.py\", line 616, in check_parent_directory\n",
      "    raise OSError(rf\"Cannot save file into a non-existent directory: '{parent}'\")\n",
      "OSError: Cannot save file into a non-existent directory: '../../../data/GLAMOS/topo/gridded_topo_inputs/RGI_grid/schwarzbach'\n"
     ]
    },
    {
     "name": "stdout",
     "output_type": "stream",
     "text": [
      "Saving gridded dataset to: ../../../data/GLAMOS/topo/gridded_topo_inputs/RGI_grid/schwarzbach/schwarzbach_grid_2014.parquet\n",
      "⚠️ Error processing glacier 'schwarzbach' for year 2014: Cannot save file into a non-existent directory: '../../../data/GLAMOS/topo/gridded_topo_inputs/RGI_grid/schwarzbach'\n",
      "Converting to monthly time resolution for 2015...\n"
     ]
    },
    {
     "name": "stderr",
     "output_type": "stream",
     "text": [
      "Traceback (most recent call last):\n",
      "  File \"/tmp/ipykernel_72266/2765871222.py\", line 76, in <module>\n",
      "    dataset_grid_yearly.data.to_parquet(save_path, engine=\"pyarrow\", compression=\"snappy\")\n",
      "  File \"/home/vmarijn/mambaforge/envs/MassBalanceMachine/lib/python3.11/site-packages/pandas/util/_decorators.py\", line 333, in wrapper\n",
      "    return func(*args, **kwargs)\n",
      "           ^^^^^^^^^^^^^^^^^^^^^\n",
      "  File \"/home/vmarijn/mambaforge/envs/MassBalanceMachine/lib/python3.11/site-packages/pandas/core/frame.py\", line 3113, in to_parquet\n",
      "    return to_parquet(\n",
      "           ^^^^^^^^^^^\n",
      "  File \"/home/vmarijn/mambaforge/envs/MassBalanceMachine/lib/python3.11/site-packages/pandas/io/parquet.py\", line 480, in to_parquet\n",
      "    impl.write(\n",
      "  File \"/home/vmarijn/mambaforge/envs/MassBalanceMachine/lib/python3.11/site-packages/pandas/io/parquet.py\", line 198, in write\n",
      "    path_or_handle, handles, filesystem = _get_path_or_handle(\n",
      "                                          ^^^^^^^^^^^^^^^^^^^^\n",
      "  File \"/home/vmarijn/mambaforge/envs/MassBalanceMachine/lib/python3.11/site-packages/pandas/io/parquet.py\", line 140, in _get_path_or_handle\n",
      "    handles = get_handle(\n",
      "              ^^^^^^^^^^^\n",
      "  File \"/home/vmarijn/mambaforge/envs/MassBalanceMachine/lib/python3.11/site-packages/pandas/io/common.py\", line 749, in get_handle\n",
      "    check_parent_directory(str(handle))\n",
      "  File \"/home/vmarijn/mambaforge/envs/MassBalanceMachine/lib/python3.11/site-packages/pandas/io/common.py\", line 616, in check_parent_directory\n",
      "    raise OSError(rf\"Cannot save file into a non-existent directory: '{parent}'\")\n",
      "OSError: Cannot save file into a non-existent directory: '../../../data/GLAMOS/topo/gridded_topo_inputs/RGI_grid/schwarzbach'\n"
     ]
    },
    {
     "name": "stdout",
     "output_type": "stream",
     "text": [
      "Saving gridded dataset to: ../../../data/GLAMOS/topo/gridded_topo_inputs/RGI_grid/schwarzbach/schwarzbach_grid_2015.parquet\n",
      "⚠️ Error processing glacier 'schwarzbach' for year 2015: Cannot save file into a non-existent directory: '../../../data/GLAMOS/topo/gridded_topo_inputs/RGI_grid/schwarzbach'\n",
      "Converting to monthly time resolution for 2016...\n"
     ]
    },
    {
     "name": "stderr",
     "output_type": "stream",
     "text": [
      "Traceback (most recent call last):\n",
      "  File \"/tmp/ipykernel_72266/2765871222.py\", line 76, in <module>\n",
      "    dataset_grid_yearly.data.to_parquet(save_path, engine=\"pyarrow\", compression=\"snappy\")\n",
      "  File \"/home/vmarijn/mambaforge/envs/MassBalanceMachine/lib/python3.11/site-packages/pandas/util/_decorators.py\", line 333, in wrapper\n",
      "    return func(*args, **kwargs)\n",
      "           ^^^^^^^^^^^^^^^^^^^^^\n",
      "  File \"/home/vmarijn/mambaforge/envs/MassBalanceMachine/lib/python3.11/site-packages/pandas/core/frame.py\", line 3113, in to_parquet\n",
      "    return to_parquet(\n",
      "           ^^^^^^^^^^^\n",
      "  File \"/home/vmarijn/mambaforge/envs/MassBalanceMachine/lib/python3.11/site-packages/pandas/io/parquet.py\", line 480, in to_parquet\n",
      "    impl.write(\n",
      "  File \"/home/vmarijn/mambaforge/envs/MassBalanceMachine/lib/python3.11/site-packages/pandas/io/parquet.py\", line 198, in write\n",
      "    path_or_handle, handles, filesystem = _get_path_or_handle(\n",
      "                                          ^^^^^^^^^^^^^^^^^^^^\n",
      "  File \"/home/vmarijn/mambaforge/envs/MassBalanceMachine/lib/python3.11/site-packages/pandas/io/parquet.py\", line 140, in _get_path_or_handle\n",
      "    handles = get_handle(\n",
      "              ^^^^^^^^^^^\n",
      "  File \"/home/vmarijn/mambaforge/envs/MassBalanceMachine/lib/python3.11/site-packages/pandas/io/common.py\", line 749, in get_handle\n",
      "    check_parent_directory(str(handle))\n",
      "  File \"/home/vmarijn/mambaforge/envs/MassBalanceMachine/lib/python3.11/site-packages/pandas/io/common.py\", line 616, in check_parent_directory\n",
      "    raise OSError(rf\"Cannot save file into a non-existent directory: '{parent}'\")\n",
      "OSError: Cannot save file into a non-existent directory: '../../../data/GLAMOS/topo/gridded_topo_inputs/RGI_grid/schwarzbach'\n"
     ]
    },
    {
     "name": "stdout",
     "output_type": "stream",
     "text": [
      "Saving gridded dataset to: ../../../data/GLAMOS/topo/gridded_topo_inputs/RGI_grid/schwarzbach/schwarzbach_grid_2016.parquet\n",
      "⚠️ Error processing glacier 'schwarzbach' for year 2016: Cannot save file into a non-existent directory: '../../../data/GLAMOS/topo/gridded_topo_inputs/RGI_grid/schwarzbach'\n",
      "Converting to monthly time resolution for 2017...\n"
     ]
    },
    {
     "name": "stderr",
     "output_type": "stream",
     "text": [
      "Traceback (most recent call last):\n",
      "  File \"/tmp/ipykernel_72266/2765871222.py\", line 76, in <module>\n",
      "    dataset_grid_yearly.data.to_parquet(save_path, engine=\"pyarrow\", compression=\"snappy\")\n",
      "  File \"/home/vmarijn/mambaforge/envs/MassBalanceMachine/lib/python3.11/site-packages/pandas/util/_decorators.py\", line 333, in wrapper\n",
      "    return func(*args, **kwargs)\n",
      "           ^^^^^^^^^^^^^^^^^^^^^\n",
      "  File \"/home/vmarijn/mambaforge/envs/MassBalanceMachine/lib/python3.11/site-packages/pandas/core/frame.py\", line 3113, in to_parquet\n",
      "    return to_parquet(\n",
      "           ^^^^^^^^^^^\n",
      "  File \"/home/vmarijn/mambaforge/envs/MassBalanceMachine/lib/python3.11/site-packages/pandas/io/parquet.py\", line 480, in to_parquet\n",
      "    impl.write(\n",
      "  File \"/home/vmarijn/mambaforge/envs/MassBalanceMachine/lib/python3.11/site-packages/pandas/io/parquet.py\", line 198, in write\n",
      "    path_or_handle, handles, filesystem = _get_path_or_handle(\n",
      "                                          ^^^^^^^^^^^^^^^^^^^^\n",
      "  File \"/home/vmarijn/mambaforge/envs/MassBalanceMachine/lib/python3.11/site-packages/pandas/io/parquet.py\", line 140, in _get_path_or_handle\n",
      "    handles = get_handle(\n",
      "              ^^^^^^^^^^^\n",
      "  File \"/home/vmarijn/mambaforge/envs/MassBalanceMachine/lib/python3.11/site-packages/pandas/io/common.py\", line 749, in get_handle\n",
      "    check_parent_directory(str(handle))\n",
      "  File \"/home/vmarijn/mambaforge/envs/MassBalanceMachine/lib/python3.11/site-packages/pandas/io/common.py\", line 616, in check_parent_directory\n",
      "    raise OSError(rf\"Cannot save file into a non-existent directory: '{parent}'\")\n",
      "OSError: Cannot save file into a non-existent directory: '../../../data/GLAMOS/topo/gridded_topo_inputs/RGI_grid/schwarzbach'\n"
     ]
    },
    {
     "name": "stdout",
     "output_type": "stream",
     "text": [
      "Saving gridded dataset to: ../../../data/GLAMOS/topo/gridded_topo_inputs/RGI_grid/schwarzbach/schwarzbach_grid_2017.parquet\n",
      "⚠️ Error processing glacier 'schwarzbach' for year 2017: Cannot save file into a non-existent directory: '../../../data/GLAMOS/topo/gridded_topo_inputs/RGI_grid/schwarzbach'\n",
      "Converting to monthly time resolution for 2018...\n"
     ]
    },
    {
     "name": "stderr",
     "output_type": "stream",
     "text": [
      "Traceback (most recent call last):\n",
      "  File \"/tmp/ipykernel_72266/2765871222.py\", line 76, in <module>\n",
      "    dataset_grid_yearly.data.to_parquet(save_path, engine=\"pyarrow\", compression=\"snappy\")\n",
      "  File \"/home/vmarijn/mambaforge/envs/MassBalanceMachine/lib/python3.11/site-packages/pandas/util/_decorators.py\", line 333, in wrapper\n",
      "    return func(*args, **kwargs)\n",
      "           ^^^^^^^^^^^^^^^^^^^^^\n",
      "  File \"/home/vmarijn/mambaforge/envs/MassBalanceMachine/lib/python3.11/site-packages/pandas/core/frame.py\", line 3113, in to_parquet\n",
      "    return to_parquet(\n",
      "           ^^^^^^^^^^^\n",
      "  File \"/home/vmarijn/mambaforge/envs/MassBalanceMachine/lib/python3.11/site-packages/pandas/io/parquet.py\", line 480, in to_parquet\n",
      "    impl.write(\n",
      "  File \"/home/vmarijn/mambaforge/envs/MassBalanceMachine/lib/python3.11/site-packages/pandas/io/parquet.py\", line 198, in write\n",
      "    path_or_handle, handles, filesystem = _get_path_or_handle(\n",
      "                                          ^^^^^^^^^^^^^^^^^^^^\n",
      "  File \"/home/vmarijn/mambaforge/envs/MassBalanceMachine/lib/python3.11/site-packages/pandas/io/parquet.py\", line 140, in _get_path_or_handle\n",
      "    handles = get_handle(\n",
      "              ^^^^^^^^^^^\n",
      "  File \"/home/vmarijn/mambaforge/envs/MassBalanceMachine/lib/python3.11/site-packages/pandas/io/common.py\", line 749, in get_handle\n",
      "    check_parent_directory(str(handle))\n",
      "  File \"/home/vmarijn/mambaforge/envs/MassBalanceMachine/lib/python3.11/site-packages/pandas/io/common.py\", line 616, in check_parent_directory\n",
      "    raise OSError(rf\"Cannot save file into a non-existent directory: '{parent}'\")\n",
      "OSError: Cannot save file into a non-existent directory: '../../../data/GLAMOS/topo/gridded_topo_inputs/RGI_grid/schwarzbach'\n"
     ]
    },
    {
     "name": "stdout",
     "output_type": "stream",
     "text": [
      "Saving gridded dataset to: ../../../data/GLAMOS/topo/gridded_topo_inputs/RGI_grid/schwarzbach/schwarzbach_grid_2018.parquet\n",
      "⚠️ Error processing glacier 'schwarzbach' for year 2018: Cannot save file into a non-existent directory: '../../../data/GLAMOS/topo/gridded_topo_inputs/RGI_grid/schwarzbach'\n",
      "Converting to monthly time resolution for 2019...\n"
     ]
    },
    {
     "name": "stderr",
     "output_type": "stream",
     "text": [
      "Traceback (most recent call last):\n",
      "  File \"/tmp/ipykernel_72266/2765871222.py\", line 76, in <module>\n",
      "    dataset_grid_yearly.data.to_parquet(save_path, engine=\"pyarrow\", compression=\"snappy\")\n",
      "  File \"/home/vmarijn/mambaforge/envs/MassBalanceMachine/lib/python3.11/site-packages/pandas/util/_decorators.py\", line 333, in wrapper\n",
      "    return func(*args, **kwargs)\n",
      "           ^^^^^^^^^^^^^^^^^^^^^\n",
      "  File \"/home/vmarijn/mambaforge/envs/MassBalanceMachine/lib/python3.11/site-packages/pandas/core/frame.py\", line 3113, in to_parquet\n",
      "    return to_parquet(\n",
      "           ^^^^^^^^^^^\n",
      "  File \"/home/vmarijn/mambaforge/envs/MassBalanceMachine/lib/python3.11/site-packages/pandas/io/parquet.py\", line 480, in to_parquet\n",
      "    impl.write(\n",
      "  File \"/home/vmarijn/mambaforge/envs/MassBalanceMachine/lib/python3.11/site-packages/pandas/io/parquet.py\", line 198, in write\n",
      "    path_or_handle, handles, filesystem = _get_path_or_handle(\n",
      "                                          ^^^^^^^^^^^^^^^^^^^^\n",
      "  File \"/home/vmarijn/mambaforge/envs/MassBalanceMachine/lib/python3.11/site-packages/pandas/io/parquet.py\", line 140, in _get_path_or_handle\n",
      "    handles = get_handle(\n",
      "              ^^^^^^^^^^^\n",
      "  File \"/home/vmarijn/mambaforge/envs/MassBalanceMachine/lib/python3.11/site-packages/pandas/io/common.py\", line 749, in get_handle\n",
      "    check_parent_directory(str(handle))\n",
      "  File \"/home/vmarijn/mambaforge/envs/MassBalanceMachine/lib/python3.11/site-packages/pandas/io/common.py\", line 616, in check_parent_directory\n",
      "    raise OSError(rf\"Cannot save file into a non-existent directory: '{parent}'\")\n",
      "OSError: Cannot save file into a non-existent directory: '../../../data/GLAMOS/topo/gridded_topo_inputs/RGI_grid/schwarzbach'\n"
     ]
    },
    {
     "name": "stdout",
     "output_type": "stream",
     "text": [
      "Saving gridded dataset to: ../../../data/GLAMOS/topo/gridded_topo_inputs/RGI_grid/schwarzbach/schwarzbach_grid_2019.parquet\n",
      "⚠️ Error processing glacier 'schwarzbach' for year 2019: Cannot save file into a non-existent directory: '../../../data/GLAMOS/topo/gridded_topo_inputs/RGI_grid/schwarzbach'\n",
      "Converting to monthly time resolution for 2020...\n"
     ]
    },
    {
     "name": "stderr",
     "output_type": "stream",
     "text": [
      "Traceback (most recent call last):\n",
      "  File \"/tmp/ipykernel_72266/2765871222.py\", line 76, in <module>\n",
      "    dataset_grid_yearly.data.to_parquet(save_path, engine=\"pyarrow\", compression=\"snappy\")\n",
      "  File \"/home/vmarijn/mambaforge/envs/MassBalanceMachine/lib/python3.11/site-packages/pandas/util/_decorators.py\", line 333, in wrapper\n",
      "    return func(*args, **kwargs)\n",
      "           ^^^^^^^^^^^^^^^^^^^^^\n",
      "  File \"/home/vmarijn/mambaforge/envs/MassBalanceMachine/lib/python3.11/site-packages/pandas/core/frame.py\", line 3113, in to_parquet\n",
      "    return to_parquet(\n",
      "           ^^^^^^^^^^^\n",
      "  File \"/home/vmarijn/mambaforge/envs/MassBalanceMachine/lib/python3.11/site-packages/pandas/io/parquet.py\", line 480, in to_parquet\n",
      "    impl.write(\n",
      "  File \"/home/vmarijn/mambaforge/envs/MassBalanceMachine/lib/python3.11/site-packages/pandas/io/parquet.py\", line 198, in write\n",
      "    path_or_handle, handles, filesystem = _get_path_or_handle(\n",
      "                                          ^^^^^^^^^^^^^^^^^^^^\n",
      "  File \"/home/vmarijn/mambaforge/envs/MassBalanceMachine/lib/python3.11/site-packages/pandas/io/parquet.py\", line 140, in _get_path_or_handle\n",
      "    handles = get_handle(\n",
      "              ^^^^^^^^^^^\n",
      "  File \"/home/vmarijn/mambaforge/envs/MassBalanceMachine/lib/python3.11/site-packages/pandas/io/common.py\", line 749, in get_handle\n",
      "    check_parent_directory(str(handle))\n",
      "  File \"/home/vmarijn/mambaforge/envs/MassBalanceMachine/lib/python3.11/site-packages/pandas/io/common.py\", line 616, in check_parent_directory\n",
      "    raise OSError(rf\"Cannot save file into a non-existent directory: '{parent}'\")\n",
      "OSError: Cannot save file into a non-existent directory: '../../../data/GLAMOS/topo/gridded_topo_inputs/RGI_grid/schwarzbach'\n"
     ]
    },
    {
     "name": "stdout",
     "output_type": "stream",
     "text": [
      "Saving gridded dataset to: ../../../data/GLAMOS/topo/gridded_topo_inputs/RGI_grid/schwarzbach/schwarzbach_grid_2020.parquet\n",
      "⚠️ Error processing glacier 'schwarzbach' for year 2020: Cannot save file into a non-existent directory: '../../../data/GLAMOS/topo/gridded_topo_inputs/RGI_grid/schwarzbach'\n",
      "Converting to monthly time resolution for 2021...\n"
     ]
    },
    {
     "name": "stderr",
     "output_type": "stream",
     "text": [
      "Traceback (most recent call last):\n",
      "  File \"/tmp/ipykernel_72266/2765871222.py\", line 76, in <module>\n",
      "    dataset_grid_yearly.data.to_parquet(save_path, engine=\"pyarrow\", compression=\"snappy\")\n",
      "  File \"/home/vmarijn/mambaforge/envs/MassBalanceMachine/lib/python3.11/site-packages/pandas/util/_decorators.py\", line 333, in wrapper\n",
      "    return func(*args, **kwargs)\n",
      "           ^^^^^^^^^^^^^^^^^^^^^\n",
      "  File \"/home/vmarijn/mambaforge/envs/MassBalanceMachine/lib/python3.11/site-packages/pandas/core/frame.py\", line 3113, in to_parquet\n",
      "    return to_parquet(\n",
      "           ^^^^^^^^^^^\n",
      "  File \"/home/vmarijn/mambaforge/envs/MassBalanceMachine/lib/python3.11/site-packages/pandas/io/parquet.py\", line 480, in to_parquet\n",
      "    impl.write(\n",
      "  File \"/home/vmarijn/mambaforge/envs/MassBalanceMachine/lib/python3.11/site-packages/pandas/io/parquet.py\", line 198, in write\n",
      "    path_or_handle, handles, filesystem = _get_path_or_handle(\n",
      "                                          ^^^^^^^^^^^^^^^^^^^^\n",
      "  File \"/home/vmarijn/mambaforge/envs/MassBalanceMachine/lib/python3.11/site-packages/pandas/io/parquet.py\", line 140, in _get_path_or_handle\n",
      "    handles = get_handle(\n",
      "              ^^^^^^^^^^^\n",
      "  File \"/home/vmarijn/mambaforge/envs/MassBalanceMachine/lib/python3.11/site-packages/pandas/io/common.py\", line 749, in get_handle\n",
      "    check_parent_directory(str(handle))\n",
      "  File \"/home/vmarijn/mambaforge/envs/MassBalanceMachine/lib/python3.11/site-packages/pandas/io/common.py\", line 616, in check_parent_directory\n",
      "    raise OSError(rf\"Cannot save file into a non-existent directory: '{parent}'\")\n",
      "OSError: Cannot save file into a non-existent directory: '../../../data/GLAMOS/topo/gridded_topo_inputs/RGI_grid/schwarzbach'\n"
     ]
    },
    {
     "name": "stdout",
     "output_type": "stream",
     "text": [
      "Saving gridded dataset to: ../../../data/GLAMOS/topo/gridded_topo_inputs/RGI_grid/schwarzbach/schwarzbach_grid_2021.parquet\n",
      "⚠️ Error processing glacier 'schwarzbach' for year 2021: Cannot save file into a non-existent directory: '../../../data/GLAMOS/topo/gridded_topo_inputs/RGI_grid/schwarzbach'\n",
      "Converting to monthly time resolution for 2022...\n"
     ]
    },
    {
     "name": "stderr",
     "output_type": "stream",
     "text": [
      "Traceback (most recent call last):\n",
      "  File \"/tmp/ipykernel_72266/2765871222.py\", line 76, in <module>\n",
      "    dataset_grid_yearly.data.to_parquet(save_path, engine=\"pyarrow\", compression=\"snappy\")\n",
      "  File \"/home/vmarijn/mambaforge/envs/MassBalanceMachine/lib/python3.11/site-packages/pandas/util/_decorators.py\", line 333, in wrapper\n",
      "    return func(*args, **kwargs)\n",
      "           ^^^^^^^^^^^^^^^^^^^^^\n",
      "  File \"/home/vmarijn/mambaforge/envs/MassBalanceMachine/lib/python3.11/site-packages/pandas/core/frame.py\", line 3113, in to_parquet\n",
      "    return to_parquet(\n",
      "           ^^^^^^^^^^^\n",
      "  File \"/home/vmarijn/mambaforge/envs/MassBalanceMachine/lib/python3.11/site-packages/pandas/io/parquet.py\", line 480, in to_parquet\n",
      "    impl.write(\n",
      "  File \"/home/vmarijn/mambaforge/envs/MassBalanceMachine/lib/python3.11/site-packages/pandas/io/parquet.py\", line 198, in write\n",
      "    path_or_handle, handles, filesystem = _get_path_or_handle(\n",
      "                                          ^^^^^^^^^^^^^^^^^^^^\n",
      "  File \"/home/vmarijn/mambaforge/envs/MassBalanceMachine/lib/python3.11/site-packages/pandas/io/parquet.py\", line 140, in _get_path_or_handle\n",
      "    handles = get_handle(\n",
      "              ^^^^^^^^^^^\n",
      "  File \"/home/vmarijn/mambaforge/envs/MassBalanceMachine/lib/python3.11/site-packages/pandas/io/common.py\", line 749, in get_handle\n",
      "    check_parent_directory(str(handle))\n",
      "  File \"/home/vmarijn/mambaforge/envs/MassBalanceMachine/lib/python3.11/site-packages/pandas/io/common.py\", line 616, in check_parent_directory\n",
      "    raise OSError(rf\"Cannot save file into a non-existent directory: '{parent}'\")\n",
      "OSError: Cannot save file into a non-existent directory: '../../../data/GLAMOS/topo/gridded_topo_inputs/RGI_grid/schwarzbach'\n",
      "Traceback (most recent call last):\n",
      "  File \"/tmp/ipykernel_72266/2765871222.py\", line 76, in <module>\n",
      "    dataset_grid_yearly.data.to_parquet(save_path, engine=\"pyarrow\", compression=\"snappy\")\n",
      "  File \"/home/vmarijn/mambaforge/envs/MassBalanceMachine/lib/python3.11/site-packages/pandas/util/_decorators.py\", line 333, in wrapper\n",
      "    return func(*args, **kwargs)\n",
      "           ^^^^^^^^^^^^^^^^^^^^^\n",
      "  File \"/home/vmarijn/mambaforge/envs/MassBalanceMachine/lib/python3.11/site-packages/pandas/core/frame.py\", line 3113, in to_parquet\n",
      "    return to_parquet(\n",
      "           ^^^^^^^^^^^\n",
      "  File \"/home/vmarijn/mambaforge/envs/MassBalanceMachine/lib/python3.11/site-packages/pandas/io/parquet.py\", line 480, in to_parquet\n",
      "    impl.write(\n",
      "  File \"/home/vmarijn/mambaforge/envs/MassBalanceMachine/lib/python3.11/site-packages/pandas/io/parquet.py\", line 198, in write\n",
      "    path_or_handle, handles, filesystem = _get_path_or_handle(\n",
      "                                          ^^^^^^^^^^^^^^^^^^^^\n",
      "  File \"/home/vmarijn/mambaforge/envs/MassBalanceMachine/lib/python3.11/site-packages/pandas/io/parquet.py\", line 140, in _get_path_or_handle\n",
      "    handles = get_handle(\n",
      "              ^^^^^^^^^^^\n",
      "  File \"/home/vmarijn/mambaforge/envs/MassBalanceMachine/lib/python3.11/site-packages/pandas/io/common.py\", line 749, in get_handle\n",
      "    check_parent_directory(str(handle))\n",
      "  File \"/home/vmarijn/mambaforge/envs/MassBalanceMachine/lib/python3.11/site-packages/pandas/io/common.py\", line 616, in check_parent_directory\n",
      "    raise OSError(rf\"Cannot save file into a non-existent directory: '{parent}'\")\n",
      "OSError: Cannot save file into a non-existent directory: '../../../data/GLAMOS/topo/gridded_topo_inputs/RGI_grid/schwarzbach'\n",
      "2025-03-03 14:11:50: oggm.cfg: Reading default parameters from the OGGM `params.cfg` configuration file.\n",
      "2025-03-03 14:11:50: oggm.cfg: Multiprocessing switched OFF according to the parameter file.\n",
      "2025-03-03 14:11:50: oggm.cfg: Multiprocessing: using all available processors (N=32)\n",
      "2025-03-03 14:11:50: oggm.cfg: PARAMS['border'] changed from `80` to `10`.\n",
      "2025-03-03 14:11:50: oggm.cfg: Multiprocessing switched ON after user settings.\n",
      "2025-03-03 14:11:50: oggm.cfg: PARAMS['continue_on_error'] changed from `False` to `True`.\n",
      "2025-03-03 14:11:50: oggm.workflow: init_glacier_directories from prepro level 3 on 1 glaciers.\n",
      "2025-03-03 14:11:50: oggm.workflow: Execute entity tasks [gdir_from_prepro] on 1 glaciers\n"
     ]
    },
    {
     "name": "stdout",
     "output_type": "stream",
     "text": [
      "Saving gridded dataset to: ../../../data/GLAMOS/topo/gridded_topo_inputs/RGI_grid/schwarzbach/schwarzbach_grid_2022.parquet\n",
      "⚠️ Error processing glacier 'schwarzbach' for year 2022: Cannot save file into a non-existent directory: '../../../data/GLAMOS/topo/gridded_topo_inputs/RGI_grid/schwarzbach'\n",
      "\n",
      "-----------------------------------\n",
      "Processing: taelliboden\n"
     ]
    },
    {
     "name": "stderr",
     "output_type": "stream",
     "text": [
      "2025-03-03 14:11:51: oggm.workflow: Execute entity tasks [gridded_attributes] on 1 glaciers\n"
     ]
    },
    {
     "name": "stdout",
     "output_type": "stream",
     "text": [
      "Adding climate data...\n",
      "Adding potential clear sky radiation...\n",
      "Converting to monthly time resolution for 1951...\n",
      "Saving gridded dataset to: ../../../data/GLAMOS/topo/gridded_topo_inputs/RGI_grid/taelliboden/taelliboden_grid_1951.parquet\n",
      "⚠️ Error processing glacier 'taelliboden' for year 1951: Cannot save file into a non-existent directory: '../../../data/GLAMOS/topo/gridded_topo_inputs/RGI_grid/taelliboden'\n",
      "Converting to monthly time resolution for 1952...\n"
     ]
    },
    {
     "name": "stderr",
     "output_type": "stream",
     "text": [
      "Traceback (most recent call last):\n",
      "  File \"/tmp/ipykernel_72266/2765871222.py\", line 76, in <module>\n",
      "    dataset_grid_yearly.data.to_parquet(save_path, engine=\"pyarrow\", compression=\"snappy\")\n",
      "  File \"/home/vmarijn/mambaforge/envs/MassBalanceMachine/lib/python3.11/site-packages/pandas/util/_decorators.py\", line 333, in wrapper\n",
      "    return func(*args, **kwargs)\n",
      "           ^^^^^^^^^^^^^^^^^^^^^\n",
      "  File \"/home/vmarijn/mambaforge/envs/MassBalanceMachine/lib/python3.11/site-packages/pandas/core/frame.py\", line 3113, in to_parquet\n",
      "    return to_parquet(\n",
      "           ^^^^^^^^^^^\n",
      "  File \"/home/vmarijn/mambaforge/envs/MassBalanceMachine/lib/python3.11/site-packages/pandas/io/parquet.py\", line 480, in to_parquet\n",
      "    impl.write(\n",
      "  File \"/home/vmarijn/mambaforge/envs/MassBalanceMachine/lib/python3.11/site-packages/pandas/io/parquet.py\", line 198, in write\n",
      "    path_or_handle, handles, filesystem = _get_path_or_handle(\n",
      "                                          ^^^^^^^^^^^^^^^^^^^^\n",
      "  File \"/home/vmarijn/mambaforge/envs/MassBalanceMachine/lib/python3.11/site-packages/pandas/io/parquet.py\", line 140, in _get_path_or_handle\n",
      "    handles = get_handle(\n",
      "              ^^^^^^^^^^^\n",
      "  File \"/home/vmarijn/mambaforge/envs/MassBalanceMachine/lib/python3.11/site-packages/pandas/io/common.py\", line 749, in get_handle\n",
      "    check_parent_directory(str(handle))\n",
      "  File \"/home/vmarijn/mambaforge/envs/MassBalanceMachine/lib/python3.11/site-packages/pandas/io/common.py\", line 616, in check_parent_directory\n",
      "    raise OSError(rf\"Cannot save file into a non-existent directory: '{parent}'\")\n",
      "OSError: Cannot save file into a non-existent directory: '../../../data/GLAMOS/topo/gridded_topo_inputs/RGI_grid/taelliboden'\n"
     ]
    },
    {
     "name": "stdout",
     "output_type": "stream",
     "text": [
      "Saving gridded dataset to: ../../../data/GLAMOS/topo/gridded_topo_inputs/RGI_grid/taelliboden/taelliboden_grid_1952.parquet\n",
      "⚠️ Error processing glacier 'taelliboden' for year 1952: Cannot save file into a non-existent directory: '../../../data/GLAMOS/topo/gridded_topo_inputs/RGI_grid/taelliboden'\n",
      "Converting to monthly time resolution for 1953...\n"
     ]
    },
    {
     "name": "stderr",
     "output_type": "stream",
     "text": [
      "Traceback (most recent call last):\n",
      "  File \"/tmp/ipykernel_72266/2765871222.py\", line 76, in <module>\n",
      "    dataset_grid_yearly.data.to_parquet(save_path, engine=\"pyarrow\", compression=\"snappy\")\n",
      "  File \"/home/vmarijn/mambaforge/envs/MassBalanceMachine/lib/python3.11/site-packages/pandas/util/_decorators.py\", line 333, in wrapper\n",
      "    return func(*args, **kwargs)\n",
      "           ^^^^^^^^^^^^^^^^^^^^^\n",
      "  File \"/home/vmarijn/mambaforge/envs/MassBalanceMachine/lib/python3.11/site-packages/pandas/core/frame.py\", line 3113, in to_parquet\n",
      "    return to_parquet(\n",
      "           ^^^^^^^^^^^\n",
      "  File \"/home/vmarijn/mambaforge/envs/MassBalanceMachine/lib/python3.11/site-packages/pandas/io/parquet.py\", line 480, in to_parquet\n",
      "    impl.write(\n",
      "  File \"/home/vmarijn/mambaforge/envs/MassBalanceMachine/lib/python3.11/site-packages/pandas/io/parquet.py\", line 198, in write\n",
      "    path_or_handle, handles, filesystem = _get_path_or_handle(\n",
      "                                          ^^^^^^^^^^^^^^^^^^^^\n",
      "  File \"/home/vmarijn/mambaforge/envs/MassBalanceMachine/lib/python3.11/site-packages/pandas/io/parquet.py\", line 140, in _get_path_or_handle\n",
      "    handles = get_handle(\n",
      "              ^^^^^^^^^^^\n",
      "  File \"/home/vmarijn/mambaforge/envs/MassBalanceMachine/lib/python3.11/site-packages/pandas/io/common.py\", line 749, in get_handle\n",
      "    check_parent_directory(str(handle))\n",
      "  File \"/home/vmarijn/mambaforge/envs/MassBalanceMachine/lib/python3.11/site-packages/pandas/io/common.py\", line 616, in check_parent_directory\n",
      "    raise OSError(rf\"Cannot save file into a non-existent directory: '{parent}'\")\n",
      "OSError: Cannot save file into a non-existent directory: '../../../data/GLAMOS/topo/gridded_topo_inputs/RGI_grid/taelliboden'\n"
     ]
    },
    {
     "name": "stdout",
     "output_type": "stream",
     "text": [
      "Saving gridded dataset to: ../../../data/GLAMOS/topo/gridded_topo_inputs/RGI_grid/taelliboden/taelliboden_grid_1953.parquet\n",
      "⚠️ Error processing glacier 'taelliboden' for year 1953: Cannot save file into a non-existent directory: '../../../data/GLAMOS/topo/gridded_topo_inputs/RGI_grid/taelliboden'\n",
      "Converting to monthly time resolution for 1954...\n"
     ]
    },
    {
     "name": "stderr",
     "output_type": "stream",
     "text": [
      "Traceback (most recent call last):\n",
      "  File \"/tmp/ipykernel_72266/2765871222.py\", line 76, in <module>\n",
      "    dataset_grid_yearly.data.to_parquet(save_path, engine=\"pyarrow\", compression=\"snappy\")\n",
      "  File \"/home/vmarijn/mambaforge/envs/MassBalanceMachine/lib/python3.11/site-packages/pandas/util/_decorators.py\", line 333, in wrapper\n",
      "    return func(*args, **kwargs)\n",
      "           ^^^^^^^^^^^^^^^^^^^^^\n",
      "  File \"/home/vmarijn/mambaforge/envs/MassBalanceMachine/lib/python3.11/site-packages/pandas/core/frame.py\", line 3113, in to_parquet\n",
      "    return to_parquet(\n",
      "           ^^^^^^^^^^^\n",
      "  File \"/home/vmarijn/mambaforge/envs/MassBalanceMachine/lib/python3.11/site-packages/pandas/io/parquet.py\", line 480, in to_parquet\n",
      "    impl.write(\n",
      "  File \"/home/vmarijn/mambaforge/envs/MassBalanceMachine/lib/python3.11/site-packages/pandas/io/parquet.py\", line 198, in write\n",
      "    path_or_handle, handles, filesystem = _get_path_or_handle(\n",
      "                                          ^^^^^^^^^^^^^^^^^^^^\n",
      "  File \"/home/vmarijn/mambaforge/envs/MassBalanceMachine/lib/python3.11/site-packages/pandas/io/parquet.py\", line 140, in _get_path_or_handle\n",
      "    handles = get_handle(\n",
      "              ^^^^^^^^^^^\n",
      "  File \"/home/vmarijn/mambaforge/envs/MassBalanceMachine/lib/python3.11/site-packages/pandas/io/common.py\", line 749, in get_handle\n",
      "    check_parent_directory(str(handle))\n",
      "  File \"/home/vmarijn/mambaforge/envs/MassBalanceMachine/lib/python3.11/site-packages/pandas/io/common.py\", line 616, in check_parent_directory\n",
      "    raise OSError(rf\"Cannot save file into a non-existent directory: '{parent}'\")\n",
      "OSError: Cannot save file into a non-existent directory: '../../../data/GLAMOS/topo/gridded_topo_inputs/RGI_grid/taelliboden'\n"
     ]
    },
    {
     "name": "stdout",
     "output_type": "stream",
     "text": [
      "Saving gridded dataset to: ../../../data/GLAMOS/topo/gridded_topo_inputs/RGI_grid/taelliboden/taelliboden_grid_1954.parquet\n",
      "⚠️ Error processing glacier 'taelliboden' for year 1954: Cannot save file into a non-existent directory: '../../../data/GLAMOS/topo/gridded_topo_inputs/RGI_grid/taelliboden'\n",
      "Converting to monthly time resolution for 1955...\n"
     ]
    },
    {
     "name": "stderr",
     "output_type": "stream",
     "text": [
      "Traceback (most recent call last):\n",
      "  File \"/tmp/ipykernel_72266/2765871222.py\", line 76, in <module>\n",
      "    dataset_grid_yearly.data.to_parquet(save_path, engine=\"pyarrow\", compression=\"snappy\")\n",
      "  File \"/home/vmarijn/mambaforge/envs/MassBalanceMachine/lib/python3.11/site-packages/pandas/util/_decorators.py\", line 333, in wrapper\n",
      "    return func(*args, **kwargs)\n",
      "           ^^^^^^^^^^^^^^^^^^^^^\n",
      "  File \"/home/vmarijn/mambaforge/envs/MassBalanceMachine/lib/python3.11/site-packages/pandas/core/frame.py\", line 3113, in to_parquet\n",
      "    return to_parquet(\n",
      "           ^^^^^^^^^^^\n",
      "  File \"/home/vmarijn/mambaforge/envs/MassBalanceMachine/lib/python3.11/site-packages/pandas/io/parquet.py\", line 480, in to_parquet\n",
      "    impl.write(\n",
      "  File \"/home/vmarijn/mambaforge/envs/MassBalanceMachine/lib/python3.11/site-packages/pandas/io/parquet.py\", line 198, in write\n",
      "    path_or_handle, handles, filesystem = _get_path_or_handle(\n",
      "                                          ^^^^^^^^^^^^^^^^^^^^\n",
      "  File \"/home/vmarijn/mambaforge/envs/MassBalanceMachine/lib/python3.11/site-packages/pandas/io/parquet.py\", line 140, in _get_path_or_handle\n",
      "    handles = get_handle(\n",
      "              ^^^^^^^^^^^\n",
      "  File \"/home/vmarijn/mambaforge/envs/MassBalanceMachine/lib/python3.11/site-packages/pandas/io/common.py\", line 749, in get_handle\n",
      "    check_parent_directory(str(handle))\n",
      "  File \"/home/vmarijn/mambaforge/envs/MassBalanceMachine/lib/python3.11/site-packages/pandas/io/common.py\", line 616, in check_parent_directory\n",
      "    raise OSError(rf\"Cannot save file into a non-existent directory: '{parent}'\")\n",
      "OSError: Cannot save file into a non-existent directory: '../../../data/GLAMOS/topo/gridded_topo_inputs/RGI_grid/taelliboden'\n"
     ]
    },
    {
     "name": "stdout",
     "output_type": "stream",
     "text": [
      "Saving gridded dataset to: ../../../data/GLAMOS/topo/gridded_topo_inputs/RGI_grid/taelliboden/taelliboden_grid_1955.parquet\n",
      "⚠️ Error processing glacier 'taelliboden' for year 1955: Cannot save file into a non-existent directory: '../../../data/GLAMOS/topo/gridded_topo_inputs/RGI_grid/taelliboden'\n",
      "Converting to monthly time resolution for 1956...\n"
     ]
    },
    {
     "name": "stderr",
     "output_type": "stream",
     "text": [
      "Traceback (most recent call last):\n",
      "  File \"/tmp/ipykernel_72266/2765871222.py\", line 76, in <module>\n",
      "    dataset_grid_yearly.data.to_parquet(save_path, engine=\"pyarrow\", compression=\"snappy\")\n",
      "  File \"/home/vmarijn/mambaforge/envs/MassBalanceMachine/lib/python3.11/site-packages/pandas/util/_decorators.py\", line 333, in wrapper\n",
      "    return func(*args, **kwargs)\n",
      "           ^^^^^^^^^^^^^^^^^^^^^\n",
      "  File \"/home/vmarijn/mambaforge/envs/MassBalanceMachine/lib/python3.11/site-packages/pandas/core/frame.py\", line 3113, in to_parquet\n",
      "    return to_parquet(\n",
      "           ^^^^^^^^^^^\n",
      "  File \"/home/vmarijn/mambaforge/envs/MassBalanceMachine/lib/python3.11/site-packages/pandas/io/parquet.py\", line 480, in to_parquet\n",
      "    impl.write(\n",
      "  File \"/home/vmarijn/mambaforge/envs/MassBalanceMachine/lib/python3.11/site-packages/pandas/io/parquet.py\", line 198, in write\n",
      "    path_or_handle, handles, filesystem = _get_path_or_handle(\n",
      "                                          ^^^^^^^^^^^^^^^^^^^^\n",
      "  File \"/home/vmarijn/mambaforge/envs/MassBalanceMachine/lib/python3.11/site-packages/pandas/io/parquet.py\", line 140, in _get_path_or_handle\n",
      "    handles = get_handle(\n",
      "              ^^^^^^^^^^^\n",
      "  File \"/home/vmarijn/mambaforge/envs/MassBalanceMachine/lib/python3.11/site-packages/pandas/io/common.py\", line 749, in get_handle\n",
      "    check_parent_directory(str(handle))\n",
      "  File \"/home/vmarijn/mambaforge/envs/MassBalanceMachine/lib/python3.11/site-packages/pandas/io/common.py\", line 616, in check_parent_directory\n",
      "    raise OSError(rf\"Cannot save file into a non-existent directory: '{parent}'\")\n",
      "OSError: Cannot save file into a non-existent directory: '../../../data/GLAMOS/topo/gridded_topo_inputs/RGI_grid/taelliboden'\n"
     ]
    },
    {
     "name": "stdout",
     "output_type": "stream",
     "text": [
      "Saving gridded dataset to: ../../../data/GLAMOS/topo/gridded_topo_inputs/RGI_grid/taelliboden/taelliboden_grid_1956.parquet\n",
      "⚠️ Error processing glacier 'taelliboden' for year 1956: Cannot save file into a non-existent directory: '../../../data/GLAMOS/topo/gridded_topo_inputs/RGI_grid/taelliboden'\n",
      "Converting to monthly time resolution for 1957...\n"
     ]
    },
    {
     "name": "stderr",
     "output_type": "stream",
     "text": [
      "Traceback (most recent call last):\n",
      "  File \"/tmp/ipykernel_72266/2765871222.py\", line 76, in <module>\n",
      "    dataset_grid_yearly.data.to_parquet(save_path, engine=\"pyarrow\", compression=\"snappy\")\n",
      "  File \"/home/vmarijn/mambaforge/envs/MassBalanceMachine/lib/python3.11/site-packages/pandas/util/_decorators.py\", line 333, in wrapper\n",
      "    return func(*args, **kwargs)\n",
      "           ^^^^^^^^^^^^^^^^^^^^^\n",
      "  File \"/home/vmarijn/mambaforge/envs/MassBalanceMachine/lib/python3.11/site-packages/pandas/core/frame.py\", line 3113, in to_parquet\n",
      "    return to_parquet(\n",
      "           ^^^^^^^^^^^\n",
      "  File \"/home/vmarijn/mambaforge/envs/MassBalanceMachine/lib/python3.11/site-packages/pandas/io/parquet.py\", line 480, in to_parquet\n",
      "    impl.write(\n",
      "  File \"/home/vmarijn/mambaforge/envs/MassBalanceMachine/lib/python3.11/site-packages/pandas/io/parquet.py\", line 198, in write\n",
      "    path_or_handle, handles, filesystem = _get_path_or_handle(\n",
      "                                          ^^^^^^^^^^^^^^^^^^^^\n",
      "  File \"/home/vmarijn/mambaforge/envs/MassBalanceMachine/lib/python3.11/site-packages/pandas/io/parquet.py\", line 140, in _get_path_or_handle\n",
      "    handles = get_handle(\n",
      "              ^^^^^^^^^^^\n",
      "  File \"/home/vmarijn/mambaforge/envs/MassBalanceMachine/lib/python3.11/site-packages/pandas/io/common.py\", line 749, in get_handle\n",
      "    check_parent_directory(str(handle))\n",
      "  File \"/home/vmarijn/mambaforge/envs/MassBalanceMachine/lib/python3.11/site-packages/pandas/io/common.py\", line 616, in check_parent_directory\n",
      "    raise OSError(rf\"Cannot save file into a non-existent directory: '{parent}'\")\n",
      "OSError: Cannot save file into a non-existent directory: '../../../data/GLAMOS/topo/gridded_topo_inputs/RGI_grid/taelliboden'\n"
     ]
    },
    {
     "name": "stdout",
     "output_type": "stream",
     "text": [
      "Saving gridded dataset to: ../../../data/GLAMOS/topo/gridded_topo_inputs/RGI_grid/taelliboden/taelliboden_grid_1957.parquet\n",
      "⚠️ Error processing glacier 'taelliboden' for year 1957: Cannot save file into a non-existent directory: '../../../data/GLAMOS/topo/gridded_topo_inputs/RGI_grid/taelliboden'\n",
      "Converting to monthly time resolution for 1958...\n"
     ]
    },
    {
     "name": "stderr",
     "output_type": "stream",
     "text": [
      "Traceback (most recent call last):\n",
      "  File \"/tmp/ipykernel_72266/2765871222.py\", line 76, in <module>\n",
      "    dataset_grid_yearly.data.to_parquet(save_path, engine=\"pyarrow\", compression=\"snappy\")\n",
      "  File \"/home/vmarijn/mambaforge/envs/MassBalanceMachine/lib/python3.11/site-packages/pandas/util/_decorators.py\", line 333, in wrapper\n",
      "    return func(*args, **kwargs)\n",
      "           ^^^^^^^^^^^^^^^^^^^^^\n",
      "  File \"/home/vmarijn/mambaforge/envs/MassBalanceMachine/lib/python3.11/site-packages/pandas/core/frame.py\", line 3113, in to_parquet\n",
      "    return to_parquet(\n",
      "           ^^^^^^^^^^^\n",
      "  File \"/home/vmarijn/mambaforge/envs/MassBalanceMachine/lib/python3.11/site-packages/pandas/io/parquet.py\", line 480, in to_parquet\n",
      "    impl.write(\n",
      "  File \"/home/vmarijn/mambaforge/envs/MassBalanceMachine/lib/python3.11/site-packages/pandas/io/parquet.py\", line 198, in write\n",
      "    path_or_handle, handles, filesystem = _get_path_or_handle(\n",
      "                                          ^^^^^^^^^^^^^^^^^^^^\n",
      "  File \"/home/vmarijn/mambaforge/envs/MassBalanceMachine/lib/python3.11/site-packages/pandas/io/parquet.py\", line 140, in _get_path_or_handle\n",
      "    handles = get_handle(\n",
      "              ^^^^^^^^^^^\n",
      "  File \"/home/vmarijn/mambaforge/envs/MassBalanceMachine/lib/python3.11/site-packages/pandas/io/common.py\", line 749, in get_handle\n",
      "    check_parent_directory(str(handle))\n",
      "  File \"/home/vmarijn/mambaforge/envs/MassBalanceMachine/lib/python3.11/site-packages/pandas/io/common.py\", line 616, in check_parent_directory\n",
      "    raise OSError(rf\"Cannot save file into a non-existent directory: '{parent}'\")\n",
      "OSError: Cannot save file into a non-existent directory: '../../../data/GLAMOS/topo/gridded_topo_inputs/RGI_grid/taelliboden'\n"
     ]
    },
    {
     "name": "stdout",
     "output_type": "stream",
     "text": [
      "Saving gridded dataset to: ../../../data/GLAMOS/topo/gridded_topo_inputs/RGI_grid/taelliboden/taelliboden_grid_1958.parquet\n",
      "⚠️ Error processing glacier 'taelliboden' for year 1958: Cannot save file into a non-existent directory: '../../../data/GLAMOS/topo/gridded_topo_inputs/RGI_grid/taelliboden'\n",
      "Converting to monthly time resolution for 1959...\n"
     ]
    },
    {
     "name": "stderr",
     "output_type": "stream",
     "text": [
      "Traceback (most recent call last):\n",
      "  File \"/tmp/ipykernel_72266/2765871222.py\", line 76, in <module>\n",
      "    dataset_grid_yearly.data.to_parquet(save_path, engine=\"pyarrow\", compression=\"snappy\")\n",
      "  File \"/home/vmarijn/mambaforge/envs/MassBalanceMachine/lib/python3.11/site-packages/pandas/util/_decorators.py\", line 333, in wrapper\n",
      "    return func(*args, **kwargs)\n",
      "           ^^^^^^^^^^^^^^^^^^^^^\n",
      "  File \"/home/vmarijn/mambaforge/envs/MassBalanceMachine/lib/python3.11/site-packages/pandas/core/frame.py\", line 3113, in to_parquet\n",
      "    return to_parquet(\n",
      "           ^^^^^^^^^^^\n",
      "  File \"/home/vmarijn/mambaforge/envs/MassBalanceMachine/lib/python3.11/site-packages/pandas/io/parquet.py\", line 480, in to_parquet\n",
      "    impl.write(\n",
      "  File \"/home/vmarijn/mambaforge/envs/MassBalanceMachine/lib/python3.11/site-packages/pandas/io/parquet.py\", line 198, in write\n",
      "    path_or_handle, handles, filesystem = _get_path_or_handle(\n",
      "                                          ^^^^^^^^^^^^^^^^^^^^\n",
      "  File \"/home/vmarijn/mambaforge/envs/MassBalanceMachine/lib/python3.11/site-packages/pandas/io/parquet.py\", line 140, in _get_path_or_handle\n",
      "    handles = get_handle(\n",
      "              ^^^^^^^^^^^\n",
      "  File \"/home/vmarijn/mambaforge/envs/MassBalanceMachine/lib/python3.11/site-packages/pandas/io/common.py\", line 749, in get_handle\n",
      "    check_parent_directory(str(handle))\n",
      "  File \"/home/vmarijn/mambaforge/envs/MassBalanceMachine/lib/python3.11/site-packages/pandas/io/common.py\", line 616, in check_parent_directory\n",
      "    raise OSError(rf\"Cannot save file into a non-existent directory: '{parent}'\")\n",
      "OSError: Cannot save file into a non-existent directory: '../../../data/GLAMOS/topo/gridded_topo_inputs/RGI_grid/taelliboden'\n"
     ]
    },
    {
     "name": "stdout",
     "output_type": "stream",
     "text": [
      "Saving gridded dataset to: ../../../data/GLAMOS/topo/gridded_topo_inputs/RGI_grid/taelliboden/taelliboden_grid_1959.parquet\n",
      "⚠️ Error processing glacier 'taelliboden' for year 1959: Cannot save file into a non-existent directory: '../../../data/GLAMOS/topo/gridded_topo_inputs/RGI_grid/taelliboden'\n",
      "Converting to monthly time resolution for 1960...\n"
     ]
    },
    {
     "name": "stderr",
     "output_type": "stream",
     "text": [
      "Traceback (most recent call last):\n",
      "  File \"/tmp/ipykernel_72266/2765871222.py\", line 76, in <module>\n",
      "    dataset_grid_yearly.data.to_parquet(save_path, engine=\"pyarrow\", compression=\"snappy\")\n",
      "  File \"/home/vmarijn/mambaforge/envs/MassBalanceMachine/lib/python3.11/site-packages/pandas/util/_decorators.py\", line 333, in wrapper\n",
      "    return func(*args, **kwargs)\n",
      "           ^^^^^^^^^^^^^^^^^^^^^\n",
      "  File \"/home/vmarijn/mambaforge/envs/MassBalanceMachine/lib/python3.11/site-packages/pandas/core/frame.py\", line 3113, in to_parquet\n",
      "    return to_parquet(\n",
      "           ^^^^^^^^^^^\n",
      "  File \"/home/vmarijn/mambaforge/envs/MassBalanceMachine/lib/python3.11/site-packages/pandas/io/parquet.py\", line 480, in to_parquet\n",
      "    impl.write(\n",
      "  File \"/home/vmarijn/mambaforge/envs/MassBalanceMachine/lib/python3.11/site-packages/pandas/io/parquet.py\", line 198, in write\n",
      "    path_or_handle, handles, filesystem = _get_path_or_handle(\n",
      "                                          ^^^^^^^^^^^^^^^^^^^^\n",
      "  File \"/home/vmarijn/mambaforge/envs/MassBalanceMachine/lib/python3.11/site-packages/pandas/io/parquet.py\", line 140, in _get_path_or_handle\n",
      "    handles = get_handle(\n",
      "              ^^^^^^^^^^^\n",
      "  File \"/home/vmarijn/mambaforge/envs/MassBalanceMachine/lib/python3.11/site-packages/pandas/io/common.py\", line 749, in get_handle\n",
      "    check_parent_directory(str(handle))\n",
      "  File \"/home/vmarijn/mambaforge/envs/MassBalanceMachine/lib/python3.11/site-packages/pandas/io/common.py\", line 616, in check_parent_directory\n",
      "    raise OSError(rf\"Cannot save file into a non-existent directory: '{parent}'\")\n",
      "OSError: Cannot save file into a non-existent directory: '../../../data/GLAMOS/topo/gridded_topo_inputs/RGI_grid/taelliboden'\n"
     ]
    },
    {
     "name": "stdout",
     "output_type": "stream",
     "text": [
      "Saving gridded dataset to: ../../../data/GLAMOS/topo/gridded_topo_inputs/RGI_grid/taelliboden/taelliboden_grid_1960.parquet\n",
      "⚠️ Error processing glacier 'taelliboden' for year 1960: Cannot save file into a non-existent directory: '../../../data/GLAMOS/topo/gridded_topo_inputs/RGI_grid/taelliboden'\n",
      "Converting to monthly time resolution for 1961...\n"
     ]
    },
    {
     "name": "stderr",
     "output_type": "stream",
     "text": [
      "Traceback (most recent call last):\n",
      "  File \"/tmp/ipykernel_72266/2765871222.py\", line 76, in <module>\n",
      "    dataset_grid_yearly.data.to_parquet(save_path, engine=\"pyarrow\", compression=\"snappy\")\n",
      "  File \"/home/vmarijn/mambaforge/envs/MassBalanceMachine/lib/python3.11/site-packages/pandas/util/_decorators.py\", line 333, in wrapper\n",
      "    return func(*args, **kwargs)\n",
      "           ^^^^^^^^^^^^^^^^^^^^^\n",
      "  File \"/home/vmarijn/mambaforge/envs/MassBalanceMachine/lib/python3.11/site-packages/pandas/core/frame.py\", line 3113, in to_parquet\n",
      "    return to_parquet(\n",
      "           ^^^^^^^^^^^\n",
      "  File \"/home/vmarijn/mambaforge/envs/MassBalanceMachine/lib/python3.11/site-packages/pandas/io/parquet.py\", line 480, in to_parquet\n",
      "    impl.write(\n",
      "  File \"/home/vmarijn/mambaforge/envs/MassBalanceMachine/lib/python3.11/site-packages/pandas/io/parquet.py\", line 198, in write\n",
      "    path_or_handle, handles, filesystem = _get_path_or_handle(\n",
      "                                          ^^^^^^^^^^^^^^^^^^^^\n",
      "  File \"/home/vmarijn/mambaforge/envs/MassBalanceMachine/lib/python3.11/site-packages/pandas/io/parquet.py\", line 140, in _get_path_or_handle\n",
      "    handles = get_handle(\n",
      "              ^^^^^^^^^^^\n",
      "  File \"/home/vmarijn/mambaforge/envs/MassBalanceMachine/lib/python3.11/site-packages/pandas/io/common.py\", line 749, in get_handle\n",
      "    check_parent_directory(str(handle))\n",
      "  File \"/home/vmarijn/mambaforge/envs/MassBalanceMachine/lib/python3.11/site-packages/pandas/io/common.py\", line 616, in check_parent_directory\n",
      "    raise OSError(rf\"Cannot save file into a non-existent directory: '{parent}'\")\n",
      "OSError: Cannot save file into a non-existent directory: '../../../data/GLAMOS/topo/gridded_topo_inputs/RGI_grid/taelliboden'\n"
     ]
    },
    {
     "name": "stdout",
     "output_type": "stream",
     "text": [
      "Saving gridded dataset to: ../../../data/GLAMOS/topo/gridded_topo_inputs/RGI_grid/taelliboden/taelliboden_grid_1961.parquet\n",
      "⚠️ Error processing glacier 'taelliboden' for year 1961: Cannot save file into a non-existent directory: '../../../data/GLAMOS/topo/gridded_topo_inputs/RGI_grid/taelliboden'\n",
      "Converting to monthly time resolution for 1962...\n"
     ]
    },
    {
     "name": "stderr",
     "output_type": "stream",
     "text": [
      "Traceback (most recent call last):\n",
      "  File \"/tmp/ipykernel_72266/2765871222.py\", line 76, in <module>\n",
      "    dataset_grid_yearly.data.to_parquet(save_path, engine=\"pyarrow\", compression=\"snappy\")\n",
      "  File \"/home/vmarijn/mambaforge/envs/MassBalanceMachine/lib/python3.11/site-packages/pandas/util/_decorators.py\", line 333, in wrapper\n",
      "    return func(*args, **kwargs)\n",
      "           ^^^^^^^^^^^^^^^^^^^^^\n",
      "  File \"/home/vmarijn/mambaforge/envs/MassBalanceMachine/lib/python3.11/site-packages/pandas/core/frame.py\", line 3113, in to_parquet\n",
      "    return to_parquet(\n",
      "           ^^^^^^^^^^^\n",
      "  File \"/home/vmarijn/mambaforge/envs/MassBalanceMachine/lib/python3.11/site-packages/pandas/io/parquet.py\", line 480, in to_parquet\n",
      "    impl.write(\n",
      "  File \"/home/vmarijn/mambaforge/envs/MassBalanceMachine/lib/python3.11/site-packages/pandas/io/parquet.py\", line 198, in write\n",
      "    path_or_handle, handles, filesystem = _get_path_or_handle(\n",
      "                                          ^^^^^^^^^^^^^^^^^^^^\n",
      "  File \"/home/vmarijn/mambaforge/envs/MassBalanceMachine/lib/python3.11/site-packages/pandas/io/parquet.py\", line 140, in _get_path_or_handle\n",
      "    handles = get_handle(\n",
      "              ^^^^^^^^^^^\n",
      "  File \"/home/vmarijn/mambaforge/envs/MassBalanceMachine/lib/python3.11/site-packages/pandas/io/common.py\", line 749, in get_handle\n",
      "    check_parent_directory(str(handle))\n",
      "  File \"/home/vmarijn/mambaforge/envs/MassBalanceMachine/lib/python3.11/site-packages/pandas/io/common.py\", line 616, in check_parent_directory\n",
      "    raise OSError(rf\"Cannot save file into a non-existent directory: '{parent}'\")\n",
      "OSError: Cannot save file into a non-existent directory: '../../../data/GLAMOS/topo/gridded_topo_inputs/RGI_grid/taelliboden'\n"
     ]
    },
    {
     "name": "stdout",
     "output_type": "stream",
     "text": [
      "Saving gridded dataset to: ../../../data/GLAMOS/topo/gridded_topo_inputs/RGI_grid/taelliboden/taelliboden_grid_1962.parquet\n",
      "⚠️ Error processing glacier 'taelliboden' for year 1962: Cannot save file into a non-existent directory: '../../../data/GLAMOS/topo/gridded_topo_inputs/RGI_grid/taelliboden'\n",
      "Converting to monthly time resolution for 1963...\n"
     ]
    },
    {
     "name": "stderr",
     "output_type": "stream",
     "text": [
      "Traceback (most recent call last):\n",
      "  File \"/tmp/ipykernel_72266/2765871222.py\", line 76, in <module>\n",
      "    dataset_grid_yearly.data.to_parquet(save_path, engine=\"pyarrow\", compression=\"snappy\")\n",
      "  File \"/home/vmarijn/mambaforge/envs/MassBalanceMachine/lib/python3.11/site-packages/pandas/util/_decorators.py\", line 333, in wrapper\n",
      "    return func(*args, **kwargs)\n",
      "           ^^^^^^^^^^^^^^^^^^^^^\n",
      "  File \"/home/vmarijn/mambaforge/envs/MassBalanceMachine/lib/python3.11/site-packages/pandas/core/frame.py\", line 3113, in to_parquet\n",
      "    return to_parquet(\n",
      "           ^^^^^^^^^^^\n",
      "  File \"/home/vmarijn/mambaforge/envs/MassBalanceMachine/lib/python3.11/site-packages/pandas/io/parquet.py\", line 480, in to_parquet\n",
      "    impl.write(\n",
      "  File \"/home/vmarijn/mambaforge/envs/MassBalanceMachine/lib/python3.11/site-packages/pandas/io/parquet.py\", line 198, in write\n",
      "    path_or_handle, handles, filesystem = _get_path_or_handle(\n",
      "                                          ^^^^^^^^^^^^^^^^^^^^\n",
      "  File \"/home/vmarijn/mambaforge/envs/MassBalanceMachine/lib/python3.11/site-packages/pandas/io/parquet.py\", line 140, in _get_path_or_handle\n",
      "    handles = get_handle(\n",
      "              ^^^^^^^^^^^\n",
      "  File \"/home/vmarijn/mambaforge/envs/MassBalanceMachine/lib/python3.11/site-packages/pandas/io/common.py\", line 749, in get_handle\n",
      "    check_parent_directory(str(handle))\n",
      "  File \"/home/vmarijn/mambaforge/envs/MassBalanceMachine/lib/python3.11/site-packages/pandas/io/common.py\", line 616, in check_parent_directory\n",
      "    raise OSError(rf\"Cannot save file into a non-existent directory: '{parent}'\")\n",
      "OSError: Cannot save file into a non-existent directory: '../../../data/GLAMOS/topo/gridded_topo_inputs/RGI_grid/taelliboden'\n"
     ]
    },
    {
     "name": "stdout",
     "output_type": "stream",
     "text": [
      "Saving gridded dataset to: ../../../data/GLAMOS/topo/gridded_topo_inputs/RGI_grid/taelliboden/taelliboden_grid_1963.parquet\n",
      "⚠️ Error processing glacier 'taelliboden' for year 1963: Cannot save file into a non-existent directory: '../../../data/GLAMOS/topo/gridded_topo_inputs/RGI_grid/taelliboden'\n",
      "Converting to monthly time resolution for 1964...\n"
     ]
    },
    {
     "name": "stderr",
     "output_type": "stream",
     "text": [
      "Traceback (most recent call last):\n",
      "  File \"/tmp/ipykernel_72266/2765871222.py\", line 76, in <module>\n",
      "    dataset_grid_yearly.data.to_parquet(save_path, engine=\"pyarrow\", compression=\"snappy\")\n",
      "  File \"/home/vmarijn/mambaforge/envs/MassBalanceMachine/lib/python3.11/site-packages/pandas/util/_decorators.py\", line 333, in wrapper\n",
      "    return func(*args, **kwargs)\n",
      "           ^^^^^^^^^^^^^^^^^^^^^\n",
      "  File \"/home/vmarijn/mambaforge/envs/MassBalanceMachine/lib/python3.11/site-packages/pandas/core/frame.py\", line 3113, in to_parquet\n",
      "    return to_parquet(\n",
      "           ^^^^^^^^^^^\n",
      "  File \"/home/vmarijn/mambaforge/envs/MassBalanceMachine/lib/python3.11/site-packages/pandas/io/parquet.py\", line 480, in to_parquet\n",
      "    impl.write(\n",
      "  File \"/home/vmarijn/mambaforge/envs/MassBalanceMachine/lib/python3.11/site-packages/pandas/io/parquet.py\", line 198, in write\n",
      "    path_or_handle, handles, filesystem = _get_path_or_handle(\n",
      "                                          ^^^^^^^^^^^^^^^^^^^^\n",
      "  File \"/home/vmarijn/mambaforge/envs/MassBalanceMachine/lib/python3.11/site-packages/pandas/io/parquet.py\", line 140, in _get_path_or_handle\n",
      "    handles = get_handle(\n",
      "              ^^^^^^^^^^^\n",
      "  File \"/home/vmarijn/mambaforge/envs/MassBalanceMachine/lib/python3.11/site-packages/pandas/io/common.py\", line 749, in get_handle\n",
      "    check_parent_directory(str(handle))\n",
      "  File \"/home/vmarijn/mambaforge/envs/MassBalanceMachine/lib/python3.11/site-packages/pandas/io/common.py\", line 616, in check_parent_directory\n",
      "    raise OSError(rf\"Cannot save file into a non-existent directory: '{parent}'\")\n",
      "OSError: Cannot save file into a non-existent directory: '../../../data/GLAMOS/topo/gridded_topo_inputs/RGI_grid/taelliboden'\n"
     ]
    },
    {
     "name": "stdout",
     "output_type": "stream",
     "text": [
      "Saving gridded dataset to: ../../../data/GLAMOS/topo/gridded_topo_inputs/RGI_grid/taelliboden/taelliboden_grid_1964.parquet\n",
      "⚠️ Error processing glacier 'taelliboden' for year 1964: Cannot save file into a non-existent directory: '../../../data/GLAMOS/topo/gridded_topo_inputs/RGI_grid/taelliboden'\n",
      "Converting to monthly time resolution for 1965...\n"
     ]
    },
    {
     "name": "stderr",
     "output_type": "stream",
     "text": [
      "Traceback (most recent call last):\n",
      "  File \"/tmp/ipykernel_72266/2765871222.py\", line 76, in <module>\n",
      "    dataset_grid_yearly.data.to_parquet(save_path, engine=\"pyarrow\", compression=\"snappy\")\n",
      "  File \"/home/vmarijn/mambaforge/envs/MassBalanceMachine/lib/python3.11/site-packages/pandas/util/_decorators.py\", line 333, in wrapper\n",
      "    return func(*args, **kwargs)\n",
      "           ^^^^^^^^^^^^^^^^^^^^^\n",
      "  File \"/home/vmarijn/mambaforge/envs/MassBalanceMachine/lib/python3.11/site-packages/pandas/core/frame.py\", line 3113, in to_parquet\n",
      "    return to_parquet(\n",
      "           ^^^^^^^^^^^\n",
      "  File \"/home/vmarijn/mambaforge/envs/MassBalanceMachine/lib/python3.11/site-packages/pandas/io/parquet.py\", line 480, in to_parquet\n",
      "    impl.write(\n",
      "  File \"/home/vmarijn/mambaforge/envs/MassBalanceMachine/lib/python3.11/site-packages/pandas/io/parquet.py\", line 198, in write\n",
      "    path_or_handle, handles, filesystem = _get_path_or_handle(\n",
      "                                          ^^^^^^^^^^^^^^^^^^^^\n",
      "  File \"/home/vmarijn/mambaforge/envs/MassBalanceMachine/lib/python3.11/site-packages/pandas/io/parquet.py\", line 140, in _get_path_or_handle\n",
      "    handles = get_handle(\n",
      "              ^^^^^^^^^^^\n",
      "  File \"/home/vmarijn/mambaforge/envs/MassBalanceMachine/lib/python3.11/site-packages/pandas/io/common.py\", line 749, in get_handle\n",
      "    check_parent_directory(str(handle))\n",
      "  File \"/home/vmarijn/mambaforge/envs/MassBalanceMachine/lib/python3.11/site-packages/pandas/io/common.py\", line 616, in check_parent_directory\n",
      "    raise OSError(rf\"Cannot save file into a non-existent directory: '{parent}'\")\n",
      "OSError: Cannot save file into a non-existent directory: '../../../data/GLAMOS/topo/gridded_topo_inputs/RGI_grid/taelliboden'\n"
     ]
    },
    {
     "name": "stdout",
     "output_type": "stream",
     "text": [
      "Saving gridded dataset to: ../../../data/GLAMOS/topo/gridded_topo_inputs/RGI_grid/taelliboden/taelliboden_grid_1965.parquet\n",
      "⚠️ Error processing glacier 'taelliboden' for year 1965: Cannot save file into a non-existent directory: '../../../data/GLAMOS/topo/gridded_topo_inputs/RGI_grid/taelliboden'\n",
      "Converting to monthly time resolution for 1966...\n"
     ]
    },
    {
     "name": "stderr",
     "output_type": "stream",
     "text": [
      "Traceback (most recent call last):\n",
      "  File \"/tmp/ipykernel_72266/2765871222.py\", line 76, in <module>\n",
      "    dataset_grid_yearly.data.to_parquet(save_path, engine=\"pyarrow\", compression=\"snappy\")\n",
      "  File \"/home/vmarijn/mambaforge/envs/MassBalanceMachine/lib/python3.11/site-packages/pandas/util/_decorators.py\", line 333, in wrapper\n",
      "    return func(*args, **kwargs)\n",
      "           ^^^^^^^^^^^^^^^^^^^^^\n",
      "  File \"/home/vmarijn/mambaforge/envs/MassBalanceMachine/lib/python3.11/site-packages/pandas/core/frame.py\", line 3113, in to_parquet\n",
      "    return to_parquet(\n",
      "           ^^^^^^^^^^^\n",
      "  File \"/home/vmarijn/mambaforge/envs/MassBalanceMachine/lib/python3.11/site-packages/pandas/io/parquet.py\", line 480, in to_parquet\n",
      "    impl.write(\n",
      "  File \"/home/vmarijn/mambaforge/envs/MassBalanceMachine/lib/python3.11/site-packages/pandas/io/parquet.py\", line 198, in write\n",
      "    path_or_handle, handles, filesystem = _get_path_or_handle(\n",
      "                                          ^^^^^^^^^^^^^^^^^^^^\n",
      "  File \"/home/vmarijn/mambaforge/envs/MassBalanceMachine/lib/python3.11/site-packages/pandas/io/parquet.py\", line 140, in _get_path_or_handle\n",
      "    handles = get_handle(\n",
      "              ^^^^^^^^^^^\n",
      "  File \"/home/vmarijn/mambaforge/envs/MassBalanceMachine/lib/python3.11/site-packages/pandas/io/common.py\", line 749, in get_handle\n",
      "    check_parent_directory(str(handle))\n",
      "  File \"/home/vmarijn/mambaforge/envs/MassBalanceMachine/lib/python3.11/site-packages/pandas/io/common.py\", line 616, in check_parent_directory\n",
      "    raise OSError(rf\"Cannot save file into a non-existent directory: '{parent}'\")\n",
      "OSError: Cannot save file into a non-existent directory: '../../../data/GLAMOS/topo/gridded_topo_inputs/RGI_grid/taelliboden'\n"
     ]
    },
    {
     "name": "stdout",
     "output_type": "stream",
     "text": [
      "Saving gridded dataset to: ../../../data/GLAMOS/topo/gridded_topo_inputs/RGI_grid/taelliboden/taelliboden_grid_1966.parquet\n",
      "⚠️ Error processing glacier 'taelliboden' for year 1966: Cannot save file into a non-existent directory: '../../../data/GLAMOS/topo/gridded_topo_inputs/RGI_grid/taelliboden'\n",
      "Converting to monthly time resolution for 1967...\n"
     ]
    },
    {
     "name": "stderr",
     "output_type": "stream",
     "text": [
      "Traceback (most recent call last):\n",
      "  File \"/tmp/ipykernel_72266/2765871222.py\", line 76, in <module>\n",
      "    dataset_grid_yearly.data.to_parquet(save_path, engine=\"pyarrow\", compression=\"snappy\")\n",
      "  File \"/home/vmarijn/mambaforge/envs/MassBalanceMachine/lib/python3.11/site-packages/pandas/util/_decorators.py\", line 333, in wrapper\n",
      "    return func(*args, **kwargs)\n",
      "           ^^^^^^^^^^^^^^^^^^^^^\n",
      "  File \"/home/vmarijn/mambaforge/envs/MassBalanceMachine/lib/python3.11/site-packages/pandas/core/frame.py\", line 3113, in to_parquet\n",
      "    return to_parquet(\n",
      "           ^^^^^^^^^^^\n",
      "  File \"/home/vmarijn/mambaforge/envs/MassBalanceMachine/lib/python3.11/site-packages/pandas/io/parquet.py\", line 480, in to_parquet\n",
      "    impl.write(\n",
      "  File \"/home/vmarijn/mambaforge/envs/MassBalanceMachine/lib/python3.11/site-packages/pandas/io/parquet.py\", line 198, in write\n",
      "    path_or_handle, handles, filesystem = _get_path_or_handle(\n",
      "                                          ^^^^^^^^^^^^^^^^^^^^\n",
      "  File \"/home/vmarijn/mambaforge/envs/MassBalanceMachine/lib/python3.11/site-packages/pandas/io/parquet.py\", line 140, in _get_path_or_handle\n",
      "    handles = get_handle(\n",
      "              ^^^^^^^^^^^\n",
      "  File \"/home/vmarijn/mambaforge/envs/MassBalanceMachine/lib/python3.11/site-packages/pandas/io/common.py\", line 749, in get_handle\n",
      "    check_parent_directory(str(handle))\n",
      "  File \"/home/vmarijn/mambaforge/envs/MassBalanceMachine/lib/python3.11/site-packages/pandas/io/common.py\", line 616, in check_parent_directory\n",
      "    raise OSError(rf\"Cannot save file into a non-existent directory: '{parent}'\")\n",
      "OSError: Cannot save file into a non-existent directory: '../../../data/GLAMOS/topo/gridded_topo_inputs/RGI_grid/taelliboden'\n"
     ]
    },
    {
     "name": "stdout",
     "output_type": "stream",
     "text": [
      "Saving gridded dataset to: ../../../data/GLAMOS/topo/gridded_topo_inputs/RGI_grid/taelliboden/taelliboden_grid_1967.parquet\n",
      "⚠️ Error processing glacier 'taelliboden' for year 1967: Cannot save file into a non-existent directory: '../../../data/GLAMOS/topo/gridded_topo_inputs/RGI_grid/taelliboden'\n",
      "Converting to monthly time resolution for 1968...\n"
     ]
    },
    {
     "name": "stderr",
     "output_type": "stream",
     "text": [
      "Traceback (most recent call last):\n",
      "  File \"/tmp/ipykernel_72266/2765871222.py\", line 76, in <module>\n",
      "    dataset_grid_yearly.data.to_parquet(save_path, engine=\"pyarrow\", compression=\"snappy\")\n",
      "  File \"/home/vmarijn/mambaforge/envs/MassBalanceMachine/lib/python3.11/site-packages/pandas/util/_decorators.py\", line 333, in wrapper\n",
      "    return func(*args, **kwargs)\n",
      "           ^^^^^^^^^^^^^^^^^^^^^\n",
      "  File \"/home/vmarijn/mambaforge/envs/MassBalanceMachine/lib/python3.11/site-packages/pandas/core/frame.py\", line 3113, in to_parquet\n",
      "    return to_parquet(\n",
      "           ^^^^^^^^^^^\n",
      "  File \"/home/vmarijn/mambaforge/envs/MassBalanceMachine/lib/python3.11/site-packages/pandas/io/parquet.py\", line 480, in to_parquet\n",
      "    impl.write(\n",
      "  File \"/home/vmarijn/mambaforge/envs/MassBalanceMachine/lib/python3.11/site-packages/pandas/io/parquet.py\", line 198, in write\n",
      "    path_or_handle, handles, filesystem = _get_path_or_handle(\n",
      "                                          ^^^^^^^^^^^^^^^^^^^^\n",
      "  File \"/home/vmarijn/mambaforge/envs/MassBalanceMachine/lib/python3.11/site-packages/pandas/io/parquet.py\", line 140, in _get_path_or_handle\n",
      "    handles = get_handle(\n",
      "              ^^^^^^^^^^^\n",
      "  File \"/home/vmarijn/mambaforge/envs/MassBalanceMachine/lib/python3.11/site-packages/pandas/io/common.py\", line 749, in get_handle\n",
      "    check_parent_directory(str(handle))\n",
      "  File \"/home/vmarijn/mambaforge/envs/MassBalanceMachine/lib/python3.11/site-packages/pandas/io/common.py\", line 616, in check_parent_directory\n",
      "    raise OSError(rf\"Cannot save file into a non-existent directory: '{parent}'\")\n",
      "OSError: Cannot save file into a non-existent directory: '../../../data/GLAMOS/topo/gridded_topo_inputs/RGI_grid/taelliboden'\n"
     ]
    },
    {
     "name": "stdout",
     "output_type": "stream",
     "text": [
      "Saving gridded dataset to: ../../../data/GLAMOS/topo/gridded_topo_inputs/RGI_grid/taelliboden/taelliboden_grid_1968.parquet\n",
      "⚠️ Error processing glacier 'taelliboden' for year 1968: Cannot save file into a non-existent directory: '../../../data/GLAMOS/topo/gridded_topo_inputs/RGI_grid/taelliboden'\n",
      "Converting to monthly time resolution for 1969...\n"
     ]
    },
    {
     "name": "stderr",
     "output_type": "stream",
     "text": [
      "Traceback (most recent call last):\n",
      "  File \"/tmp/ipykernel_72266/2765871222.py\", line 76, in <module>\n",
      "    dataset_grid_yearly.data.to_parquet(save_path, engine=\"pyarrow\", compression=\"snappy\")\n",
      "  File \"/home/vmarijn/mambaforge/envs/MassBalanceMachine/lib/python3.11/site-packages/pandas/util/_decorators.py\", line 333, in wrapper\n",
      "    return func(*args, **kwargs)\n",
      "           ^^^^^^^^^^^^^^^^^^^^^\n",
      "  File \"/home/vmarijn/mambaforge/envs/MassBalanceMachine/lib/python3.11/site-packages/pandas/core/frame.py\", line 3113, in to_parquet\n",
      "    return to_parquet(\n",
      "           ^^^^^^^^^^^\n",
      "  File \"/home/vmarijn/mambaforge/envs/MassBalanceMachine/lib/python3.11/site-packages/pandas/io/parquet.py\", line 480, in to_parquet\n",
      "    impl.write(\n",
      "  File \"/home/vmarijn/mambaforge/envs/MassBalanceMachine/lib/python3.11/site-packages/pandas/io/parquet.py\", line 198, in write\n",
      "    path_or_handle, handles, filesystem = _get_path_or_handle(\n",
      "                                          ^^^^^^^^^^^^^^^^^^^^\n",
      "  File \"/home/vmarijn/mambaforge/envs/MassBalanceMachine/lib/python3.11/site-packages/pandas/io/parquet.py\", line 140, in _get_path_or_handle\n",
      "    handles = get_handle(\n",
      "              ^^^^^^^^^^^\n",
      "  File \"/home/vmarijn/mambaforge/envs/MassBalanceMachine/lib/python3.11/site-packages/pandas/io/common.py\", line 749, in get_handle\n",
      "    check_parent_directory(str(handle))\n",
      "  File \"/home/vmarijn/mambaforge/envs/MassBalanceMachine/lib/python3.11/site-packages/pandas/io/common.py\", line 616, in check_parent_directory\n",
      "    raise OSError(rf\"Cannot save file into a non-existent directory: '{parent}'\")\n",
      "OSError: Cannot save file into a non-existent directory: '../../../data/GLAMOS/topo/gridded_topo_inputs/RGI_grid/taelliboden'\n"
     ]
    },
    {
     "name": "stdout",
     "output_type": "stream",
     "text": [
      "Saving gridded dataset to: ../../../data/GLAMOS/topo/gridded_topo_inputs/RGI_grid/taelliboden/taelliboden_grid_1969.parquet\n",
      "⚠️ Error processing glacier 'taelliboden' for year 1969: Cannot save file into a non-existent directory: '../../../data/GLAMOS/topo/gridded_topo_inputs/RGI_grid/taelliboden'\n",
      "Converting to monthly time resolution for 1970...\n"
     ]
    },
    {
     "name": "stderr",
     "output_type": "stream",
     "text": [
      "Traceback (most recent call last):\n",
      "  File \"/tmp/ipykernel_72266/2765871222.py\", line 76, in <module>\n",
      "    dataset_grid_yearly.data.to_parquet(save_path, engine=\"pyarrow\", compression=\"snappy\")\n",
      "  File \"/home/vmarijn/mambaforge/envs/MassBalanceMachine/lib/python3.11/site-packages/pandas/util/_decorators.py\", line 333, in wrapper\n",
      "    return func(*args, **kwargs)\n",
      "           ^^^^^^^^^^^^^^^^^^^^^\n",
      "  File \"/home/vmarijn/mambaforge/envs/MassBalanceMachine/lib/python3.11/site-packages/pandas/core/frame.py\", line 3113, in to_parquet\n",
      "    return to_parquet(\n",
      "           ^^^^^^^^^^^\n",
      "  File \"/home/vmarijn/mambaforge/envs/MassBalanceMachine/lib/python3.11/site-packages/pandas/io/parquet.py\", line 480, in to_parquet\n",
      "    impl.write(\n",
      "  File \"/home/vmarijn/mambaforge/envs/MassBalanceMachine/lib/python3.11/site-packages/pandas/io/parquet.py\", line 198, in write\n",
      "    path_or_handle, handles, filesystem = _get_path_or_handle(\n",
      "                                          ^^^^^^^^^^^^^^^^^^^^\n",
      "  File \"/home/vmarijn/mambaforge/envs/MassBalanceMachine/lib/python3.11/site-packages/pandas/io/parquet.py\", line 140, in _get_path_or_handle\n",
      "    handles = get_handle(\n",
      "              ^^^^^^^^^^^\n",
      "  File \"/home/vmarijn/mambaforge/envs/MassBalanceMachine/lib/python3.11/site-packages/pandas/io/common.py\", line 749, in get_handle\n",
      "    check_parent_directory(str(handle))\n",
      "  File \"/home/vmarijn/mambaforge/envs/MassBalanceMachine/lib/python3.11/site-packages/pandas/io/common.py\", line 616, in check_parent_directory\n",
      "    raise OSError(rf\"Cannot save file into a non-existent directory: '{parent}'\")\n",
      "OSError: Cannot save file into a non-existent directory: '../../../data/GLAMOS/topo/gridded_topo_inputs/RGI_grid/taelliboden'\n"
     ]
    },
    {
     "name": "stdout",
     "output_type": "stream",
     "text": [
      "Saving gridded dataset to: ../../../data/GLAMOS/topo/gridded_topo_inputs/RGI_grid/taelliboden/taelliboden_grid_1970.parquet\n",
      "⚠️ Error processing glacier 'taelliboden' for year 1970: Cannot save file into a non-existent directory: '../../../data/GLAMOS/topo/gridded_topo_inputs/RGI_grid/taelliboden'\n",
      "Converting to monthly time resolution for 1971...\n"
     ]
    },
    {
     "name": "stderr",
     "output_type": "stream",
     "text": [
      "Traceback (most recent call last):\n",
      "  File \"/tmp/ipykernel_72266/2765871222.py\", line 76, in <module>\n",
      "    dataset_grid_yearly.data.to_parquet(save_path, engine=\"pyarrow\", compression=\"snappy\")\n",
      "  File \"/home/vmarijn/mambaforge/envs/MassBalanceMachine/lib/python3.11/site-packages/pandas/util/_decorators.py\", line 333, in wrapper\n",
      "    return func(*args, **kwargs)\n",
      "           ^^^^^^^^^^^^^^^^^^^^^\n",
      "  File \"/home/vmarijn/mambaforge/envs/MassBalanceMachine/lib/python3.11/site-packages/pandas/core/frame.py\", line 3113, in to_parquet\n",
      "    return to_parquet(\n",
      "           ^^^^^^^^^^^\n",
      "  File \"/home/vmarijn/mambaforge/envs/MassBalanceMachine/lib/python3.11/site-packages/pandas/io/parquet.py\", line 480, in to_parquet\n",
      "    impl.write(\n",
      "  File \"/home/vmarijn/mambaforge/envs/MassBalanceMachine/lib/python3.11/site-packages/pandas/io/parquet.py\", line 198, in write\n",
      "    path_or_handle, handles, filesystem = _get_path_or_handle(\n",
      "                                          ^^^^^^^^^^^^^^^^^^^^\n",
      "  File \"/home/vmarijn/mambaforge/envs/MassBalanceMachine/lib/python3.11/site-packages/pandas/io/parquet.py\", line 140, in _get_path_or_handle\n",
      "    handles = get_handle(\n",
      "              ^^^^^^^^^^^\n",
      "  File \"/home/vmarijn/mambaforge/envs/MassBalanceMachine/lib/python3.11/site-packages/pandas/io/common.py\", line 749, in get_handle\n",
      "    check_parent_directory(str(handle))\n",
      "  File \"/home/vmarijn/mambaforge/envs/MassBalanceMachine/lib/python3.11/site-packages/pandas/io/common.py\", line 616, in check_parent_directory\n",
      "    raise OSError(rf\"Cannot save file into a non-existent directory: '{parent}'\")\n",
      "OSError: Cannot save file into a non-existent directory: '../../../data/GLAMOS/topo/gridded_topo_inputs/RGI_grid/taelliboden'\n"
     ]
    },
    {
     "name": "stdout",
     "output_type": "stream",
     "text": [
      "Saving gridded dataset to: ../../../data/GLAMOS/topo/gridded_topo_inputs/RGI_grid/taelliboden/taelliboden_grid_1971.parquet\n",
      "⚠️ Error processing glacier 'taelliboden' for year 1971: Cannot save file into a non-existent directory: '../../../data/GLAMOS/topo/gridded_topo_inputs/RGI_grid/taelliboden'\n",
      "Converting to monthly time resolution for 1972...\n"
     ]
    },
    {
     "name": "stderr",
     "output_type": "stream",
     "text": [
      "Traceback (most recent call last):\n",
      "  File \"/tmp/ipykernel_72266/2765871222.py\", line 76, in <module>\n",
      "    dataset_grid_yearly.data.to_parquet(save_path, engine=\"pyarrow\", compression=\"snappy\")\n",
      "  File \"/home/vmarijn/mambaforge/envs/MassBalanceMachine/lib/python3.11/site-packages/pandas/util/_decorators.py\", line 333, in wrapper\n",
      "    return func(*args, **kwargs)\n",
      "           ^^^^^^^^^^^^^^^^^^^^^\n",
      "  File \"/home/vmarijn/mambaforge/envs/MassBalanceMachine/lib/python3.11/site-packages/pandas/core/frame.py\", line 3113, in to_parquet\n",
      "    return to_parquet(\n",
      "           ^^^^^^^^^^^\n",
      "  File \"/home/vmarijn/mambaforge/envs/MassBalanceMachine/lib/python3.11/site-packages/pandas/io/parquet.py\", line 480, in to_parquet\n",
      "    impl.write(\n",
      "  File \"/home/vmarijn/mambaforge/envs/MassBalanceMachine/lib/python3.11/site-packages/pandas/io/parquet.py\", line 198, in write\n",
      "    path_or_handle, handles, filesystem = _get_path_or_handle(\n",
      "                                          ^^^^^^^^^^^^^^^^^^^^\n",
      "  File \"/home/vmarijn/mambaforge/envs/MassBalanceMachine/lib/python3.11/site-packages/pandas/io/parquet.py\", line 140, in _get_path_or_handle\n",
      "    handles = get_handle(\n",
      "              ^^^^^^^^^^^\n",
      "  File \"/home/vmarijn/mambaforge/envs/MassBalanceMachine/lib/python3.11/site-packages/pandas/io/common.py\", line 749, in get_handle\n",
      "    check_parent_directory(str(handle))\n",
      "  File \"/home/vmarijn/mambaforge/envs/MassBalanceMachine/lib/python3.11/site-packages/pandas/io/common.py\", line 616, in check_parent_directory\n",
      "    raise OSError(rf\"Cannot save file into a non-existent directory: '{parent}'\")\n",
      "OSError: Cannot save file into a non-existent directory: '../../../data/GLAMOS/topo/gridded_topo_inputs/RGI_grid/taelliboden'\n"
     ]
    },
    {
     "name": "stdout",
     "output_type": "stream",
     "text": [
      "Saving gridded dataset to: ../../../data/GLAMOS/topo/gridded_topo_inputs/RGI_grid/taelliboden/taelliboden_grid_1972.parquet\n",
      "⚠️ Error processing glacier 'taelliboden' for year 1972: Cannot save file into a non-existent directory: '../../../data/GLAMOS/topo/gridded_topo_inputs/RGI_grid/taelliboden'\n",
      "Converting to monthly time resolution for 1973...\n"
     ]
    },
    {
     "name": "stderr",
     "output_type": "stream",
     "text": [
      "Traceback (most recent call last):\n",
      "  File \"/tmp/ipykernel_72266/2765871222.py\", line 76, in <module>\n",
      "    dataset_grid_yearly.data.to_parquet(save_path, engine=\"pyarrow\", compression=\"snappy\")\n",
      "  File \"/home/vmarijn/mambaforge/envs/MassBalanceMachine/lib/python3.11/site-packages/pandas/util/_decorators.py\", line 333, in wrapper\n",
      "    return func(*args, **kwargs)\n",
      "           ^^^^^^^^^^^^^^^^^^^^^\n",
      "  File \"/home/vmarijn/mambaforge/envs/MassBalanceMachine/lib/python3.11/site-packages/pandas/core/frame.py\", line 3113, in to_parquet\n",
      "    return to_parquet(\n",
      "           ^^^^^^^^^^^\n",
      "  File \"/home/vmarijn/mambaforge/envs/MassBalanceMachine/lib/python3.11/site-packages/pandas/io/parquet.py\", line 480, in to_parquet\n",
      "    impl.write(\n",
      "  File \"/home/vmarijn/mambaforge/envs/MassBalanceMachine/lib/python3.11/site-packages/pandas/io/parquet.py\", line 198, in write\n",
      "    path_or_handle, handles, filesystem = _get_path_or_handle(\n",
      "                                          ^^^^^^^^^^^^^^^^^^^^\n",
      "  File \"/home/vmarijn/mambaforge/envs/MassBalanceMachine/lib/python3.11/site-packages/pandas/io/parquet.py\", line 140, in _get_path_or_handle\n",
      "    handles = get_handle(\n",
      "              ^^^^^^^^^^^\n",
      "  File \"/home/vmarijn/mambaforge/envs/MassBalanceMachine/lib/python3.11/site-packages/pandas/io/common.py\", line 749, in get_handle\n",
      "    check_parent_directory(str(handle))\n",
      "  File \"/home/vmarijn/mambaforge/envs/MassBalanceMachine/lib/python3.11/site-packages/pandas/io/common.py\", line 616, in check_parent_directory\n",
      "    raise OSError(rf\"Cannot save file into a non-existent directory: '{parent}'\")\n",
      "OSError: Cannot save file into a non-existent directory: '../../../data/GLAMOS/topo/gridded_topo_inputs/RGI_grid/taelliboden'\n"
     ]
    },
    {
     "name": "stdout",
     "output_type": "stream",
     "text": [
      "Saving gridded dataset to: ../../../data/GLAMOS/topo/gridded_topo_inputs/RGI_grid/taelliboden/taelliboden_grid_1973.parquet\n",
      "⚠️ Error processing glacier 'taelliboden' for year 1973: Cannot save file into a non-existent directory: '../../../data/GLAMOS/topo/gridded_topo_inputs/RGI_grid/taelliboden'\n",
      "Converting to monthly time resolution for 1974...\n"
     ]
    },
    {
     "name": "stderr",
     "output_type": "stream",
     "text": [
      "Traceback (most recent call last):\n",
      "  File \"/tmp/ipykernel_72266/2765871222.py\", line 76, in <module>\n",
      "    dataset_grid_yearly.data.to_parquet(save_path, engine=\"pyarrow\", compression=\"snappy\")\n",
      "  File \"/home/vmarijn/mambaforge/envs/MassBalanceMachine/lib/python3.11/site-packages/pandas/util/_decorators.py\", line 333, in wrapper\n",
      "    return func(*args, **kwargs)\n",
      "           ^^^^^^^^^^^^^^^^^^^^^\n",
      "  File \"/home/vmarijn/mambaforge/envs/MassBalanceMachine/lib/python3.11/site-packages/pandas/core/frame.py\", line 3113, in to_parquet\n",
      "    return to_parquet(\n",
      "           ^^^^^^^^^^^\n",
      "  File \"/home/vmarijn/mambaforge/envs/MassBalanceMachine/lib/python3.11/site-packages/pandas/io/parquet.py\", line 480, in to_parquet\n",
      "    impl.write(\n",
      "  File \"/home/vmarijn/mambaforge/envs/MassBalanceMachine/lib/python3.11/site-packages/pandas/io/parquet.py\", line 198, in write\n",
      "    path_or_handle, handles, filesystem = _get_path_or_handle(\n",
      "                                          ^^^^^^^^^^^^^^^^^^^^\n",
      "  File \"/home/vmarijn/mambaforge/envs/MassBalanceMachine/lib/python3.11/site-packages/pandas/io/parquet.py\", line 140, in _get_path_or_handle\n",
      "    handles = get_handle(\n",
      "              ^^^^^^^^^^^\n",
      "  File \"/home/vmarijn/mambaforge/envs/MassBalanceMachine/lib/python3.11/site-packages/pandas/io/common.py\", line 749, in get_handle\n",
      "    check_parent_directory(str(handle))\n",
      "  File \"/home/vmarijn/mambaforge/envs/MassBalanceMachine/lib/python3.11/site-packages/pandas/io/common.py\", line 616, in check_parent_directory\n",
      "    raise OSError(rf\"Cannot save file into a non-existent directory: '{parent}'\")\n",
      "OSError: Cannot save file into a non-existent directory: '../../../data/GLAMOS/topo/gridded_topo_inputs/RGI_grid/taelliboden'\n"
     ]
    },
    {
     "name": "stdout",
     "output_type": "stream",
     "text": [
      "Saving gridded dataset to: ../../../data/GLAMOS/topo/gridded_topo_inputs/RGI_grid/taelliboden/taelliboden_grid_1974.parquet\n",
      "⚠️ Error processing glacier 'taelliboden' for year 1974: Cannot save file into a non-existent directory: '../../../data/GLAMOS/topo/gridded_topo_inputs/RGI_grid/taelliboden'\n",
      "Converting to monthly time resolution for 1975...\n"
     ]
    },
    {
     "name": "stderr",
     "output_type": "stream",
     "text": [
      "Traceback (most recent call last):\n",
      "  File \"/tmp/ipykernel_72266/2765871222.py\", line 76, in <module>\n",
      "    dataset_grid_yearly.data.to_parquet(save_path, engine=\"pyarrow\", compression=\"snappy\")\n",
      "  File \"/home/vmarijn/mambaforge/envs/MassBalanceMachine/lib/python3.11/site-packages/pandas/util/_decorators.py\", line 333, in wrapper\n",
      "    return func(*args, **kwargs)\n",
      "           ^^^^^^^^^^^^^^^^^^^^^\n",
      "  File \"/home/vmarijn/mambaforge/envs/MassBalanceMachine/lib/python3.11/site-packages/pandas/core/frame.py\", line 3113, in to_parquet\n",
      "    return to_parquet(\n",
      "           ^^^^^^^^^^^\n",
      "  File \"/home/vmarijn/mambaforge/envs/MassBalanceMachine/lib/python3.11/site-packages/pandas/io/parquet.py\", line 480, in to_parquet\n",
      "    impl.write(\n",
      "  File \"/home/vmarijn/mambaforge/envs/MassBalanceMachine/lib/python3.11/site-packages/pandas/io/parquet.py\", line 198, in write\n",
      "    path_or_handle, handles, filesystem = _get_path_or_handle(\n",
      "                                          ^^^^^^^^^^^^^^^^^^^^\n",
      "  File \"/home/vmarijn/mambaforge/envs/MassBalanceMachine/lib/python3.11/site-packages/pandas/io/parquet.py\", line 140, in _get_path_or_handle\n",
      "    handles = get_handle(\n",
      "              ^^^^^^^^^^^\n",
      "  File \"/home/vmarijn/mambaforge/envs/MassBalanceMachine/lib/python3.11/site-packages/pandas/io/common.py\", line 749, in get_handle\n",
      "    check_parent_directory(str(handle))\n",
      "  File \"/home/vmarijn/mambaforge/envs/MassBalanceMachine/lib/python3.11/site-packages/pandas/io/common.py\", line 616, in check_parent_directory\n",
      "    raise OSError(rf\"Cannot save file into a non-existent directory: '{parent}'\")\n",
      "OSError: Cannot save file into a non-existent directory: '../../../data/GLAMOS/topo/gridded_topo_inputs/RGI_grid/taelliboden'\n"
     ]
    },
    {
     "name": "stdout",
     "output_type": "stream",
     "text": [
      "Saving gridded dataset to: ../../../data/GLAMOS/topo/gridded_topo_inputs/RGI_grid/taelliboden/taelliboden_grid_1975.parquet\n",
      "⚠️ Error processing glacier 'taelliboden' for year 1975: Cannot save file into a non-existent directory: '../../../data/GLAMOS/topo/gridded_topo_inputs/RGI_grid/taelliboden'\n",
      "Converting to monthly time resolution for 1976...\n"
     ]
    },
    {
     "name": "stderr",
     "output_type": "stream",
     "text": [
      "Traceback (most recent call last):\n",
      "  File \"/tmp/ipykernel_72266/2765871222.py\", line 76, in <module>\n",
      "    dataset_grid_yearly.data.to_parquet(save_path, engine=\"pyarrow\", compression=\"snappy\")\n",
      "  File \"/home/vmarijn/mambaforge/envs/MassBalanceMachine/lib/python3.11/site-packages/pandas/util/_decorators.py\", line 333, in wrapper\n",
      "    return func(*args, **kwargs)\n",
      "           ^^^^^^^^^^^^^^^^^^^^^\n",
      "  File \"/home/vmarijn/mambaforge/envs/MassBalanceMachine/lib/python3.11/site-packages/pandas/core/frame.py\", line 3113, in to_parquet\n",
      "    return to_parquet(\n",
      "           ^^^^^^^^^^^\n",
      "  File \"/home/vmarijn/mambaforge/envs/MassBalanceMachine/lib/python3.11/site-packages/pandas/io/parquet.py\", line 480, in to_parquet\n",
      "    impl.write(\n",
      "  File \"/home/vmarijn/mambaforge/envs/MassBalanceMachine/lib/python3.11/site-packages/pandas/io/parquet.py\", line 198, in write\n",
      "    path_or_handle, handles, filesystem = _get_path_or_handle(\n",
      "                                          ^^^^^^^^^^^^^^^^^^^^\n",
      "  File \"/home/vmarijn/mambaforge/envs/MassBalanceMachine/lib/python3.11/site-packages/pandas/io/parquet.py\", line 140, in _get_path_or_handle\n",
      "    handles = get_handle(\n",
      "              ^^^^^^^^^^^\n",
      "  File \"/home/vmarijn/mambaforge/envs/MassBalanceMachine/lib/python3.11/site-packages/pandas/io/common.py\", line 749, in get_handle\n",
      "    check_parent_directory(str(handle))\n",
      "  File \"/home/vmarijn/mambaforge/envs/MassBalanceMachine/lib/python3.11/site-packages/pandas/io/common.py\", line 616, in check_parent_directory\n",
      "    raise OSError(rf\"Cannot save file into a non-existent directory: '{parent}'\")\n",
      "OSError: Cannot save file into a non-existent directory: '../../../data/GLAMOS/topo/gridded_topo_inputs/RGI_grid/taelliboden'\n"
     ]
    },
    {
     "name": "stdout",
     "output_type": "stream",
     "text": [
      "Saving gridded dataset to: ../../../data/GLAMOS/topo/gridded_topo_inputs/RGI_grid/taelliboden/taelliboden_grid_1976.parquet\n",
      "⚠️ Error processing glacier 'taelliboden' for year 1976: Cannot save file into a non-existent directory: '../../../data/GLAMOS/topo/gridded_topo_inputs/RGI_grid/taelliboden'\n",
      "Converting to monthly time resolution for 1977...\n"
     ]
    },
    {
     "name": "stderr",
     "output_type": "stream",
     "text": [
      "Traceback (most recent call last):\n",
      "  File \"/tmp/ipykernel_72266/2765871222.py\", line 76, in <module>\n",
      "    dataset_grid_yearly.data.to_parquet(save_path, engine=\"pyarrow\", compression=\"snappy\")\n",
      "  File \"/home/vmarijn/mambaforge/envs/MassBalanceMachine/lib/python3.11/site-packages/pandas/util/_decorators.py\", line 333, in wrapper\n",
      "    return func(*args, **kwargs)\n",
      "           ^^^^^^^^^^^^^^^^^^^^^\n",
      "  File \"/home/vmarijn/mambaforge/envs/MassBalanceMachine/lib/python3.11/site-packages/pandas/core/frame.py\", line 3113, in to_parquet\n",
      "    return to_parquet(\n",
      "           ^^^^^^^^^^^\n",
      "  File \"/home/vmarijn/mambaforge/envs/MassBalanceMachine/lib/python3.11/site-packages/pandas/io/parquet.py\", line 480, in to_parquet\n",
      "    impl.write(\n",
      "  File \"/home/vmarijn/mambaforge/envs/MassBalanceMachine/lib/python3.11/site-packages/pandas/io/parquet.py\", line 198, in write\n",
      "    path_or_handle, handles, filesystem = _get_path_or_handle(\n",
      "                                          ^^^^^^^^^^^^^^^^^^^^\n",
      "  File \"/home/vmarijn/mambaforge/envs/MassBalanceMachine/lib/python3.11/site-packages/pandas/io/parquet.py\", line 140, in _get_path_or_handle\n",
      "    handles = get_handle(\n",
      "              ^^^^^^^^^^^\n",
      "  File \"/home/vmarijn/mambaforge/envs/MassBalanceMachine/lib/python3.11/site-packages/pandas/io/common.py\", line 749, in get_handle\n",
      "    check_parent_directory(str(handle))\n",
      "  File \"/home/vmarijn/mambaforge/envs/MassBalanceMachine/lib/python3.11/site-packages/pandas/io/common.py\", line 616, in check_parent_directory\n",
      "    raise OSError(rf\"Cannot save file into a non-existent directory: '{parent}'\")\n",
      "OSError: Cannot save file into a non-existent directory: '../../../data/GLAMOS/topo/gridded_topo_inputs/RGI_grid/taelliboden'\n"
     ]
    },
    {
     "name": "stdout",
     "output_type": "stream",
     "text": [
      "Saving gridded dataset to: ../../../data/GLAMOS/topo/gridded_topo_inputs/RGI_grid/taelliboden/taelliboden_grid_1977.parquet\n",
      "⚠️ Error processing glacier 'taelliboden' for year 1977: Cannot save file into a non-existent directory: '../../../data/GLAMOS/topo/gridded_topo_inputs/RGI_grid/taelliboden'\n",
      "Converting to monthly time resolution for 1978...\n"
     ]
    },
    {
     "name": "stderr",
     "output_type": "stream",
     "text": [
      "Traceback (most recent call last):\n",
      "  File \"/tmp/ipykernel_72266/2765871222.py\", line 76, in <module>\n",
      "    dataset_grid_yearly.data.to_parquet(save_path, engine=\"pyarrow\", compression=\"snappy\")\n",
      "  File \"/home/vmarijn/mambaforge/envs/MassBalanceMachine/lib/python3.11/site-packages/pandas/util/_decorators.py\", line 333, in wrapper\n",
      "    return func(*args, **kwargs)\n",
      "           ^^^^^^^^^^^^^^^^^^^^^\n",
      "  File \"/home/vmarijn/mambaforge/envs/MassBalanceMachine/lib/python3.11/site-packages/pandas/core/frame.py\", line 3113, in to_parquet\n",
      "    return to_parquet(\n",
      "           ^^^^^^^^^^^\n",
      "  File \"/home/vmarijn/mambaforge/envs/MassBalanceMachine/lib/python3.11/site-packages/pandas/io/parquet.py\", line 480, in to_parquet\n",
      "    impl.write(\n",
      "  File \"/home/vmarijn/mambaforge/envs/MassBalanceMachine/lib/python3.11/site-packages/pandas/io/parquet.py\", line 198, in write\n",
      "    path_or_handle, handles, filesystem = _get_path_or_handle(\n",
      "                                          ^^^^^^^^^^^^^^^^^^^^\n",
      "  File \"/home/vmarijn/mambaforge/envs/MassBalanceMachine/lib/python3.11/site-packages/pandas/io/parquet.py\", line 140, in _get_path_or_handle\n",
      "    handles = get_handle(\n",
      "              ^^^^^^^^^^^\n",
      "  File \"/home/vmarijn/mambaforge/envs/MassBalanceMachine/lib/python3.11/site-packages/pandas/io/common.py\", line 749, in get_handle\n",
      "    check_parent_directory(str(handle))\n",
      "  File \"/home/vmarijn/mambaforge/envs/MassBalanceMachine/lib/python3.11/site-packages/pandas/io/common.py\", line 616, in check_parent_directory\n",
      "    raise OSError(rf\"Cannot save file into a non-existent directory: '{parent}'\")\n",
      "OSError: Cannot save file into a non-existent directory: '../../../data/GLAMOS/topo/gridded_topo_inputs/RGI_grid/taelliboden'\n"
     ]
    },
    {
     "name": "stdout",
     "output_type": "stream",
     "text": [
      "Saving gridded dataset to: ../../../data/GLAMOS/topo/gridded_topo_inputs/RGI_grid/taelliboden/taelliboden_grid_1978.parquet\n",
      "⚠️ Error processing glacier 'taelliboden' for year 1978: Cannot save file into a non-existent directory: '../../../data/GLAMOS/topo/gridded_topo_inputs/RGI_grid/taelliboden'\n",
      "Converting to monthly time resolution for 1979...\n"
     ]
    },
    {
     "name": "stderr",
     "output_type": "stream",
     "text": [
      "Traceback (most recent call last):\n",
      "  File \"/tmp/ipykernel_72266/2765871222.py\", line 76, in <module>\n",
      "    dataset_grid_yearly.data.to_parquet(save_path, engine=\"pyarrow\", compression=\"snappy\")\n",
      "  File \"/home/vmarijn/mambaforge/envs/MassBalanceMachine/lib/python3.11/site-packages/pandas/util/_decorators.py\", line 333, in wrapper\n",
      "    return func(*args, **kwargs)\n",
      "           ^^^^^^^^^^^^^^^^^^^^^\n",
      "  File \"/home/vmarijn/mambaforge/envs/MassBalanceMachine/lib/python3.11/site-packages/pandas/core/frame.py\", line 3113, in to_parquet\n",
      "    return to_parquet(\n",
      "           ^^^^^^^^^^^\n",
      "  File \"/home/vmarijn/mambaforge/envs/MassBalanceMachine/lib/python3.11/site-packages/pandas/io/parquet.py\", line 480, in to_parquet\n",
      "    impl.write(\n",
      "  File \"/home/vmarijn/mambaforge/envs/MassBalanceMachine/lib/python3.11/site-packages/pandas/io/parquet.py\", line 198, in write\n",
      "    path_or_handle, handles, filesystem = _get_path_or_handle(\n",
      "                                          ^^^^^^^^^^^^^^^^^^^^\n",
      "  File \"/home/vmarijn/mambaforge/envs/MassBalanceMachine/lib/python3.11/site-packages/pandas/io/parquet.py\", line 140, in _get_path_or_handle\n",
      "    handles = get_handle(\n",
      "              ^^^^^^^^^^^\n",
      "  File \"/home/vmarijn/mambaforge/envs/MassBalanceMachine/lib/python3.11/site-packages/pandas/io/common.py\", line 749, in get_handle\n",
      "    check_parent_directory(str(handle))\n",
      "  File \"/home/vmarijn/mambaforge/envs/MassBalanceMachine/lib/python3.11/site-packages/pandas/io/common.py\", line 616, in check_parent_directory\n",
      "    raise OSError(rf\"Cannot save file into a non-existent directory: '{parent}'\")\n",
      "OSError: Cannot save file into a non-existent directory: '../../../data/GLAMOS/topo/gridded_topo_inputs/RGI_grid/taelliboden'\n"
     ]
    },
    {
     "name": "stdout",
     "output_type": "stream",
     "text": [
      "Saving gridded dataset to: ../../../data/GLAMOS/topo/gridded_topo_inputs/RGI_grid/taelliboden/taelliboden_grid_1979.parquet\n",
      "⚠️ Error processing glacier 'taelliboden' for year 1979: Cannot save file into a non-existent directory: '../../../data/GLAMOS/topo/gridded_topo_inputs/RGI_grid/taelliboden'\n",
      "Converting to monthly time resolution for 1980...\n"
     ]
    },
    {
     "name": "stderr",
     "output_type": "stream",
     "text": [
      "Traceback (most recent call last):\n",
      "  File \"/tmp/ipykernel_72266/2765871222.py\", line 76, in <module>\n",
      "    dataset_grid_yearly.data.to_parquet(save_path, engine=\"pyarrow\", compression=\"snappy\")\n",
      "  File \"/home/vmarijn/mambaforge/envs/MassBalanceMachine/lib/python3.11/site-packages/pandas/util/_decorators.py\", line 333, in wrapper\n",
      "    return func(*args, **kwargs)\n",
      "           ^^^^^^^^^^^^^^^^^^^^^\n",
      "  File \"/home/vmarijn/mambaforge/envs/MassBalanceMachine/lib/python3.11/site-packages/pandas/core/frame.py\", line 3113, in to_parquet\n",
      "    return to_parquet(\n",
      "           ^^^^^^^^^^^\n",
      "  File \"/home/vmarijn/mambaforge/envs/MassBalanceMachine/lib/python3.11/site-packages/pandas/io/parquet.py\", line 480, in to_parquet\n",
      "    impl.write(\n",
      "  File \"/home/vmarijn/mambaforge/envs/MassBalanceMachine/lib/python3.11/site-packages/pandas/io/parquet.py\", line 198, in write\n",
      "    path_or_handle, handles, filesystem = _get_path_or_handle(\n",
      "                                          ^^^^^^^^^^^^^^^^^^^^\n",
      "  File \"/home/vmarijn/mambaforge/envs/MassBalanceMachine/lib/python3.11/site-packages/pandas/io/parquet.py\", line 140, in _get_path_or_handle\n",
      "    handles = get_handle(\n",
      "              ^^^^^^^^^^^\n",
      "  File \"/home/vmarijn/mambaforge/envs/MassBalanceMachine/lib/python3.11/site-packages/pandas/io/common.py\", line 749, in get_handle\n",
      "    check_parent_directory(str(handle))\n",
      "  File \"/home/vmarijn/mambaforge/envs/MassBalanceMachine/lib/python3.11/site-packages/pandas/io/common.py\", line 616, in check_parent_directory\n",
      "    raise OSError(rf\"Cannot save file into a non-existent directory: '{parent}'\")\n",
      "OSError: Cannot save file into a non-existent directory: '../../../data/GLAMOS/topo/gridded_topo_inputs/RGI_grid/taelliboden'\n"
     ]
    },
    {
     "name": "stdout",
     "output_type": "stream",
     "text": [
      "Saving gridded dataset to: ../../../data/GLAMOS/topo/gridded_topo_inputs/RGI_grid/taelliboden/taelliboden_grid_1980.parquet\n",
      "⚠️ Error processing glacier 'taelliboden' for year 1980: Cannot save file into a non-existent directory: '../../../data/GLAMOS/topo/gridded_topo_inputs/RGI_grid/taelliboden'\n",
      "Converting to monthly time resolution for 1981...\n"
     ]
    },
    {
     "name": "stderr",
     "output_type": "stream",
     "text": [
      "Traceback (most recent call last):\n",
      "  File \"/tmp/ipykernel_72266/2765871222.py\", line 76, in <module>\n",
      "    dataset_grid_yearly.data.to_parquet(save_path, engine=\"pyarrow\", compression=\"snappy\")\n",
      "  File \"/home/vmarijn/mambaforge/envs/MassBalanceMachine/lib/python3.11/site-packages/pandas/util/_decorators.py\", line 333, in wrapper\n",
      "    return func(*args, **kwargs)\n",
      "           ^^^^^^^^^^^^^^^^^^^^^\n",
      "  File \"/home/vmarijn/mambaforge/envs/MassBalanceMachine/lib/python3.11/site-packages/pandas/core/frame.py\", line 3113, in to_parquet\n",
      "    return to_parquet(\n",
      "           ^^^^^^^^^^^\n",
      "  File \"/home/vmarijn/mambaforge/envs/MassBalanceMachine/lib/python3.11/site-packages/pandas/io/parquet.py\", line 480, in to_parquet\n",
      "    impl.write(\n",
      "  File \"/home/vmarijn/mambaforge/envs/MassBalanceMachine/lib/python3.11/site-packages/pandas/io/parquet.py\", line 198, in write\n",
      "    path_or_handle, handles, filesystem = _get_path_or_handle(\n",
      "                                          ^^^^^^^^^^^^^^^^^^^^\n",
      "  File \"/home/vmarijn/mambaforge/envs/MassBalanceMachine/lib/python3.11/site-packages/pandas/io/parquet.py\", line 140, in _get_path_or_handle\n",
      "    handles = get_handle(\n",
      "              ^^^^^^^^^^^\n",
      "  File \"/home/vmarijn/mambaforge/envs/MassBalanceMachine/lib/python3.11/site-packages/pandas/io/common.py\", line 749, in get_handle\n",
      "    check_parent_directory(str(handle))\n",
      "  File \"/home/vmarijn/mambaforge/envs/MassBalanceMachine/lib/python3.11/site-packages/pandas/io/common.py\", line 616, in check_parent_directory\n",
      "    raise OSError(rf\"Cannot save file into a non-existent directory: '{parent}'\")\n",
      "OSError: Cannot save file into a non-existent directory: '../../../data/GLAMOS/topo/gridded_topo_inputs/RGI_grid/taelliboden'\n"
     ]
    },
    {
     "name": "stdout",
     "output_type": "stream",
     "text": [
      "Saving gridded dataset to: ../../../data/GLAMOS/topo/gridded_topo_inputs/RGI_grid/taelliboden/taelliboden_grid_1981.parquet\n",
      "⚠️ Error processing glacier 'taelliboden' for year 1981: Cannot save file into a non-existent directory: '../../../data/GLAMOS/topo/gridded_topo_inputs/RGI_grid/taelliboden'\n",
      "Converting to monthly time resolution for 1982...\n"
     ]
    },
    {
     "name": "stderr",
     "output_type": "stream",
     "text": [
      "Traceback (most recent call last):\n",
      "  File \"/tmp/ipykernel_72266/2765871222.py\", line 76, in <module>\n",
      "    dataset_grid_yearly.data.to_parquet(save_path, engine=\"pyarrow\", compression=\"snappy\")\n",
      "  File \"/home/vmarijn/mambaforge/envs/MassBalanceMachine/lib/python3.11/site-packages/pandas/util/_decorators.py\", line 333, in wrapper\n",
      "    return func(*args, **kwargs)\n",
      "           ^^^^^^^^^^^^^^^^^^^^^\n",
      "  File \"/home/vmarijn/mambaforge/envs/MassBalanceMachine/lib/python3.11/site-packages/pandas/core/frame.py\", line 3113, in to_parquet\n",
      "    return to_parquet(\n",
      "           ^^^^^^^^^^^\n",
      "  File \"/home/vmarijn/mambaforge/envs/MassBalanceMachine/lib/python3.11/site-packages/pandas/io/parquet.py\", line 480, in to_parquet\n",
      "    impl.write(\n",
      "  File \"/home/vmarijn/mambaforge/envs/MassBalanceMachine/lib/python3.11/site-packages/pandas/io/parquet.py\", line 198, in write\n",
      "    path_or_handle, handles, filesystem = _get_path_or_handle(\n",
      "                                          ^^^^^^^^^^^^^^^^^^^^\n",
      "  File \"/home/vmarijn/mambaforge/envs/MassBalanceMachine/lib/python3.11/site-packages/pandas/io/parquet.py\", line 140, in _get_path_or_handle\n",
      "    handles = get_handle(\n",
      "              ^^^^^^^^^^^\n",
      "  File \"/home/vmarijn/mambaforge/envs/MassBalanceMachine/lib/python3.11/site-packages/pandas/io/common.py\", line 749, in get_handle\n",
      "    check_parent_directory(str(handle))\n",
      "  File \"/home/vmarijn/mambaforge/envs/MassBalanceMachine/lib/python3.11/site-packages/pandas/io/common.py\", line 616, in check_parent_directory\n",
      "    raise OSError(rf\"Cannot save file into a non-existent directory: '{parent}'\")\n",
      "OSError: Cannot save file into a non-existent directory: '../../../data/GLAMOS/topo/gridded_topo_inputs/RGI_grid/taelliboden'\n"
     ]
    },
    {
     "name": "stdout",
     "output_type": "stream",
     "text": [
      "Saving gridded dataset to: ../../../data/GLAMOS/topo/gridded_topo_inputs/RGI_grid/taelliboden/taelliboden_grid_1982.parquet\n",
      "⚠️ Error processing glacier 'taelliboden' for year 1982: Cannot save file into a non-existent directory: '../../../data/GLAMOS/topo/gridded_topo_inputs/RGI_grid/taelliboden'\n",
      "Converting to monthly time resolution for 1983...\n"
     ]
    },
    {
     "name": "stderr",
     "output_type": "stream",
     "text": [
      "Traceback (most recent call last):\n",
      "  File \"/tmp/ipykernel_72266/2765871222.py\", line 76, in <module>\n",
      "    dataset_grid_yearly.data.to_parquet(save_path, engine=\"pyarrow\", compression=\"snappy\")\n",
      "  File \"/home/vmarijn/mambaforge/envs/MassBalanceMachine/lib/python3.11/site-packages/pandas/util/_decorators.py\", line 333, in wrapper\n",
      "    return func(*args, **kwargs)\n",
      "           ^^^^^^^^^^^^^^^^^^^^^\n",
      "  File \"/home/vmarijn/mambaforge/envs/MassBalanceMachine/lib/python3.11/site-packages/pandas/core/frame.py\", line 3113, in to_parquet\n",
      "    return to_parquet(\n",
      "           ^^^^^^^^^^^\n",
      "  File \"/home/vmarijn/mambaforge/envs/MassBalanceMachine/lib/python3.11/site-packages/pandas/io/parquet.py\", line 480, in to_parquet\n",
      "    impl.write(\n",
      "  File \"/home/vmarijn/mambaforge/envs/MassBalanceMachine/lib/python3.11/site-packages/pandas/io/parquet.py\", line 198, in write\n",
      "    path_or_handle, handles, filesystem = _get_path_or_handle(\n",
      "                                          ^^^^^^^^^^^^^^^^^^^^\n",
      "  File \"/home/vmarijn/mambaforge/envs/MassBalanceMachine/lib/python3.11/site-packages/pandas/io/parquet.py\", line 140, in _get_path_or_handle\n",
      "    handles = get_handle(\n",
      "              ^^^^^^^^^^^\n",
      "  File \"/home/vmarijn/mambaforge/envs/MassBalanceMachine/lib/python3.11/site-packages/pandas/io/common.py\", line 749, in get_handle\n",
      "    check_parent_directory(str(handle))\n",
      "  File \"/home/vmarijn/mambaforge/envs/MassBalanceMachine/lib/python3.11/site-packages/pandas/io/common.py\", line 616, in check_parent_directory\n",
      "    raise OSError(rf\"Cannot save file into a non-existent directory: '{parent}'\")\n",
      "OSError: Cannot save file into a non-existent directory: '../../../data/GLAMOS/topo/gridded_topo_inputs/RGI_grid/taelliboden'\n"
     ]
    },
    {
     "name": "stdout",
     "output_type": "stream",
     "text": [
      "Saving gridded dataset to: ../../../data/GLAMOS/topo/gridded_topo_inputs/RGI_grid/taelliboden/taelliboden_grid_1983.parquet\n",
      "⚠️ Error processing glacier 'taelliboden' for year 1983: Cannot save file into a non-existent directory: '../../../data/GLAMOS/topo/gridded_topo_inputs/RGI_grid/taelliboden'\n",
      "Converting to monthly time resolution for 1984...\n"
     ]
    },
    {
     "name": "stderr",
     "output_type": "stream",
     "text": [
      "Traceback (most recent call last):\n",
      "  File \"/tmp/ipykernel_72266/2765871222.py\", line 76, in <module>\n",
      "    dataset_grid_yearly.data.to_parquet(save_path, engine=\"pyarrow\", compression=\"snappy\")\n",
      "  File \"/home/vmarijn/mambaforge/envs/MassBalanceMachine/lib/python3.11/site-packages/pandas/util/_decorators.py\", line 333, in wrapper\n",
      "    return func(*args, **kwargs)\n",
      "           ^^^^^^^^^^^^^^^^^^^^^\n",
      "  File \"/home/vmarijn/mambaforge/envs/MassBalanceMachine/lib/python3.11/site-packages/pandas/core/frame.py\", line 3113, in to_parquet\n",
      "    return to_parquet(\n",
      "           ^^^^^^^^^^^\n",
      "  File \"/home/vmarijn/mambaforge/envs/MassBalanceMachine/lib/python3.11/site-packages/pandas/io/parquet.py\", line 480, in to_parquet\n",
      "    impl.write(\n",
      "  File \"/home/vmarijn/mambaforge/envs/MassBalanceMachine/lib/python3.11/site-packages/pandas/io/parquet.py\", line 198, in write\n",
      "    path_or_handle, handles, filesystem = _get_path_or_handle(\n",
      "                                          ^^^^^^^^^^^^^^^^^^^^\n",
      "  File \"/home/vmarijn/mambaforge/envs/MassBalanceMachine/lib/python3.11/site-packages/pandas/io/parquet.py\", line 140, in _get_path_or_handle\n",
      "    handles = get_handle(\n",
      "              ^^^^^^^^^^^\n",
      "  File \"/home/vmarijn/mambaforge/envs/MassBalanceMachine/lib/python3.11/site-packages/pandas/io/common.py\", line 749, in get_handle\n",
      "    check_parent_directory(str(handle))\n",
      "  File \"/home/vmarijn/mambaforge/envs/MassBalanceMachine/lib/python3.11/site-packages/pandas/io/common.py\", line 616, in check_parent_directory\n",
      "    raise OSError(rf\"Cannot save file into a non-existent directory: '{parent}'\")\n",
      "OSError: Cannot save file into a non-existent directory: '../../../data/GLAMOS/topo/gridded_topo_inputs/RGI_grid/taelliboden'\n"
     ]
    },
    {
     "name": "stdout",
     "output_type": "stream",
     "text": [
      "Saving gridded dataset to: ../../../data/GLAMOS/topo/gridded_topo_inputs/RGI_grid/taelliboden/taelliboden_grid_1984.parquet\n",
      "⚠️ Error processing glacier 'taelliboden' for year 1984: Cannot save file into a non-existent directory: '../../../data/GLAMOS/topo/gridded_topo_inputs/RGI_grid/taelliboden'\n",
      "Converting to monthly time resolution for 1985...\n"
     ]
    },
    {
     "name": "stderr",
     "output_type": "stream",
     "text": [
      "Traceback (most recent call last):\n",
      "  File \"/tmp/ipykernel_72266/2765871222.py\", line 76, in <module>\n",
      "    dataset_grid_yearly.data.to_parquet(save_path, engine=\"pyarrow\", compression=\"snappy\")\n",
      "  File \"/home/vmarijn/mambaforge/envs/MassBalanceMachine/lib/python3.11/site-packages/pandas/util/_decorators.py\", line 333, in wrapper\n",
      "    return func(*args, **kwargs)\n",
      "           ^^^^^^^^^^^^^^^^^^^^^\n",
      "  File \"/home/vmarijn/mambaforge/envs/MassBalanceMachine/lib/python3.11/site-packages/pandas/core/frame.py\", line 3113, in to_parquet\n",
      "    return to_parquet(\n",
      "           ^^^^^^^^^^^\n",
      "  File \"/home/vmarijn/mambaforge/envs/MassBalanceMachine/lib/python3.11/site-packages/pandas/io/parquet.py\", line 480, in to_parquet\n",
      "    impl.write(\n",
      "  File \"/home/vmarijn/mambaforge/envs/MassBalanceMachine/lib/python3.11/site-packages/pandas/io/parquet.py\", line 198, in write\n",
      "    path_or_handle, handles, filesystem = _get_path_or_handle(\n",
      "                                          ^^^^^^^^^^^^^^^^^^^^\n",
      "  File \"/home/vmarijn/mambaforge/envs/MassBalanceMachine/lib/python3.11/site-packages/pandas/io/parquet.py\", line 140, in _get_path_or_handle\n",
      "    handles = get_handle(\n",
      "              ^^^^^^^^^^^\n",
      "  File \"/home/vmarijn/mambaforge/envs/MassBalanceMachine/lib/python3.11/site-packages/pandas/io/common.py\", line 749, in get_handle\n",
      "    check_parent_directory(str(handle))\n",
      "  File \"/home/vmarijn/mambaforge/envs/MassBalanceMachine/lib/python3.11/site-packages/pandas/io/common.py\", line 616, in check_parent_directory\n",
      "    raise OSError(rf\"Cannot save file into a non-existent directory: '{parent}'\")\n",
      "OSError: Cannot save file into a non-existent directory: '../../../data/GLAMOS/topo/gridded_topo_inputs/RGI_grid/taelliboden'\n"
     ]
    },
    {
     "name": "stdout",
     "output_type": "stream",
     "text": [
      "Saving gridded dataset to: ../../../data/GLAMOS/topo/gridded_topo_inputs/RGI_grid/taelliboden/taelliboden_grid_1985.parquet\n",
      "⚠️ Error processing glacier 'taelliboden' for year 1985: Cannot save file into a non-existent directory: '../../../data/GLAMOS/topo/gridded_topo_inputs/RGI_grid/taelliboden'\n",
      "Converting to monthly time resolution for 1986...\n"
     ]
    },
    {
     "name": "stderr",
     "output_type": "stream",
     "text": [
      "Traceback (most recent call last):\n",
      "  File \"/tmp/ipykernel_72266/2765871222.py\", line 76, in <module>\n",
      "    dataset_grid_yearly.data.to_parquet(save_path, engine=\"pyarrow\", compression=\"snappy\")\n",
      "  File \"/home/vmarijn/mambaforge/envs/MassBalanceMachine/lib/python3.11/site-packages/pandas/util/_decorators.py\", line 333, in wrapper\n",
      "    return func(*args, **kwargs)\n",
      "           ^^^^^^^^^^^^^^^^^^^^^\n",
      "  File \"/home/vmarijn/mambaforge/envs/MassBalanceMachine/lib/python3.11/site-packages/pandas/core/frame.py\", line 3113, in to_parquet\n",
      "    return to_parquet(\n",
      "           ^^^^^^^^^^^\n",
      "  File \"/home/vmarijn/mambaforge/envs/MassBalanceMachine/lib/python3.11/site-packages/pandas/io/parquet.py\", line 480, in to_parquet\n",
      "    impl.write(\n",
      "  File \"/home/vmarijn/mambaforge/envs/MassBalanceMachine/lib/python3.11/site-packages/pandas/io/parquet.py\", line 198, in write\n",
      "    path_or_handle, handles, filesystem = _get_path_or_handle(\n",
      "                                          ^^^^^^^^^^^^^^^^^^^^\n",
      "  File \"/home/vmarijn/mambaforge/envs/MassBalanceMachine/lib/python3.11/site-packages/pandas/io/parquet.py\", line 140, in _get_path_or_handle\n",
      "    handles = get_handle(\n",
      "              ^^^^^^^^^^^\n",
      "  File \"/home/vmarijn/mambaforge/envs/MassBalanceMachine/lib/python3.11/site-packages/pandas/io/common.py\", line 749, in get_handle\n",
      "    check_parent_directory(str(handle))\n",
      "  File \"/home/vmarijn/mambaforge/envs/MassBalanceMachine/lib/python3.11/site-packages/pandas/io/common.py\", line 616, in check_parent_directory\n",
      "    raise OSError(rf\"Cannot save file into a non-existent directory: '{parent}'\")\n",
      "OSError: Cannot save file into a non-existent directory: '../../../data/GLAMOS/topo/gridded_topo_inputs/RGI_grid/taelliboden'\n"
     ]
    },
    {
     "name": "stdout",
     "output_type": "stream",
     "text": [
      "Saving gridded dataset to: ../../../data/GLAMOS/topo/gridded_topo_inputs/RGI_grid/taelliboden/taelliboden_grid_1986.parquet\n",
      "⚠️ Error processing glacier 'taelliboden' for year 1986: Cannot save file into a non-existent directory: '../../../data/GLAMOS/topo/gridded_topo_inputs/RGI_grid/taelliboden'\n",
      "Converting to monthly time resolution for 1987...\n"
     ]
    },
    {
     "name": "stderr",
     "output_type": "stream",
     "text": [
      "Traceback (most recent call last):\n",
      "  File \"/tmp/ipykernel_72266/2765871222.py\", line 76, in <module>\n",
      "    dataset_grid_yearly.data.to_parquet(save_path, engine=\"pyarrow\", compression=\"snappy\")\n",
      "  File \"/home/vmarijn/mambaforge/envs/MassBalanceMachine/lib/python3.11/site-packages/pandas/util/_decorators.py\", line 333, in wrapper\n",
      "    return func(*args, **kwargs)\n",
      "           ^^^^^^^^^^^^^^^^^^^^^\n",
      "  File \"/home/vmarijn/mambaforge/envs/MassBalanceMachine/lib/python3.11/site-packages/pandas/core/frame.py\", line 3113, in to_parquet\n",
      "    return to_parquet(\n",
      "           ^^^^^^^^^^^\n",
      "  File \"/home/vmarijn/mambaforge/envs/MassBalanceMachine/lib/python3.11/site-packages/pandas/io/parquet.py\", line 480, in to_parquet\n",
      "    impl.write(\n",
      "  File \"/home/vmarijn/mambaforge/envs/MassBalanceMachine/lib/python3.11/site-packages/pandas/io/parquet.py\", line 198, in write\n",
      "    path_or_handle, handles, filesystem = _get_path_or_handle(\n",
      "                                          ^^^^^^^^^^^^^^^^^^^^\n",
      "  File \"/home/vmarijn/mambaforge/envs/MassBalanceMachine/lib/python3.11/site-packages/pandas/io/parquet.py\", line 140, in _get_path_or_handle\n",
      "    handles = get_handle(\n",
      "              ^^^^^^^^^^^\n",
      "  File \"/home/vmarijn/mambaforge/envs/MassBalanceMachine/lib/python3.11/site-packages/pandas/io/common.py\", line 749, in get_handle\n",
      "    check_parent_directory(str(handle))\n",
      "  File \"/home/vmarijn/mambaforge/envs/MassBalanceMachine/lib/python3.11/site-packages/pandas/io/common.py\", line 616, in check_parent_directory\n",
      "    raise OSError(rf\"Cannot save file into a non-existent directory: '{parent}'\")\n",
      "OSError: Cannot save file into a non-existent directory: '../../../data/GLAMOS/topo/gridded_topo_inputs/RGI_grid/taelliboden'\n"
     ]
    },
    {
     "name": "stdout",
     "output_type": "stream",
     "text": [
      "Saving gridded dataset to: ../../../data/GLAMOS/topo/gridded_topo_inputs/RGI_grid/taelliboden/taelliboden_grid_1987.parquet\n",
      "⚠️ Error processing glacier 'taelliboden' for year 1987: Cannot save file into a non-existent directory: '../../../data/GLAMOS/topo/gridded_topo_inputs/RGI_grid/taelliboden'\n",
      "Converting to monthly time resolution for 1988...\n"
     ]
    },
    {
     "name": "stderr",
     "output_type": "stream",
     "text": [
      "Traceback (most recent call last):\n",
      "  File \"/tmp/ipykernel_72266/2765871222.py\", line 76, in <module>\n",
      "    dataset_grid_yearly.data.to_parquet(save_path, engine=\"pyarrow\", compression=\"snappy\")\n",
      "  File \"/home/vmarijn/mambaforge/envs/MassBalanceMachine/lib/python3.11/site-packages/pandas/util/_decorators.py\", line 333, in wrapper\n",
      "    return func(*args, **kwargs)\n",
      "           ^^^^^^^^^^^^^^^^^^^^^\n",
      "  File \"/home/vmarijn/mambaforge/envs/MassBalanceMachine/lib/python3.11/site-packages/pandas/core/frame.py\", line 3113, in to_parquet\n",
      "    return to_parquet(\n",
      "           ^^^^^^^^^^^\n",
      "  File \"/home/vmarijn/mambaforge/envs/MassBalanceMachine/lib/python3.11/site-packages/pandas/io/parquet.py\", line 480, in to_parquet\n",
      "    impl.write(\n",
      "  File \"/home/vmarijn/mambaforge/envs/MassBalanceMachine/lib/python3.11/site-packages/pandas/io/parquet.py\", line 198, in write\n",
      "    path_or_handle, handles, filesystem = _get_path_or_handle(\n",
      "                                          ^^^^^^^^^^^^^^^^^^^^\n",
      "  File \"/home/vmarijn/mambaforge/envs/MassBalanceMachine/lib/python3.11/site-packages/pandas/io/parquet.py\", line 140, in _get_path_or_handle\n",
      "    handles = get_handle(\n",
      "              ^^^^^^^^^^^\n",
      "  File \"/home/vmarijn/mambaforge/envs/MassBalanceMachine/lib/python3.11/site-packages/pandas/io/common.py\", line 749, in get_handle\n",
      "    check_parent_directory(str(handle))\n",
      "  File \"/home/vmarijn/mambaforge/envs/MassBalanceMachine/lib/python3.11/site-packages/pandas/io/common.py\", line 616, in check_parent_directory\n",
      "    raise OSError(rf\"Cannot save file into a non-existent directory: '{parent}'\")\n",
      "OSError: Cannot save file into a non-existent directory: '../../../data/GLAMOS/topo/gridded_topo_inputs/RGI_grid/taelliboden'\n"
     ]
    },
    {
     "name": "stdout",
     "output_type": "stream",
     "text": [
      "Saving gridded dataset to: ../../../data/GLAMOS/topo/gridded_topo_inputs/RGI_grid/taelliboden/taelliboden_grid_1988.parquet\n",
      "⚠️ Error processing glacier 'taelliboden' for year 1988: Cannot save file into a non-existent directory: '../../../data/GLAMOS/topo/gridded_topo_inputs/RGI_grid/taelliboden'\n",
      "Converting to monthly time resolution for 1989...\n"
     ]
    },
    {
     "name": "stderr",
     "output_type": "stream",
     "text": [
      "Traceback (most recent call last):\n",
      "  File \"/tmp/ipykernel_72266/2765871222.py\", line 76, in <module>\n",
      "    dataset_grid_yearly.data.to_parquet(save_path, engine=\"pyarrow\", compression=\"snappy\")\n",
      "  File \"/home/vmarijn/mambaforge/envs/MassBalanceMachine/lib/python3.11/site-packages/pandas/util/_decorators.py\", line 333, in wrapper\n",
      "    return func(*args, **kwargs)\n",
      "           ^^^^^^^^^^^^^^^^^^^^^\n",
      "  File \"/home/vmarijn/mambaforge/envs/MassBalanceMachine/lib/python3.11/site-packages/pandas/core/frame.py\", line 3113, in to_parquet\n",
      "    return to_parquet(\n",
      "           ^^^^^^^^^^^\n",
      "  File \"/home/vmarijn/mambaforge/envs/MassBalanceMachine/lib/python3.11/site-packages/pandas/io/parquet.py\", line 480, in to_parquet\n",
      "    impl.write(\n",
      "  File \"/home/vmarijn/mambaforge/envs/MassBalanceMachine/lib/python3.11/site-packages/pandas/io/parquet.py\", line 198, in write\n",
      "    path_or_handle, handles, filesystem = _get_path_or_handle(\n",
      "                                          ^^^^^^^^^^^^^^^^^^^^\n",
      "  File \"/home/vmarijn/mambaforge/envs/MassBalanceMachine/lib/python3.11/site-packages/pandas/io/parquet.py\", line 140, in _get_path_or_handle\n",
      "    handles = get_handle(\n",
      "              ^^^^^^^^^^^\n",
      "  File \"/home/vmarijn/mambaforge/envs/MassBalanceMachine/lib/python3.11/site-packages/pandas/io/common.py\", line 749, in get_handle\n",
      "    check_parent_directory(str(handle))\n",
      "  File \"/home/vmarijn/mambaforge/envs/MassBalanceMachine/lib/python3.11/site-packages/pandas/io/common.py\", line 616, in check_parent_directory\n",
      "    raise OSError(rf\"Cannot save file into a non-existent directory: '{parent}'\")\n",
      "OSError: Cannot save file into a non-existent directory: '../../../data/GLAMOS/topo/gridded_topo_inputs/RGI_grid/taelliboden'\n"
     ]
    },
    {
     "name": "stdout",
     "output_type": "stream",
     "text": [
      "Saving gridded dataset to: ../../../data/GLAMOS/topo/gridded_topo_inputs/RGI_grid/taelliboden/taelliboden_grid_1989.parquet\n",
      "⚠️ Error processing glacier 'taelliboden' for year 1989: Cannot save file into a non-existent directory: '../../../data/GLAMOS/topo/gridded_topo_inputs/RGI_grid/taelliboden'\n",
      "Converting to monthly time resolution for 1990...\n"
     ]
    },
    {
     "name": "stderr",
     "output_type": "stream",
     "text": [
      "Traceback (most recent call last):\n",
      "  File \"/tmp/ipykernel_72266/2765871222.py\", line 76, in <module>\n",
      "    dataset_grid_yearly.data.to_parquet(save_path, engine=\"pyarrow\", compression=\"snappy\")\n",
      "  File \"/home/vmarijn/mambaforge/envs/MassBalanceMachine/lib/python3.11/site-packages/pandas/util/_decorators.py\", line 333, in wrapper\n",
      "    return func(*args, **kwargs)\n",
      "           ^^^^^^^^^^^^^^^^^^^^^\n",
      "  File \"/home/vmarijn/mambaforge/envs/MassBalanceMachine/lib/python3.11/site-packages/pandas/core/frame.py\", line 3113, in to_parquet\n",
      "    return to_parquet(\n",
      "           ^^^^^^^^^^^\n",
      "  File \"/home/vmarijn/mambaforge/envs/MassBalanceMachine/lib/python3.11/site-packages/pandas/io/parquet.py\", line 480, in to_parquet\n",
      "    impl.write(\n",
      "  File \"/home/vmarijn/mambaforge/envs/MassBalanceMachine/lib/python3.11/site-packages/pandas/io/parquet.py\", line 198, in write\n",
      "    path_or_handle, handles, filesystem = _get_path_or_handle(\n",
      "                                          ^^^^^^^^^^^^^^^^^^^^\n",
      "  File \"/home/vmarijn/mambaforge/envs/MassBalanceMachine/lib/python3.11/site-packages/pandas/io/parquet.py\", line 140, in _get_path_or_handle\n",
      "    handles = get_handle(\n",
      "              ^^^^^^^^^^^\n",
      "  File \"/home/vmarijn/mambaforge/envs/MassBalanceMachine/lib/python3.11/site-packages/pandas/io/common.py\", line 749, in get_handle\n",
      "    check_parent_directory(str(handle))\n",
      "  File \"/home/vmarijn/mambaforge/envs/MassBalanceMachine/lib/python3.11/site-packages/pandas/io/common.py\", line 616, in check_parent_directory\n",
      "    raise OSError(rf\"Cannot save file into a non-existent directory: '{parent}'\")\n",
      "OSError: Cannot save file into a non-existent directory: '../../../data/GLAMOS/topo/gridded_topo_inputs/RGI_grid/taelliboden'\n"
     ]
    },
    {
     "name": "stdout",
     "output_type": "stream",
     "text": [
      "Saving gridded dataset to: ../../../data/GLAMOS/topo/gridded_topo_inputs/RGI_grid/taelliboden/taelliboden_grid_1990.parquet\n",
      "⚠️ Error processing glacier 'taelliboden' for year 1990: Cannot save file into a non-existent directory: '../../../data/GLAMOS/topo/gridded_topo_inputs/RGI_grid/taelliboden'\n",
      "Converting to monthly time resolution for 1991...\n"
     ]
    },
    {
     "name": "stderr",
     "output_type": "stream",
     "text": [
      "Traceback (most recent call last):\n",
      "  File \"/tmp/ipykernel_72266/2765871222.py\", line 76, in <module>\n",
      "    dataset_grid_yearly.data.to_parquet(save_path, engine=\"pyarrow\", compression=\"snappy\")\n",
      "  File \"/home/vmarijn/mambaforge/envs/MassBalanceMachine/lib/python3.11/site-packages/pandas/util/_decorators.py\", line 333, in wrapper\n",
      "    return func(*args, **kwargs)\n",
      "           ^^^^^^^^^^^^^^^^^^^^^\n",
      "  File \"/home/vmarijn/mambaforge/envs/MassBalanceMachine/lib/python3.11/site-packages/pandas/core/frame.py\", line 3113, in to_parquet\n",
      "    return to_parquet(\n",
      "           ^^^^^^^^^^^\n",
      "  File \"/home/vmarijn/mambaforge/envs/MassBalanceMachine/lib/python3.11/site-packages/pandas/io/parquet.py\", line 480, in to_parquet\n",
      "    impl.write(\n",
      "  File \"/home/vmarijn/mambaforge/envs/MassBalanceMachine/lib/python3.11/site-packages/pandas/io/parquet.py\", line 198, in write\n",
      "    path_or_handle, handles, filesystem = _get_path_or_handle(\n",
      "                                          ^^^^^^^^^^^^^^^^^^^^\n",
      "  File \"/home/vmarijn/mambaforge/envs/MassBalanceMachine/lib/python3.11/site-packages/pandas/io/parquet.py\", line 140, in _get_path_or_handle\n",
      "    handles = get_handle(\n",
      "              ^^^^^^^^^^^\n",
      "  File \"/home/vmarijn/mambaforge/envs/MassBalanceMachine/lib/python3.11/site-packages/pandas/io/common.py\", line 749, in get_handle\n",
      "    check_parent_directory(str(handle))\n",
      "  File \"/home/vmarijn/mambaforge/envs/MassBalanceMachine/lib/python3.11/site-packages/pandas/io/common.py\", line 616, in check_parent_directory\n",
      "    raise OSError(rf\"Cannot save file into a non-existent directory: '{parent}'\")\n",
      "OSError: Cannot save file into a non-existent directory: '../../../data/GLAMOS/topo/gridded_topo_inputs/RGI_grid/taelliboden'\n"
     ]
    },
    {
     "name": "stdout",
     "output_type": "stream",
     "text": [
      "Saving gridded dataset to: ../../../data/GLAMOS/topo/gridded_topo_inputs/RGI_grid/taelliboden/taelliboden_grid_1991.parquet\n",
      "⚠️ Error processing glacier 'taelliboden' for year 1991: Cannot save file into a non-existent directory: '../../../data/GLAMOS/topo/gridded_topo_inputs/RGI_grid/taelliboden'\n",
      "Converting to monthly time resolution for 1992...\n"
     ]
    },
    {
     "name": "stderr",
     "output_type": "stream",
     "text": [
      "Traceback (most recent call last):\n",
      "  File \"/tmp/ipykernel_72266/2765871222.py\", line 76, in <module>\n",
      "    dataset_grid_yearly.data.to_parquet(save_path, engine=\"pyarrow\", compression=\"snappy\")\n",
      "  File \"/home/vmarijn/mambaforge/envs/MassBalanceMachine/lib/python3.11/site-packages/pandas/util/_decorators.py\", line 333, in wrapper\n",
      "    return func(*args, **kwargs)\n",
      "           ^^^^^^^^^^^^^^^^^^^^^\n",
      "  File \"/home/vmarijn/mambaforge/envs/MassBalanceMachine/lib/python3.11/site-packages/pandas/core/frame.py\", line 3113, in to_parquet\n",
      "    return to_parquet(\n",
      "           ^^^^^^^^^^^\n",
      "  File \"/home/vmarijn/mambaforge/envs/MassBalanceMachine/lib/python3.11/site-packages/pandas/io/parquet.py\", line 480, in to_parquet\n",
      "    impl.write(\n",
      "  File \"/home/vmarijn/mambaforge/envs/MassBalanceMachine/lib/python3.11/site-packages/pandas/io/parquet.py\", line 198, in write\n",
      "    path_or_handle, handles, filesystem = _get_path_or_handle(\n",
      "                                          ^^^^^^^^^^^^^^^^^^^^\n",
      "  File \"/home/vmarijn/mambaforge/envs/MassBalanceMachine/lib/python3.11/site-packages/pandas/io/parquet.py\", line 140, in _get_path_or_handle\n",
      "    handles = get_handle(\n",
      "              ^^^^^^^^^^^\n",
      "  File \"/home/vmarijn/mambaforge/envs/MassBalanceMachine/lib/python3.11/site-packages/pandas/io/common.py\", line 749, in get_handle\n",
      "    check_parent_directory(str(handle))\n",
      "  File \"/home/vmarijn/mambaforge/envs/MassBalanceMachine/lib/python3.11/site-packages/pandas/io/common.py\", line 616, in check_parent_directory\n",
      "    raise OSError(rf\"Cannot save file into a non-existent directory: '{parent}'\")\n",
      "OSError: Cannot save file into a non-existent directory: '../../../data/GLAMOS/topo/gridded_topo_inputs/RGI_grid/taelliboden'\n"
     ]
    },
    {
     "name": "stdout",
     "output_type": "stream",
     "text": [
      "Saving gridded dataset to: ../../../data/GLAMOS/topo/gridded_topo_inputs/RGI_grid/taelliboden/taelliboden_grid_1992.parquet\n",
      "⚠️ Error processing glacier 'taelliboden' for year 1992: Cannot save file into a non-existent directory: '../../../data/GLAMOS/topo/gridded_topo_inputs/RGI_grid/taelliboden'\n",
      "Converting to monthly time resolution for 1993...\n"
     ]
    },
    {
     "name": "stderr",
     "output_type": "stream",
     "text": [
      "Traceback (most recent call last):\n",
      "  File \"/tmp/ipykernel_72266/2765871222.py\", line 76, in <module>\n",
      "    dataset_grid_yearly.data.to_parquet(save_path, engine=\"pyarrow\", compression=\"snappy\")\n",
      "  File \"/home/vmarijn/mambaforge/envs/MassBalanceMachine/lib/python3.11/site-packages/pandas/util/_decorators.py\", line 333, in wrapper\n",
      "    return func(*args, **kwargs)\n",
      "           ^^^^^^^^^^^^^^^^^^^^^\n",
      "  File \"/home/vmarijn/mambaforge/envs/MassBalanceMachine/lib/python3.11/site-packages/pandas/core/frame.py\", line 3113, in to_parquet\n",
      "    return to_parquet(\n",
      "           ^^^^^^^^^^^\n",
      "  File \"/home/vmarijn/mambaforge/envs/MassBalanceMachine/lib/python3.11/site-packages/pandas/io/parquet.py\", line 480, in to_parquet\n",
      "    impl.write(\n",
      "  File \"/home/vmarijn/mambaforge/envs/MassBalanceMachine/lib/python3.11/site-packages/pandas/io/parquet.py\", line 198, in write\n",
      "    path_or_handle, handles, filesystem = _get_path_or_handle(\n",
      "                                          ^^^^^^^^^^^^^^^^^^^^\n",
      "  File \"/home/vmarijn/mambaforge/envs/MassBalanceMachine/lib/python3.11/site-packages/pandas/io/parquet.py\", line 140, in _get_path_or_handle\n",
      "    handles = get_handle(\n",
      "              ^^^^^^^^^^^\n",
      "  File \"/home/vmarijn/mambaforge/envs/MassBalanceMachine/lib/python3.11/site-packages/pandas/io/common.py\", line 749, in get_handle\n",
      "    check_parent_directory(str(handle))\n",
      "  File \"/home/vmarijn/mambaforge/envs/MassBalanceMachine/lib/python3.11/site-packages/pandas/io/common.py\", line 616, in check_parent_directory\n",
      "    raise OSError(rf\"Cannot save file into a non-existent directory: '{parent}'\")\n",
      "OSError: Cannot save file into a non-existent directory: '../../../data/GLAMOS/topo/gridded_topo_inputs/RGI_grid/taelliboden'\n"
     ]
    },
    {
     "name": "stdout",
     "output_type": "stream",
     "text": [
      "Saving gridded dataset to: ../../../data/GLAMOS/topo/gridded_topo_inputs/RGI_grid/taelliboden/taelliboden_grid_1993.parquet\n",
      "⚠️ Error processing glacier 'taelliboden' for year 1993: Cannot save file into a non-existent directory: '../../../data/GLAMOS/topo/gridded_topo_inputs/RGI_grid/taelliboden'\n",
      "Converting to monthly time resolution for 1994...\n"
     ]
    },
    {
     "name": "stderr",
     "output_type": "stream",
     "text": [
      "Traceback (most recent call last):\n",
      "  File \"/tmp/ipykernel_72266/2765871222.py\", line 76, in <module>\n",
      "    dataset_grid_yearly.data.to_parquet(save_path, engine=\"pyarrow\", compression=\"snappy\")\n",
      "  File \"/home/vmarijn/mambaforge/envs/MassBalanceMachine/lib/python3.11/site-packages/pandas/util/_decorators.py\", line 333, in wrapper\n",
      "    return func(*args, **kwargs)\n",
      "           ^^^^^^^^^^^^^^^^^^^^^\n",
      "  File \"/home/vmarijn/mambaforge/envs/MassBalanceMachine/lib/python3.11/site-packages/pandas/core/frame.py\", line 3113, in to_parquet\n",
      "    return to_parquet(\n",
      "           ^^^^^^^^^^^\n",
      "  File \"/home/vmarijn/mambaforge/envs/MassBalanceMachine/lib/python3.11/site-packages/pandas/io/parquet.py\", line 480, in to_parquet\n",
      "    impl.write(\n",
      "  File \"/home/vmarijn/mambaforge/envs/MassBalanceMachine/lib/python3.11/site-packages/pandas/io/parquet.py\", line 198, in write\n",
      "    path_or_handle, handles, filesystem = _get_path_or_handle(\n",
      "                                          ^^^^^^^^^^^^^^^^^^^^\n",
      "  File \"/home/vmarijn/mambaforge/envs/MassBalanceMachine/lib/python3.11/site-packages/pandas/io/parquet.py\", line 140, in _get_path_or_handle\n",
      "    handles = get_handle(\n",
      "              ^^^^^^^^^^^\n",
      "  File \"/home/vmarijn/mambaforge/envs/MassBalanceMachine/lib/python3.11/site-packages/pandas/io/common.py\", line 749, in get_handle\n",
      "    check_parent_directory(str(handle))\n",
      "  File \"/home/vmarijn/mambaforge/envs/MassBalanceMachine/lib/python3.11/site-packages/pandas/io/common.py\", line 616, in check_parent_directory\n",
      "    raise OSError(rf\"Cannot save file into a non-existent directory: '{parent}'\")\n",
      "OSError: Cannot save file into a non-existent directory: '../../../data/GLAMOS/topo/gridded_topo_inputs/RGI_grid/taelliboden'\n"
     ]
    },
    {
     "name": "stdout",
     "output_type": "stream",
     "text": [
      "Saving gridded dataset to: ../../../data/GLAMOS/topo/gridded_topo_inputs/RGI_grid/taelliboden/taelliboden_grid_1994.parquet\n",
      "⚠️ Error processing glacier 'taelliboden' for year 1994: Cannot save file into a non-existent directory: '../../../data/GLAMOS/topo/gridded_topo_inputs/RGI_grid/taelliboden'\n",
      "Converting to monthly time resolution for 1995...\n"
     ]
    },
    {
     "name": "stderr",
     "output_type": "stream",
     "text": [
      "Traceback (most recent call last):\n",
      "  File \"/tmp/ipykernel_72266/2765871222.py\", line 76, in <module>\n",
      "    dataset_grid_yearly.data.to_parquet(save_path, engine=\"pyarrow\", compression=\"snappy\")\n",
      "  File \"/home/vmarijn/mambaforge/envs/MassBalanceMachine/lib/python3.11/site-packages/pandas/util/_decorators.py\", line 333, in wrapper\n",
      "    return func(*args, **kwargs)\n",
      "           ^^^^^^^^^^^^^^^^^^^^^\n",
      "  File \"/home/vmarijn/mambaforge/envs/MassBalanceMachine/lib/python3.11/site-packages/pandas/core/frame.py\", line 3113, in to_parquet\n",
      "    return to_parquet(\n",
      "           ^^^^^^^^^^^\n",
      "  File \"/home/vmarijn/mambaforge/envs/MassBalanceMachine/lib/python3.11/site-packages/pandas/io/parquet.py\", line 480, in to_parquet\n",
      "    impl.write(\n",
      "  File \"/home/vmarijn/mambaforge/envs/MassBalanceMachine/lib/python3.11/site-packages/pandas/io/parquet.py\", line 198, in write\n",
      "    path_or_handle, handles, filesystem = _get_path_or_handle(\n",
      "                                          ^^^^^^^^^^^^^^^^^^^^\n",
      "  File \"/home/vmarijn/mambaforge/envs/MassBalanceMachine/lib/python3.11/site-packages/pandas/io/parquet.py\", line 140, in _get_path_or_handle\n",
      "    handles = get_handle(\n",
      "              ^^^^^^^^^^^\n",
      "  File \"/home/vmarijn/mambaforge/envs/MassBalanceMachine/lib/python3.11/site-packages/pandas/io/common.py\", line 749, in get_handle\n",
      "    check_parent_directory(str(handle))\n",
      "  File \"/home/vmarijn/mambaforge/envs/MassBalanceMachine/lib/python3.11/site-packages/pandas/io/common.py\", line 616, in check_parent_directory\n",
      "    raise OSError(rf\"Cannot save file into a non-existent directory: '{parent}'\")\n",
      "OSError: Cannot save file into a non-existent directory: '../../../data/GLAMOS/topo/gridded_topo_inputs/RGI_grid/taelliboden'\n"
     ]
    },
    {
     "name": "stdout",
     "output_type": "stream",
     "text": [
      "Saving gridded dataset to: ../../../data/GLAMOS/topo/gridded_topo_inputs/RGI_grid/taelliboden/taelliboden_grid_1995.parquet\n",
      "⚠️ Error processing glacier 'taelliboden' for year 1995: Cannot save file into a non-existent directory: '../../../data/GLAMOS/topo/gridded_topo_inputs/RGI_grid/taelliboden'\n",
      "Converting to monthly time resolution for 1996...\n"
     ]
    },
    {
     "name": "stderr",
     "output_type": "stream",
     "text": [
      "Traceback (most recent call last):\n",
      "  File \"/tmp/ipykernel_72266/2765871222.py\", line 76, in <module>\n",
      "    dataset_grid_yearly.data.to_parquet(save_path, engine=\"pyarrow\", compression=\"snappy\")\n",
      "  File \"/home/vmarijn/mambaforge/envs/MassBalanceMachine/lib/python3.11/site-packages/pandas/util/_decorators.py\", line 333, in wrapper\n",
      "    return func(*args, **kwargs)\n",
      "           ^^^^^^^^^^^^^^^^^^^^^\n",
      "  File \"/home/vmarijn/mambaforge/envs/MassBalanceMachine/lib/python3.11/site-packages/pandas/core/frame.py\", line 3113, in to_parquet\n",
      "    return to_parquet(\n",
      "           ^^^^^^^^^^^\n",
      "  File \"/home/vmarijn/mambaforge/envs/MassBalanceMachine/lib/python3.11/site-packages/pandas/io/parquet.py\", line 480, in to_parquet\n",
      "    impl.write(\n",
      "  File \"/home/vmarijn/mambaforge/envs/MassBalanceMachine/lib/python3.11/site-packages/pandas/io/parquet.py\", line 198, in write\n",
      "    path_or_handle, handles, filesystem = _get_path_or_handle(\n",
      "                                          ^^^^^^^^^^^^^^^^^^^^\n",
      "  File \"/home/vmarijn/mambaforge/envs/MassBalanceMachine/lib/python3.11/site-packages/pandas/io/parquet.py\", line 140, in _get_path_or_handle\n",
      "    handles = get_handle(\n",
      "              ^^^^^^^^^^^\n",
      "  File \"/home/vmarijn/mambaforge/envs/MassBalanceMachine/lib/python3.11/site-packages/pandas/io/common.py\", line 749, in get_handle\n",
      "    check_parent_directory(str(handle))\n",
      "  File \"/home/vmarijn/mambaforge/envs/MassBalanceMachine/lib/python3.11/site-packages/pandas/io/common.py\", line 616, in check_parent_directory\n",
      "    raise OSError(rf\"Cannot save file into a non-existent directory: '{parent}'\")\n",
      "OSError: Cannot save file into a non-existent directory: '../../../data/GLAMOS/topo/gridded_topo_inputs/RGI_grid/taelliboden'\n"
     ]
    },
    {
     "name": "stdout",
     "output_type": "stream",
     "text": [
      "Saving gridded dataset to: ../../../data/GLAMOS/topo/gridded_topo_inputs/RGI_grid/taelliboden/taelliboden_grid_1996.parquet\n",
      "⚠️ Error processing glacier 'taelliboden' for year 1996: Cannot save file into a non-existent directory: '../../../data/GLAMOS/topo/gridded_topo_inputs/RGI_grid/taelliboden'\n",
      "Converting to monthly time resolution for 1997...\n"
     ]
    },
    {
     "name": "stderr",
     "output_type": "stream",
     "text": [
      "Traceback (most recent call last):\n",
      "  File \"/tmp/ipykernel_72266/2765871222.py\", line 76, in <module>\n",
      "    dataset_grid_yearly.data.to_parquet(save_path, engine=\"pyarrow\", compression=\"snappy\")\n",
      "  File \"/home/vmarijn/mambaforge/envs/MassBalanceMachine/lib/python3.11/site-packages/pandas/util/_decorators.py\", line 333, in wrapper\n",
      "    return func(*args, **kwargs)\n",
      "           ^^^^^^^^^^^^^^^^^^^^^\n",
      "  File \"/home/vmarijn/mambaforge/envs/MassBalanceMachine/lib/python3.11/site-packages/pandas/core/frame.py\", line 3113, in to_parquet\n",
      "    return to_parquet(\n",
      "           ^^^^^^^^^^^\n",
      "  File \"/home/vmarijn/mambaforge/envs/MassBalanceMachine/lib/python3.11/site-packages/pandas/io/parquet.py\", line 480, in to_parquet\n",
      "    impl.write(\n",
      "  File \"/home/vmarijn/mambaforge/envs/MassBalanceMachine/lib/python3.11/site-packages/pandas/io/parquet.py\", line 198, in write\n",
      "    path_or_handle, handles, filesystem = _get_path_or_handle(\n",
      "                                          ^^^^^^^^^^^^^^^^^^^^\n",
      "  File \"/home/vmarijn/mambaforge/envs/MassBalanceMachine/lib/python3.11/site-packages/pandas/io/parquet.py\", line 140, in _get_path_or_handle\n",
      "    handles = get_handle(\n",
      "              ^^^^^^^^^^^\n",
      "  File \"/home/vmarijn/mambaforge/envs/MassBalanceMachine/lib/python3.11/site-packages/pandas/io/common.py\", line 749, in get_handle\n",
      "    check_parent_directory(str(handle))\n",
      "  File \"/home/vmarijn/mambaforge/envs/MassBalanceMachine/lib/python3.11/site-packages/pandas/io/common.py\", line 616, in check_parent_directory\n",
      "    raise OSError(rf\"Cannot save file into a non-existent directory: '{parent}'\")\n",
      "OSError: Cannot save file into a non-existent directory: '../../../data/GLAMOS/topo/gridded_topo_inputs/RGI_grid/taelliboden'\n"
     ]
    },
    {
     "name": "stdout",
     "output_type": "stream",
     "text": [
      "Saving gridded dataset to: ../../../data/GLAMOS/topo/gridded_topo_inputs/RGI_grid/taelliboden/taelliboden_grid_1997.parquet\n",
      "⚠️ Error processing glacier 'taelliboden' for year 1997: Cannot save file into a non-existent directory: '../../../data/GLAMOS/topo/gridded_topo_inputs/RGI_grid/taelliboden'\n",
      "Converting to monthly time resolution for 1998...\n"
     ]
    },
    {
     "name": "stderr",
     "output_type": "stream",
     "text": [
      "Traceback (most recent call last):\n",
      "  File \"/tmp/ipykernel_72266/2765871222.py\", line 76, in <module>\n",
      "    dataset_grid_yearly.data.to_parquet(save_path, engine=\"pyarrow\", compression=\"snappy\")\n",
      "  File \"/home/vmarijn/mambaforge/envs/MassBalanceMachine/lib/python3.11/site-packages/pandas/util/_decorators.py\", line 333, in wrapper\n",
      "    return func(*args, **kwargs)\n",
      "           ^^^^^^^^^^^^^^^^^^^^^\n",
      "  File \"/home/vmarijn/mambaforge/envs/MassBalanceMachine/lib/python3.11/site-packages/pandas/core/frame.py\", line 3113, in to_parquet\n",
      "    return to_parquet(\n",
      "           ^^^^^^^^^^^\n",
      "  File \"/home/vmarijn/mambaforge/envs/MassBalanceMachine/lib/python3.11/site-packages/pandas/io/parquet.py\", line 480, in to_parquet\n",
      "    impl.write(\n",
      "  File \"/home/vmarijn/mambaforge/envs/MassBalanceMachine/lib/python3.11/site-packages/pandas/io/parquet.py\", line 198, in write\n",
      "    path_or_handle, handles, filesystem = _get_path_or_handle(\n",
      "                                          ^^^^^^^^^^^^^^^^^^^^\n",
      "  File \"/home/vmarijn/mambaforge/envs/MassBalanceMachine/lib/python3.11/site-packages/pandas/io/parquet.py\", line 140, in _get_path_or_handle\n",
      "    handles = get_handle(\n",
      "              ^^^^^^^^^^^\n",
      "  File \"/home/vmarijn/mambaforge/envs/MassBalanceMachine/lib/python3.11/site-packages/pandas/io/common.py\", line 749, in get_handle\n",
      "    check_parent_directory(str(handle))\n",
      "  File \"/home/vmarijn/mambaforge/envs/MassBalanceMachine/lib/python3.11/site-packages/pandas/io/common.py\", line 616, in check_parent_directory\n",
      "    raise OSError(rf\"Cannot save file into a non-existent directory: '{parent}'\")\n",
      "OSError: Cannot save file into a non-existent directory: '../../../data/GLAMOS/topo/gridded_topo_inputs/RGI_grid/taelliboden'\n"
     ]
    },
    {
     "name": "stdout",
     "output_type": "stream",
     "text": [
      "Saving gridded dataset to: ../../../data/GLAMOS/topo/gridded_topo_inputs/RGI_grid/taelliboden/taelliboden_grid_1998.parquet\n",
      "⚠️ Error processing glacier 'taelliboden' for year 1998: Cannot save file into a non-existent directory: '../../../data/GLAMOS/topo/gridded_topo_inputs/RGI_grid/taelliboden'\n",
      "Converting to monthly time resolution for 1999...\n"
     ]
    },
    {
     "name": "stderr",
     "output_type": "stream",
     "text": [
      "Traceback (most recent call last):\n",
      "  File \"/tmp/ipykernel_72266/2765871222.py\", line 76, in <module>\n",
      "    dataset_grid_yearly.data.to_parquet(save_path, engine=\"pyarrow\", compression=\"snappy\")\n",
      "  File \"/home/vmarijn/mambaforge/envs/MassBalanceMachine/lib/python3.11/site-packages/pandas/util/_decorators.py\", line 333, in wrapper\n",
      "    return func(*args, **kwargs)\n",
      "           ^^^^^^^^^^^^^^^^^^^^^\n",
      "  File \"/home/vmarijn/mambaforge/envs/MassBalanceMachine/lib/python3.11/site-packages/pandas/core/frame.py\", line 3113, in to_parquet\n",
      "    return to_parquet(\n",
      "           ^^^^^^^^^^^\n",
      "  File \"/home/vmarijn/mambaforge/envs/MassBalanceMachine/lib/python3.11/site-packages/pandas/io/parquet.py\", line 480, in to_parquet\n",
      "    impl.write(\n",
      "  File \"/home/vmarijn/mambaforge/envs/MassBalanceMachine/lib/python3.11/site-packages/pandas/io/parquet.py\", line 198, in write\n",
      "    path_or_handle, handles, filesystem = _get_path_or_handle(\n",
      "                                          ^^^^^^^^^^^^^^^^^^^^\n",
      "  File \"/home/vmarijn/mambaforge/envs/MassBalanceMachine/lib/python3.11/site-packages/pandas/io/parquet.py\", line 140, in _get_path_or_handle\n",
      "    handles = get_handle(\n",
      "              ^^^^^^^^^^^\n",
      "  File \"/home/vmarijn/mambaforge/envs/MassBalanceMachine/lib/python3.11/site-packages/pandas/io/common.py\", line 749, in get_handle\n",
      "    check_parent_directory(str(handle))\n",
      "  File \"/home/vmarijn/mambaforge/envs/MassBalanceMachine/lib/python3.11/site-packages/pandas/io/common.py\", line 616, in check_parent_directory\n",
      "    raise OSError(rf\"Cannot save file into a non-existent directory: '{parent}'\")\n",
      "OSError: Cannot save file into a non-existent directory: '../../../data/GLAMOS/topo/gridded_topo_inputs/RGI_grid/taelliboden'\n"
     ]
    },
    {
     "name": "stdout",
     "output_type": "stream",
     "text": [
      "Saving gridded dataset to: ../../../data/GLAMOS/topo/gridded_topo_inputs/RGI_grid/taelliboden/taelliboden_grid_1999.parquet\n",
      "⚠️ Error processing glacier 'taelliboden' for year 1999: Cannot save file into a non-existent directory: '../../../data/GLAMOS/topo/gridded_topo_inputs/RGI_grid/taelliboden'\n",
      "Converting to monthly time resolution for 2000...\n"
     ]
    },
    {
     "name": "stderr",
     "output_type": "stream",
     "text": [
      "Traceback (most recent call last):\n",
      "  File \"/tmp/ipykernel_72266/2765871222.py\", line 76, in <module>\n",
      "    dataset_grid_yearly.data.to_parquet(save_path, engine=\"pyarrow\", compression=\"snappy\")\n",
      "  File \"/home/vmarijn/mambaforge/envs/MassBalanceMachine/lib/python3.11/site-packages/pandas/util/_decorators.py\", line 333, in wrapper\n",
      "    return func(*args, **kwargs)\n",
      "           ^^^^^^^^^^^^^^^^^^^^^\n",
      "  File \"/home/vmarijn/mambaforge/envs/MassBalanceMachine/lib/python3.11/site-packages/pandas/core/frame.py\", line 3113, in to_parquet\n",
      "    return to_parquet(\n",
      "           ^^^^^^^^^^^\n",
      "  File \"/home/vmarijn/mambaforge/envs/MassBalanceMachine/lib/python3.11/site-packages/pandas/io/parquet.py\", line 480, in to_parquet\n",
      "    impl.write(\n",
      "  File \"/home/vmarijn/mambaforge/envs/MassBalanceMachine/lib/python3.11/site-packages/pandas/io/parquet.py\", line 198, in write\n",
      "    path_or_handle, handles, filesystem = _get_path_or_handle(\n",
      "                                          ^^^^^^^^^^^^^^^^^^^^\n",
      "  File \"/home/vmarijn/mambaforge/envs/MassBalanceMachine/lib/python3.11/site-packages/pandas/io/parquet.py\", line 140, in _get_path_or_handle\n",
      "    handles = get_handle(\n",
      "              ^^^^^^^^^^^\n",
      "  File \"/home/vmarijn/mambaforge/envs/MassBalanceMachine/lib/python3.11/site-packages/pandas/io/common.py\", line 749, in get_handle\n",
      "    check_parent_directory(str(handle))\n",
      "  File \"/home/vmarijn/mambaforge/envs/MassBalanceMachine/lib/python3.11/site-packages/pandas/io/common.py\", line 616, in check_parent_directory\n",
      "    raise OSError(rf\"Cannot save file into a non-existent directory: '{parent}'\")\n",
      "OSError: Cannot save file into a non-existent directory: '../../../data/GLAMOS/topo/gridded_topo_inputs/RGI_grid/taelliboden'\n"
     ]
    },
    {
     "name": "stdout",
     "output_type": "stream",
     "text": [
      "Saving gridded dataset to: ../../../data/GLAMOS/topo/gridded_topo_inputs/RGI_grid/taelliboden/taelliboden_grid_2000.parquet\n",
      "⚠️ Error processing glacier 'taelliboden' for year 2000: Cannot save file into a non-existent directory: '../../../data/GLAMOS/topo/gridded_topo_inputs/RGI_grid/taelliboden'\n",
      "Converting to monthly time resolution for 2001...\n"
     ]
    },
    {
     "name": "stderr",
     "output_type": "stream",
     "text": [
      "Traceback (most recent call last):\n",
      "  File \"/tmp/ipykernel_72266/2765871222.py\", line 76, in <module>\n",
      "    dataset_grid_yearly.data.to_parquet(save_path, engine=\"pyarrow\", compression=\"snappy\")\n",
      "  File \"/home/vmarijn/mambaforge/envs/MassBalanceMachine/lib/python3.11/site-packages/pandas/util/_decorators.py\", line 333, in wrapper\n",
      "    return func(*args, **kwargs)\n",
      "           ^^^^^^^^^^^^^^^^^^^^^\n",
      "  File \"/home/vmarijn/mambaforge/envs/MassBalanceMachine/lib/python3.11/site-packages/pandas/core/frame.py\", line 3113, in to_parquet\n",
      "    return to_parquet(\n",
      "           ^^^^^^^^^^^\n",
      "  File \"/home/vmarijn/mambaforge/envs/MassBalanceMachine/lib/python3.11/site-packages/pandas/io/parquet.py\", line 480, in to_parquet\n",
      "    impl.write(\n",
      "  File \"/home/vmarijn/mambaforge/envs/MassBalanceMachine/lib/python3.11/site-packages/pandas/io/parquet.py\", line 198, in write\n",
      "    path_or_handle, handles, filesystem = _get_path_or_handle(\n",
      "                                          ^^^^^^^^^^^^^^^^^^^^\n",
      "  File \"/home/vmarijn/mambaforge/envs/MassBalanceMachine/lib/python3.11/site-packages/pandas/io/parquet.py\", line 140, in _get_path_or_handle\n",
      "    handles = get_handle(\n",
      "              ^^^^^^^^^^^\n",
      "  File \"/home/vmarijn/mambaforge/envs/MassBalanceMachine/lib/python3.11/site-packages/pandas/io/common.py\", line 749, in get_handle\n",
      "    check_parent_directory(str(handle))\n",
      "  File \"/home/vmarijn/mambaforge/envs/MassBalanceMachine/lib/python3.11/site-packages/pandas/io/common.py\", line 616, in check_parent_directory\n",
      "    raise OSError(rf\"Cannot save file into a non-existent directory: '{parent}'\")\n",
      "OSError: Cannot save file into a non-existent directory: '../../../data/GLAMOS/topo/gridded_topo_inputs/RGI_grid/taelliboden'\n"
     ]
    },
    {
     "name": "stdout",
     "output_type": "stream",
     "text": [
      "Saving gridded dataset to: ../../../data/GLAMOS/topo/gridded_topo_inputs/RGI_grid/taelliboden/taelliboden_grid_2001.parquet\n",
      "⚠️ Error processing glacier 'taelliboden' for year 2001: Cannot save file into a non-existent directory: '../../../data/GLAMOS/topo/gridded_topo_inputs/RGI_grid/taelliboden'\n",
      "Converting to monthly time resolution for 2002...\n"
     ]
    },
    {
     "name": "stderr",
     "output_type": "stream",
     "text": [
      "Traceback (most recent call last):\n",
      "  File \"/tmp/ipykernel_72266/2765871222.py\", line 76, in <module>\n",
      "    dataset_grid_yearly.data.to_parquet(save_path, engine=\"pyarrow\", compression=\"snappy\")\n",
      "  File \"/home/vmarijn/mambaforge/envs/MassBalanceMachine/lib/python3.11/site-packages/pandas/util/_decorators.py\", line 333, in wrapper\n",
      "    return func(*args, **kwargs)\n",
      "           ^^^^^^^^^^^^^^^^^^^^^\n",
      "  File \"/home/vmarijn/mambaforge/envs/MassBalanceMachine/lib/python3.11/site-packages/pandas/core/frame.py\", line 3113, in to_parquet\n",
      "    return to_parquet(\n",
      "           ^^^^^^^^^^^\n",
      "  File \"/home/vmarijn/mambaforge/envs/MassBalanceMachine/lib/python3.11/site-packages/pandas/io/parquet.py\", line 480, in to_parquet\n",
      "    impl.write(\n",
      "  File \"/home/vmarijn/mambaforge/envs/MassBalanceMachine/lib/python3.11/site-packages/pandas/io/parquet.py\", line 198, in write\n",
      "    path_or_handle, handles, filesystem = _get_path_or_handle(\n",
      "                                          ^^^^^^^^^^^^^^^^^^^^\n",
      "  File \"/home/vmarijn/mambaforge/envs/MassBalanceMachine/lib/python3.11/site-packages/pandas/io/parquet.py\", line 140, in _get_path_or_handle\n",
      "    handles = get_handle(\n",
      "              ^^^^^^^^^^^\n",
      "  File \"/home/vmarijn/mambaforge/envs/MassBalanceMachine/lib/python3.11/site-packages/pandas/io/common.py\", line 749, in get_handle\n",
      "    check_parent_directory(str(handle))\n",
      "  File \"/home/vmarijn/mambaforge/envs/MassBalanceMachine/lib/python3.11/site-packages/pandas/io/common.py\", line 616, in check_parent_directory\n",
      "    raise OSError(rf\"Cannot save file into a non-existent directory: '{parent}'\")\n",
      "OSError: Cannot save file into a non-existent directory: '../../../data/GLAMOS/topo/gridded_topo_inputs/RGI_grid/taelliboden'\n"
     ]
    },
    {
     "name": "stdout",
     "output_type": "stream",
     "text": [
      "Saving gridded dataset to: ../../../data/GLAMOS/topo/gridded_topo_inputs/RGI_grid/taelliboden/taelliboden_grid_2002.parquet\n",
      "⚠️ Error processing glacier 'taelliboden' for year 2002: Cannot save file into a non-existent directory: '../../../data/GLAMOS/topo/gridded_topo_inputs/RGI_grid/taelliboden'\n",
      "Converting to monthly time resolution for 2003...\n"
     ]
    },
    {
     "name": "stderr",
     "output_type": "stream",
     "text": [
      "Traceback (most recent call last):\n",
      "  File \"/tmp/ipykernel_72266/2765871222.py\", line 76, in <module>\n",
      "    dataset_grid_yearly.data.to_parquet(save_path, engine=\"pyarrow\", compression=\"snappy\")\n",
      "  File \"/home/vmarijn/mambaforge/envs/MassBalanceMachine/lib/python3.11/site-packages/pandas/util/_decorators.py\", line 333, in wrapper\n",
      "    return func(*args, **kwargs)\n",
      "           ^^^^^^^^^^^^^^^^^^^^^\n",
      "  File \"/home/vmarijn/mambaforge/envs/MassBalanceMachine/lib/python3.11/site-packages/pandas/core/frame.py\", line 3113, in to_parquet\n",
      "    return to_parquet(\n",
      "           ^^^^^^^^^^^\n",
      "  File \"/home/vmarijn/mambaforge/envs/MassBalanceMachine/lib/python3.11/site-packages/pandas/io/parquet.py\", line 480, in to_parquet\n",
      "    impl.write(\n",
      "  File \"/home/vmarijn/mambaforge/envs/MassBalanceMachine/lib/python3.11/site-packages/pandas/io/parquet.py\", line 198, in write\n",
      "    path_or_handle, handles, filesystem = _get_path_or_handle(\n",
      "                                          ^^^^^^^^^^^^^^^^^^^^\n",
      "  File \"/home/vmarijn/mambaforge/envs/MassBalanceMachine/lib/python3.11/site-packages/pandas/io/parquet.py\", line 140, in _get_path_or_handle\n",
      "    handles = get_handle(\n",
      "              ^^^^^^^^^^^\n",
      "  File \"/home/vmarijn/mambaforge/envs/MassBalanceMachine/lib/python3.11/site-packages/pandas/io/common.py\", line 749, in get_handle\n",
      "    check_parent_directory(str(handle))\n",
      "  File \"/home/vmarijn/mambaforge/envs/MassBalanceMachine/lib/python3.11/site-packages/pandas/io/common.py\", line 616, in check_parent_directory\n",
      "    raise OSError(rf\"Cannot save file into a non-existent directory: '{parent}'\")\n",
      "OSError: Cannot save file into a non-existent directory: '../../../data/GLAMOS/topo/gridded_topo_inputs/RGI_grid/taelliboden'\n"
     ]
    },
    {
     "name": "stdout",
     "output_type": "stream",
     "text": [
      "Saving gridded dataset to: ../../../data/GLAMOS/topo/gridded_topo_inputs/RGI_grid/taelliboden/taelliboden_grid_2003.parquet\n",
      "⚠️ Error processing glacier 'taelliboden' for year 2003: Cannot save file into a non-existent directory: '../../../data/GLAMOS/topo/gridded_topo_inputs/RGI_grid/taelliboden'\n",
      "Converting to monthly time resolution for 2004...\n"
     ]
    },
    {
     "name": "stderr",
     "output_type": "stream",
     "text": [
      "Traceback (most recent call last):\n",
      "  File \"/tmp/ipykernel_72266/2765871222.py\", line 76, in <module>\n",
      "    dataset_grid_yearly.data.to_parquet(save_path, engine=\"pyarrow\", compression=\"snappy\")\n",
      "  File \"/home/vmarijn/mambaforge/envs/MassBalanceMachine/lib/python3.11/site-packages/pandas/util/_decorators.py\", line 333, in wrapper\n",
      "    return func(*args, **kwargs)\n",
      "           ^^^^^^^^^^^^^^^^^^^^^\n",
      "  File \"/home/vmarijn/mambaforge/envs/MassBalanceMachine/lib/python3.11/site-packages/pandas/core/frame.py\", line 3113, in to_parquet\n",
      "    return to_parquet(\n",
      "           ^^^^^^^^^^^\n",
      "  File \"/home/vmarijn/mambaforge/envs/MassBalanceMachine/lib/python3.11/site-packages/pandas/io/parquet.py\", line 480, in to_parquet\n",
      "    impl.write(\n",
      "  File \"/home/vmarijn/mambaforge/envs/MassBalanceMachine/lib/python3.11/site-packages/pandas/io/parquet.py\", line 198, in write\n",
      "    path_or_handle, handles, filesystem = _get_path_or_handle(\n",
      "                                          ^^^^^^^^^^^^^^^^^^^^\n",
      "  File \"/home/vmarijn/mambaforge/envs/MassBalanceMachine/lib/python3.11/site-packages/pandas/io/parquet.py\", line 140, in _get_path_or_handle\n",
      "    handles = get_handle(\n",
      "              ^^^^^^^^^^^\n",
      "  File \"/home/vmarijn/mambaforge/envs/MassBalanceMachine/lib/python3.11/site-packages/pandas/io/common.py\", line 749, in get_handle\n",
      "    check_parent_directory(str(handle))\n",
      "  File \"/home/vmarijn/mambaforge/envs/MassBalanceMachine/lib/python3.11/site-packages/pandas/io/common.py\", line 616, in check_parent_directory\n",
      "    raise OSError(rf\"Cannot save file into a non-existent directory: '{parent}'\")\n",
      "OSError: Cannot save file into a non-existent directory: '../../../data/GLAMOS/topo/gridded_topo_inputs/RGI_grid/taelliboden'\n"
     ]
    },
    {
     "name": "stdout",
     "output_type": "stream",
     "text": [
      "Saving gridded dataset to: ../../../data/GLAMOS/topo/gridded_topo_inputs/RGI_grid/taelliboden/taelliboden_grid_2004.parquet\n",
      "⚠️ Error processing glacier 'taelliboden' for year 2004: Cannot save file into a non-existent directory: '../../../data/GLAMOS/topo/gridded_topo_inputs/RGI_grid/taelliboden'\n",
      "Converting to monthly time resolution for 2005...\n"
     ]
    },
    {
     "name": "stderr",
     "output_type": "stream",
     "text": [
      "Traceback (most recent call last):\n",
      "  File \"/tmp/ipykernel_72266/2765871222.py\", line 76, in <module>\n",
      "    dataset_grid_yearly.data.to_parquet(save_path, engine=\"pyarrow\", compression=\"snappy\")\n",
      "  File \"/home/vmarijn/mambaforge/envs/MassBalanceMachine/lib/python3.11/site-packages/pandas/util/_decorators.py\", line 333, in wrapper\n",
      "    return func(*args, **kwargs)\n",
      "           ^^^^^^^^^^^^^^^^^^^^^\n",
      "  File \"/home/vmarijn/mambaforge/envs/MassBalanceMachine/lib/python3.11/site-packages/pandas/core/frame.py\", line 3113, in to_parquet\n",
      "    return to_parquet(\n",
      "           ^^^^^^^^^^^\n",
      "  File \"/home/vmarijn/mambaforge/envs/MassBalanceMachine/lib/python3.11/site-packages/pandas/io/parquet.py\", line 480, in to_parquet\n",
      "    impl.write(\n",
      "  File \"/home/vmarijn/mambaforge/envs/MassBalanceMachine/lib/python3.11/site-packages/pandas/io/parquet.py\", line 198, in write\n",
      "    path_or_handle, handles, filesystem = _get_path_or_handle(\n",
      "                                          ^^^^^^^^^^^^^^^^^^^^\n",
      "  File \"/home/vmarijn/mambaforge/envs/MassBalanceMachine/lib/python3.11/site-packages/pandas/io/parquet.py\", line 140, in _get_path_or_handle\n",
      "    handles = get_handle(\n",
      "              ^^^^^^^^^^^\n",
      "  File \"/home/vmarijn/mambaforge/envs/MassBalanceMachine/lib/python3.11/site-packages/pandas/io/common.py\", line 749, in get_handle\n",
      "    check_parent_directory(str(handle))\n",
      "  File \"/home/vmarijn/mambaforge/envs/MassBalanceMachine/lib/python3.11/site-packages/pandas/io/common.py\", line 616, in check_parent_directory\n",
      "    raise OSError(rf\"Cannot save file into a non-existent directory: '{parent}'\")\n",
      "OSError: Cannot save file into a non-existent directory: '../../../data/GLAMOS/topo/gridded_topo_inputs/RGI_grid/taelliboden'\n"
     ]
    },
    {
     "name": "stdout",
     "output_type": "stream",
     "text": [
      "Saving gridded dataset to: ../../../data/GLAMOS/topo/gridded_topo_inputs/RGI_grid/taelliboden/taelliboden_grid_2005.parquet\n",
      "⚠️ Error processing glacier 'taelliboden' for year 2005: Cannot save file into a non-existent directory: '../../../data/GLAMOS/topo/gridded_topo_inputs/RGI_grid/taelliboden'\n",
      "Converting to monthly time resolution for 2006...\n"
     ]
    },
    {
     "name": "stderr",
     "output_type": "stream",
     "text": [
      "Traceback (most recent call last):\n",
      "  File \"/tmp/ipykernel_72266/2765871222.py\", line 76, in <module>\n",
      "    dataset_grid_yearly.data.to_parquet(save_path, engine=\"pyarrow\", compression=\"snappy\")\n",
      "  File \"/home/vmarijn/mambaforge/envs/MassBalanceMachine/lib/python3.11/site-packages/pandas/util/_decorators.py\", line 333, in wrapper\n",
      "    return func(*args, **kwargs)\n",
      "           ^^^^^^^^^^^^^^^^^^^^^\n",
      "  File \"/home/vmarijn/mambaforge/envs/MassBalanceMachine/lib/python3.11/site-packages/pandas/core/frame.py\", line 3113, in to_parquet\n",
      "    return to_parquet(\n",
      "           ^^^^^^^^^^^\n",
      "  File \"/home/vmarijn/mambaforge/envs/MassBalanceMachine/lib/python3.11/site-packages/pandas/io/parquet.py\", line 480, in to_parquet\n",
      "    impl.write(\n",
      "  File \"/home/vmarijn/mambaforge/envs/MassBalanceMachine/lib/python3.11/site-packages/pandas/io/parquet.py\", line 198, in write\n",
      "    path_or_handle, handles, filesystem = _get_path_or_handle(\n",
      "                                          ^^^^^^^^^^^^^^^^^^^^\n",
      "  File \"/home/vmarijn/mambaforge/envs/MassBalanceMachine/lib/python3.11/site-packages/pandas/io/parquet.py\", line 140, in _get_path_or_handle\n",
      "    handles = get_handle(\n",
      "              ^^^^^^^^^^^\n",
      "  File \"/home/vmarijn/mambaforge/envs/MassBalanceMachine/lib/python3.11/site-packages/pandas/io/common.py\", line 749, in get_handle\n",
      "    check_parent_directory(str(handle))\n",
      "  File \"/home/vmarijn/mambaforge/envs/MassBalanceMachine/lib/python3.11/site-packages/pandas/io/common.py\", line 616, in check_parent_directory\n",
      "    raise OSError(rf\"Cannot save file into a non-existent directory: '{parent}'\")\n",
      "OSError: Cannot save file into a non-existent directory: '../../../data/GLAMOS/topo/gridded_topo_inputs/RGI_grid/taelliboden'\n"
     ]
    },
    {
     "name": "stdout",
     "output_type": "stream",
     "text": [
      "Saving gridded dataset to: ../../../data/GLAMOS/topo/gridded_topo_inputs/RGI_grid/taelliboden/taelliboden_grid_2006.parquet\n",
      "⚠️ Error processing glacier 'taelliboden' for year 2006: Cannot save file into a non-existent directory: '../../../data/GLAMOS/topo/gridded_topo_inputs/RGI_grid/taelliboden'\n",
      "Converting to monthly time resolution for 2007...\n"
     ]
    },
    {
     "name": "stderr",
     "output_type": "stream",
     "text": [
      "Traceback (most recent call last):\n",
      "  File \"/tmp/ipykernel_72266/2765871222.py\", line 76, in <module>\n",
      "    dataset_grid_yearly.data.to_parquet(save_path, engine=\"pyarrow\", compression=\"snappy\")\n",
      "  File \"/home/vmarijn/mambaforge/envs/MassBalanceMachine/lib/python3.11/site-packages/pandas/util/_decorators.py\", line 333, in wrapper\n",
      "    return func(*args, **kwargs)\n",
      "           ^^^^^^^^^^^^^^^^^^^^^\n",
      "  File \"/home/vmarijn/mambaforge/envs/MassBalanceMachine/lib/python3.11/site-packages/pandas/core/frame.py\", line 3113, in to_parquet\n",
      "    return to_parquet(\n",
      "           ^^^^^^^^^^^\n",
      "  File \"/home/vmarijn/mambaforge/envs/MassBalanceMachine/lib/python3.11/site-packages/pandas/io/parquet.py\", line 480, in to_parquet\n",
      "    impl.write(\n",
      "  File \"/home/vmarijn/mambaforge/envs/MassBalanceMachine/lib/python3.11/site-packages/pandas/io/parquet.py\", line 198, in write\n",
      "    path_or_handle, handles, filesystem = _get_path_or_handle(\n",
      "                                          ^^^^^^^^^^^^^^^^^^^^\n",
      "  File \"/home/vmarijn/mambaforge/envs/MassBalanceMachine/lib/python3.11/site-packages/pandas/io/parquet.py\", line 140, in _get_path_or_handle\n",
      "    handles = get_handle(\n",
      "              ^^^^^^^^^^^\n",
      "  File \"/home/vmarijn/mambaforge/envs/MassBalanceMachine/lib/python3.11/site-packages/pandas/io/common.py\", line 749, in get_handle\n",
      "    check_parent_directory(str(handle))\n",
      "  File \"/home/vmarijn/mambaforge/envs/MassBalanceMachine/lib/python3.11/site-packages/pandas/io/common.py\", line 616, in check_parent_directory\n",
      "    raise OSError(rf\"Cannot save file into a non-existent directory: '{parent}'\")\n",
      "OSError: Cannot save file into a non-existent directory: '../../../data/GLAMOS/topo/gridded_topo_inputs/RGI_grid/taelliboden'\n"
     ]
    },
    {
     "name": "stdout",
     "output_type": "stream",
     "text": [
      "Saving gridded dataset to: ../../../data/GLAMOS/topo/gridded_topo_inputs/RGI_grid/taelliboden/taelliboden_grid_2007.parquet\n",
      "⚠️ Error processing glacier 'taelliboden' for year 2007: Cannot save file into a non-existent directory: '../../../data/GLAMOS/topo/gridded_topo_inputs/RGI_grid/taelliboden'\n",
      "Converting to monthly time resolution for 2008...\n"
     ]
    },
    {
     "name": "stderr",
     "output_type": "stream",
     "text": [
      "Traceback (most recent call last):\n",
      "  File \"/tmp/ipykernel_72266/2765871222.py\", line 76, in <module>\n",
      "    dataset_grid_yearly.data.to_parquet(save_path, engine=\"pyarrow\", compression=\"snappy\")\n",
      "  File \"/home/vmarijn/mambaforge/envs/MassBalanceMachine/lib/python3.11/site-packages/pandas/util/_decorators.py\", line 333, in wrapper\n",
      "    return func(*args, **kwargs)\n",
      "           ^^^^^^^^^^^^^^^^^^^^^\n",
      "  File \"/home/vmarijn/mambaforge/envs/MassBalanceMachine/lib/python3.11/site-packages/pandas/core/frame.py\", line 3113, in to_parquet\n",
      "    return to_parquet(\n",
      "           ^^^^^^^^^^^\n",
      "  File \"/home/vmarijn/mambaforge/envs/MassBalanceMachine/lib/python3.11/site-packages/pandas/io/parquet.py\", line 480, in to_parquet\n",
      "    impl.write(\n",
      "  File \"/home/vmarijn/mambaforge/envs/MassBalanceMachine/lib/python3.11/site-packages/pandas/io/parquet.py\", line 198, in write\n",
      "    path_or_handle, handles, filesystem = _get_path_or_handle(\n",
      "                                          ^^^^^^^^^^^^^^^^^^^^\n",
      "  File \"/home/vmarijn/mambaforge/envs/MassBalanceMachine/lib/python3.11/site-packages/pandas/io/parquet.py\", line 140, in _get_path_or_handle\n",
      "    handles = get_handle(\n",
      "              ^^^^^^^^^^^\n",
      "  File \"/home/vmarijn/mambaforge/envs/MassBalanceMachine/lib/python3.11/site-packages/pandas/io/common.py\", line 749, in get_handle\n",
      "    check_parent_directory(str(handle))\n",
      "  File \"/home/vmarijn/mambaforge/envs/MassBalanceMachine/lib/python3.11/site-packages/pandas/io/common.py\", line 616, in check_parent_directory\n",
      "    raise OSError(rf\"Cannot save file into a non-existent directory: '{parent}'\")\n",
      "OSError: Cannot save file into a non-existent directory: '../../../data/GLAMOS/topo/gridded_topo_inputs/RGI_grid/taelliboden'\n"
     ]
    },
    {
     "name": "stdout",
     "output_type": "stream",
     "text": [
      "Saving gridded dataset to: ../../../data/GLAMOS/topo/gridded_topo_inputs/RGI_grid/taelliboden/taelliboden_grid_2008.parquet\n",
      "⚠️ Error processing glacier 'taelliboden' for year 2008: Cannot save file into a non-existent directory: '../../../data/GLAMOS/topo/gridded_topo_inputs/RGI_grid/taelliboden'\n",
      "Converting to monthly time resolution for 2009...\n"
     ]
    },
    {
     "name": "stderr",
     "output_type": "stream",
     "text": [
      "Traceback (most recent call last):\n",
      "  File \"/tmp/ipykernel_72266/2765871222.py\", line 76, in <module>\n",
      "    dataset_grid_yearly.data.to_parquet(save_path, engine=\"pyarrow\", compression=\"snappy\")\n",
      "  File \"/home/vmarijn/mambaforge/envs/MassBalanceMachine/lib/python3.11/site-packages/pandas/util/_decorators.py\", line 333, in wrapper\n",
      "    return func(*args, **kwargs)\n",
      "           ^^^^^^^^^^^^^^^^^^^^^\n",
      "  File \"/home/vmarijn/mambaforge/envs/MassBalanceMachine/lib/python3.11/site-packages/pandas/core/frame.py\", line 3113, in to_parquet\n",
      "    return to_parquet(\n",
      "           ^^^^^^^^^^^\n",
      "  File \"/home/vmarijn/mambaforge/envs/MassBalanceMachine/lib/python3.11/site-packages/pandas/io/parquet.py\", line 480, in to_parquet\n",
      "    impl.write(\n",
      "  File \"/home/vmarijn/mambaforge/envs/MassBalanceMachine/lib/python3.11/site-packages/pandas/io/parquet.py\", line 198, in write\n",
      "    path_or_handle, handles, filesystem = _get_path_or_handle(\n",
      "                                          ^^^^^^^^^^^^^^^^^^^^\n",
      "  File \"/home/vmarijn/mambaforge/envs/MassBalanceMachine/lib/python3.11/site-packages/pandas/io/parquet.py\", line 140, in _get_path_or_handle\n",
      "    handles = get_handle(\n",
      "              ^^^^^^^^^^^\n",
      "  File \"/home/vmarijn/mambaforge/envs/MassBalanceMachine/lib/python3.11/site-packages/pandas/io/common.py\", line 749, in get_handle\n",
      "    check_parent_directory(str(handle))\n",
      "  File \"/home/vmarijn/mambaforge/envs/MassBalanceMachine/lib/python3.11/site-packages/pandas/io/common.py\", line 616, in check_parent_directory\n",
      "    raise OSError(rf\"Cannot save file into a non-existent directory: '{parent}'\")\n",
      "OSError: Cannot save file into a non-existent directory: '../../../data/GLAMOS/topo/gridded_topo_inputs/RGI_grid/taelliboden'\n"
     ]
    },
    {
     "name": "stdout",
     "output_type": "stream",
     "text": [
      "Saving gridded dataset to: ../../../data/GLAMOS/topo/gridded_topo_inputs/RGI_grid/taelliboden/taelliboden_grid_2009.parquet\n",
      "⚠️ Error processing glacier 'taelliboden' for year 2009: Cannot save file into a non-existent directory: '../../../data/GLAMOS/topo/gridded_topo_inputs/RGI_grid/taelliboden'\n",
      "Converting to monthly time resolution for 2010...\n"
     ]
    },
    {
     "name": "stderr",
     "output_type": "stream",
     "text": [
      "Traceback (most recent call last):\n",
      "  File \"/tmp/ipykernel_72266/2765871222.py\", line 76, in <module>\n",
      "    dataset_grid_yearly.data.to_parquet(save_path, engine=\"pyarrow\", compression=\"snappy\")\n",
      "  File \"/home/vmarijn/mambaforge/envs/MassBalanceMachine/lib/python3.11/site-packages/pandas/util/_decorators.py\", line 333, in wrapper\n",
      "    return func(*args, **kwargs)\n",
      "           ^^^^^^^^^^^^^^^^^^^^^\n",
      "  File \"/home/vmarijn/mambaforge/envs/MassBalanceMachine/lib/python3.11/site-packages/pandas/core/frame.py\", line 3113, in to_parquet\n",
      "    return to_parquet(\n",
      "           ^^^^^^^^^^^\n",
      "  File \"/home/vmarijn/mambaforge/envs/MassBalanceMachine/lib/python3.11/site-packages/pandas/io/parquet.py\", line 480, in to_parquet\n",
      "    impl.write(\n",
      "  File \"/home/vmarijn/mambaforge/envs/MassBalanceMachine/lib/python3.11/site-packages/pandas/io/parquet.py\", line 198, in write\n",
      "    path_or_handle, handles, filesystem = _get_path_or_handle(\n",
      "                                          ^^^^^^^^^^^^^^^^^^^^\n",
      "  File \"/home/vmarijn/mambaforge/envs/MassBalanceMachine/lib/python3.11/site-packages/pandas/io/parquet.py\", line 140, in _get_path_or_handle\n",
      "    handles = get_handle(\n",
      "              ^^^^^^^^^^^\n",
      "  File \"/home/vmarijn/mambaforge/envs/MassBalanceMachine/lib/python3.11/site-packages/pandas/io/common.py\", line 749, in get_handle\n",
      "    check_parent_directory(str(handle))\n",
      "  File \"/home/vmarijn/mambaforge/envs/MassBalanceMachine/lib/python3.11/site-packages/pandas/io/common.py\", line 616, in check_parent_directory\n",
      "    raise OSError(rf\"Cannot save file into a non-existent directory: '{parent}'\")\n",
      "OSError: Cannot save file into a non-existent directory: '../../../data/GLAMOS/topo/gridded_topo_inputs/RGI_grid/taelliboden'\n"
     ]
    },
    {
     "name": "stdout",
     "output_type": "stream",
     "text": [
      "Saving gridded dataset to: ../../../data/GLAMOS/topo/gridded_topo_inputs/RGI_grid/taelliboden/taelliboden_grid_2010.parquet\n",
      "⚠️ Error processing glacier 'taelliboden' for year 2010: Cannot save file into a non-existent directory: '../../../data/GLAMOS/topo/gridded_topo_inputs/RGI_grid/taelliboden'\n",
      "Converting to monthly time resolution for 2011...\n"
     ]
    },
    {
     "name": "stderr",
     "output_type": "stream",
     "text": [
      "Traceback (most recent call last):\n",
      "  File \"/tmp/ipykernel_72266/2765871222.py\", line 76, in <module>\n",
      "    dataset_grid_yearly.data.to_parquet(save_path, engine=\"pyarrow\", compression=\"snappy\")\n",
      "  File \"/home/vmarijn/mambaforge/envs/MassBalanceMachine/lib/python3.11/site-packages/pandas/util/_decorators.py\", line 333, in wrapper\n",
      "    return func(*args, **kwargs)\n",
      "           ^^^^^^^^^^^^^^^^^^^^^\n",
      "  File \"/home/vmarijn/mambaforge/envs/MassBalanceMachine/lib/python3.11/site-packages/pandas/core/frame.py\", line 3113, in to_parquet\n",
      "    return to_parquet(\n",
      "           ^^^^^^^^^^^\n",
      "  File \"/home/vmarijn/mambaforge/envs/MassBalanceMachine/lib/python3.11/site-packages/pandas/io/parquet.py\", line 480, in to_parquet\n",
      "    impl.write(\n",
      "  File \"/home/vmarijn/mambaforge/envs/MassBalanceMachine/lib/python3.11/site-packages/pandas/io/parquet.py\", line 198, in write\n",
      "    path_or_handle, handles, filesystem = _get_path_or_handle(\n",
      "                                          ^^^^^^^^^^^^^^^^^^^^\n",
      "  File \"/home/vmarijn/mambaforge/envs/MassBalanceMachine/lib/python3.11/site-packages/pandas/io/parquet.py\", line 140, in _get_path_or_handle\n",
      "    handles = get_handle(\n",
      "              ^^^^^^^^^^^\n",
      "  File \"/home/vmarijn/mambaforge/envs/MassBalanceMachine/lib/python3.11/site-packages/pandas/io/common.py\", line 749, in get_handle\n",
      "    check_parent_directory(str(handle))\n",
      "  File \"/home/vmarijn/mambaforge/envs/MassBalanceMachine/lib/python3.11/site-packages/pandas/io/common.py\", line 616, in check_parent_directory\n",
      "    raise OSError(rf\"Cannot save file into a non-existent directory: '{parent}'\")\n",
      "OSError: Cannot save file into a non-existent directory: '../../../data/GLAMOS/topo/gridded_topo_inputs/RGI_grid/taelliboden'\n"
     ]
    },
    {
     "name": "stdout",
     "output_type": "stream",
     "text": [
      "Saving gridded dataset to: ../../../data/GLAMOS/topo/gridded_topo_inputs/RGI_grid/taelliboden/taelliboden_grid_2011.parquet\n",
      "⚠️ Error processing glacier 'taelliboden' for year 2011: Cannot save file into a non-existent directory: '../../../data/GLAMOS/topo/gridded_topo_inputs/RGI_grid/taelliboden'\n",
      "Converting to monthly time resolution for 2012...\n"
     ]
    },
    {
     "name": "stderr",
     "output_type": "stream",
     "text": [
      "Traceback (most recent call last):\n",
      "  File \"/tmp/ipykernel_72266/2765871222.py\", line 76, in <module>\n",
      "    dataset_grid_yearly.data.to_parquet(save_path, engine=\"pyarrow\", compression=\"snappy\")\n",
      "  File \"/home/vmarijn/mambaforge/envs/MassBalanceMachine/lib/python3.11/site-packages/pandas/util/_decorators.py\", line 333, in wrapper\n",
      "    return func(*args, **kwargs)\n",
      "           ^^^^^^^^^^^^^^^^^^^^^\n",
      "  File \"/home/vmarijn/mambaforge/envs/MassBalanceMachine/lib/python3.11/site-packages/pandas/core/frame.py\", line 3113, in to_parquet\n",
      "    return to_parquet(\n",
      "           ^^^^^^^^^^^\n",
      "  File \"/home/vmarijn/mambaforge/envs/MassBalanceMachine/lib/python3.11/site-packages/pandas/io/parquet.py\", line 480, in to_parquet\n",
      "    impl.write(\n",
      "  File \"/home/vmarijn/mambaforge/envs/MassBalanceMachine/lib/python3.11/site-packages/pandas/io/parquet.py\", line 198, in write\n",
      "    path_or_handle, handles, filesystem = _get_path_or_handle(\n",
      "                                          ^^^^^^^^^^^^^^^^^^^^\n",
      "  File \"/home/vmarijn/mambaforge/envs/MassBalanceMachine/lib/python3.11/site-packages/pandas/io/parquet.py\", line 140, in _get_path_or_handle\n",
      "    handles = get_handle(\n",
      "              ^^^^^^^^^^^\n",
      "  File \"/home/vmarijn/mambaforge/envs/MassBalanceMachine/lib/python3.11/site-packages/pandas/io/common.py\", line 749, in get_handle\n",
      "    check_parent_directory(str(handle))\n",
      "  File \"/home/vmarijn/mambaforge/envs/MassBalanceMachine/lib/python3.11/site-packages/pandas/io/common.py\", line 616, in check_parent_directory\n",
      "    raise OSError(rf\"Cannot save file into a non-existent directory: '{parent}'\")\n",
      "OSError: Cannot save file into a non-existent directory: '../../../data/GLAMOS/topo/gridded_topo_inputs/RGI_grid/taelliboden'\n"
     ]
    },
    {
     "name": "stdout",
     "output_type": "stream",
     "text": [
      "Saving gridded dataset to: ../../../data/GLAMOS/topo/gridded_topo_inputs/RGI_grid/taelliboden/taelliboden_grid_2012.parquet\n",
      "⚠️ Error processing glacier 'taelliboden' for year 2012: Cannot save file into a non-existent directory: '../../../data/GLAMOS/topo/gridded_topo_inputs/RGI_grid/taelliboden'\n",
      "Converting to monthly time resolution for 2013...\n"
     ]
    },
    {
     "name": "stderr",
     "output_type": "stream",
     "text": [
      "Traceback (most recent call last):\n",
      "  File \"/tmp/ipykernel_72266/2765871222.py\", line 76, in <module>\n",
      "    dataset_grid_yearly.data.to_parquet(save_path, engine=\"pyarrow\", compression=\"snappy\")\n",
      "  File \"/home/vmarijn/mambaforge/envs/MassBalanceMachine/lib/python3.11/site-packages/pandas/util/_decorators.py\", line 333, in wrapper\n",
      "    return func(*args, **kwargs)\n",
      "           ^^^^^^^^^^^^^^^^^^^^^\n",
      "  File \"/home/vmarijn/mambaforge/envs/MassBalanceMachine/lib/python3.11/site-packages/pandas/core/frame.py\", line 3113, in to_parquet\n",
      "    return to_parquet(\n",
      "           ^^^^^^^^^^^\n",
      "  File \"/home/vmarijn/mambaforge/envs/MassBalanceMachine/lib/python3.11/site-packages/pandas/io/parquet.py\", line 480, in to_parquet\n",
      "    impl.write(\n",
      "  File \"/home/vmarijn/mambaforge/envs/MassBalanceMachine/lib/python3.11/site-packages/pandas/io/parquet.py\", line 198, in write\n",
      "    path_or_handle, handles, filesystem = _get_path_or_handle(\n",
      "                                          ^^^^^^^^^^^^^^^^^^^^\n",
      "  File \"/home/vmarijn/mambaforge/envs/MassBalanceMachine/lib/python3.11/site-packages/pandas/io/parquet.py\", line 140, in _get_path_or_handle\n",
      "    handles = get_handle(\n",
      "              ^^^^^^^^^^^\n",
      "  File \"/home/vmarijn/mambaforge/envs/MassBalanceMachine/lib/python3.11/site-packages/pandas/io/common.py\", line 749, in get_handle\n",
      "    check_parent_directory(str(handle))\n",
      "  File \"/home/vmarijn/mambaforge/envs/MassBalanceMachine/lib/python3.11/site-packages/pandas/io/common.py\", line 616, in check_parent_directory\n",
      "    raise OSError(rf\"Cannot save file into a non-existent directory: '{parent}'\")\n",
      "OSError: Cannot save file into a non-existent directory: '../../../data/GLAMOS/topo/gridded_topo_inputs/RGI_grid/taelliboden'\n"
     ]
    },
    {
     "name": "stdout",
     "output_type": "stream",
     "text": [
      "Saving gridded dataset to: ../../../data/GLAMOS/topo/gridded_topo_inputs/RGI_grid/taelliboden/taelliboden_grid_2013.parquet\n",
      "⚠️ Error processing glacier 'taelliboden' for year 2013: Cannot save file into a non-existent directory: '../../../data/GLAMOS/topo/gridded_topo_inputs/RGI_grid/taelliboden'\n",
      "Converting to monthly time resolution for 2014...\n"
     ]
    },
    {
     "name": "stderr",
     "output_type": "stream",
     "text": [
      "Traceback (most recent call last):\n",
      "  File \"/tmp/ipykernel_72266/2765871222.py\", line 76, in <module>\n",
      "    dataset_grid_yearly.data.to_parquet(save_path, engine=\"pyarrow\", compression=\"snappy\")\n",
      "  File \"/home/vmarijn/mambaforge/envs/MassBalanceMachine/lib/python3.11/site-packages/pandas/util/_decorators.py\", line 333, in wrapper\n",
      "    return func(*args, **kwargs)\n",
      "           ^^^^^^^^^^^^^^^^^^^^^\n",
      "  File \"/home/vmarijn/mambaforge/envs/MassBalanceMachine/lib/python3.11/site-packages/pandas/core/frame.py\", line 3113, in to_parquet\n",
      "    return to_parquet(\n",
      "           ^^^^^^^^^^^\n",
      "  File \"/home/vmarijn/mambaforge/envs/MassBalanceMachine/lib/python3.11/site-packages/pandas/io/parquet.py\", line 480, in to_parquet\n",
      "    impl.write(\n",
      "  File \"/home/vmarijn/mambaforge/envs/MassBalanceMachine/lib/python3.11/site-packages/pandas/io/parquet.py\", line 198, in write\n",
      "    path_or_handle, handles, filesystem = _get_path_or_handle(\n",
      "                                          ^^^^^^^^^^^^^^^^^^^^\n",
      "  File \"/home/vmarijn/mambaforge/envs/MassBalanceMachine/lib/python3.11/site-packages/pandas/io/parquet.py\", line 140, in _get_path_or_handle\n",
      "    handles = get_handle(\n",
      "              ^^^^^^^^^^^\n",
      "  File \"/home/vmarijn/mambaforge/envs/MassBalanceMachine/lib/python3.11/site-packages/pandas/io/common.py\", line 749, in get_handle\n",
      "    check_parent_directory(str(handle))\n",
      "  File \"/home/vmarijn/mambaforge/envs/MassBalanceMachine/lib/python3.11/site-packages/pandas/io/common.py\", line 616, in check_parent_directory\n",
      "    raise OSError(rf\"Cannot save file into a non-existent directory: '{parent}'\")\n",
      "OSError: Cannot save file into a non-existent directory: '../../../data/GLAMOS/topo/gridded_topo_inputs/RGI_grid/taelliboden'\n"
     ]
    },
    {
     "name": "stdout",
     "output_type": "stream",
     "text": [
      "Saving gridded dataset to: ../../../data/GLAMOS/topo/gridded_topo_inputs/RGI_grid/taelliboden/taelliboden_grid_2014.parquet\n",
      "⚠️ Error processing glacier 'taelliboden' for year 2014: Cannot save file into a non-existent directory: '../../../data/GLAMOS/topo/gridded_topo_inputs/RGI_grid/taelliboden'\n",
      "Converting to monthly time resolution for 2015...\n"
     ]
    },
    {
     "name": "stderr",
     "output_type": "stream",
     "text": [
      "Traceback (most recent call last):\n",
      "  File \"/tmp/ipykernel_72266/2765871222.py\", line 76, in <module>\n",
      "    dataset_grid_yearly.data.to_parquet(save_path, engine=\"pyarrow\", compression=\"snappy\")\n",
      "  File \"/home/vmarijn/mambaforge/envs/MassBalanceMachine/lib/python3.11/site-packages/pandas/util/_decorators.py\", line 333, in wrapper\n",
      "    return func(*args, **kwargs)\n",
      "           ^^^^^^^^^^^^^^^^^^^^^\n",
      "  File \"/home/vmarijn/mambaforge/envs/MassBalanceMachine/lib/python3.11/site-packages/pandas/core/frame.py\", line 3113, in to_parquet\n",
      "    return to_parquet(\n",
      "           ^^^^^^^^^^^\n",
      "  File \"/home/vmarijn/mambaforge/envs/MassBalanceMachine/lib/python3.11/site-packages/pandas/io/parquet.py\", line 480, in to_parquet\n",
      "    impl.write(\n",
      "  File \"/home/vmarijn/mambaforge/envs/MassBalanceMachine/lib/python3.11/site-packages/pandas/io/parquet.py\", line 198, in write\n",
      "    path_or_handle, handles, filesystem = _get_path_or_handle(\n",
      "                                          ^^^^^^^^^^^^^^^^^^^^\n",
      "  File \"/home/vmarijn/mambaforge/envs/MassBalanceMachine/lib/python3.11/site-packages/pandas/io/parquet.py\", line 140, in _get_path_or_handle\n",
      "    handles = get_handle(\n",
      "              ^^^^^^^^^^^\n",
      "  File \"/home/vmarijn/mambaforge/envs/MassBalanceMachine/lib/python3.11/site-packages/pandas/io/common.py\", line 749, in get_handle\n",
      "    check_parent_directory(str(handle))\n",
      "  File \"/home/vmarijn/mambaforge/envs/MassBalanceMachine/lib/python3.11/site-packages/pandas/io/common.py\", line 616, in check_parent_directory\n",
      "    raise OSError(rf\"Cannot save file into a non-existent directory: '{parent}'\")\n",
      "OSError: Cannot save file into a non-existent directory: '../../../data/GLAMOS/topo/gridded_topo_inputs/RGI_grid/taelliboden'\n"
     ]
    },
    {
     "name": "stdout",
     "output_type": "stream",
     "text": [
      "Saving gridded dataset to: ../../../data/GLAMOS/topo/gridded_topo_inputs/RGI_grid/taelliboden/taelliboden_grid_2015.parquet\n",
      "⚠️ Error processing glacier 'taelliboden' for year 2015: Cannot save file into a non-existent directory: '../../../data/GLAMOS/topo/gridded_topo_inputs/RGI_grid/taelliboden'\n",
      "Converting to monthly time resolution for 2016...\n"
     ]
    },
    {
     "name": "stderr",
     "output_type": "stream",
     "text": [
      "Traceback (most recent call last):\n",
      "  File \"/tmp/ipykernel_72266/2765871222.py\", line 76, in <module>\n",
      "    dataset_grid_yearly.data.to_parquet(save_path, engine=\"pyarrow\", compression=\"snappy\")\n",
      "  File \"/home/vmarijn/mambaforge/envs/MassBalanceMachine/lib/python3.11/site-packages/pandas/util/_decorators.py\", line 333, in wrapper\n",
      "    return func(*args, **kwargs)\n",
      "           ^^^^^^^^^^^^^^^^^^^^^\n",
      "  File \"/home/vmarijn/mambaforge/envs/MassBalanceMachine/lib/python3.11/site-packages/pandas/core/frame.py\", line 3113, in to_parquet\n",
      "    return to_parquet(\n",
      "           ^^^^^^^^^^^\n",
      "  File \"/home/vmarijn/mambaforge/envs/MassBalanceMachine/lib/python3.11/site-packages/pandas/io/parquet.py\", line 480, in to_parquet\n",
      "    impl.write(\n",
      "  File \"/home/vmarijn/mambaforge/envs/MassBalanceMachine/lib/python3.11/site-packages/pandas/io/parquet.py\", line 198, in write\n",
      "    path_or_handle, handles, filesystem = _get_path_or_handle(\n",
      "                                          ^^^^^^^^^^^^^^^^^^^^\n",
      "  File \"/home/vmarijn/mambaforge/envs/MassBalanceMachine/lib/python3.11/site-packages/pandas/io/parquet.py\", line 140, in _get_path_or_handle\n",
      "    handles = get_handle(\n",
      "              ^^^^^^^^^^^\n",
      "  File \"/home/vmarijn/mambaforge/envs/MassBalanceMachine/lib/python3.11/site-packages/pandas/io/common.py\", line 749, in get_handle\n",
      "    check_parent_directory(str(handle))\n",
      "  File \"/home/vmarijn/mambaforge/envs/MassBalanceMachine/lib/python3.11/site-packages/pandas/io/common.py\", line 616, in check_parent_directory\n",
      "    raise OSError(rf\"Cannot save file into a non-existent directory: '{parent}'\")\n",
      "OSError: Cannot save file into a non-existent directory: '../../../data/GLAMOS/topo/gridded_topo_inputs/RGI_grid/taelliboden'\n"
     ]
    },
    {
     "name": "stdout",
     "output_type": "stream",
     "text": [
      "Saving gridded dataset to: ../../../data/GLAMOS/topo/gridded_topo_inputs/RGI_grid/taelliboden/taelliboden_grid_2016.parquet\n",
      "⚠️ Error processing glacier 'taelliboden' for year 2016: Cannot save file into a non-existent directory: '../../../data/GLAMOS/topo/gridded_topo_inputs/RGI_grid/taelliboden'\n",
      "Converting to monthly time resolution for 2017...\n"
     ]
    },
    {
     "name": "stderr",
     "output_type": "stream",
     "text": [
      "Traceback (most recent call last):\n",
      "  File \"/tmp/ipykernel_72266/2765871222.py\", line 76, in <module>\n",
      "    dataset_grid_yearly.data.to_parquet(save_path, engine=\"pyarrow\", compression=\"snappy\")\n",
      "  File \"/home/vmarijn/mambaforge/envs/MassBalanceMachine/lib/python3.11/site-packages/pandas/util/_decorators.py\", line 333, in wrapper\n",
      "    return func(*args, **kwargs)\n",
      "           ^^^^^^^^^^^^^^^^^^^^^\n",
      "  File \"/home/vmarijn/mambaforge/envs/MassBalanceMachine/lib/python3.11/site-packages/pandas/core/frame.py\", line 3113, in to_parquet\n",
      "    return to_parquet(\n",
      "           ^^^^^^^^^^^\n",
      "  File \"/home/vmarijn/mambaforge/envs/MassBalanceMachine/lib/python3.11/site-packages/pandas/io/parquet.py\", line 480, in to_parquet\n",
      "    impl.write(\n",
      "  File \"/home/vmarijn/mambaforge/envs/MassBalanceMachine/lib/python3.11/site-packages/pandas/io/parquet.py\", line 198, in write\n",
      "    path_or_handle, handles, filesystem = _get_path_or_handle(\n",
      "                                          ^^^^^^^^^^^^^^^^^^^^\n",
      "  File \"/home/vmarijn/mambaforge/envs/MassBalanceMachine/lib/python3.11/site-packages/pandas/io/parquet.py\", line 140, in _get_path_or_handle\n",
      "    handles = get_handle(\n",
      "              ^^^^^^^^^^^\n",
      "  File \"/home/vmarijn/mambaforge/envs/MassBalanceMachine/lib/python3.11/site-packages/pandas/io/common.py\", line 749, in get_handle\n",
      "    check_parent_directory(str(handle))\n",
      "  File \"/home/vmarijn/mambaforge/envs/MassBalanceMachine/lib/python3.11/site-packages/pandas/io/common.py\", line 616, in check_parent_directory\n",
      "    raise OSError(rf\"Cannot save file into a non-existent directory: '{parent}'\")\n",
      "OSError: Cannot save file into a non-existent directory: '../../../data/GLAMOS/topo/gridded_topo_inputs/RGI_grid/taelliboden'\n"
     ]
    },
    {
     "name": "stdout",
     "output_type": "stream",
     "text": [
      "Saving gridded dataset to: ../../../data/GLAMOS/topo/gridded_topo_inputs/RGI_grid/taelliboden/taelliboden_grid_2017.parquet\n",
      "⚠️ Error processing glacier 'taelliboden' for year 2017: Cannot save file into a non-existent directory: '../../../data/GLAMOS/topo/gridded_topo_inputs/RGI_grid/taelliboden'\n",
      "Converting to monthly time resolution for 2018...\n"
     ]
    },
    {
     "name": "stderr",
     "output_type": "stream",
     "text": [
      "Traceback (most recent call last):\n",
      "  File \"/tmp/ipykernel_72266/2765871222.py\", line 76, in <module>\n",
      "    dataset_grid_yearly.data.to_parquet(save_path, engine=\"pyarrow\", compression=\"snappy\")\n",
      "  File \"/home/vmarijn/mambaforge/envs/MassBalanceMachine/lib/python3.11/site-packages/pandas/util/_decorators.py\", line 333, in wrapper\n",
      "    return func(*args, **kwargs)\n",
      "           ^^^^^^^^^^^^^^^^^^^^^\n",
      "  File \"/home/vmarijn/mambaforge/envs/MassBalanceMachine/lib/python3.11/site-packages/pandas/core/frame.py\", line 3113, in to_parquet\n",
      "    return to_parquet(\n",
      "           ^^^^^^^^^^^\n",
      "  File \"/home/vmarijn/mambaforge/envs/MassBalanceMachine/lib/python3.11/site-packages/pandas/io/parquet.py\", line 480, in to_parquet\n",
      "    impl.write(\n",
      "  File \"/home/vmarijn/mambaforge/envs/MassBalanceMachine/lib/python3.11/site-packages/pandas/io/parquet.py\", line 198, in write\n",
      "    path_or_handle, handles, filesystem = _get_path_or_handle(\n",
      "                                          ^^^^^^^^^^^^^^^^^^^^\n",
      "  File \"/home/vmarijn/mambaforge/envs/MassBalanceMachine/lib/python3.11/site-packages/pandas/io/parquet.py\", line 140, in _get_path_or_handle\n",
      "    handles = get_handle(\n",
      "              ^^^^^^^^^^^\n",
      "  File \"/home/vmarijn/mambaforge/envs/MassBalanceMachine/lib/python3.11/site-packages/pandas/io/common.py\", line 749, in get_handle\n",
      "    check_parent_directory(str(handle))\n",
      "  File \"/home/vmarijn/mambaforge/envs/MassBalanceMachine/lib/python3.11/site-packages/pandas/io/common.py\", line 616, in check_parent_directory\n",
      "    raise OSError(rf\"Cannot save file into a non-existent directory: '{parent}'\")\n",
      "OSError: Cannot save file into a non-existent directory: '../../../data/GLAMOS/topo/gridded_topo_inputs/RGI_grid/taelliboden'\n"
     ]
    },
    {
     "name": "stdout",
     "output_type": "stream",
     "text": [
      "Saving gridded dataset to: ../../../data/GLAMOS/topo/gridded_topo_inputs/RGI_grid/taelliboden/taelliboden_grid_2018.parquet\n",
      "⚠️ Error processing glacier 'taelliboden' for year 2018: Cannot save file into a non-existent directory: '../../../data/GLAMOS/topo/gridded_topo_inputs/RGI_grid/taelliboden'\n",
      "Converting to monthly time resolution for 2019...\n"
     ]
    },
    {
     "name": "stderr",
     "output_type": "stream",
     "text": [
      "Traceback (most recent call last):\n",
      "  File \"/tmp/ipykernel_72266/2765871222.py\", line 76, in <module>\n",
      "    dataset_grid_yearly.data.to_parquet(save_path, engine=\"pyarrow\", compression=\"snappy\")\n",
      "  File \"/home/vmarijn/mambaforge/envs/MassBalanceMachine/lib/python3.11/site-packages/pandas/util/_decorators.py\", line 333, in wrapper\n",
      "    return func(*args, **kwargs)\n",
      "           ^^^^^^^^^^^^^^^^^^^^^\n",
      "  File \"/home/vmarijn/mambaforge/envs/MassBalanceMachine/lib/python3.11/site-packages/pandas/core/frame.py\", line 3113, in to_parquet\n",
      "    return to_parquet(\n",
      "           ^^^^^^^^^^^\n",
      "  File \"/home/vmarijn/mambaforge/envs/MassBalanceMachine/lib/python3.11/site-packages/pandas/io/parquet.py\", line 480, in to_parquet\n",
      "    impl.write(\n",
      "  File \"/home/vmarijn/mambaforge/envs/MassBalanceMachine/lib/python3.11/site-packages/pandas/io/parquet.py\", line 198, in write\n",
      "    path_or_handle, handles, filesystem = _get_path_or_handle(\n",
      "                                          ^^^^^^^^^^^^^^^^^^^^\n",
      "  File \"/home/vmarijn/mambaforge/envs/MassBalanceMachine/lib/python3.11/site-packages/pandas/io/parquet.py\", line 140, in _get_path_or_handle\n",
      "    handles = get_handle(\n",
      "              ^^^^^^^^^^^\n",
      "  File \"/home/vmarijn/mambaforge/envs/MassBalanceMachine/lib/python3.11/site-packages/pandas/io/common.py\", line 749, in get_handle\n",
      "    check_parent_directory(str(handle))\n",
      "  File \"/home/vmarijn/mambaforge/envs/MassBalanceMachine/lib/python3.11/site-packages/pandas/io/common.py\", line 616, in check_parent_directory\n",
      "    raise OSError(rf\"Cannot save file into a non-existent directory: '{parent}'\")\n",
      "OSError: Cannot save file into a non-existent directory: '../../../data/GLAMOS/topo/gridded_topo_inputs/RGI_grid/taelliboden'\n"
     ]
    },
    {
     "name": "stdout",
     "output_type": "stream",
     "text": [
      "Saving gridded dataset to: ../../../data/GLAMOS/topo/gridded_topo_inputs/RGI_grid/taelliboden/taelliboden_grid_2019.parquet\n",
      "⚠️ Error processing glacier 'taelliboden' for year 2019: Cannot save file into a non-existent directory: '../../../data/GLAMOS/topo/gridded_topo_inputs/RGI_grid/taelliboden'\n",
      "Converting to monthly time resolution for 2020...\n"
     ]
    },
    {
     "name": "stderr",
     "output_type": "stream",
     "text": [
      "Traceback (most recent call last):\n",
      "  File \"/tmp/ipykernel_72266/2765871222.py\", line 76, in <module>\n",
      "    dataset_grid_yearly.data.to_parquet(save_path, engine=\"pyarrow\", compression=\"snappy\")\n",
      "  File \"/home/vmarijn/mambaforge/envs/MassBalanceMachine/lib/python3.11/site-packages/pandas/util/_decorators.py\", line 333, in wrapper\n",
      "    return func(*args, **kwargs)\n",
      "           ^^^^^^^^^^^^^^^^^^^^^\n",
      "  File \"/home/vmarijn/mambaforge/envs/MassBalanceMachine/lib/python3.11/site-packages/pandas/core/frame.py\", line 3113, in to_parquet\n",
      "    return to_parquet(\n",
      "           ^^^^^^^^^^^\n",
      "  File \"/home/vmarijn/mambaforge/envs/MassBalanceMachine/lib/python3.11/site-packages/pandas/io/parquet.py\", line 480, in to_parquet\n",
      "    impl.write(\n",
      "  File \"/home/vmarijn/mambaforge/envs/MassBalanceMachine/lib/python3.11/site-packages/pandas/io/parquet.py\", line 198, in write\n",
      "    path_or_handle, handles, filesystem = _get_path_or_handle(\n",
      "                                          ^^^^^^^^^^^^^^^^^^^^\n",
      "  File \"/home/vmarijn/mambaforge/envs/MassBalanceMachine/lib/python3.11/site-packages/pandas/io/parquet.py\", line 140, in _get_path_or_handle\n",
      "    handles = get_handle(\n",
      "              ^^^^^^^^^^^\n",
      "  File \"/home/vmarijn/mambaforge/envs/MassBalanceMachine/lib/python3.11/site-packages/pandas/io/common.py\", line 749, in get_handle\n",
      "    check_parent_directory(str(handle))\n",
      "  File \"/home/vmarijn/mambaforge/envs/MassBalanceMachine/lib/python3.11/site-packages/pandas/io/common.py\", line 616, in check_parent_directory\n",
      "    raise OSError(rf\"Cannot save file into a non-existent directory: '{parent}'\")\n",
      "OSError: Cannot save file into a non-existent directory: '../../../data/GLAMOS/topo/gridded_topo_inputs/RGI_grid/taelliboden'\n"
     ]
    },
    {
     "name": "stdout",
     "output_type": "stream",
     "text": [
      "Saving gridded dataset to: ../../../data/GLAMOS/topo/gridded_topo_inputs/RGI_grid/taelliboden/taelliboden_grid_2020.parquet\n",
      "⚠️ Error processing glacier 'taelliboden' for year 2020: Cannot save file into a non-existent directory: '../../../data/GLAMOS/topo/gridded_topo_inputs/RGI_grid/taelliboden'\n",
      "Converting to monthly time resolution for 2021...\n"
     ]
    },
    {
     "name": "stderr",
     "output_type": "stream",
     "text": [
      "Traceback (most recent call last):\n",
      "  File \"/tmp/ipykernel_72266/2765871222.py\", line 76, in <module>\n",
      "    dataset_grid_yearly.data.to_parquet(save_path, engine=\"pyarrow\", compression=\"snappy\")\n",
      "  File \"/home/vmarijn/mambaforge/envs/MassBalanceMachine/lib/python3.11/site-packages/pandas/util/_decorators.py\", line 333, in wrapper\n",
      "    return func(*args, **kwargs)\n",
      "           ^^^^^^^^^^^^^^^^^^^^^\n",
      "  File \"/home/vmarijn/mambaforge/envs/MassBalanceMachine/lib/python3.11/site-packages/pandas/core/frame.py\", line 3113, in to_parquet\n",
      "    return to_parquet(\n",
      "           ^^^^^^^^^^^\n",
      "  File \"/home/vmarijn/mambaforge/envs/MassBalanceMachine/lib/python3.11/site-packages/pandas/io/parquet.py\", line 480, in to_parquet\n",
      "    impl.write(\n",
      "  File \"/home/vmarijn/mambaforge/envs/MassBalanceMachine/lib/python3.11/site-packages/pandas/io/parquet.py\", line 198, in write\n",
      "    path_or_handle, handles, filesystem = _get_path_or_handle(\n",
      "                                          ^^^^^^^^^^^^^^^^^^^^\n",
      "  File \"/home/vmarijn/mambaforge/envs/MassBalanceMachine/lib/python3.11/site-packages/pandas/io/parquet.py\", line 140, in _get_path_or_handle\n",
      "    handles = get_handle(\n",
      "              ^^^^^^^^^^^\n",
      "  File \"/home/vmarijn/mambaforge/envs/MassBalanceMachine/lib/python3.11/site-packages/pandas/io/common.py\", line 749, in get_handle\n",
      "    check_parent_directory(str(handle))\n",
      "  File \"/home/vmarijn/mambaforge/envs/MassBalanceMachine/lib/python3.11/site-packages/pandas/io/common.py\", line 616, in check_parent_directory\n",
      "    raise OSError(rf\"Cannot save file into a non-existent directory: '{parent}'\")\n",
      "OSError: Cannot save file into a non-existent directory: '../../../data/GLAMOS/topo/gridded_topo_inputs/RGI_grid/taelliboden'\n"
     ]
    },
    {
     "name": "stdout",
     "output_type": "stream",
     "text": [
      "Saving gridded dataset to: ../../../data/GLAMOS/topo/gridded_topo_inputs/RGI_grid/taelliboden/taelliboden_grid_2021.parquet\n",
      "⚠️ Error processing glacier 'taelliboden' for year 2021: Cannot save file into a non-existent directory: '../../../data/GLAMOS/topo/gridded_topo_inputs/RGI_grid/taelliboden'\n",
      "Converting to monthly time resolution for 2022...\n"
     ]
    },
    {
     "name": "stderr",
     "output_type": "stream",
     "text": [
      "Traceback (most recent call last):\n",
      "  File \"/tmp/ipykernel_72266/2765871222.py\", line 76, in <module>\n",
      "    dataset_grid_yearly.data.to_parquet(save_path, engine=\"pyarrow\", compression=\"snappy\")\n",
      "  File \"/home/vmarijn/mambaforge/envs/MassBalanceMachine/lib/python3.11/site-packages/pandas/util/_decorators.py\", line 333, in wrapper\n",
      "    return func(*args, **kwargs)\n",
      "           ^^^^^^^^^^^^^^^^^^^^^\n",
      "  File \"/home/vmarijn/mambaforge/envs/MassBalanceMachine/lib/python3.11/site-packages/pandas/core/frame.py\", line 3113, in to_parquet\n",
      "    return to_parquet(\n",
      "           ^^^^^^^^^^^\n",
      "  File \"/home/vmarijn/mambaforge/envs/MassBalanceMachine/lib/python3.11/site-packages/pandas/io/parquet.py\", line 480, in to_parquet\n",
      "    impl.write(\n",
      "  File \"/home/vmarijn/mambaforge/envs/MassBalanceMachine/lib/python3.11/site-packages/pandas/io/parquet.py\", line 198, in write\n",
      "    path_or_handle, handles, filesystem = _get_path_or_handle(\n",
      "                                          ^^^^^^^^^^^^^^^^^^^^\n",
      "  File \"/home/vmarijn/mambaforge/envs/MassBalanceMachine/lib/python3.11/site-packages/pandas/io/parquet.py\", line 140, in _get_path_or_handle\n",
      "    handles = get_handle(\n",
      "              ^^^^^^^^^^^\n",
      "  File \"/home/vmarijn/mambaforge/envs/MassBalanceMachine/lib/python3.11/site-packages/pandas/io/common.py\", line 749, in get_handle\n",
      "    check_parent_directory(str(handle))\n",
      "  File \"/home/vmarijn/mambaforge/envs/MassBalanceMachine/lib/python3.11/site-packages/pandas/io/common.py\", line 616, in check_parent_directory\n",
      "    raise OSError(rf\"Cannot save file into a non-existent directory: '{parent}'\")\n",
      "OSError: Cannot save file into a non-existent directory: '../../../data/GLAMOS/topo/gridded_topo_inputs/RGI_grid/taelliboden'\n",
      "Traceback (most recent call last):\n",
      "  File \"/tmp/ipykernel_72266/2765871222.py\", line 76, in <module>\n",
      "    dataset_grid_yearly.data.to_parquet(save_path, engine=\"pyarrow\", compression=\"snappy\")\n",
      "  File \"/home/vmarijn/mambaforge/envs/MassBalanceMachine/lib/python3.11/site-packages/pandas/util/_decorators.py\", line 333, in wrapper\n",
      "    return func(*args, **kwargs)\n",
      "           ^^^^^^^^^^^^^^^^^^^^^\n",
      "  File \"/home/vmarijn/mambaforge/envs/MassBalanceMachine/lib/python3.11/site-packages/pandas/core/frame.py\", line 3113, in to_parquet\n",
      "    return to_parquet(\n",
      "           ^^^^^^^^^^^\n",
      "  File \"/home/vmarijn/mambaforge/envs/MassBalanceMachine/lib/python3.11/site-packages/pandas/io/parquet.py\", line 480, in to_parquet\n",
      "    impl.write(\n",
      "  File \"/home/vmarijn/mambaforge/envs/MassBalanceMachine/lib/python3.11/site-packages/pandas/io/parquet.py\", line 198, in write\n",
      "    path_or_handle, handles, filesystem = _get_path_or_handle(\n",
      "                                          ^^^^^^^^^^^^^^^^^^^^\n",
      "  File \"/home/vmarijn/mambaforge/envs/MassBalanceMachine/lib/python3.11/site-packages/pandas/io/parquet.py\", line 140, in _get_path_or_handle\n",
      "    handles = get_handle(\n",
      "              ^^^^^^^^^^^\n",
      "  File \"/home/vmarijn/mambaforge/envs/MassBalanceMachine/lib/python3.11/site-packages/pandas/io/common.py\", line 749, in get_handle\n",
      "    check_parent_directory(str(handle))\n",
      "  File \"/home/vmarijn/mambaforge/envs/MassBalanceMachine/lib/python3.11/site-packages/pandas/io/common.py\", line 616, in check_parent_directory\n",
      "    raise OSError(rf\"Cannot save file into a non-existent directory: '{parent}'\")\n",
      "OSError: Cannot save file into a non-existent directory: '../../../data/GLAMOS/topo/gridded_topo_inputs/RGI_grid/taelliboden'\n",
      "2025-03-03 14:13:02: oggm.cfg: Reading default parameters from the OGGM `params.cfg` configuration file.\n",
      "2025-03-03 14:13:02: oggm.cfg: Multiprocessing switched OFF according to the parameter file.\n",
      "2025-03-03 14:13:02: oggm.cfg: Multiprocessing: using all available processors (N=32)\n",
      "2025-03-03 14:13:02: oggm.cfg: PARAMS['border'] changed from `80` to `10`.\n",
      "2025-03-03 14:13:02: oggm.cfg: Multiprocessing switched ON after user settings.\n",
      "2025-03-03 14:13:02: oggm.cfg: PARAMS['continue_on_error'] changed from `False` to `True`.\n",
      "2025-03-03 14:13:02: oggm.workflow: init_glacier_directories from prepro level 3 on 1 glaciers.\n",
      "2025-03-03 14:13:02: oggm.workflow: Execute entity tasks [gdir_from_prepro] on 1 glaciers\n"
     ]
    },
    {
     "name": "stdout",
     "output_type": "stream",
     "text": [
      "Saving gridded dataset to: ../../../data/GLAMOS/topo/gridded_topo_inputs/RGI_grid/taelliboden/taelliboden_grid_2022.parquet\n",
      "⚠️ Error processing glacier 'taelliboden' for year 2022: Cannot save file into a non-existent directory: '../../../data/GLAMOS/topo/gridded_topo_inputs/RGI_grid/taelliboden'\n",
      "\n",
      "-----------------------------------\n",
      "Processing: pizol\n"
     ]
    },
    {
     "name": "stderr",
     "output_type": "stream",
     "text": [
      "2025-03-03 14:13:02: oggm.workflow: Execute entity tasks [gridded_attributes] on 1 glaciers\n"
     ]
    },
    {
     "name": "stdout",
     "output_type": "stream",
     "text": [
      "Adding climate data...\n",
      "Adding potential clear sky radiation...\n",
      "Converting to monthly time resolution for 1951...\n",
      "Saving gridded dataset to: ../../../data/GLAMOS/topo/gridded_topo_inputs/RGI_grid/pizol/pizol_grid_1951.parquet\n",
      "⚠️ Error processing glacier 'pizol' for year 1951: Cannot save file into a non-existent directory: '../../../data/GLAMOS/topo/gridded_topo_inputs/RGI_grid/pizol'\n",
      "Converting to monthly time resolution for 1952...\n"
     ]
    },
    {
     "name": "stderr",
     "output_type": "stream",
     "text": [
      "Traceback (most recent call last):\n",
      "  File \"/tmp/ipykernel_72266/2765871222.py\", line 76, in <module>\n",
      "    dataset_grid_yearly.data.to_parquet(save_path, engine=\"pyarrow\", compression=\"snappy\")\n",
      "  File \"/home/vmarijn/mambaforge/envs/MassBalanceMachine/lib/python3.11/site-packages/pandas/util/_decorators.py\", line 333, in wrapper\n",
      "    return func(*args, **kwargs)\n",
      "           ^^^^^^^^^^^^^^^^^^^^^\n",
      "  File \"/home/vmarijn/mambaforge/envs/MassBalanceMachine/lib/python3.11/site-packages/pandas/core/frame.py\", line 3113, in to_parquet\n",
      "    return to_parquet(\n",
      "           ^^^^^^^^^^^\n",
      "  File \"/home/vmarijn/mambaforge/envs/MassBalanceMachine/lib/python3.11/site-packages/pandas/io/parquet.py\", line 480, in to_parquet\n",
      "    impl.write(\n",
      "  File \"/home/vmarijn/mambaforge/envs/MassBalanceMachine/lib/python3.11/site-packages/pandas/io/parquet.py\", line 198, in write\n",
      "    path_or_handle, handles, filesystem = _get_path_or_handle(\n",
      "                                          ^^^^^^^^^^^^^^^^^^^^\n",
      "  File \"/home/vmarijn/mambaforge/envs/MassBalanceMachine/lib/python3.11/site-packages/pandas/io/parquet.py\", line 140, in _get_path_or_handle\n",
      "    handles = get_handle(\n",
      "              ^^^^^^^^^^^\n",
      "  File \"/home/vmarijn/mambaforge/envs/MassBalanceMachine/lib/python3.11/site-packages/pandas/io/common.py\", line 749, in get_handle\n",
      "    check_parent_directory(str(handle))\n",
      "  File \"/home/vmarijn/mambaforge/envs/MassBalanceMachine/lib/python3.11/site-packages/pandas/io/common.py\", line 616, in check_parent_directory\n",
      "    raise OSError(rf\"Cannot save file into a non-existent directory: '{parent}'\")\n",
      "OSError: Cannot save file into a non-existent directory: '../../../data/GLAMOS/topo/gridded_topo_inputs/RGI_grid/pizol'\n"
     ]
    },
    {
     "name": "stdout",
     "output_type": "stream",
     "text": [
      "Saving gridded dataset to: ../../../data/GLAMOS/topo/gridded_topo_inputs/RGI_grid/pizol/pizol_grid_1952.parquet\n",
      "⚠️ Error processing glacier 'pizol' for year 1952: Cannot save file into a non-existent directory: '../../../data/GLAMOS/topo/gridded_topo_inputs/RGI_grid/pizol'\n",
      "Converting to monthly time resolution for 1953...\n"
     ]
    },
    {
     "name": "stderr",
     "output_type": "stream",
     "text": [
      "Traceback (most recent call last):\n",
      "  File \"/tmp/ipykernel_72266/2765871222.py\", line 76, in <module>\n",
      "    dataset_grid_yearly.data.to_parquet(save_path, engine=\"pyarrow\", compression=\"snappy\")\n",
      "  File \"/home/vmarijn/mambaforge/envs/MassBalanceMachine/lib/python3.11/site-packages/pandas/util/_decorators.py\", line 333, in wrapper\n",
      "    return func(*args, **kwargs)\n",
      "           ^^^^^^^^^^^^^^^^^^^^^\n",
      "  File \"/home/vmarijn/mambaforge/envs/MassBalanceMachine/lib/python3.11/site-packages/pandas/core/frame.py\", line 3113, in to_parquet\n",
      "    return to_parquet(\n",
      "           ^^^^^^^^^^^\n",
      "  File \"/home/vmarijn/mambaforge/envs/MassBalanceMachine/lib/python3.11/site-packages/pandas/io/parquet.py\", line 480, in to_parquet\n",
      "    impl.write(\n",
      "  File \"/home/vmarijn/mambaforge/envs/MassBalanceMachine/lib/python3.11/site-packages/pandas/io/parquet.py\", line 198, in write\n",
      "    path_or_handle, handles, filesystem = _get_path_or_handle(\n",
      "                                          ^^^^^^^^^^^^^^^^^^^^\n",
      "  File \"/home/vmarijn/mambaforge/envs/MassBalanceMachine/lib/python3.11/site-packages/pandas/io/parquet.py\", line 140, in _get_path_or_handle\n",
      "    handles = get_handle(\n",
      "              ^^^^^^^^^^^\n",
      "  File \"/home/vmarijn/mambaforge/envs/MassBalanceMachine/lib/python3.11/site-packages/pandas/io/common.py\", line 749, in get_handle\n",
      "    check_parent_directory(str(handle))\n",
      "  File \"/home/vmarijn/mambaforge/envs/MassBalanceMachine/lib/python3.11/site-packages/pandas/io/common.py\", line 616, in check_parent_directory\n",
      "    raise OSError(rf\"Cannot save file into a non-existent directory: '{parent}'\")\n",
      "OSError: Cannot save file into a non-existent directory: '../../../data/GLAMOS/topo/gridded_topo_inputs/RGI_grid/pizol'\n"
     ]
    },
    {
     "name": "stdout",
     "output_type": "stream",
     "text": [
      "Saving gridded dataset to: ../../../data/GLAMOS/topo/gridded_topo_inputs/RGI_grid/pizol/pizol_grid_1953.parquet\n",
      "⚠️ Error processing glacier 'pizol' for year 1953: Cannot save file into a non-existent directory: '../../../data/GLAMOS/topo/gridded_topo_inputs/RGI_grid/pizol'\n",
      "Converting to monthly time resolution for 1954...\n"
     ]
    },
    {
     "name": "stderr",
     "output_type": "stream",
     "text": [
      "Traceback (most recent call last):\n",
      "  File \"/tmp/ipykernel_72266/2765871222.py\", line 76, in <module>\n",
      "    dataset_grid_yearly.data.to_parquet(save_path, engine=\"pyarrow\", compression=\"snappy\")\n",
      "  File \"/home/vmarijn/mambaforge/envs/MassBalanceMachine/lib/python3.11/site-packages/pandas/util/_decorators.py\", line 333, in wrapper\n",
      "    return func(*args, **kwargs)\n",
      "           ^^^^^^^^^^^^^^^^^^^^^\n",
      "  File \"/home/vmarijn/mambaforge/envs/MassBalanceMachine/lib/python3.11/site-packages/pandas/core/frame.py\", line 3113, in to_parquet\n",
      "    return to_parquet(\n",
      "           ^^^^^^^^^^^\n",
      "  File \"/home/vmarijn/mambaforge/envs/MassBalanceMachine/lib/python3.11/site-packages/pandas/io/parquet.py\", line 480, in to_parquet\n",
      "    impl.write(\n",
      "  File \"/home/vmarijn/mambaforge/envs/MassBalanceMachine/lib/python3.11/site-packages/pandas/io/parquet.py\", line 198, in write\n",
      "    path_or_handle, handles, filesystem = _get_path_or_handle(\n",
      "                                          ^^^^^^^^^^^^^^^^^^^^\n",
      "  File \"/home/vmarijn/mambaforge/envs/MassBalanceMachine/lib/python3.11/site-packages/pandas/io/parquet.py\", line 140, in _get_path_or_handle\n",
      "    handles = get_handle(\n",
      "              ^^^^^^^^^^^\n",
      "  File \"/home/vmarijn/mambaforge/envs/MassBalanceMachine/lib/python3.11/site-packages/pandas/io/common.py\", line 749, in get_handle\n",
      "    check_parent_directory(str(handle))\n",
      "  File \"/home/vmarijn/mambaforge/envs/MassBalanceMachine/lib/python3.11/site-packages/pandas/io/common.py\", line 616, in check_parent_directory\n",
      "    raise OSError(rf\"Cannot save file into a non-existent directory: '{parent}'\")\n",
      "OSError: Cannot save file into a non-existent directory: '../../../data/GLAMOS/topo/gridded_topo_inputs/RGI_grid/pizol'\n"
     ]
    },
    {
     "name": "stdout",
     "output_type": "stream",
     "text": [
      "Saving gridded dataset to: ../../../data/GLAMOS/topo/gridded_topo_inputs/RGI_grid/pizol/pizol_grid_1954.parquet\n",
      "⚠️ Error processing glacier 'pizol' for year 1954: Cannot save file into a non-existent directory: '../../../data/GLAMOS/topo/gridded_topo_inputs/RGI_grid/pizol'\n",
      "Converting to monthly time resolution for 1955...\n"
     ]
    },
    {
     "name": "stderr",
     "output_type": "stream",
     "text": [
      "Traceback (most recent call last):\n",
      "  File \"/tmp/ipykernel_72266/2765871222.py\", line 76, in <module>\n",
      "    dataset_grid_yearly.data.to_parquet(save_path, engine=\"pyarrow\", compression=\"snappy\")\n",
      "  File \"/home/vmarijn/mambaforge/envs/MassBalanceMachine/lib/python3.11/site-packages/pandas/util/_decorators.py\", line 333, in wrapper\n",
      "    return func(*args, **kwargs)\n",
      "           ^^^^^^^^^^^^^^^^^^^^^\n",
      "  File \"/home/vmarijn/mambaforge/envs/MassBalanceMachine/lib/python3.11/site-packages/pandas/core/frame.py\", line 3113, in to_parquet\n",
      "    return to_parquet(\n",
      "           ^^^^^^^^^^^\n",
      "  File \"/home/vmarijn/mambaforge/envs/MassBalanceMachine/lib/python3.11/site-packages/pandas/io/parquet.py\", line 480, in to_parquet\n",
      "    impl.write(\n",
      "  File \"/home/vmarijn/mambaforge/envs/MassBalanceMachine/lib/python3.11/site-packages/pandas/io/parquet.py\", line 198, in write\n",
      "    path_or_handle, handles, filesystem = _get_path_or_handle(\n",
      "                                          ^^^^^^^^^^^^^^^^^^^^\n",
      "  File \"/home/vmarijn/mambaforge/envs/MassBalanceMachine/lib/python3.11/site-packages/pandas/io/parquet.py\", line 140, in _get_path_or_handle\n",
      "    handles = get_handle(\n",
      "              ^^^^^^^^^^^\n",
      "  File \"/home/vmarijn/mambaforge/envs/MassBalanceMachine/lib/python3.11/site-packages/pandas/io/common.py\", line 749, in get_handle\n",
      "    check_parent_directory(str(handle))\n",
      "  File \"/home/vmarijn/mambaforge/envs/MassBalanceMachine/lib/python3.11/site-packages/pandas/io/common.py\", line 616, in check_parent_directory\n",
      "    raise OSError(rf\"Cannot save file into a non-existent directory: '{parent}'\")\n",
      "OSError: Cannot save file into a non-existent directory: '../../../data/GLAMOS/topo/gridded_topo_inputs/RGI_grid/pizol'\n"
     ]
    },
    {
     "name": "stdout",
     "output_type": "stream",
     "text": [
      "Saving gridded dataset to: ../../../data/GLAMOS/topo/gridded_topo_inputs/RGI_grid/pizol/pizol_grid_1955.parquet\n",
      "⚠️ Error processing glacier 'pizol' for year 1955: Cannot save file into a non-existent directory: '../../../data/GLAMOS/topo/gridded_topo_inputs/RGI_grid/pizol'\n",
      "Converting to monthly time resolution for 1956...\n"
     ]
    },
    {
     "name": "stderr",
     "output_type": "stream",
     "text": [
      "Traceback (most recent call last):\n",
      "  File \"/tmp/ipykernel_72266/2765871222.py\", line 76, in <module>\n",
      "    dataset_grid_yearly.data.to_parquet(save_path, engine=\"pyarrow\", compression=\"snappy\")\n",
      "  File \"/home/vmarijn/mambaforge/envs/MassBalanceMachine/lib/python3.11/site-packages/pandas/util/_decorators.py\", line 333, in wrapper\n",
      "    return func(*args, **kwargs)\n",
      "           ^^^^^^^^^^^^^^^^^^^^^\n",
      "  File \"/home/vmarijn/mambaforge/envs/MassBalanceMachine/lib/python3.11/site-packages/pandas/core/frame.py\", line 3113, in to_parquet\n",
      "    return to_parquet(\n",
      "           ^^^^^^^^^^^\n",
      "  File \"/home/vmarijn/mambaforge/envs/MassBalanceMachine/lib/python3.11/site-packages/pandas/io/parquet.py\", line 480, in to_parquet\n",
      "    impl.write(\n",
      "  File \"/home/vmarijn/mambaforge/envs/MassBalanceMachine/lib/python3.11/site-packages/pandas/io/parquet.py\", line 198, in write\n",
      "    path_or_handle, handles, filesystem = _get_path_or_handle(\n",
      "                                          ^^^^^^^^^^^^^^^^^^^^\n",
      "  File \"/home/vmarijn/mambaforge/envs/MassBalanceMachine/lib/python3.11/site-packages/pandas/io/parquet.py\", line 140, in _get_path_or_handle\n",
      "    handles = get_handle(\n",
      "              ^^^^^^^^^^^\n",
      "  File \"/home/vmarijn/mambaforge/envs/MassBalanceMachine/lib/python3.11/site-packages/pandas/io/common.py\", line 749, in get_handle\n",
      "    check_parent_directory(str(handle))\n",
      "  File \"/home/vmarijn/mambaforge/envs/MassBalanceMachine/lib/python3.11/site-packages/pandas/io/common.py\", line 616, in check_parent_directory\n",
      "    raise OSError(rf\"Cannot save file into a non-existent directory: '{parent}'\")\n",
      "OSError: Cannot save file into a non-existent directory: '../../../data/GLAMOS/topo/gridded_topo_inputs/RGI_grid/pizol'\n"
     ]
    },
    {
     "name": "stdout",
     "output_type": "stream",
     "text": [
      "Saving gridded dataset to: ../../../data/GLAMOS/topo/gridded_topo_inputs/RGI_grid/pizol/pizol_grid_1956.parquet\n",
      "⚠️ Error processing glacier 'pizol' for year 1956: Cannot save file into a non-existent directory: '../../../data/GLAMOS/topo/gridded_topo_inputs/RGI_grid/pizol'\n",
      "Converting to monthly time resolution for 1957...\n"
     ]
    },
    {
     "name": "stderr",
     "output_type": "stream",
     "text": [
      "Traceback (most recent call last):\n",
      "  File \"/tmp/ipykernel_72266/2765871222.py\", line 76, in <module>\n",
      "    dataset_grid_yearly.data.to_parquet(save_path, engine=\"pyarrow\", compression=\"snappy\")\n",
      "  File \"/home/vmarijn/mambaforge/envs/MassBalanceMachine/lib/python3.11/site-packages/pandas/util/_decorators.py\", line 333, in wrapper\n",
      "    return func(*args, **kwargs)\n",
      "           ^^^^^^^^^^^^^^^^^^^^^\n",
      "  File \"/home/vmarijn/mambaforge/envs/MassBalanceMachine/lib/python3.11/site-packages/pandas/core/frame.py\", line 3113, in to_parquet\n",
      "    return to_parquet(\n",
      "           ^^^^^^^^^^^\n",
      "  File \"/home/vmarijn/mambaforge/envs/MassBalanceMachine/lib/python3.11/site-packages/pandas/io/parquet.py\", line 480, in to_parquet\n",
      "    impl.write(\n",
      "  File \"/home/vmarijn/mambaforge/envs/MassBalanceMachine/lib/python3.11/site-packages/pandas/io/parquet.py\", line 198, in write\n",
      "    path_or_handle, handles, filesystem = _get_path_or_handle(\n",
      "                                          ^^^^^^^^^^^^^^^^^^^^\n",
      "  File \"/home/vmarijn/mambaforge/envs/MassBalanceMachine/lib/python3.11/site-packages/pandas/io/parquet.py\", line 140, in _get_path_or_handle\n",
      "    handles = get_handle(\n",
      "              ^^^^^^^^^^^\n",
      "  File \"/home/vmarijn/mambaforge/envs/MassBalanceMachine/lib/python3.11/site-packages/pandas/io/common.py\", line 749, in get_handle\n",
      "    check_parent_directory(str(handle))\n",
      "  File \"/home/vmarijn/mambaforge/envs/MassBalanceMachine/lib/python3.11/site-packages/pandas/io/common.py\", line 616, in check_parent_directory\n",
      "    raise OSError(rf\"Cannot save file into a non-existent directory: '{parent}'\")\n",
      "OSError: Cannot save file into a non-existent directory: '../../../data/GLAMOS/topo/gridded_topo_inputs/RGI_grid/pizol'\n"
     ]
    },
    {
     "name": "stdout",
     "output_type": "stream",
     "text": [
      "Saving gridded dataset to: ../../../data/GLAMOS/topo/gridded_topo_inputs/RGI_grid/pizol/pizol_grid_1957.parquet\n",
      "⚠️ Error processing glacier 'pizol' for year 1957: Cannot save file into a non-existent directory: '../../../data/GLAMOS/topo/gridded_topo_inputs/RGI_grid/pizol'\n",
      "Converting to monthly time resolution for 1958...\n"
     ]
    },
    {
     "name": "stderr",
     "output_type": "stream",
     "text": [
      "Traceback (most recent call last):\n",
      "  File \"/tmp/ipykernel_72266/2765871222.py\", line 76, in <module>\n",
      "    dataset_grid_yearly.data.to_parquet(save_path, engine=\"pyarrow\", compression=\"snappy\")\n",
      "  File \"/home/vmarijn/mambaforge/envs/MassBalanceMachine/lib/python3.11/site-packages/pandas/util/_decorators.py\", line 333, in wrapper\n",
      "    return func(*args, **kwargs)\n",
      "           ^^^^^^^^^^^^^^^^^^^^^\n",
      "  File \"/home/vmarijn/mambaforge/envs/MassBalanceMachine/lib/python3.11/site-packages/pandas/core/frame.py\", line 3113, in to_parquet\n",
      "    return to_parquet(\n",
      "           ^^^^^^^^^^^\n",
      "  File \"/home/vmarijn/mambaforge/envs/MassBalanceMachine/lib/python3.11/site-packages/pandas/io/parquet.py\", line 480, in to_parquet\n",
      "    impl.write(\n",
      "  File \"/home/vmarijn/mambaforge/envs/MassBalanceMachine/lib/python3.11/site-packages/pandas/io/parquet.py\", line 198, in write\n",
      "    path_or_handle, handles, filesystem = _get_path_or_handle(\n",
      "                                          ^^^^^^^^^^^^^^^^^^^^\n",
      "  File \"/home/vmarijn/mambaforge/envs/MassBalanceMachine/lib/python3.11/site-packages/pandas/io/parquet.py\", line 140, in _get_path_or_handle\n",
      "    handles = get_handle(\n",
      "              ^^^^^^^^^^^\n",
      "  File \"/home/vmarijn/mambaforge/envs/MassBalanceMachine/lib/python3.11/site-packages/pandas/io/common.py\", line 749, in get_handle\n",
      "    check_parent_directory(str(handle))\n",
      "  File \"/home/vmarijn/mambaforge/envs/MassBalanceMachine/lib/python3.11/site-packages/pandas/io/common.py\", line 616, in check_parent_directory\n",
      "    raise OSError(rf\"Cannot save file into a non-existent directory: '{parent}'\")\n",
      "OSError: Cannot save file into a non-existent directory: '../../../data/GLAMOS/topo/gridded_topo_inputs/RGI_grid/pizol'\n"
     ]
    },
    {
     "name": "stdout",
     "output_type": "stream",
     "text": [
      "Saving gridded dataset to: ../../../data/GLAMOS/topo/gridded_topo_inputs/RGI_grid/pizol/pizol_grid_1958.parquet\n",
      "⚠️ Error processing glacier 'pizol' for year 1958: Cannot save file into a non-existent directory: '../../../data/GLAMOS/topo/gridded_topo_inputs/RGI_grid/pizol'\n",
      "Converting to monthly time resolution for 1959...\n"
     ]
    },
    {
     "name": "stderr",
     "output_type": "stream",
     "text": [
      "Traceback (most recent call last):\n",
      "  File \"/tmp/ipykernel_72266/2765871222.py\", line 76, in <module>\n",
      "    dataset_grid_yearly.data.to_parquet(save_path, engine=\"pyarrow\", compression=\"snappy\")\n",
      "  File \"/home/vmarijn/mambaforge/envs/MassBalanceMachine/lib/python3.11/site-packages/pandas/util/_decorators.py\", line 333, in wrapper\n",
      "    return func(*args, **kwargs)\n",
      "           ^^^^^^^^^^^^^^^^^^^^^\n",
      "  File \"/home/vmarijn/mambaforge/envs/MassBalanceMachine/lib/python3.11/site-packages/pandas/core/frame.py\", line 3113, in to_parquet\n",
      "    return to_parquet(\n",
      "           ^^^^^^^^^^^\n",
      "  File \"/home/vmarijn/mambaforge/envs/MassBalanceMachine/lib/python3.11/site-packages/pandas/io/parquet.py\", line 480, in to_parquet\n",
      "    impl.write(\n",
      "  File \"/home/vmarijn/mambaforge/envs/MassBalanceMachine/lib/python3.11/site-packages/pandas/io/parquet.py\", line 198, in write\n",
      "    path_or_handle, handles, filesystem = _get_path_or_handle(\n",
      "                                          ^^^^^^^^^^^^^^^^^^^^\n",
      "  File \"/home/vmarijn/mambaforge/envs/MassBalanceMachine/lib/python3.11/site-packages/pandas/io/parquet.py\", line 140, in _get_path_or_handle\n",
      "    handles = get_handle(\n",
      "              ^^^^^^^^^^^\n",
      "  File \"/home/vmarijn/mambaforge/envs/MassBalanceMachine/lib/python3.11/site-packages/pandas/io/common.py\", line 749, in get_handle\n",
      "    check_parent_directory(str(handle))\n",
      "  File \"/home/vmarijn/mambaforge/envs/MassBalanceMachine/lib/python3.11/site-packages/pandas/io/common.py\", line 616, in check_parent_directory\n",
      "    raise OSError(rf\"Cannot save file into a non-existent directory: '{parent}'\")\n",
      "OSError: Cannot save file into a non-existent directory: '../../../data/GLAMOS/topo/gridded_topo_inputs/RGI_grid/pizol'\n"
     ]
    },
    {
     "name": "stdout",
     "output_type": "stream",
     "text": [
      "Saving gridded dataset to: ../../../data/GLAMOS/topo/gridded_topo_inputs/RGI_grid/pizol/pizol_grid_1959.parquet\n",
      "⚠️ Error processing glacier 'pizol' for year 1959: Cannot save file into a non-existent directory: '../../../data/GLAMOS/topo/gridded_topo_inputs/RGI_grid/pizol'\n",
      "Converting to monthly time resolution for 1960...\n"
     ]
    },
    {
     "name": "stderr",
     "output_type": "stream",
     "text": [
      "Traceback (most recent call last):\n",
      "  File \"/tmp/ipykernel_72266/2765871222.py\", line 76, in <module>\n",
      "    dataset_grid_yearly.data.to_parquet(save_path, engine=\"pyarrow\", compression=\"snappy\")\n",
      "  File \"/home/vmarijn/mambaforge/envs/MassBalanceMachine/lib/python3.11/site-packages/pandas/util/_decorators.py\", line 333, in wrapper\n",
      "    return func(*args, **kwargs)\n",
      "           ^^^^^^^^^^^^^^^^^^^^^\n",
      "  File \"/home/vmarijn/mambaforge/envs/MassBalanceMachine/lib/python3.11/site-packages/pandas/core/frame.py\", line 3113, in to_parquet\n",
      "    return to_parquet(\n",
      "           ^^^^^^^^^^^\n",
      "  File \"/home/vmarijn/mambaforge/envs/MassBalanceMachine/lib/python3.11/site-packages/pandas/io/parquet.py\", line 480, in to_parquet\n",
      "    impl.write(\n",
      "  File \"/home/vmarijn/mambaforge/envs/MassBalanceMachine/lib/python3.11/site-packages/pandas/io/parquet.py\", line 198, in write\n",
      "    path_or_handle, handles, filesystem = _get_path_or_handle(\n",
      "                                          ^^^^^^^^^^^^^^^^^^^^\n",
      "  File \"/home/vmarijn/mambaforge/envs/MassBalanceMachine/lib/python3.11/site-packages/pandas/io/parquet.py\", line 140, in _get_path_or_handle\n",
      "    handles = get_handle(\n",
      "              ^^^^^^^^^^^\n",
      "  File \"/home/vmarijn/mambaforge/envs/MassBalanceMachine/lib/python3.11/site-packages/pandas/io/common.py\", line 749, in get_handle\n",
      "    check_parent_directory(str(handle))\n",
      "  File \"/home/vmarijn/mambaforge/envs/MassBalanceMachine/lib/python3.11/site-packages/pandas/io/common.py\", line 616, in check_parent_directory\n",
      "    raise OSError(rf\"Cannot save file into a non-existent directory: '{parent}'\")\n",
      "OSError: Cannot save file into a non-existent directory: '../../../data/GLAMOS/topo/gridded_topo_inputs/RGI_grid/pizol'\n"
     ]
    },
    {
     "name": "stdout",
     "output_type": "stream",
     "text": [
      "Saving gridded dataset to: ../../../data/GLAMOS/topo/gridded_topo_inputs/RGI_grid/pizol/pizol_grid_1960.parquet\n",
      "⚠️ Error processing glacier 'pizol' for year 1960: Cannot save file into a non-existent directory: '../../../data/GLAMOS/topo/gridded_topo_inputs/RGI_grid/pizol'\n",
      "Converting to monthly time resolution for 1961...\n"
     ]
    },
    {
     "name": "stderr",
     "output_type": "stream",
     "text": [
      "Traceback (most recent call last):\n",
      "  File \"/tmp/ipykernel_72266/2765871222.py\", line 76, in <module>\n",
      "    dataset_grid_yearly.data.to_parquet(save_path, engine=\"pyarrow\", compression=\"snappy\")\n",
      "  File \"/home/vmarijn/mambaforge/envs/MassBalanceMachine/lib/python3.11/site-packages/pandas/util/_decorators.py\", line 333, in wrapper\n",
      "    return func(*args, **kwargs)\n",
      "           ^^^^^^^^^^^^^^^^^^^^^\n",
      "  File \"/home/vmarijn/mambaforge/envs/MassBalanceMachine/lib/python3.11/site-packages/pandas/core/frame.py\", line 3113, in to_parquet\n",
      "    return to_parquet(\n",
      "           ^^^^^^^^^^^\n",
      "  File \"/home/vmarijn/mambaforge/envs/MassBalanceMachine/lib/python3.11/site-packages/pandas/io/parquet.py\", line 480, in to_parquet\n",
      "    impl.write(\n",
      "  File \"/home/vmarijn/mambaforge/envs/MassBalanceMachine/lib/python3.11/site-packages/pandas/io/parquet.py\", line 198, in write\n",
      "    path_or_handle, handles, filesystem = _get_path_or_handle(\n",
      "                                          ^^^^^^^^^^^^^^^^^^^^\n",
      "  File \"/home/vmarijn/mambaforge/envs/MassBalanceMachine/lib/python3.11/site-packages/pandas/io/parquet.py\", line 140, in _get_path_or_handle\n",
      "    handles = get_handle(\n",
      "              ^^^^^^^^^^^\n",
      "  File \"/home/vmarijn/mambaforge/envs/MassBalanceMachine/lib/python3.11/site-packages/pandas/io/common.py\", line 749, in get_handle\n",
      "    check_parent_directory(str(handle))\n",
      "  File \"/home/vmarijn/mambaforge/envs/MassBalanceMachine/lib/python3.11/site-packages/pandas/io/common.py\", line 616, in check_parent_directory\n",
      "    raise OSError(rf\"Cannot save file into a non-existent directory: '{parent}'\")\n",
      "OSError: Cannot save file into a non-existent directory: '../../../data/GLAMOS/topo/gridded_topo_inputs/RGI_grid/pizol'\n"
     ]
    },
    {
     "name": "stdout",
     "output_type": "stream",
     "text": [
      "Saving gridded dataset to: ../../../data/GLAMOS/topo/gridded_topo_inputs/RGI_grid/pizol/pizol_grid_1961.parquet\n",
      "⚠️ Error processing glacier 'pizol' for year 1961: Cannot save file into a non-existent directory: '../../../data/GLAMOS/topo/gridded_topo_inputs/RGI_grid/pizol'\n",
      "Converting to monthly time resolution for 1962...\n"
     ]
    },
    {
     "name": "stderr",
     "output_type": "stream",
     "text": [
      "Traceback (most recent call last):\n",
      "  File \"/tmp/ipykernel_72266/2765871222.py\", line 76, in <module>\n",
      "    dataset_grid_yearly.data.to_parquet(save_path, engine=\"pyarrow\", compression=\"snappy\")\n",
      "  File \"/home/vmarijn/mambaforge/envs/MassBalanceMachine/lib/python3.11/site-packages/pandas/util/_decorators.py\", line 333, in wrapper\n",
      "    return func(*args, **kwargs)\n",
      "           ^^^^^^^^^^^^^^^^^^^^^\n",
      "  File \"/home/vmarijn/mambaforge/envs/MassBalanceMachine/lib/python3.11/site-packages/pandas/core/frame.py\", line 3113, in to_parquet\n",
      "    return to_parquet(\n",
      "           ^^^^^^^^^^^\n",
      "  File \"/home/vmarijn/mambaforge/envs/MassBalanceMachine/lib/python3.11/site-packages/pandas/io/parquet.py\", line 480, in to_parquet\n",
      "    impl.write(\n",
      "  File \"/home/vmarijn/mambaforge/envs/MassBalanceMachine/lib/python3.11/site-packages/pandas/io/parquet.py\", line 198, in write\n",
      "    path_or_handle, handles, filesystem = _get_path_or_handle(\n",
      "                                          ^^^^^^^^^^^^^^^^^^^^\n",
      "  File \"/home/vmarijn/mambaforge/envs/MassBalanceMachine/lib/python3.11/site-packages/pandas/io/parquet.py\", line 140, in _get_path_or_handle\n",
      "    handles = get_handle(\n",
      "              ^^^^^^^^^^^\n",
      "  File \"/home/vmarijn/mambaforge/envs/MassBalanceMachine/lib/python3.11/site-packages/pandas/io/common.py\", line 749, in get_handle\n",
      "    check_parent_directory(str(handle))\n",
      "  File \"/home/vmarijn/mambaforge/envs/MassBalanceMachine/lib/python3.11/site-packages/pandas/io/common.py\", line 616, in check_parent_directory\n",
      "    raise OSError(rf\"Cannot save file into a non-existent directory: '{parent}'\")\n",
      "OSError: Cannot save file into a non-existent directory: '../../../data/GLAMOS/topo/gridded_topo_inputs/RGI_grid/pizol'\n"
     ]
    },
    {
     "name": "stdout",
     "output_type": "stream",
     "text": [
      "Saving gridded dataset to: ../../../data/GLAMOS/topo/gridded_topo_inputs/RGI_grid/pizol/pizol_grid_1962.parquet\n",
      "⚠️ Error processing glacier 'pizol' for year 1962: Cannot save file into a non-existent directory: '../../../data/GLAMOS/topo/gridded_topo_inputs/RGI_grid/pizol'\n",
      "Converting to monthly time resolution for 1963...\n"
     ]
    },
    {
     "name": "stderr",
     "output_type": "stream",
     "text": [
      "Traceback (most recent call last):\n",
      "  File \"/tmp/ipykernel_72266/2765871222.py\", line 76, in <module>\n",
      "    dataset_grid_yearly.data.to_parquet(save_path, engine=\"pyarrow\", compression=\"snappy\")\n",
      "  File \"/home/vmarijn/mambaforge/envs/MassBalanceMachine/lib/python3.11/site-packages/pandas/util/_decorators.py\", line 333, in wrapper\n",
      "    return func(*args, **kwargs)\n",
      "           ^^^^^^^^^^^^^^^^^^^^^\n",
      "  File \"/home/vmarijn/mambaforge/envs/MassBalanceMachine/lib/python3.11/site-packages/pandas/core/frame.py\", line 3113, in to_parquet\n",
      "    return to_parquet(\n",
      "           ^^^^^^^^^^^\n",
      "  File \"/home/vmarijn/mambaforge/envs/MassBalanceMachine/lib/python3.11/site-packages/pandas/io/parquet.py\", line 480, in to_parquet\n",
      "    impl.write(\n",
      "  File \"/home/vmarijn/mambaforge/envs/MassBalanceMachine/lib/python3.11/site-packages/pandas/io/parquet.py\", line 198, in write\n",
      "    path_or_handle, handles, filesystem = _get_path_or_handle(\n",
      "                                          ^^^^^^^^^^^^^^^^^^^^\n",
      "  File \"/home/vmarijn/mambaforge/envs/MassBalanceMachine/lib/python3.11/site-packages/pandas/io/parquet.py\", line 140, in _get_path_or_handle\n",
      "    handles = get_handle(\n",
      "              ^^^^^^^^^^^\n",
      "  File \"/home/vmarijn/mambaforge/envs/MassBalanceMachine/lib/python3.11/site-packages/pandas/io/common.py\", line 749, in get_handle\n",
      "    check_parent_directory(str(handle))\n",
      "  File \"/home/vmarijn/mambaforge/envs/MassBalanceMachine/lib/python3.11/site-packages/pandas/io/common.py\", line 616, in check_parent_directory\n",
      "    raise OSError(rf\"Cannot save file into a non-existent directory: '{parent}'\")\n",
      "OSError: Cannot save file into a non-existent directory: '../../../data/GLAMOS/topo/gridded_topo_inputs/RGI_grid/pizol'\n"
     ]
    },
    {
     "name": "stdout",
     "output_type": "stream",
     "text": [
      "Saving gridded dataset to: ../../../data/GLAMOS/topo/gridded_topo_inputs/RGI_grid/pizol/pizol_grid_1963.parquet\n",
      "⚠️ Error processing glacier 'pizol' for year 1963: Cannot save file into a non-existent directory: '../../../data/GLAMOS/topo/gridded_topo_inputs/RGI_grid/pizol'\n",
      "Converting to monthly time resolution for 1964...\n"
     ]
    },
    {
     "name": "stderr",
     "output_type": "stream",
     "text": [
      "Traceback (most recent call last):\n",
      "  File \"/tmp/ipykernel_72266/2765871222.py\", line 76, in <module>\n",
      "    dataset_grid_yearly.data.to_parquet(save_path, engine=\"pyarrow\", compression=\"snappy\")\n",
      "  File \"/home/vmarijn/mambaforge/envs/MassBalanceMachine/lib/python3.11/site-packages/pandas/util/_decorators.py\", line 333, in wrapper\n",
      "    return func(*args, **kwargs)\n",
      "           ^^^^^^^^^^^^^^^^^^^^^\n",
      "  File \"/home/vmarijn/mambaforge/envs/MassBalanceMachine/lib/python3.11/site-packages/pandas/core/frame.py\", line 3113, in to_parquet\n",
      "    return to_parquet(\n",
      "           ^^^^^^^^^^^\n",
      "  File \"/home/vmarijn/mambaforge/envs/MassBalanceMachine/lib/python3.11/site-packages/pandas/io/parquet.py\", line 480, in to_parquet\n",
      "    impl.write(\n",
      "  File \"/home/vmarijn/mambaforge/envs/MassBalanceMachine/lib/python3.11/site-packages/pandas/io/parquet.py\", line 198, in write\n",
      "    path_or_handle, handles, filesystem = _get_path_or_handle(\n",
      "                                          ^^^^^^^^^^^^^^^^^^^^\n",
      "  File \"/home/vmarijn/mambaforge/envs/MassBalanceMachine/lib/python3.11/site-packages/pandas/io/parquet.py\", line 140, in _get_path_or_handle\n",
      "    handles = get_handle(\n",
      "              ^^^^^^^^^^^\n",
      "  File \"/home/vmarijn/mambaforge/envs/MassBalanceMachine/lib/python3.11/site-packages/pandas/io/common.py\", line 749, in get_handle\n",
      "    check_parent_directory(str(handle))\n",
      "  File \"/home/vmarijn/mambaforge/envs/MassBalanceMachine/lib/python3.11/site-packages/pandas/io/common.py\", line 616, in check_parent_directory\n",
      "    raise OSError(rf\"Cannot save file into a non-existent directory: '{parent}'\")\n",
      "OSError: Cannot save file into a non-existent directory: '../../../data/GLAMOS/topo/gridded_topo_inputs/RGI_grid/pizol'\n"
     ]
    },
    {
     "name": "stdout",
     "output_type": "stream",
     "text": [
      "Saving gridded dataset to: ../../../data/GLAMOS/topo/gridded_topo_inputs/RGI_grid/pizol/pizol_grid_1964.parquet\n",
      "⚠️ Error processing glacier 'pizol' for year 1964: Cannot save file into a non-existent directory: '../../../data/GLAMOS/topo/gridded_topo_inputs/RGI_grid/pizol'\n",
      "Converting to monthly time resolution for 1965...\n"
     ]
    },
    {
     "name": "stderr",
     "output_type": "stream",
     "text": [
      "Traceback (most recent call last):\n",
      "  File \"/tmp/ipykernel_72266/2765871222.py\", line 76, in <module>\n",
      "    dataset_grid_yearly.data.to_parquet(save_path, engine=\"pyarrow\", compression=\"snappy\")\n",
      "  File \"/home/vmarijn/mambaforge/envs/MassBalanceMachine/lib/python3.11/site-packages/pandas/util/_decorators.py\", line 333, in wrapper\n",
      "    return func(*args, **kwargs)\n",
      "           ^^^^^^^^^^^^^^^^^^^^^\n",
      "  File \"/home/vmarijn/mambaforge/envs/MassBalanceMachine/lib/python3.11/site-packages/pandas/core/frame.py\", line 3113, in to_parquet\n",
      "    return to_parquet(\n",
      "           ^^^^^^^^^^^\n",
      "  File \"/home/vmarijn/mambaforge/envs/MassBalanceMachine/lib/python3.11/site-packages/pandas/io/parquet.py\", line 480, in to_parquet\n",
      "    impl.write(\n",
      "  File \"/home/vmarijn/mambaforge/envs/MassBalanceMachine/lib/python3.11/site-packages/pandas/io/parquet.py\", line 198, in write\n",
      "    path_or_handle, handles, filesystem = _get_path_or_handle(\n",
      "                                          ^^^^^^^^^^^^^^^^^^^^\n",
      "  File \"/home/vmarijn/mambaforge/envs/MassBalanceMachine/lib/python3.11/site-packages/pandas/io/parquet.py\", line 140, in _get_path_or_handle\n",
      "    handles = get_handle(\n",
      "              ^^^^^^^^^^^\n",
      "  File \"/home/vmarijn/mambaforge/envs/MassBalanceMachine/lib/python3.11/site-packages/pandas/io/common.py\", line 749, in get_handle\n",
      "    check_parent_directory(str(handle))\n",
      "  File \"/home/vmarijn/mambaforge/envs/MassBalanceMachine/lib/python3.11/site-packages/pandas/io/common.py\", line 616, in check_parent_directory\n",
      "    raise OSError(rf\"Cannot save file into a non-existent directory: '{parent}'\")\n",
      "OSError: Cannot save file into a non-existent directory: '../../../data/GLAMOS/topo/gridded_topo_inputs/RGI_grid/pizol'\n"
     ]
    },
    {
     "name": "stdout",
     "output_type": "stream",
     "text": [
      "Saving gridded dataset to: ../../../data/GLAMOS/topo/gridded_topo_inputs/RGI_grid/pizol/pizol_grid_1965.parquet\n",
      "⚠️ Error processing glacier 'pizol' for year 1965: Cannot save file into a non-existent directory: '../../../data/GLAMOS/topo/gridded_topo_inputs/RGI_grid/pizol'\n",
      "Converting to monthly time resolution for 1966...\n"
     ]
    },
    {
     "name": "stderr",
     "output_type": "stream",
     "text": [
      "Traceback (most recent call last):\n",
      "  File \"/tmp/ipykernel_72266/2765871222.py\", line 76, in <module>\n",
      "    dataset_grid_yearly.data.to_parquet(save_path, engine=\"pyarrow\", compression=\"snappy\")\n",
      "  File \"/home/vmarijn/mambaforge/envs/MassBalanceMachine/lib/python3.11/site-packages/pandas/util/_decorators.py\", line 333, in wrapper\n",
      "    return func(*args, **kwargs)\n",
      "           ^^^^^^^^^^^^^^^^^^^^^\n",
      "  File \"/home/vmarijn/mambaforge/envs/MassBalanceMachine/lib/python3.11/site-packages/pandas/core/frame.py\", line 3113, in to_parquet\n",
      "    return to_parquet(\n",
      "           ^^^^^^^^^^^\n",
      "  File \"/home/vmarijn/mambaforge/envs/MassBalanceMachine/lib/python3.11/site-packages/pandas/io/parquet.py\", line 480, in to_parquet\n",
      "    impl.write(\n",
      "  File \"/home/vmarijn/mambaforge/envs/MassBalanceMachine/lib/python3.11/site-packages/pandas/io/parquet.py\", line 198, in write\n",
      "    path_or_handle, handles, filesystem = _get_path_or_handle(\n",
      "                                          ^^^^^^^^^^^^^^^^^^^^\n",
      "  File \"/home/vmarijn/mambaforge/envs/MassBalanceMachine/lib/python3.11/site-packages/pandas/io/parquet.py\", line 140, in _get_path_or_handle\n",
      "    handles = get_handle(\n",
      "              ^^^^^^^^^^^\n",
      "  File \"/home/vmarijn/mambaforge/envs/MassBalanceMachine/lib/python3.11/site-packages/pandas/io/common.py\", line 749, in get_handle\n",
      "    check_parent_directory(str(handle))\n",
      "  File \"/home/vmarijn/mambaforge/envs/MassBalanceMachine/lib/python3.11/site-packages/pandas/io/common.py\", line 616, in check_parent_directory\n",
      "    raise OSError(rf\"Cannot save file into a non-existent directory: '{parent}'\")\n",
      "OSError: Cannot save file into a non-existent directory: '../../../data/GLAMOS/topo/gridded_topo_inputs/RGI_grid/pizol'\n"
     ]
    },
    {
     "name": "stdout",
     "output_type": "stream",
     "text": [
      "Saving gridded dataset to: ../../../data/GLAMOS/topo/gridded_topo_inputs/RGI_grid/pizol/pizol_grid_1966.parquet\n",
      "⚠️ Error processing glacier 'pizol' for year 1966: Cannot save file into a non-existent directory: '../../../data/GLAMOS/topo/gridded_topo_inputs/RGI_grid/pizol'\n",
      "Converting to monthly time resolution for 1967...\n"
     ]
    },
    {
     "name": "stderr",
     "output_type": "stream",
     "text": [
      "Traceback (most recent call last):\n",
      "  File \"/tmp/ipykernel_72266/2765871222.py\", line 76, in <module>\n",
      "    dataset_grid_yearly.data.to_parquet(save_path, engine=\"pyarrow\", compression=\"snappy\")\n",
      "  File \"/home/vmarijn/mambaforge/envs/MassBalanceMachine/lib/python3.11/site-packages/pandas/util/_decorators.py\", line 333, in wrapper\n",
      "    return func(*args, **kwargs)\n",
      "           ^^^^^^^^^^^^^^^^^^^^^\n",
      "  File \"/home/vmarijn/mambaforge/envs/MassBalanceMachine/lib/python3.11/site-packages/pandas/core/frame.py\", line 3113, in to_parquet\n",
      "    return to_parquet(\n",
      "           ^^^^^^^^^^^\n",
      "  File \"/home/vmarijn/mambaforge/envs/MassBalanceMachine/lib/python3.11/site-packages/pandas/io/parquet.py\", line 480, in to_parquet\n",
      "    impl.write(\n",
      "  File \"/home/vmarijn/mambaforge/envs/MassBalanceMachine/lib/python3.11/site-packages/pandas/io/parquet.py\", line 198, in write\n",
      "    path_or_handle, handles, filesystem = _get_path_or_handle(\n",
      "                                          ^^^^^^^^^^^^^^^^^^^^\n",
      "  File \"/home/vmarijn/mambaforge/envs/MassBalanceMachine/lib/python3.11/site-packages/pandas/io/parquet.py\", line 140, in _get_path_or_handle\n",
      "    handles = get_handle(\n",
      "              ^^^^^^^^^^^\n",
      "  File \"/home/vmarijn/mambaforge/envs/MassBalanceMachine/lib/python3.11/site-packages/pandas/io/common.py\", line 749, in get_handle\n",
      "    check_parent_directory(str(handle))\n",
      "  File \"/home/vmarijn/mambaforge/envs/MassBalanceMachine/lib/python3.11/site-packages/pandas/io/common.py\", line 616, in check_parent_directory\n",
      "    raise OSError(rf\"Cannot save file into a non-existent directory: '{parent}'\")\n",
      "OSError: Cannot save file into a non-existent directory: '../../../data/GLAMOS/topo/gridded_topo_inputs/RGI_grid/pizol'\n"
     ]
    },
    {
     "name": "stdout",
     "output_type": "stream",
     "text": [
      "Saving gridded dataset to: ../../../data/GLAMOS/topo/gridded_topo_inputs/RGI_grid/pizol/pizol_grid_1967.parquet\n",
      "⚠️ Error processing glacier 'pizol' for year 1967: Cannot save file into a non-existent directory: '../../../data/GLAMOS/topo/gridded_topo_inputs/RGI_grid/pizol'\n",
      "Converting to monthly time resolution for 1968...\n"
     ]
    },
    {
     "name": "stderr",
     "output_type": "stream",
     "text": [
      "Traceback (most recent call last):\n",
      "  File \"/tmp/ipykernel_72266/2765871222.py\", line 76, in <module>\n",
      "    dataset_grid_yearly.data.to_parquet(save_path, engine=\"pyarrow\", compression=\"snappy\")\n",
      "  File \"/home/vmarijn/mambaforge/envs/MassBalanceMachine/lib/python3.11/site-packages/pandas/util/_decorators.py\", line 333, in wrapper\n",
      "    return func(*args, **kwargs)\n",
      "           ^^^^^^^^^^^^^^^^^^^^^\n",
      "  File \"/home/vmarijn/mambaforge/envs/MassBalanceMachine/lib/python3.11/site-packages/pandas/core/frame.py\", line 3113, in to_parquet\n",
      "    return to_parquet(\n",
      "           ^^^^^^^^^^^\n",
      "  File \"/home/vmarijn/mambaforge/envs/MassBalanceMachine/lib/python3.11/site-packages/pandas/io/parquet.py\", line 480, in to_parquet\n",
      "    impl.write(\n",
      "  File \"/home/vmarijn/mambaforge/envs/MassBalanceMachine/lib/python3.11/site-packages/pandas/io/parquet.py\", line 198, in write\n",
      "    path_or_handle, handles, filesystem = _get_path_or_handle(\n",
      "                                          ^^^^^^^^^^^^^^^^^^^^\n",
      "  File \"/home/vmarijn/mambaforge/envs/MassBalanceMachine/lib/python3.11/site-packages/pandas/io/parquet.py\", line 140, in _get_path_or_handle\n",
      "    handles = get_handle(\n",
      "              ^^^^^^^^^^^\n",
      "  File \"/home/vmarijn/mambaforge/envs/MassBalanceMachine/lib/python3.11/site-packages/pandas/io/common.py\", line 749, in get_handle\n",
      "    check_parent_directory(str(handle))\n",
      "  File \"/home/vmarijn/mambaforge/envs/MassBalanceMachine/lib/python3.11/site-packages/pandas/io/common.py\", line 616, in check_parent_directory\n",
      "    raise OSError(rf\"Cannot save file into a non-existent directory: '{parent}'\")\n",
      "OSError: Cannot save file into a non-existent directory: '../../../data/GLAMOS/topo/gridded_topo_inputs/RGI_grid/pizol'\n"
     ]
    },
    {
     "name": "stdout",
     "output_type": "stream",
     "text": [
      "Saving gridded dataset to: ../../../data/GLAMOS/topo/gridded_topo_inputs/RGI_grid/pizol/pizol_grid_1968.parquet\n",
      "⚠️ Error processing glacier 'pizol' for year 1968: Cannot save file into a non-existent directory: '../../../data/GLAMOS/topo/gridded_topo_inputs/RGI_grid/pizol'\n",
      "Converting to monthly time resolution for 1969...\n"
     ]
    },
    {
     "name": "stderr",
     "output_type": "stream",
     "text": [
      "Traceback (most recent call last):\n",
      "  File \"/tmp/ipykernel_72266/2765871222.py\", line 76, in <module>\n",
      "    dataset_grid_yearly.data.to_parquet(save_path, engine=\"pyarrow\", compression=\"snappy\")\n",
      "  File \"/home/vmarijn/mambaforge/envs/MassBalanceMachine/lib/python3.11/site-packages/pandas/util/_decorators.py\", line 333, in wrapper\n",
      "    return func(*args, **kwargs)\n",
      "           ^^^^^^^^^^^^^^^^^^^^^\n",
      "  File \"/home/vmarijn/mambaforge/envs/MassBalanceMachine/lib/python3.11/site-packages/pandas/core/frame.py\", line 3113, in to_parquet\n",
      "    return to_parquet(\n",
      "           ^^^^^^^^^^^\n",
      "  File \"/home/vmarijn/mambaforge/envs/MassBalanceMachine/lib/python3.11/site-packages/pandas/io/parquet.py\", line 480, in to_parquet\n",
      "    impl.write(\n",
      "  File \"/home/vmarijn/mambaforge/envs/MassBalanceMachine/lib/python3.11/site-packages/pandas/io/parquet.py\", line 198, in write\n",
      "    path_or_handle, handles, filesystem = _get_path_or_handle(\n",
      "                                          ^^^^^^^^^^^^^^^^^^^^\n",
      "  File \"/home/vmarijn/mambaforge/envs/MassBalanceMachine/lib/python3.11/site-packages/pandas/io/parquet.py\", line 140, in _get_path_or_handle\n",
      "    handles = get_handle(\n",
      "              ^^^^^^^^^^^\n",
      "  File \"/home/vmarijn/mambaforge/envs/MassBalanceMachine/lib/python3.11/site-packages/pandas/io/common.py\", line 749, in get_handle\n",
      "    check_parent_directory(str(handle))\n",
      "  File \"/home/vmarijn/mambaforge/envs/MassBalanceMachine/lib/python3.11/site-packages/pandas/io/common.py\", line 616, in check_parent_directory\n",
      "    raise OSError(rf\"Cannot save file into a non-existent directory: '{parent}'\")\n",
      "OSError: Cannot save file into a non-existent directory: '../../../data/GLAMOS/topo/gridded_topo_inputs/RGI_grid/pizol'\n"
     ]
    },
    {
     "ename": "KeyboardInterrupt",
     "evalue": "",
     "output_type": "error",
     "traceback": [
      "\u001b[0;31m---------------------------------------------------------------------------\u001b[0m",
      "\u001b[0;31mKeyboardInterrupt\u001b[0m                         Traceback (most recent call last)",
      "Cell \u001b[0;32mIn[6], line 62\u001b[0m\n\u001b[1;32m     60\u001b[0m df_grid_y \u001b[38;5;241m=\u001b[39m dataset_grid\u001b[38;5;241m.\u001b[39mdata[dataset_grid\u001b[38;5;241m.\u001b[39mdata\u001b[38;5;241m.\u001b[39mYEAR \u001b[38;5;241m==\u001b[39m year]\u001b[38;5;241m.\u001b[39mcopy()\n\u001b[1;32m     61\u001b[0m dataset_grid_yearly \u001b[38;5;241m=\u001b[39m mbm\u001b[38;5;241m.\u001b[39mDataset(cfg\u001b[38;5;241m=\u001b[39mcfg, data\u001b[38;5;241m=\u001b[39mdf_grid_y, region_name\u001b[38;5;241m=\u001b[39m\u001b[38;5;124m'\u001b[39m\u001b[38;5;124mCH\u001b[39m\u001b[38;5;124m'\u001b[39m, data_path\u001b[38;5;241m=\u001b[39mpath_PMB_GLAMOS_csv)\n\u001b[0;32m---> 62\u001b[0m \u001b[43mdataset_grid_yearly\u001b[49m\u001b[38;5;241;43m.\u001b[39;49m\u001b[43mconvert_to_monthly\u001b[49m\u001b[43m(\u001b[49m\n\u001b[1;32m     63\u001b[0m \u001b[43m    \u001b[49m\u001b[43mmeta_data_columns\u001b[49m\u001b[38;5;241;43m=\u001b[39;49m\u001b[43mcfg\u001b[49m\u001b[38;5;241;43m.\u001b[39;49m\u001b[43mmetaData\u001b[49m\u001b[43m,\u001b[49m\n\u001b[1;32m     64\u001b[0m \u001b[43m    \u001b[49m\u001b[43mvois_climate\u001b[49m\u001b[38;5;241;43m=\u001b[39;49m\u001b[43mvois_climate\u001b[49m\u001b[43m \u001b[49m\u001b[38;5;241;43m+\u001b[39;49m\u001b[43m \u001b[49m\u001b[43m[\u001b[49m\u001b[38;5;124;43m'\u001b[39;49m\u001b[38;5;124;43mpcsr\u001b[39;49m\u001b[38;5;124;43m'\u001b[39;49m\u001b[43m]\u001b[49m\u001b[43m,\u001b[49m\n\u001b[1;32m     65\u001b[0m \u001b[43m    \u001b[49m\u001b[43mvois_topographical\u001b[49m\u001b[38;5;241;43m=\u001b[39;49m\u001b[43mvoi_topographical\u001b[49m\u001b[43m,\u001b[49m\n\u001b[1;32m     66\u001b[0m \u001b[43m\u001b[49m\u001b[43m)\u001b[49m\n\u001b[1;32m     68\u001b[0m \u001b[38;5;66;03m# Ensure 'pcsr' column exists before saving\u001b[39;00m\n\u001b[1;32m     69\u001b[0m \u001b[38;5;28;01mif\u001b[39;00m \u001b[38;5;124m'\u001b[39m\u001b[38;5;124mpcsr\u001b[39m\u001b[38;5;124m'\u001b[39m \u001b[38;5;129;01mnot\u001b[39;00m \u001b[38;5;129;01min\u001b[39;00m dataset_grid_yearly\u001b[38;5;241m.\u001b[39mdata\u001b[38;5;241m.\u001b[39mcolumns:\n",
      "File \u001b[0;32m/scratch-3/vmarijn/MassBalanceMachine/massbalancemachine/data_processing/Dataset.py:120\u001b[0m, in \u001b[0;36mDataset.convert_to_monthly\u001b[0;34m(self, vois_climate, vois_topographical, meta_data_columns)\u001b[0m\n\u001b[1;32m    118\u001b[0m     meta_data_columns \u001b[38;5;241m=\u001b[39m \u001b[38;5;28mself\u001b[39m\u001b[38;5;241m.\u001b[39mcfg\u001b[38;5;241m.\u001b[39mmetaData\n\u001b[1;32m    119\u001b[0m output_fname \u001b[38;5;241m=\u001b[39m \u001b[38;5;28mself\u001b[39m\u001b[38;5;241m.\u001b[39m_get_output_filename(\u001b[38;5;124m\"\u001b[39m\u001b[38;5;124mmonthly_dataset\u001b[39m\u001b[38;5;124m\"\u001b[39m)\n\u001b[0;32m--> 120\u001b[0m \u001b[38;5;28mself\u001b[39m\u001b[38;5;241m.\u001b[39mdata \u001b[38;5;241m=\u001b[39m \u001b[43mtransform_to_monthly\u001b[49m\u001b[43m(\u001b[49m\u001b[38;5;28;43mself\u001b[39;49m\u001b[38;5;241;43m.\u001b[39;49m\u001b[43mdata\u001b[49m\u001b[43m,\u001b[49m\u001b[43m \u001b[49m\u001b[43mmeta_data_columns\u001b[49m\u001b[43m,\u001b[49m\n\u001b[1;32m    121\u001b[0m \u001b[43m                                 \u001b[49m\u001b[43mvois_climate\u001b[49m\u001b[43m,\u001b[49m\u001b[43m \u001b[49m\u001b[43mvois_topographical\u001b[49m\u001b[43m,\u001b[49m\n\u001b[1;32m    122\u001b[0m \u001b[43m                                 \u001b[49m\u001b[43moutput_fname\u001b[49m\u001b[43m)\u001b[49m\n",
      "File \u001b[0;32m/scratch-3/vmarijn/MassBalanceMachine/massbalancemachine/data_processing/transform_to_monthly.py:52\u001b[0m, in \u001b[0;36mtransform_to_monthly\u001b[0;34m(df, meta_data_columns, vois_climate, vois_topographical, output_fname)\u001b[0m\n\u001b[1;32m     49\u001b[0m column_names \u001b[38;5;241m=\u001b[39m _get_column_names(meta_data_columns, vois_topographical)\n\u001b[1;32m     51\u001b[0m \u001b[38;5;66;03m# Create the final dataframe with the new exploded climate data\u001b[39;00m\n\u001b[0;32m---> 52\u001b[0m result_df \u001b[38;5;241m=\u001b[39m \u001b[43m_create_result_dataframe\u001b[49m\u001b[43m(\u001b[49m\u001b[43mdf_exploded\u001b[49m\u001b[43m,\u001b[49m\u001b[43m \u001b[49m\u001b[43mcolumn_names\u001b[49m\u001b[43m,\u001b[49m\u001b[43m \u001b[49m\u001b[43mvois_climate\u001b[49m\u001b[43m)\u001b[49m\n\u001b[1;32m     54\u001b[0m result_df\u001b[38;5;241m.\u001b[39mto_csv(output_fname, index\u001b[38;5;241m=\u001b[39m\u001b[38;5;28;01mFalse\u001b[39;00m)\n\u001b[1;32m     56\u001b[0m \u001b[38;5;28;01mreturn\u001b[39;00m result_df\n",
      "File \u001b[0;32m/scratch-3/vmarijn/MassBalanceMachine/massbalancemachine/data_processing/transform_to_monthly.py:145\u001b[0m, in \u001b[0;36m_create_result_dataframe\u001b[0;34m(df_exploded, column_names, vois_climate, chunk_size)\u001b[0m\n\u001b[1;32m    143\u001b[0m     \u001b[38;5;28;01mfor\u001b[39;00m start \u001b[38;5;129;01min\u001b[39;00m \u001b[38;5;28mrange\u001b[39m(\u001b[38;5;241m0\u001b[39m, df_exploded\u001b[38;5;241m.\u001b[39mshape[\u001b[38;5;241m0\u001b[39m], chunk_size):\n\u001b[1;32m    144\u001b[0m         chunk \u001b[38;5;241m=\u001b[39m df_exploded\u001b[38;5;241m.\u001b[39miloc[start:start \u001b[38;5;241m+\u001b[39m chunk_size]\n\u001b[0;32m--> 145\u001b[0m         chunk_records \u001b[38;5;241m=\u001b[39m \u001b[43mchunk\u001b[49m\u001b[38;5;241;43m.\u001b[39;49m\u001b[43mapply\u001b[49m\u001b[43m(\u001b[49m\u001b[43mapply_func\u001b[49m\u001b[43m,\u001b[49m\u001b[43m \u001b[49m\u001b[43maxis\u001b[49m\u001b[38;5;241;43m=\u001b[39;49m\u001b[38;5;241;43m1\u001b[39;49m\u001b[43m)\u001b[49m\u001b[38;5;241m.\u001b[39mtolist()\n\u001b[1;32m    146\u001b[0m         climate_records\u001b[38;5;241m.\u001b[39mextend(chunk_records)\n\u001b[1;32m    147\u001b[0m \u001b[38;5;28;01melse\u001b[39;00m:\n",
      "File \u001b[0;32m~/mambaforge/envs/MassBalanceMachine/lib/python3.11/site-packages/pandas/core/frame.py:10374\u001b[0m, in \u001b[0;36mDataFrame.apply\u001b[0;34m(self, func, axis, raw, result_type, args, by_row, engine, engine_kwargs, **kwargs)\u001b[0m\n\u001b[1;32m  10360\u001b[0m \u001b[38;5;28;01mfrom\u001b[39;00m \u001b[38;5;21;01mpandas\u001b[39;00m\u001b[38;5;21;01m.\u001b[39;00m\u001b[38;5;21;01mcore\u001b[39;00m\u001b[38;5;21;01m.\u001b[39;00m\u001b[38;5;21;01mapply\u001b[39;00m \u001b[38;5;28;01mimport\u001b[39;00m frame_apply\n\u001b[1;32m  10362\u001b[0m op \u001b[38;5;241m=\u001b[39m frame_apply(\n\u001b[1;32m  10363\u001b[0m     \u001b[38;5;28mself\u001b[39m,\n\u001b[1;32m  10364\u001b[0m     func\u001b[38;5;241m=\u001b[39mfunc,\n\u001b[0;32m   (...)\u001b[0m\n\u001b[1;32m  10372\u001b[0m     kwargs\u001b[38;5;241m=\u001b[39mkwargs,\n\u001b[1;32m  10373\u001b[0m )\n\u001b[0;32m> 10374\u001b[0m \u001b[38;5;28;01mreturn\u001b[39;00m \u001b[43mop\u001b[49m\u001b[38;5;241;43m.\u001b[39;49m\u001b[43mapply\u001b[49m\u001b[43m(\u001b[49m\u001b[43m)\u001b[49m\u001b[38;5;241m.\u001b[39m__finalize__(\u001b[38;5;28mself\u001b[39m, method\u001b[38;5;241m=\u001b[39m\u001b[38;5;124m\"\u001b[39m\u001b[38;5;124mapply\u001b[39m\u001b[38;5;124m\"\u001b[39m)\n",
      "File \u001b[0;32m~/mambaforge/envs/MassBalanceMachine/lib/python3.11/site-packages/pandas/core/apply.py:916\u001b[0m, in \u001b[0;36mFrameApply.apply\u001b[0;34m(self)\u001b[0m\n\u001b[1;32m    913\u001b[0m \u001b[38;5;28;01melif\u001b[39;00m \u001b[38;5;28mself\u001b[39m\u001b[38;5;241m.\u001b[39mraw:\n\u001b[1;32m    914\u001b[0m     \u001b[38;5;28;01mreturn\u001b[39;00m \u001b[38;5;28mself\u001b[39m\u001b[38;5;241m.\u001b[39mapply_raw(engine\u001b[38;5;241m=\u001b[39m\u001b[38;5;28mself\u001b[39m\u001b[38;5;241m.\u001b[39mengine, engine_kwargs\u001b[38;5;241m=\u001b[39m\u001b[38;5;28mself\u001b[39m\u001b[38;5;241m.\u001b[39mengine_kwargs)\n\u001b[0;32m--> 916\u001b[0m \u001b[38;5;28;01mreturn\u001b[39;00m \u001b[38;5;28;43mself\u001b[39;49m\u001b[38;5;241;43m.\u001b[39;49m\u001b[43mapply_standard\u001b[49m\u001b[43m(\u001b[49m\u001b[43m)\u001b[49m\n",
      "File \u001b[0;32m~/mambaforge/envs/MassBalanceMachine/lib/python3.11/site-packages/pandas/core/apply.py:1063\u001b[0m, in \u001b[0;36mFrameApply.apply_standard\u001b[0;34m(self)\u001b[0m\n\u001b[1;32m   1061\u001b[0m \u001b[38;5;28;01mdef\u001b[39;00m \u001b[38;5;21mapply_standard\u001b[39m(\u001b[38;5;28mself\u001b[39m):\n\u001b[1;32m   1062\u001b[0m     \u001b[38;5;28;01mif\u001b[39;00m \u001b[38;5;28mself\u001b[39m\u001b[38;5;241m.\u001b[39mengine \u001b[38;5;241m==\u001b[39m \u001b[38;5;124m\"\u001b[39m\u001b[38;5;124mpython\u001b[39m\u001b[38;5;124m\"\u001b[39m:\n\u001b[0;32m-> 1063\u001b[0m         results, res_index \u001b[38;5;241m=\u001b[39m \u001b[38;5;28;43mself\u001b[39;49m\u001b[38;5;241;43m.\u001b[39;49m\u001b[43mapply_series_generator\u001b[49m\u001b[43m(\u001b[49m\u001b[43m)\u001b[49m\n\u001b[1;32m   1064\u001b[0m     \u001b[38;5;28;01melse\u001b[39;00m:\n\u001b[1;32m   1065\u001b[0m         results, res_index \u001b[38;5;241m=\u001b[39m \u001b[38;5;28mself\u001b[39m\u001b[38;5;241m.\u001b[39mapply_series_numba()\n",
      "File \u001b[0;32m~/mambaforge/envs/MassBalanceMachine/lib/python3.11/site-packages/pandas/core/apply.py:1081\u001b[0m, in \u001b[0;36mFrameApply.apply_series_generator\u001b[0;34m(self)\u001b[0m\n\u001b[1;32m   1078\u001b[0m \u001b[38;5;28;01mwith\u001b[39;00m option_context(\u001b[38;5;124m\"\u001b[39m\u001b[38;5;124mmode.chained_assignment\u001b[39m\u001b[38;5;124m\"\u001b[39m, \u001b[38;5;28;01mNone\u001b[39;00m):\n\u001b[1;32m   1079\u001b[0m     \u001b[38;5;28;01mfor\u001b[39;00m i, v \u001b[38;5;129;01min\u001b[39;00m \u001b[38;5;28menumerate\u001b[39m(series_gen):\n\u001b[1;32m   1080\u001b[0m         \u001b[38;5;66;03m# ignore SettingWithCopy here in case the user mutates\u001b[39;00m\n\u001b[0;32m-> 1081\u001b[0m         results[i] \u001b[38;5;241m=\u001b[39m \u001b[38;5;28;43mself\u001b[39;49m\u001b[38;5;241;43m.\u001b[39;49m\u001b[43mfunc\u001b[49m\u001b[43m(\u001b[49m\u001b[43mv\u001b[49m\u001b[43m,\u001b[49m\u001b[43m \u001b[49m\u001b[38;5;241;43m*\u001b[39;49m\u001b[38;5;28;43mself\u001b[39;49m\u001b[38;5;241;43m.\u001b[39;49m\u001b[43margs\u001b[49m\u001b[43m,\u001b[49m\u001b[43m \u001b[49m\u001b[38;5;241;43m*\u001b[39;49m\u001b[38;5;241;43m*\u001b[39;49m\u001b[38;5;28;43mself\u001b[39;49m\u001b[38;5;241;43m.\u001b[39;49m\u001b[43mkwargs\u001b[49m\u001b[43m)\u001b[49m\n\u001b[1;32m   1082\u001b[0m         \u001b[38;5;28;01mif\u001b[39;00m \u001b[38;5;28misinstance\u001b[39m(results[i], ABCSeries):\n\u001b[1;32m   1083\u001b[0m             \u001b[38;5;66;03m# If we have a view on v, we need to make a copy because\u001b[39;00m\n\u001b[1;32m   1084\u001b[0m             \u001b[38;5;66;03m#  series_generator will swap out the underlying data\u001b[39;00m\n\u001b[1;32m   1085\u001b[0m             results[i] \u001b[38;5;241m=\u001b[39m results[i]\u001b[38;5;241m.\u001b[39mcopy(deep\u001b[38;5;241m=\u001b[39m\u001b[38;5;28;01mFalse\u001b[39;00m)\n",
      "File \u001b[0;32m/scratch-3/vmarijn/MassBalanceMachine/massbalancemachine/data_processing/transform_to_monthly.py:138\u001b[0m, in \u001b[0;36m_create_result_dataframe.<locals>.<lambda>\u001b[0;34m(row)\u001b[0m\n\u001b[1;32m    131\u001b[0m \u001b[38;5;28;01mdef\u001b[39;00m \u001b[38;5;21m_create_result_dataframe\u001b[39m(\n\u001b[1;32m    132\u001b[0m     df_exploded: pd\u001b[38;5;241m.\u001b[39mDataFrame,\n\u001b[1;32m    133\u001b[0m     column_names: \u001b[38;5;124m\"\u001b[39m\u001b[38;5;124mlist[str]\u001b[39m\u001b[38;5;124m\"\u001b[39m,\n\u001b[1;32m    134\u001b[0m     vois_climate: \u001b[38;5;124m\"\u001b[39m\u001b[38;5;124mlist[str]\u001b[39m\u001b[38;5;124m\"\u001b[39m,\n\u001b[1;32m    135\u001b[0m     chunk_size \u001b[38;5;241m=\u001b[39m \u001b[38;5;241m10000\u001b[39m,\n\u001b[1;32m    136\u001b[0m ) \u001b[38;5;241m-\u001b[39m\u001b[38;5;241m>\u001b[39m pd\u001b[38;5;241m.\u001b[39mDataFrame:\n\u001b[1;32m    137\u001b[0m \u001b[38;5;250m    \u001b[39m\u001b[38;5;124;03m\"\"\"Create the final result DataFrame.\"\"\"\u001b[39;00m\n\u001b[0;32m--> 138\u001b[0m     apply_func \u001b[38;5;241m=\u001b[39m \u001b[38;5;28;01mlambda\u001b[39;00m row: \u001b[43m_get_climate_values\u001b[49m\u001b[43m(\u001b[49m\u001b[43mrow\u001b[49m\u001b[43m,\u001b[49m\u001b[43m \u001b[49m\u001b[43mvois_climate\u001b[49m\u001b[43m,\u001b[49m\u001b[43m \u001b[49m\u001b[43mcolumn_names\u001b[49m\u001b[43m)\u001b[49m\n\u001b[1;32m    139\u001b[0m     \u001b[38;5;28;01mif\u001b[39;00m chunk_size\u001b[38;5;241m>\u001b[39m\u001b[38;5;241m0\u001b[39m:\n\u001b[1;32m    140\u001b[0m         \u001b[38;5;66;03m# Split call to apply in chunks\u001b[39;00m\n\u001b[1;32m    141\u001b[0m         \u001b[38;5;66;03m# This is useful when working with large dataframes to avoid having OOM errors\u001b[39;00m\n\u001b[1;32m    142\u001b[0m         climate_records \u001b[38;5;241m=\u001b[39m []\n",
      "File \u001b[0;32m/scratch-3/vmarijn/MassBalanceMachine/massbalancemachine/data_processing/transform_to_monthly.py:128\u001b[0m, in \u001b[0;36m_get_climate_values\u001b[0;34m(row, vois_climate, column_names)\u001b[0m\n\u001b[1;32m    126\u001b[0m cols \u001b[38;5;241m=\u001b[39m [\u001b[38;5;124mf\u001b[39m\u001b[38;5;124m'\u001b[39m\u001b[38;5;132;01m{\u001b[39;00mvoi\u001b[38;5;132;01m}\u001b[39;00m\u001b[38;5;124m_\u001b[39m\u001b[38;5;132;01m{\u001b[39;00mrow[\u001b[38;5;124m\"\u001b[39m\u001b[38;5;124mMONTHS\u001b[39m\u001b[38;5;124m\"\u001b[39m]\u001b[38;5;132;01m}\u001b[39;00m\u001b[38;5;124m'\u001b[39m \u001b[38;5;28;01mfor\u001b[39;00m voi \u001b[38;5;129;01min\u001b[39;00m vois_climate]\n\u001b[1;32m    127\u001b[0m all_cols \u001b[38;5;241m=\u001b[39m column_names \u001b[38;5;241m+\u001b[39m cols\n\u001b[0;32m--> 128\u001b[0m \u001b[38;5;28;01mreturn\u001b[39;00m \u001b[43mrow\u001b[49m\u001b[43m[\u001b[49m\u001b[43mall_cols\u001b[49m\u001b[43m]\u001b[49m\u001b[38;5;241m.\u001b[39mvalues\n",
      "File \u001b[0;32m~/mambaforge/envs/MassBalanceMachine/lib/python3.11/site-packages/pandas/core/series.py:1153\u001b[0m, in \u001b[0;36mSeries.__getitem__\u001b[0;34m(self, key)\u001b[0m\n\u001b[1;32m   1150\u001b[0m     key \u001b[38;5;241m=\u001b[39m np\u001b[38;5;241m.\u001b[39masarray(key, dtype\u001b[38;5;241m=\u001b[39m\u001b[38;5;28mbool\u001b[39m)\n\u001b[1;32m   1151\u001b[0m     \u001b[38;5;28;01mreturn\u001b[39;00m \u001b[38;5;28mself\u001b[39m\u001b[38;5;241m.\u001b[39m_get_rows_with_mask(key)\n\u001b[0;32m-> 1153\u001b[0m \u001b[38;5;28;01mreturn\u001b[39;00m \u001b[38;5;28;43mself\u001b[39;49m\u001b[38;5;241;43m.\u001b[39;49m\u001b[43m_get_with\u001b[49m\u001b[43m(\u001b[49m\u001b[43mkey\u001b[49m\u001b[43m)\u001b[49m\n",
      "File \u001b[0;32m~/mambaforge/envs/MassBalanceMachine/lib/python3.11/site-packages/pandas/core/series.py:1194\u001b[0m, in \u001b[0;36mSeries._get_with\u001b[0;34m(self, key)\u001b[0m\n\u001b[1;32m   1191\u001b[0m         \u001b[38;5;28;01mreturn\u001b[39;00m \u001b[38;5;28mself\u001b[39m\u001b[38;5;241m.\u001b[39miloc[key]\n\u001b[1;32m   1193\u001b[0m \u001b[38;5;66;03m# handle the dup indexing case GH#4246\u001b[39;00m\n\u001b[0;32m-> 1194\u001b[0m \u001b[38;5;28;01mreturn\u001b[39;00m \u001b[38;5;28;43mself\u001b[39;49m\u001b[38;5;241;43m.\u001b[39;49m\u001b[43mloc\u001b[49m\u001b[43m[\u001b[49m\u001b[43mkey\u001b[49m\u001b[43m]\u001b[49m\n",
      "File \u001b[0;32m~/mambaforge/envs/MassBalanceMachine/lib/python3.11/site-packages/pandas/core/indexing.py:1191\u001b[0m, in \u001b[0;36m_LocationIndexer.__getitem__\u001b[0;34m(self, key)\u001b[0m\n\u001b[1;32m   1189\u001b[0m maybe_callable \u001b[38;5;241m=\u001b[39m com\u001b[38;5;241m.\u001b[39mapply_if_callable(key, \u001b[38;5;28mself\u001b[39m\u001b[38;5;241m.\u001b[39mobj)\n\u001b[1;32m   1190\u001b[0m maybe_callable \u001b[38;5;241m=\u001b[39m \u001b[38;5;28mself\u001b[39m\u001b[38;5;241m.\u001b[39m_check_deprecated_callable_usage(key, maybe_callable)\n\u001b[0;32m-> 1191\u001b[0m \u001b[38;5;28;01mreturn\u001b[39;00m \u001b[38;5;28;43mself\u001b[39;49m\u001b[38;5;241;43m.\u001b[39;49m\u001b[43m_getitem_axis\u001b[49m\u001b[43m(\u001b[49m\u001b[43mmaybe_callable\u001b[49m\u001b[43m,\u001b[49m\u001b[43m \u001b[49m\u001b[43maxis\u001b[49m\u001b[38;5;241;43m=\u001b[39;49m\u001b[43maxis\u001b[49m\u001b[43m)\u001b[49m\n",
      "File \u001b[0;32m~/mambaforge/envs/MassBalanceMachine/lib/python3.11/site-packages/pandas/core/indexing.py:1420\u001b[0m, in \u001b[0;36m_LocIndexer._getitem_axis\u001b[0;34m(self, key, axis)\u001b[0m\n\u001b[1;32m   1417\u001b[0m     \u001b[38;5;28;01mif\u001b[39;00m \u001b[38;5;28mhasattr\u001b[39m(key, \u001b[38;5;124m\"\u001b[39m\u001b[38;5;124mndim\u001b[39m\u001b[38;5;124m\"\u001b[39m) \u001b[38;5;129;01mand\u001b[39;00m key\u001b[38;5;241m.\u001b[39mndim \u001b[38;5;241m>\u001b[39m \u001b[38;5;241m1\u001b[39m:\n\u001b[1;32m   1418\u001b[0m         \u001b[38;5;28;01mraise\u001b[39;00m \u001b[38;5;167;01mValueError\u001b[39;00m(\u001b[38;5;124m\"\u001b[39m\u001b[38;5;124mCannot index with multidimensional key\u001b[39m\u001b[38;5;124m\"\u001b[39m)\n\u001b[0;32m-> 1420\u001b[0m     \u001b[38;5;28;01mreturn\u001b[39;00m \u001b[38;5;28;43mself\u001b[39;49m\u001b[38;5;241;43m.\u001b[39;49m\u001b[43m_getitem_iterable\u001b[49m\u001b[43m(\u001b[49m\u001b[43mkey\u001b[49m\u001b[43m,\u001b[49m\u001b[43m \u001b[49m\u001b[43maxis\u001b[49m\u001b[38;5;241;43m=\u001b[39;49m\u001b[43maxis\u001b[49m\u001b[43m)\u001b[49m\n\u001b[1;32m   1422\u001b[0m \u001b[38;5;66;03m# nested tuple slicing\u001b[39;00m\n\u001b[1;32m   1423\u001b[0m \u001b[38;5;28;01mif\u001b[39;00m is_nested_tuple(key, labels):\n",
      "File \u001b[0;32m~/mambaforge/envs/MassBalanceMachine/lib/python3.11/site-packages/pandas/core/indexing.py:1360\u001b[0m, in \u001b[0;36m_LocIndexer._getitem_iterable\u001b[0;34m(self, key, axis)\u001b[0m\n\u001b[1;32m   1357\u001b[0m \u001b[38;5;28mself\u001b[39m\u001b[38;5;241m.\u001b[39m_validate_key(key, axis)\n\u001b[1;32m   1359\u001b[0m \u001b[38;5;66;03m# A collection of keys\u001b[39;00m\n\u001b[0;32m-> 1360\u001b[0m keyarr, indexer \u001b[38;5;241m=\u001b[39m \u001b[38;5;28;43mself\u001b[39;49m\u001b[38;5;241;43m.\u001b[39;49m\u001b[43m_get_listlike_indexer\u001b[49m\u001b[43m(\u001b[49m\u001b[43mkey\u001b[49m\u001b[43m,\u001b[49m\u001b[43m \u001b[49m\u001b[43maxis\u001b[49m\u001b[43m)\u001b[49m\n\u001b[1;32m   1361\u001b[0m \u001b[38;5;28;01mreturn\u001b[39;00m \u001b[38;5;28mself\u001b[39m\u001b[38;5;241m.\u001b[39mobj\u001b[38;5;241m.\u001b[39m_reindex_with_indexers(\n\u001b[1;32m   1362\u001b[0m     {axis: [keyarr, indexer]}, copy\u001b[38;5;241m=\u001b[39m\u001b[38;5;28;01mTrue\u001b[39;00m, allow_dups\u001b[38;5;241m=\u001b[39m\u001b[38;5;28;01mTrue\u001b[39;00m\n\u001b[1;32m   1363\u001b[0m )\n",
      "File \u001b[0;32m~/mambaforge/envs/MassBalanceMachine/lib/python3.11/site-packages/pandas/core/indexing.py:1558\u001b[0m, in \u001b[0;36m_LocIndexer._get_listlike_indexer\u001b[0;34m(self, key, axis)\u001b[0m\n\u001b[1;32m   1555\u001b[0m ax \u001b[38;5;241m=\u001b[39m \u001b[38;5;28mself\u001b[39m\u001b[38;5;241m.\u001b[39mobj\u001b[38;5;241m.\u001b[39m_get_axis(axis)\n\u001b[1;32m   1556\u001b[0m axis_name \u001b[38;5;241m=\u001b[39m \u001b[38;5;28mself\u001b[39m\u001b[38;5;241m.\u001b[39mobj\u001b[38;5;241m.\u001b[39m_get_axis_name(axis)\n\u001b[0;32m-> 1558\u001b[0m keyarr, indexer \u001b[38;5;241m=\u001b[39m \u001b[43max\u001b[49m\u001b[38;5;241;43m.\u001b[39;49m\u001b[43m_get_indexer_strict\u001b[49m\u001b[43m(\u001b[49m\u001b[43mkey\u001b[49m\u001b[43m,\u001b[49m\u001b[43m \u001b[49m\u001b[43maxis_name\u001b[49m\u001b[43m)\u001b[49m\n\u001b[1;32m   1560\u001b[0m \u001b[38;5;28;01mreturn\u001b[39;00m keyarr, indexer\n",
      "File \u001b[0;32m~/mambaforge/envs/MassBalanceMachine/lib/python3.11/site-packages/pandas/core/indexes/base.py:6192\u001b[0m, in \u001b[0;36mIndex._get_indexer_strict\u001b[0;34m(self, key, axis_name)\u001b[0m\n\u001b[1;32m   6190\u001b[0m keyarr \u001b[38;5;241m=\u001b[39m key\n\u001b[1;32m   6191\u001b[0m \u001b[38;5;28;01mif\u001b[39;00m \u001b[38;5;129;01mnot\u001b[39;00m \u001b[38;5;28misinstance\u001b[39m(keyarr, Index):\n\u001b[0;32m-> 6192\u001b[0m     keyarr \u001b[38;5;241m=\u001b[39m \u001b[43mcom\u001b[49m\u001b[38;5;241;43m.\u001b[39;49m\u001b[43masarray_tuplesafe\u001b[49m\u001b[43m(\u001b[49m\u001b[43mkeyarr\u001b[49m\u001b[43m)\u001b[49m\n\u001b[1;32m   6194\u001b[0m \u001b[38;5;28;01mif\u001b[39;00m \u001b[38;5;28mself\u001b[39m\u001b[38;5;241m.\u001b[39m_index_as_unique:\n\u001b[1;32m   6195\u001b[0m     indexer \u001b[38;5;241m=\u001b[39m \u001b[38;5;28mself\u001b[39m\u001b[38;5;241m.\u001b[39mget_indexer_for(keyarr)\n",
      "File \u001b[0;32m~/mambaforge/envs/MassBalanceMachine/lib/python3.11/site-packages/pandas/core/common.py:247\u001b[0m, in \u001b[0;36masarray_tuplesafe\u001b[0;34m(values, dtype)\u001b[0m\n\u001b[1;32m    245\u001b[0m         \u001b[38;5;28;01mif\u001b[39;00m \u001b[38;5;129;01mnot\u001b[39;00m np_version_gte1p24:\n\u001b[1;32m    246\u001b[0m             warnings\u001b[38;5;241m.\u001b[39msimplefilter(\u001b[38;5;124m\"\u001b[39m\u001b[38;5;124mignore\u001b[39m\u001b[38;5;124m\"\u001b[39m, np\u001b[38;5;241m.\u001b[39mVisibleDeprecationWarning)\n\u001b[0;32m--> 247\u001b[0m         result \u001b[38;5;241m=\u001b[39m np\u001b[38;5;241m.\u001b[39masarray(values, dtype\u001b[38;5;241m=\u001b[39mdtype)\n\u001b[1;32m    248\u001b[0m \u001b[38;5;28;01mexcept\u001b[39;00m \u001b[38;5;167;01mValueError\u001b[39;00m:\n\u001b[1;32m    249\u001b[0m     \u001b[38;5;66;03m# Using try/except since it's more performant than checking is_list_like\u001b[39;00m\n\u001b[1;32m    250\u001b[0m     \u001b[38;5;66;03m# over each element\u001b[39;00m\n\u001b[1;32m    251\u001b[0m     \u001b[38;5;66;03m# error: Argument 1 to \"construct_1d_object_array_from_listlike\"\u001b[39;00m\n\u001b[1;32m    252\u001b[0m     \u001b[38;5;66;03m# has incompatible type \"Iterable[Any]\"; expected \"Sized\"\u001b[39;00m\n\u001b[1;32m    253\u001b[0m     \u001b[38;5;28;01mreturn\u001b[39;00m construct_1d_object_array_from_listlike(values)  \u001b[38;5;66;03m# type: ignore[arg-type]\u001b[39;00m\n",
      "\u001b[0;31mKeyboardInterrupt\u001b[0m: "
     ]
    }
   ],
   "source": [
    "# Set this flag to enable/disable the script execution\n",
    "RUN = True\n",
    "\n",
    "# Manual RGI ID overrides\n",
    "RGI_OVERRIDES = {'morteratsch': 'RGI60-11.01946', 'pers': 'RGI60-11.01946'}\n",
    "\n",
    "if RUN:\n",
    "    try:\n",
    "        emptyfolder(path_glacier_grid_rgi)\n",
    "    except Exception as e:\n",
    "        print(f\"Error clearing folder '{path_glacier_grid_rgi}': {e}\")\n",
    "    \n",
    "    for glacier_name in tqdm(glacier_list, desc='Processing glaciers'):\n",
    "        try:\n",
    "            folder_path = os.path.join(path_glacier_grid_rgi, glacier_name)\n",
    "            os.makedirs(folder_path, exist_ok=True)  # Ensure folder exists\n",
    "            print(f'\\n{\"-\" * 35}\\nProcessing: {glacier_name}')\n",
    "\n",
    "            # Retrieve RGI ID with manual overrides if applicable\n",
    "            rgi_gl = RGI_OVERRIDES.get(glacier_name, rgi_df.at[glacier_name, 'rgi_id.v6'])\n",
    "\n",
    "            # Load stake data for the glacier\n",
    "            data_gl = data_glamos[data_glamos.RGIId == rgi_gl]\n",
    "            if data_gl.empty:\n",
    "                raise ValueError(f\"No stake data found for glacier '{glacier_name}' (RGI ID: {rgi_gl})\")\n",
    "\n",
    "            dataset_gl = mbm.Dataset(cfg=cfg, data=data_gl, region_name='CH', data_path=path_PMB_GLAMOS_csv)\n",
    "\n",
    "            # Create gridded glacier dataset from OGGM\n",
    "            df_grid = dataset_gl.create_glacier_grid_RGI(custom_working_dir)\n",
    "            if df_grid.empty:\n",
    "                raise ValueError(f\"Failed to generate gridded dataset for glacier '{glacier_name}'\")\n",
    "\n",
    "            df_grid[\"GLACIER\"] = glacier_name\n",
    "            df_grid.reset_index(drop=True, inplace=True)\n",
    "\n",
    "            dataset_grid = mbm.Dataset(cfg=cfg, data=df_grid, region_name='CH', data_path=path_PMB_GLAMOS_csv)\n",
    "\n",
    "            # Paths to climate data\n",
    "            era5_climate_data = os.path.join(path_ERA5_raw, 'era5_monthly_averaged_data.nc')\n",
    "            geopotential_data = os.path.join(path_ERA5_raw, 'era5_geopotential_pressure.nc')\n",
    "\n",
    "            # Add climate data\n",
    "            print('Adding climate data...')\n",
    "            dataset_grid.get_climate_features(\n",
    "                climate_data=era5_climate_data,\n",
    "                geopotential_data=geopotential_data,\n",
    "                change_units=True\n",
    "            )\n",
    "\n",
    "            # Add potential clear sky radiation\n",
    "            print('Adding potential clear sky radiation...')\n",
    "            dataset_grid.get_potential_rad(os.path.join(path_pcsr, 'csv/'))\n",
    "\n",
    "            YEARS = np.sort(dataset_grid.data.YEAR.unique())\n",
    "            \n",
    "            # Process each year separately\n",
    "            for year in YEARS:\n",
    "                try:\n",
    "                    print(f'Converting to monthly time resolution for {year}...')\n",
    "                    df_grid_y = dataset_grid.data[dataset_grid.data.YEAR == year].copy()\n",
    "                    dataset_grid_yearly = mbm.Dataset(cfg=cfg, data=df_grid_y, region_name='CH', data_path=path_PMB_GLAMOS_csv)\n",
    "                    dataset_grid_yearly.convert_to_monthly(\n",
    "                        meta_data_columns=cfg.metaData,\n",
    "                        vois_climate=vois_climate + ['pcsr'],\n",
    "                        vois_topographical=voi_topographical,\n",
    "                    )\n",
    "\n",
    "                    # Ensure 'pcsr' column exists before saving\n",
    "                    if 'pcsr' not in dataset_grid_yearly.data.columns:\n",
    "                        raise ValueError(f\"'pcsr' column not found in dataset for glacier '{glacier_name}' in year {year}\")\n",
    "\n",
    "                    # Save the dataset for the specific year\n",
    "                    save_path = os.path.join(\n",
    "                    folder_path, f\"{glacier_name}_grid_{year}.parquet\")\n",
    "                    print(f'Saving gridded dataset to: {save_path}')\n",
    "                    dataset_grid_yearly.data.to_parquet(save_path, engine=\"pyarrow\", compression=\"snappy\")\n",
    "\n",
    "                except Exception as year_error:\n",
    "                    print(f\"⚠️ Error processing glacier '{glacier_name}' for year {year}: {year_error}\")\n",
    "                    traceback.print_exc()\n",
    "                    continue  # Continue with the next year\n",
    "\n",
    "        except Exception as glacier_error:\n",
    "            print(f\"Error processing glacier '{glacier_name}': {glacier_error}\")\n",
    "            traceback.print_exc()\n",
    "            continue  # Continue processing the next glacier"
   ]
  },
  {
   "cell_type": "markdown",
   "metadata": {},
   "source": [
    "## Check grids:"
   ]
  },
  {
   "cell_type": "code",
   "execution_count": null,
   "metadata": {},
   "outputs": [],
   "source": [
    "glacier_name = 'rhone'\n",
    "rgi_gl = RGI_OVERRIDES.get(glacier_name, rgi_df.at[glacier_name, 'rgi_id.v6'])\n",
    "\n",
    "# Load stake data for that glacier\n",
    "data_gl = data_glamos[data_glamos.RGIId == rgi_gl]\n",
    "dataset_gl = mbm.Dataset(cfg=cfg,\n",
    "                         data=data_gl,\n",
    "                         region_name='CH',\n",
    "                         data_path=path_PMB_GLAMOS_csv)\n",
    "\n",
    "ds, glacier_indices, gdir = dataset_gl.get_glacier_mask(custom_working_dir)\n",
    "# Plot glacier attributes of oggm:\n",
    "plotGlAttr(ds, cmap=cm.devon)"
   ]
  }
 ],
 "metadata": {
  "kernelspec": {
   "display_name": "Python 3 (ipykernel)",
   "language": "python",
   "name": "python3"
  },
  "language_info": {
   "codemirror_mode": {
    "name": "ipython",
    "version": 3
   },
   "file_extension": ".py",
   "mimetype": "text/x-python",
   "name": "python",
   "nbconvert_exporter": "python",
   "pygments_lexer": "ipython3",
   "version": "3.11.0"
  }
 },
 "nbformat": 4,
 "nbformat_minor": 4
}
